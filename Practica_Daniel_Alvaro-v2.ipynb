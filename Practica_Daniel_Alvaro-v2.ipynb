{
 "cells": [
  {
   "cell_type": "markdown",
   "metadata": {},
   "source": [
    "# Practica Modulo Machine Learning -- Daniel Alvaro\n",
    "\n",
    "En este notebook vamos a abordar la práctica del modulo de Machine Learning siguiendo los siguientes pasos.\n",
    "\n",
    "1. Generación de nuevas características a partir de las existentes\n",
    "2. Codificación de variables\n",
    "3. Análisis exploratorio\n",
    "4. Selección y evaluación del modelo\n",
    "5. Comparativa de distintos algoritmos"
   ]
  },
  {
   "cell_type": "markdown",
   "metadata": {},
   "source": [
    "## Librerías y funciones\n",
    "\n",
    "Lo primero es cargar las librerías y funciones necesarias."
   ]
  },
  {
   "cell_type": "code",
   "execution_count": 1,
   "metadata": {},
   "outputs": [],
   "source": [
    "import numpy as np\n",
    "import pandas as pd\n",
    "\n",
    "import matplotlib.pyplot as plt\n",
    "from matplotlib.colors import ListedColormap\n",
    "%matplotlib inline\n",
    "\n",
    "cm = plt.cm.RdBu\n",
    "cm_bright = ListedColormap(['#FF0000', '#0000FF'])\n",
    "\n",
    "import warnings\n",
    "warnings.filterwarnings('ignore')"
   ]
  },
  {
   "cell_type": "code",
   "execution_count": 2,
   "metadata": {},
   "outputs": [],
   "source": [
    "# Function to calculate missing values by column\n",
    "def missing_values_table(df):\n",
    "   \n",
    "    # Total missing values\n",
    "    mis_val = df.isnull().sum()\n",
    "    \n",
    "    # Percentage of missing values\n",
    "    mis_val_percent = 100 * df.isnull().sum() / len(df)\n",
    "    \n",
    "    # Make a table with the results\n",
    "    mis_val_table = pd.concat([mis_val, mis_val_percent], axis=1)\n",
    "    \n",
    "    # Rename the columns\n",
    "    mis_val_table_ren_columns = mis_val_table.rename(\n",
    "    columns = {0 : 'Missing Values', 1 : '% of Total Values'})\n",
    "    \n",
    "    # Sort the table by percentage of missing descending\n",
    "    # .iloc[:, 1]!= 0: filter on missing missing values not equal to zero\n",
    "    mis_val_table_ren_columns = mis_val_table_ren_columns[\n",
    "        mis_val_table_ren_columns.iloc[:,1] != 0].sort_values(\n",
    "    '% of Total Values', ascending=False).round(2)  # round(2), keep 2 digits\n",
    "    \n",
    "    # Print some summary information\n",
    "    print(\"Your slelected dataframe has {} columns.\".format(df.shape[1]) + '\\n' + \n",
    "    \"There are {} columns that have missing values.\".format(mis_val_table_ren_columns.shape[0]))\n",
    "    \n",
    "    # Return the dataframe with missing information\n",
    "    return mis_val_table_ren_columns"
   ]
  },
  {
   "cell_type": "code",
   "execution_count": 3,
   "metadata": {},
   "outputs": [],
   "source": [
    "# Function to change not main categories to \"Other\", this funtion will be used in train and test to keep coherence between datasets\n",
    "def change_cat_to_other(array_main_cat, df):\n",
    "    array_categories = list(df.value_counts().index)\n",
    "    array_others = [x for x in array_categories if x not in array_main_cat]\n",
    "    return df.replace(array_others, 'Other')"
   ]
  },
  {
   "cell_type": "markdown",
   "metadata": {},
   "source": [
    "## Datos de entrada\n",
    "\n",
    "Cargamos los datos del fichero de airbnb reducido.\n",
    "Este fichero contiene 14870 observaciones y 89 variables"
   ]
  },
  {
   "cell_type": "code",
   "execution_count": 4,
   "metadata": {},
   "outputs": [],
   "source": [
    "full_airbnb = pd.read_csv('./data/airbnb-listings.csv',sep=';', decimal='.')"
   ]
  },
  {
   "cell_type": "code",
   "execution_count": 5,
   "metadata": {},
   "outputs": [
    {
     "data": {
      "text/plain": [
       "(14780, 89)"
      ]
     },
     "execution_count": 5,
     "metadata": {},
     "output_type": "execute_result"
    }
   ],
   "source": [
    "full_airbnb.shape"
   ]
  },
  {
   "cell_type": "code",
   "execution_count": 6,
   "metadata": {},
   "outputs": [
    {
     "name": "stdout",
     "output_type": "stream",
     "text": [
      "Your slelected dataframe has 89 columns.\n",
      "There are 59 columns that have missing values.\n"
     ]
    },
    {
     "data": {
      "text/html": [
       "<div>\n",
       "<style scoped>\n",
       "    .dataframe tbody tr th:only-of-type {\n",
       "        vertical-align: middle;\n",
       "    }\n",
       "\n",
       "    .dataframe tbody tr th {\n",
       "        vertical-align: top;\n",
       "    }\n",
       "\n",
       "    .dataframe thead th {\n",
       "        text-align: right;\n",
       "    }\n",
       "</style>\n",
       "<table border=\"1\" class=\"dataframe\">\n",
       "  <thead>\n",
       "    <tr style=\"text-align: right;\">\n",
       "      <th></th>\n",
       "      <th>Missing Values</th>\n",
       "      <th>% of Total Values</th>\n",
       "    </tr>\n",
       "  </thead>\n",
       "  <tbody>\n",
       "    <tr>\n",
       "      <td>Has Availability</td>\n",
       "      <td>14768</td>\n",
       "      <td>99.92</td>\n",
       "    </tr>\n",
       "    <tr>\n",
       "      <td>Host Acceptance Rate</td>\n",
       "      <td>14741</td>\n",
       "      <td>99.74</td>\n",
       "    </tr>\n",
       "    <tr>\n",
       "      <td>Jurisdiction Names</td>\n",
       "      <td>14553</td>\n",
       "      <td>98.46</td>\n",
       "    </tr>\n",
       "    <tr>\n",
       "      <td>License</td>\n",
       "      <td>14431</td>\n",
       "      <td>97.64</td>\n",
       "    </tr>\n",
       "    <tr>\n",
       "      <td>Square Feet</td>\n",
       "      <td>14182</td>\n",
       "      <td>95.95</td>\n",
       "    </tr>\n",
       "    <tr>\n",
       "      <td>Monthly Price</td>\n",
       "      <td>11219</td>\n",
       "      <td>75.91</td>\n",
       "    </tr>\n",
       "    <tr>\n",
       "      <td>Weekly Price</td>\n",
       "      <td>11190</td>\n",
       "      <td>75.71</td>\n",
       "    </tr>\n",
       "    <tr>\n",
       "      <td>Notes</td>\n",
       "      <td>9136</td>\n",
       "      <td>61.81</td>\n",
       "    </tr>\n",
       "    <tr>\n",
       "      <td>Security Deposit</td>\n",
       "      <td>8524</td>\n",
       "      <td>57.67</td>\n",
       "    </tr>\n",
       "    <tr>\n",
       "      <td>Interaction</td>\n",
       "      <td>6552</td>\n",
       "      <td>44.33</td>\n",
       "    </tr>\n",
       "    <tr>\n",
       "      <td>Access</td>\n",
       "      <td>6462</td>\n",
       "      <td>43.72</td>\n",
       "    </tr>\n",
       "    <tr>\n",
       "      <td>Cleaning Fee</td>\n",
       "      <td>6093</td>\n",
       "      <td>41.22</td>\n",
       "    </tr>\n",
       "    <tr>\n",
       "      <td>Transit</td>\n",
       "      <td>5714</td>\n",
       "      <td>38.66</td>\n",
       "    </tr>\n",
       "    <tr>\n",
       "      <td>Neighborhood Overview</td>\n",
       "      <td>5646</td>\n",
       "      <td>38.20</td>\n",
       "    </tr>\n",
       "    <tr>\n",
       "      <td>Host About</td>\n",
       "      <td>5241</td>\n",
       "      <td>35.46</td>\n",
       "    </tr>\n",
       "    <tr>\n",
       "      <td>Neighbourhood</td>\n",
       "      <td>5229</td>\n",
       "      <td>35.38</td>\n",
       "    </tr>\n",
       "    <tr>\n",
       "      <td>House Rules</td>\n",
       "      <td>5161</td>\n",
       "      <td>34.92</td>\n",
       "    </tr>\n",
       "    <tr>\n",
       "      <td>Space</td>\n",
       "      <td>3892</td>\n",
       "      <td>26.33</td>\n",
       "    </tr>\n",
       "    <tr>\n",
       "      <td>Host Neighbourhood</td>\n",
       "      <td>3876</td>\n",
       "      <td>26.22</td>\n",
       "    </tr>\n",
       "    <tr>\n",
       "      <td>Review Scores Value</td>\n",
       "      <td>3341</td>\n",
       "      <td>22.60</td>\n",
       "    </tr>\n",
       "    <tr>\n",
       "      <td>Review Scores Location</td>\n",
       "      <td>3340</td>\n",
       "      <td>22.60</td>\n",
       "    </tr>\n",
       "    <tr>\n",
       "      <td>Review Scores Checkin</td>\n",
       "      <td>3337</td>\n",
       "      <td>22.58</td>\n",
       "    </tr>\n",
       "    <tr>\n",
       "      <td>Review Scores Accuracy</td>\n",
       "      <td>3326</td>\n",
       "      <td>22.50</td>\n",
       "    </tr>\n",
       "    <tr>\n",
       "      <td>Review Scores Communication</td>\n",
       "      <td>3320</td>\n",
       "      <td>22.46</td>\n",
       "    </tr>\n",
       "    <tr>\n",
       "      <td>Review Scores Cleanliness</td>\n",
       "      <td>3320</td>\n",
       "      <td>22.46</td>\n",
       "    </tr>\n",
       "    <tr>\n",
       "      <td>Review Scores Rating</td>\n",
       "      <td>3304</td>\n",
       "      <td>22.35</td>\n",
       "    </tr>\n",
       "    <tr>\n",
       "      <td>Last Review</td>\n",
       "      <td>3163</td>\n",
       "      <td>21.40</td>\n",
       "    </tr>\n",
       "    <tr>\n",
       "      <td>First Review</td>\n",
       "      <td>3162</td>\n",
       "      <td>21.39</td>\n",
       "    </tr>\n",
       "    <tr>\n",
       "      <td>Reviews per Month</td>\n",
       "      <td>3162</td>\n",
       "      <td>21.39</td>\n",
       "    </tr>\n",
       "    <tr>\n",
       "      <td>XL Picture Url</td>\n",
       "      <td>2820</td>\n",
       "      <td>19.08</td>\n",
       "    </tr>\n",
       "    <tr>\n",
       "      <td>Medium Url</td>\n",
       "      <td>2820</td>\n",
       "      <td>19.08</td>\n",
       "    </tr>\n",
       "    <tr>\n",
       "      <td>Thumbnail Url</td>\n",
       "      <td>2820</td>\n",
       "      <td>19.08</td>\n",
       "    </tr>\n",
       "    <tr>\n",
       "      <td>Host Response Rate</td>\n",
       "      <td>1899</td>\n",
       "      <td>12.85</td>\n",
       "    </tr>\n",
       "    <tr>\n",
       "      <td>Host Response Time</td>\n",
       "      <td>1899</td>\n",
       "      <td>12.85</td>\n",
       "    </tr>\n",
       "    <tr>\n",
       "      <td>Neighbourhood Group Cleansed</td>\n",
       "      <td>1020</td>\n",
       "      <td>6.90</td>\n",
       "    </tr>\n",
       "    <tr>\n",
       "      <td>Summary</td>\n",
       "      <td>591</td>\n",
       "      <td>4.00</td>\n",
       "    </tr>\n",
       "    <tr>\n",
       "      <td>Zipcode</td>\n",
       "      <td>506</td>\n",
       "      <td>3.42</td>\n",
       "    </tr>\n",
       "    <tr>\n",
       "      <td>Amenities</td>\n",
       "      <td>170</td>\n",
       "      <td>1.15</td>\n",
       "    </tr>\n",
       "    <tr>\n",
       "      <td>State</td>\n",
       "      <td>144</td>\n",
       "      <td>0.97</td>\n",
       "    </tr>\n",
       "    <tr>\n",
       "      <td>Market</td>\n",
       "      <td>57</td>\n",
       "      <td>0.39</td>\n",
       "    </tr>\n",
       "    <tr>\n",
       "      <td>Bathrooms</td>\n",
       "      <td>55</td>\n",
       "      <td>0.37</td>\n",
       "    </tr>\n",
       "    <tr>\n",
       "      <td>Beds</td>\n",
       "      <td>49</td>\n",
       "      <td>0.33</td>\n",
       "    </tr>\n",
       "    <tr>\n",
       "      <td>Host Location</td>\n",
       "      <td>43</td>\n",
       "      <td>0.29</td>\n",
       "    </tr>\n",
       "    <tr>\n",
       "      <td>Bedrooms</td>\n",
       "      <td>25</td>\n",
       "      <td>0.17</td>\n",
       "    </tr>\n",
       "    <tr>\n",
       "      <td>Picture Url</td>\n",
       "      <td>19</td>\n",
       "      <td>0.13</td>\n",
       "    </tr>\n",
       "    <tr>\n",
       "      <td>Price</td>\n",
       "      <td>17</td>\n",
       "      <td>0.12</td>\n",
       "    </tr>\n",
       "    <tr>\n",
       "      <td>Description</td>\n",
       "      <td>6</td>\n",
       "      <td>0.04</td>\n",
       "    </tr>\n",
       "    <tr>\n",
       "      <td>Host Verifications</td>\n",
       "      <td>6</td>\n",
       "      <td>0.04</td>\n",
       "    </tr>\n",
       "    <tr>\n",
       "      <td>City</td>\n",
       "      <td>6</td>\n",
       "      <td>0.04</td>\n",
       "    </tr>\n",
       "    <tr>\n",
       "      <td>Calculated host listings count</td>\n",
       "      <td>4</td>\n",
       "      <td>0.03</td>\n",
       "    </tr>\n",
       "    <tr>\n",
       "      <td>Host Picture Url</td>\n",
       "      <td>3</td>\n",
       "      <td>0.02</td>\n",
       "    </tr>\n",
       "    <tr>\n",
       "      <td>Host Thumbnail Url</td>\n",
       "      <td>3</td>\n",
       "      <td>0.02</td>\n",
       "    </tr>\n",
       "    <tr>\n",
       "      <td>Host Listings Count</td>\n",
       "      <td>3</td>\n",
       "      <td>0.02</td>\n",
       "    </tr>\n",
       "    <tr>\n",
       "      <td>Host Since</td>\n",
       "      <td>3</td>\n",
       "      <td>0.02</td>\n",
       "    </tr>\n",
       "    <tr>\n",
       "      <td>Host Name</td>\n",
       "      <td>3</td>\n",
       "      <td>0.02</td>\n",
       "    </tr>\n",
       "    <tr>\n",
       "      <td>Host Total Listings Count</td>\n",
       "      <td>3</td>\n",
       "      <td>0.02</td>\n",
       "    </tr>\n",
       "    <tr>\n",
       "      <td>Name</td>\n",
       "      <td>1</td>\n",
       "      <td>0.01</td>\n",
       "    </tr>\n",
       "    <tr>\n",
       "      <td>Country</td>\n",
       "      <td>1</td>\n",
       "      <td>0.01</td>\n",
       "    </tr>\n",
       "    <tr>\n",
       "      <td>Features</td>\n",
       "      <td>1</td>\n",
       "      <td>0.01</td>\n",
       "    </tr>\n",
       "  </tbody>\n",
       "</table>\n",
       "</div>"
      ],
      "text/plain": [
       "                                Missing Values  % of Total Values\n",
       "Has Availability                         14768              99.92\n",
       "Host Acceptance Rate                     14741              99.74\n",
       "Jurisdiction Names                       14553              98.46\n",
       "License                                  14431              97.64\n",
       "Square Feet                              14182              95.95\n",
       "Monthly Price                            11219              75.91\n",
       "Weekly Price                             11190              75.71\n",
       "Notes                                     9136              61.81\n",
       "Security Deposit                          8524              57.67\n",
       "Interaction                               6552              44.33\n",
       "Access                                    6462              43.72\n",
       "Cleaning Fee                              6093              41.22\n",
       "Transit                                   5714              38.66\n",
       "Neighborhood Overview                     5646              38.20\n",
       "Host About                                5241              35.46\n",
       "Neighbourhood                             5229              35.38\n",
       "House Rules                               5161              34.92\n",
       "Space                                     3892              26.33\n",
       "Host Neighbourhood                        3876              26.22\n",
       "Review Scores Value                       3341              22.60\n",
       "Review Scores Location                    3340              22.60\n",
       "Review Scores Checkin                     3337              22.58\n",
       "Review Scores Accuracy                    3326              22.50\n",
       "Review Scores Communication               3320              22.46\n",
       "Review Scores Cleanliness                 3320              22.46\n",
       "Review Scores Rating                      3304              22.35\n",
       "Last Review                               3163              21.40\n",
       "First Review                              3162              21.39\n",
       "Reviews per Month                         3162              21.39\n",
       "XL Picture Url                            2820              19.08\n",
       "Medium Url                                2820              19.08\n",
       "Thumbnail Url                             2820              19.08\n",
       "Host Response Rate                        1899              12.85\n",
       "Host Response Time                        1899              12.85\n",
       "Neighbourhood Group Cleansed              1020               6.90\n",
       "Summary                                    591               4.00\n",
       "Zipcode                                    506               3.42\n",
       "Amenities                                  170               1.15\n",
       "State                                      144               0.97\n",
       "Market                                      57               0.39\n",
       "Bathrooms                                   55               0.37\n",
       "Beds                                        49               0.33\n",
       "Host Location                               43               0.29\n",
       "Bedrooms                                    25               0.17\n",
       "Picture Url                                 19               0.13\n",
       "Price                                       17               0.12\n",
       "Description                                  6               0.04\n",
       "Host Verifications                           6               0.04\n",
       "City                                         6               0.04\n",
       "Calculated host listings count               4               0.03\n",
       "Host Picture Url                             3               0.02\n",
       "Host Thumbnail Url                           3               0.02\n",
       "Host Listings Count                          3               0.02\n",
       "Host Since                                   3               0.02\n",
       "Host Name                                    3               0.02\n",
       "Host Total Listings Count                    3               0.02\n",
       "Name                                         1               0.01\n",
       "Country                                      1               0.01\n",
       "Features                                     1               0.01"
      ]
     },
     "execution_count": 6,
     "metadata": {},
     "output_type": "execute_result"
    }
   ],
   "source": [
    "missing_values_table(full_airbnb)"
   ]
  },
  {
   "cell_type": "markdown",
   "metadata": {},
   "source": [
    "Antes de llevar a cabo el split entre Trainintg y Test eliminamos las columnas que tenemos claro que no van a ser utiles para nuestro objetivo:\n",
    "1. **Las que contienen URLs**: Listing Url: drop_url  \n",
    "2. **Los Ids y lo relativo al Scrape realizado**: drop_id_scrape\n",
    "3. **Nombres y comentarios**:drop_comments\n",
    "4. **Direcciones**: A la vista de la informacion que contienen las variables de direccion podemos dropear varias de ellas por diversos motivos (sin que tengamos que dividir previamente en Train Test). Demasiado genericas: City, State, Market, Smart Location, Country Code, Country, Jurisdiction Names. Demasiado concretas: Street, Latitude, Longitude y Geolocation. Demasiado ruido o demasiados registros nulos: Neighbourhood, Host Location, Host Neighbourhood. Por ultimo Zipcode es una variable que para representar la direccion no me parece la mas adecuada debido a que aunque es un numero, deberia ser tratado como una variable categorica. Ademas contiene bastante ruido, una cantidad no despreciable de nulos y tambien es demasiado concreta (506 valores unicos)     Por tanto y para la evaluacion del modelo deberemos barajar cual de las dos opciones que quedan es la mejor para representar la \"zona\" en la que se encuentra el piso ( Neighbourhood Cleansed o Neighbourhood Group Cleansed, las cuales obviamente van a estar fuertemente correladas), pero esto debera hacerse una vez separado el dataset, para que los datos de Test no influyan en la decision. (En cualquier caso sera necesario hacer un trabajo de limpieza y categorizacion con la variable elegida):drop_address\n",
    "5. **Informascion relativa al Hospedador**: drop_host"
   ]
  },
  {
   "cell_type": "code",
   "execution_count": 7,
   "metadata": {},
   "outputs": [],
   "source": [
    "drop_url = np.array(['Listing Url', 'Thumbnail Url', 'Medium Url', 'Picture Url', 'XL Picture Url', 'Host URL',\n",
    "                     'Host Thumbnail Url','Host Picture Url'])\n",
    "full_airbnb.drop(drop_url, axis=1, inplace=True)\n",
    "\n",
    "drop_id_scrape = np.array(['ID', 'Scrape ID', 'Last Scraped', 'Host ID', 'Calendar last Scraped'])\n",
    "full_airbnb.drop(drop_id_scrape, axis=1, inplace=True)\n",
    "\n",
    "\n",
    "drop_comments = np.array(['Name', 'Summary', 'Space', 'Description', 'Neighborhood Overview', 'Notes',\n",
    "                     'Transit','Access', 'Interaction', 'House Rules', 'Host Name', 'Experiences Offered',\n",
    "                         'Host About', 'Amenities', 'Features'])\n",
    "\n",
    "full_airbnb.drop(drop_comments, axis=1, inplace=True)\n",
    "\n",
    "drop_address = np.array(['Host Location', 'Host Neighbourhood', 'Neighbourhood', 'Street', 'Zipcode', \n",
    "    'City', 'State', 'Market', 'Smart Location','Country Code', 'Country', 'Latitude', \n",
    "                         'Longitude', 'Jurisdiction Names', 'Geolocation'])\n",
    "\n",
    "full_airbnb.drop(drop_address, axis=1, inplace=True)\n",
    "\n",
    "drop_host = np.array(['Host Since', 'Host Response Time', 'Host Response Rate', 'Host Acceptance Rate', \n",
    "    'Host Listings Count', 'Host Total Listings Count','Host Verifications', 'Calculated host listings count'])\n",
    "\n",
    "full_airbnb.drop(drop_host, axis=1, inplace=True)\n",
    "\n"
   ]
  },
  {
   "cell_type": "markdown",
   "metadata": {},
   "source": [
    "Por ultimo eliminamos varios campos sueltos por los siguientes motivos:\n",
    "* **Square Feet**: Contiene 96% observaciones null\n",
    "* **Weekly Price**: Contiene 76% observaciones null\n",
    "* **Monthly Price**: Contiene 76% obsevaciones null\n",
    "* **Has Availability**: Contiene 99% observaciones null\n",
    "* **First Review**: No creemos que aporte informacion util para el calculo del precio\n",
    "* **Last Review**: No creemos que aporte informacion util para el calculo del precio\n",
    "* **Calendar Updated**: No creemos que aporte informacion util para el calculo del precio\n",
    "* **License**: Contiene 98% observaciones null\n",
    "* **Bed Type**: Casi el 99% de las camas son del mismo tipo (Real Bed)\n",
    "\n",
    "\n"
   ]
  },
  {
   "cell_type": "code",
   "execution_count": 8,
   "metadata": {},
   "outputs": [],
   "source": [
    "drop_varios = np.array(['Square Feet', 'Weekly Price', 'Monthly Price', 'Has Availability', 'First Review', 'Last Review',\n",
    "                     'Calendar Updated','License', 'Bed Type'])\n",
    "\n",
    "full_airbnb.drop(drop_varios, axis=1, inplace=True)\n"
   ]
  },
  {
   "cell_type": "code",
   "execution_count": 9,
   "metadata": {},
   "outputs": [
    {
     "data": {
      "text/plain": [
       "(14780, 29)"
      ]
     },
     "execution_count": 9,
     "metadata": {},
     "output_type": "execute_result"
    }
   ],
   "source": [
    "full_airbnb.shape"
   ]
  },
  {
   "cell_type": "code",
   "execution_count": 10,
   "metadata": {},
   "outputs": [
    {
     "name": "stdout",
     "output_type": "stream",
     "text": [
      "Your slelected dataframe has 29 columns.\n",
      "There are 15 columns that have missing values.\n"
     ]
    },
    {
     "data": {
      "text/html": [
       "<div>\n",
       "<style scoped>\n",
       "    .dataframe tbody tr th:only-of-type {\n",
       "        vertical-align: middle;\n",
       "    }\n",
       "\n",
       "    .dataframe tbody tr th {\n",
       "        vertical-align: top;\n",
       "    }\n",
       "\n",
       "    .dataframe thead th {\n",
       "        text-align: right;\n",
       "    }\n",
       "</style>\n",
       "<table border=\"1\" class=\"dataframe\">\n",
       "  <thead>\n",
       "    <tr style=\"text-align: right;\">\n",
       "      <th></th>\n",
       "      <th>Missing Values</th>\n",
       "      <th>% of Total Values</th>\n",
       "    </tr>\n",
       "  </thead>\n",
       "  <tbody>\n",
       "    <tr>\n",
       "      <td>Security Deposit</td>\n",
       "      <td>8524</td>\n",
       "      <td>57.67</td>\n",
       "    </tr>\n",
       "    <tr>\n",
       "      <td>Cleaning Fee</td>\n",
       "      <td>6093</td>\n",
       "      <td>41.22</td>\n",
       "    </tr>\n",
       "    <tr>\n",
       "      <td>Review Scores Value</td>\n",
       "      <td>3341</td>\n",
       "      <td>22.60</td>\n",
       "    </tr>\n",
       "    <tr>\n",
       "      <td>Review Scores Location</td>\n",
       "      <td>3340</td>\n",
       "      <td>22.60</td>\n",
       "    </tr>\n",
       "    <tr>\n",
       "      <td>Review Scores Checkin</td>\n",
       "      <td>3337</td>\n",
       "      <td>22.58</td>\n",
       "    </tr>\n",
       "    <tr>\n",
       "      <td>Review Scores Accuracy</td>\n",
       "      <td>3326</td>\n",
       "      <td>22.50</td>\n",
       "    </tr>\n",
       "    <tr>\n",
       "      <td>Review Scores Cleanliness</td>\n",
       "      <td>3320</td>\n",
       "      <td>22.46</td>\n",
       "    </tr>\n",
       "    <tr>\n",
       "      <td>Review Scores Communication</td>\n",
       "      <td>3320</td>\n",
       "      <td>22.46</td>\n",
       "    </tr>\n",
       "    <tr>\n",
       "      <td>Review Scores Rating</td>\n",
       "      <td>3304</td>\n",
       "      <td>22.35</td>\n",
       "    </tr>\n",
       "    <tr>\n",
       "      <td>Reviews per Month</td>\n",
       "      <td>3162</td>\n",
       "      <td>21.39</td>\n",
       "    </tr>\n",
       "    <tr>\n",
       "      <td>Neighbourhood Group Cleansed</td>\n",
       "      <td>1020</td>\n",
       "      <td>6.90</td>\n",
       "    </tr>\n",
       "    <tr>\n",
       "      <td>Bathrooms</td>\n",
       "      <td>55</td>\n",
       "      <td>0.37</td>\n",
       "    </tr>\n",
       "    <tr>\n",
       "      <td>Beds</td>\n",
       "      <td>49</td>\n",
       "      <td>0.33</td>\n",
       "    </tr>\n",
       "    <tr>\n",
       "      <td>Bedrooms</td>\n",
       "      <td>25</td>\n",
       "      <td>0.17</td>\n",
       "    </tr>\n",
       "    <tr>\n",
       "      <td>Price</td>\n",
       "      <td>17</td>\n",
       "      <td>0.12</td>\n",
       "    </tr>\n",
       "  </tbody>\n",
       "</table>\n",
       "</div>"
      ],
      "text/plain": [
       "                              Missing Values  % of Total Values\n",
       "Security Deposit                        8524              57.67\n",
       "Cleaning Fee                            6093              41.22\n",
       "Review Scores Value                     3341              22.60\n",
       "Review Scores Location                  3340              22.60\n",
       "Review Scores Checkin                   3337              22.58\n",
       "Review Scores Accuracy                  3326              22.50\n",
       "Review Scores Cleanliness               3320              22.46\n",
       "Review Scores Communication             3320              22.46\n",
       "Review Scores Rating                    3304              22.35\n",
       "Reviews per Month                       3162              21.39\n",
       "Neighbourhood Group Cleansed            1020               6.90\n",
       "Bathrooms                                 55               0.37\n",
       "Beds                                      49               0.33\n",
       "Bedrooms                                  25               0.17\n",
       "Price                                     17               0.12"
      ]
     },
     "execution_count": 10,
     "metadata": {},
     "output_type": "execute_result"
    }
   ],
   "source": [
    "missing_values_table(full_airbnb)"
   ]
  },
  {
   "cell_type": "code",
   "execution_count": 11,
   "metadata": {},
   "outputs": [
    {
     "data": {
      "text/plain": [
       "count    14763.000000\n",
       "mean        73.561471\n",
       "std         72.062050\n",
       "min          9.000000\n",
       "25%         34.000000\n",
       "50%         55.000000\n",
       "75%         86.000000\n",
       "max        999.000000\n",
       "Name: Price, dtype: float64"
      ]
     },
     "execution_count": 11,
     "metadata": {},
     "output_type": "execute_result"
    }
   ],
   "source": [
    "full_airbnb['Price'].describe().T"
   ]
  },
  {
   "cell_type": "markdown",
   "metadata": {},
   "source": [
    "**Tras la limpeza inicial nos hemos quedado con 28 caracteristicas (y el target).**"
   ]
  },
  {
   "cell_type": "markdown",
   "metadata": {},
   "source": [
    "## Separación Train Test\n",
    "\n",
    "Ahora, y antes de pasar al analisis exploratorio y la seleccion de caratresiticas procemos a la divsion del dataset de entrada en train y test. De momento y por si llevamos a cabo tratamiento de outliers no separaremos la variable objetivo del resto de caracteristicas."
   ]
  },
  {
   "cell_type": "code",
   "execution_count": 12,
   "metadata": {},
   "outputs": [
    {
     "name": "stdout",
     "output_type": "stream",
     "text": [
      "Dimensiones del dataset de training: (11824, 29)\n",
      "Dimensiones del dataset de test: (2956, 29)\n"
     ]
    }
   ],
   "source": [
    "from sklearn.model_selection import train_test_split\n",
    "train, test = train_test_split(full_airbnb, test_size=0.2, shuffle=True, random_state=0)\n",
    "print(f'Dimensiones del dataset de training: {train.shape}')\n",
    "print(f'Dimensiones del dataset de test: {test.shape}')\n",
    "# Guardamos\n",
    "train.to_csv('./data/train.csv', sep=';', decimal='.', index=False)\n",
    "test.to_csv('./data/test.csv', sep=';', decimal='.', index=False)"
   ]
  },
  {
   "cell_type": "markdown",
   "metadata": {},
   "source": [
    "**Tengamos en cuenta que a partir de ahora todo el analisis exploratorio y selección de caracteristicas se hara sobre el dataset de entrenamiento.**\n",
    "**Posteriormente todas transformaciones llevadas a cabo en dicho dataset se deberan implementar en el de Test.**"
   ]
  },
  {
   "cell_type": "markdown",
   "metadata": {},
   "source": [
    "Empecemos tratando las variables de vecindario (Neighbourhood Cleansed y Neighbourhood Group Cleansed)"
   ]
  },
  {
   "cell_type": "code",
   "execution_count": 13,
   "metadata": {},
   "outputs": [
    {
     "name": "stdout",
     "output_type": "stream",
     "text": [
      "449\n",
      "0\n",
      "Embajadores                                                                       1476\n",
      "Universidad                                                                       1059\n",
      "Palacio                                                                            881\n",
      "Sol                                                                                769\n",
      "Justicia                                                                           630\n",
      "Cortes                                                                             607\n",
      "Trafalgar                                                                          253\n",
      "Argüelles                                                                          216\n",
      "Palos de Moguer                                                                    215\n",
      "Goya                                                                               190\n",
      "Puerta del Angel                                                                   151\n",
      "Guindalera                                                                         144\n",
      "Recoletos                                                                          140\n",
      "Arapiles                                                                           137\n",
      "Almagro                                                                            124\n",
      "Acacias                                                                            119\n",
      "Pacífico                                                                           117\n",
      "Gaztambide                                                                         111\n",
      "Lista                                                                              108\n",
      "Cuatro Caminos                                                                     104\n",
      "Delicias                                                                            96\n",
      "Chopera                                                                             90\n",
      "Castellana                                                                          85\n",
      "Rios Rosas                                                                          84\n",
      "Ibiza                                                                               83\n",
      "Prosperidad                                                                         77\n",
      "San Isidro                                                                          71\n",
      "Jerónimos                                                                           70\n",
      "San Diego                                                                           67\n",
      "Imperial                                                                            67\n",
      "Ventas                                                                              66\n",
      "Castillejos                                                                         65\n",
      "Bellas Vistas                                                                       65\n",
      "Vista Alegre                                                                        59\n",
      "Hispanoamérica                                                                      59\n",
      "Palma de Mallorca                                                                   59\n",
      "Casa de Campo                                                                       58\n",
      "Nueva España                                                                        55\n",
      "Vallehermoso                                                                        54\n",
      "Fuente del Berro                                                                    54\n",
      "Berruguete                                                                          52\n",
      "Lucero                                                                              51\n",
      "Numancia                                                                            50\n",
      "la Dreta de l'Eixample                                                              50\n",
      "Almenara                                                                            47\n",
      "Comillas                                                                            45\n",
      "Opañel                                                                              44\n",
      "Adelfas                                                                             43\n",
      "Ciudad Universitaria                                                                42\n",
      "Ciudad Jardín                                                                       41\n",
      "Valdefuentes                                                                        40\n",
      "Valdeacederas                                                                       40\n",
      "Quintana                                                                            39\n",
      "Almendrales                                                                         38\n",
      "Pueblo Nuevo                                                                        37\n",
      "Concepción                                                                          36\n",
      "Simancas                                                                            36\n",
      "Pinar del Rey                                                                       36\n",
      "Casco Histórico de Vallecas                                                         35\n",
      "Peñagrande                                                                          35\n",
      "Valverde                                                                            35\n",
      "Canillas                                                                            34\n",
      "Alcúdia                                                                             34\n",
      "Aluche                                                                              33\n",
      "Dublin City                                                                         33\n",
      "El Viso                                                                             32\n",
      "Puerta Bonita                                                                       32\n",
      "Legazpi                                                                             30\n",
      "San Fermín                                                                          29\n",
      "Moscardó                                                                            29\n",
      "Costillares                                                                         28\n",
      "Estrella                                                                            26\n",
      "Palomeras Bajas                                                                     26\n",
      "Cármenes                                                                            26\n",
      "l'Antiga Esquerra de l'Eixample                                                     26\n",
      "I Centro Storico                                                                    23\n",
      "Pilar                                                                               22\n",
      "Buenavista                                                                          22\n",
      "Niño Jesús                                                                          22\n",
      "San Juan Bautista                                                                   22\n",
      "Casco Histórico de Barajas                                                          21\n",
      "Alameda de Osuna                                                                    21\n",
      "Los Rosales                                                                         21\n",
      "Castilla                                                                            20\n",
      "Casco Histórico de Vicálvaro                                                        19\n",
      "Westminster                                                                         18\n",
      "Rejas                                                                               18\n",
      "Fontarrón                                                                           18\n",
      "Aravaca                                                                             17\n",
      "Tower Hamlets                                                                       17\n",
      "Valdezarza                                                                          17\n",
      "San Andrés                                                                          16\n",
      "Colina                                                                              15\n",
      "Sant Pere, Santa Caterina i la Ribera                                               15\n",
      "la Vila de Gràcia                                                                   15\n",
      "Campamento                                                                          15\n",
      "Calvià                                                                              15\n",
      "Pollença                                                                            15\n",
      "Ealing                                                                              14\n",
      "el Camp d'en Grassot i Gràcia Nova                                                  14\n",
      "Mirasierra                                                                          14\n",
      "La Paz                                                                              14\n",
      "Atocha                                                                              14\n",
      "Media Legua                                                                         14\n",
      "Los Angeles                                                                         14\n",
      "San Pascual                                                                         14\n",
      "Santa Margalida                                                                     13\n",
      "Timón                                                                               13\n",
      "Aguilas                                                                             13\n",
      "Inca                                                                                13\n",
      "Landstra§e                                                                          13\n",
      "Apostol Santiago                                                                    12\n",
      "Hackney                                                                             12\n",
      "Ambroz                                                                              12\n",
      "Portazgo                                                                            12\n",
      "Selva                                                                               12\n",
      "Manacor                                                                             12\n",
      "Vinateros                                                                           12\n",
      "Abrantes                                                                            11\n",
      "Waverley                                                                            11\n",
      "Marroquina                                                                          11\n",
      "Arcos                                                                               11\n",
      "Pradolongo                                                                          11\n",
      "el Barri Gòtic                                                                      11\n",
      "Palomeras Sureste                                                                   11\n",
      "les Corts                                                                           11\n",
      "Buttes-Montmartre                                                                   11\n",
      "la Sagrada Família                                                                  11\n",
      "Sa Pobla                                                                            10\n",
      "Hostafrancs                                                                         10\n",
      "Palomas                                                                             10\n",
      "Piovera                                                                             10\n",
      "Salvador                                                                            10\n",
      "el Raval                                                                             9\n",
      "Sants                                                                                9\n",
      "Sant Gervasi - Galvany                                                               9\n",
      "Deyá                                                                                 9\n",
      "Opéra                                                                                8\n",
      "el Poble Sec                                                                         8\n",
      "Entrevías                                                                            8\n",
      "Sóller                                                                               8\n",
      "San Cristobal                                                                        7\n",
      "Islington                                                                            7\n",
      "Muro                                                                                 7\n",
      "Butarque                                                                             7\n",
      "Batignolles-Monceau                                                                  7\n",
      "Búger                                                                                7\n",
      "Popincourt                                                                           7\n",
      "Algaida                                                                              7\n",
      "Sydney                                                                               7\n",
      "Aeropuerto                                                                           7\n",
      "Élysée                                                                               6\n",
      "Orcasur                                                                              6\n",
      "Kensington and Chelsea                                                               6\n",
      "Ménilmontant                                                                         6\n",
      "la Nova Esquerra de l'Eixample                                                       6\n",
      "Palais-Bourbon                                                                       6\n",
      "Lambeth                                                                              6\n",
      "Entrepôt                                                                             6\n",
      "Frankfurter Allee Süd FK                                                             6\n",
      "Alaró                                                                                6\n",
      "Canillejas                                                                           6\n",
      "Llucmajor                                                                            6\n",
      "Cannaregio                                                                           5\n",
      "Midtown                                                                              5\n",
      "Mid-Wilshire                                                                         5\n",
      "Williamsburg                                                                         5\n",
      "Corralejos                                                                           5\n",
      "Valldemossa                                                                          5\n",
      "Panthéon                                                                             5\n",
      "Bedford-Stuyvesant                                                                   5\n",
      "Felanitx                                                                             5\n",
      "Sant Llorenç des Cardassar                                                           5\n",
      "Zofío                                                                                5\n",
      "Campanet                                                                             5\n",
      "Amposta                                                                              5\n",
      "Southwark                                                                            5\n",
      "Harlem                                                                               5\n",
      "Valdemarín                                                                           5\n",
      "Artà                                                                                 5\n",
      "Castro/Upper Market                                                                  5\n",
      "Sineu                                                                                5\n",
      "Fuentelareina                                                                        5\n",
      "el Parc i la Llacuna del Poblenou                                                    4\n",
      "Downtown                                                                             4\n",
      "Brent                                                                                4\n",
      "Bruxelles                                                                            4\n",
      "Rosas                                                                                4\n",
      "II Parioli/Nomentano                                                                 4\n",
      "IV Tiburtina                                                                         4\n",
      "Reuterstraße                                                                         4\n",
      "Santa Eugenia                                                                        4\n",
      "Passy                                                                                4\n",
      "Camden                                                                               4\n",
      "Santa María del Camí                                                                 4\n",
      "Capdepera                                                                            4\n",
      "Mancor de la Vall                                                                    4\n",
      "Hammersmith and Fulham                                                               4\n",
      "Balboa Park                                                                          3\n",
      "VIII Appia Antica                                                                    3\n",
      "Wandsworth                                                                           3\n",
      "Marrickville                                                                         3\n",
      "De Baarsjes - Oud-West                                                               3\n",
      "Llubí                                                                                3\n",
      "Commune de Genève                                                                    3\n",
      "sterbro                                                                              3\n",
      "Leopoldstadt                                                                         3\n",
      "Sant Antoni                                                                          3\n",
      "Tollcross                                                                            3\n",
      "Centrum-West                                                                         3\n",
      "Zuid                                                                                 3\n",
      "Woollahra                                                                            3\n",
      "East Village                                                                         3\n",
      "West Town                                                                            3\n",
      "Edgewood, Bloomingdale, Truxton Circle, Eckington                                    3\n",
      "Santanyí                                                                             3\n",
      "Binissalem                                                                           3\n",
      "Croydon                                                                              3\n",
      "Annex                                                                                3\n",
      "Giudecca                                                                             3\n",
      "VII San Giovanni/Cinecittà                                                           3\n",
      "Ridgewood                                                                            3\n",
      "el Camp de l'Arpa del Clot                                                           3\n",
      "Temple                                                                               3\n",
      "Saint-Josse-ten-Noode                                                                3\n",
      "El Goloso                                                                            3\n",
      "Centrum-Oost                                                                         3\n",
      "Vesterbro-Kongens Enghave                                                            3\n",
      "Hollywood                                                                            3\n",
      "Alexanderplatz                                                                       3\n",
      "Campos                                                                               3\n",
      "Observatoire                                                                         3\n",
      "El Plantío                                                                           3\n",
      "Wieden                                                                               3\n",
      "Ses Salines                                                                          3\n",
      "Pavones                                                                              3\n",
      "Vaugirard                                                                            3\n",
      "Lido                                                                                 2\n",
      "la Marina de Port                                                                    2\n",
      "78704                                                                                2\n",
      "Leonidas                                                                             2\n",
      "Upper East Side                                                                      2\n",
      "Hellín                                                                               2\n",
      "Topanga                                                                              2\n",
      "la Salut                                                                             2\n",
      "la Barceloneta                                                                       2\n",
      "Frederiksberg                                                                        2\n",
      "Ariany                                                                               2\n",
      "Can Baró                                                                             2\n",
      "Bromley                                                                              2\n",
      "Little Italy                                                                         2\n",
      "Reuilly                                                                              2\n",
      "Hell's Kitchen                                                                       2\n",
      "Bourse                                                                               2\n",
      "Jamaica Plain                                                                        2\n",
      "University                                                                           2\n",
      "Venice                                                                               2\n",
      "Haringey                                                                             2\n",
      "Oud-Oost                                                                             2\n",
      "Indre By                                                                             2\n",
      "Saint-Gilles                                                                         2\n",
      "Louvre                                                                               2\n",
      "XII Monte Verde                                                                      2\n",
      "Hôtel-de-Ville                                                                       2\n",
      "Greenpoint                                                                           2\n",
      "Hounslow                                                                             2\n",
      "III Monte Sacro                                                                      2\n",
      "Schillerpromenade                                                                    2\n",
      "East Harlem                                                                          2\n",
      "Canongate, Southside and Dumbiedykes                                                 2\n",
      "Melbourne                                                                            2\n",
      "Nolita                                                                               2\n",
      "Sants - Badal                                                                        2\n",
      "Highland Park                                                                        2\n",
      "Stonnington                                                                          2\n",
      "Forest Hill South                                                                    2\n",
      "Merton                                                                               2\n",
      "Orcasitas                                                                            2\n",
      "Logan Square                                                                         2\n",
      "Mariahilf                                                                            2\n",
      "Neubau                                                                               2\n",
      "Prenzlauer Berg Süd                                                                  2\n",
      "Son Servera                                                                          2\n",
      "Andratx                                                                              2\n",
      "Helmholtzplatz                                                                       2\n",
      "Long Island City                                                                     2\n",
      "Lloseta                                                                              2\n",
      "Luxembourg                                                                           2\n",
      "Santa Monica                                                                         2\n",
      "Sant Joan                                                                            2\n",
      "Gobelins                                                                             2\n",
      "Cuatro Vientos                                                                       2\n",
      "Bushwick                                                                             1\n",
      "südliche Luisenstadt                                                                 1\n",
      "Rixdorf                                                                              1\n",
      "Kensington-Chinatown                                                                 1\n",
      "Adams                                                                                1\n",
      "el Baix Guinardó                                                                     1\n",
      "ΠΑΤΗΣΙΑ                                                                              1\n",
      "Südliche Friedrichstadt                                                              1\n",
      "el Putxet i el Farró                                                                 1\n",
      "Hietzing                                                                             1\n",
      "Chesterfield Square                                                                  1\n",
      "VI Roma delle Torri                                                                  1\n",
      "Prospect-Lefferts Gardens                                                            1\n",
      "Provençals del Poblenou                                                              1\n",
      "Nrrebro                                                                              1\n",
      "Bitter Lake                                                                          1\n",
      "Vilafranc de Bonany                                                                  1\n",
      "Etterbeek                                                                            1\n",
      "Fort Greene                                                                          1\n",
      "Prospect Heights                                                                     1\n",
      "Botany Bay                                                                           1\n",
      "Sencelles                                                                            1\n",
      "Warringah                                                                            1\n",
      "Castello                                                                             1\n",
      "Karlshorst                                                                           1\n",
      "Westerpark                                                                           1\n",
      "Silver Lake                                                                          1\n",
      "Twining, Fairlawn, Randle Highlands, Penn Branch, Fort Davis Park, Fort Dupont       1\n",
      "Verdun                                                                               1\n",
      "Margareten                                                                           1\n",
      "Crown Heights                                                                        1\n",
      "Westlake                                                                             1\n",
      "Karl-Marx-Allee-Süd                                                                  1\n",
      "Kantstraße                                                                           1\n",
      "Central & Western                                                                    1\n",
      "Pasadena                                                                             1\n",
      "Dovercourt-Wallace Emerson-Junction                                                  1\n",
      "Amager Vest                                                                          1\n",
      "Tempelhofer Vorstadt                                                                 1\n",
      "Sant Martí de Provençals                                                             1\n",
      "Parkviertel                                                                          1\n",
      "Brederode                                                                            1\n",
      "Whring                                                                              1\n",
      "Buttes-Chaumont                                                                      1\n",
      "el Clot                                                                              1\n",
      "la Font d'en Fargues                                                                 1\n",
      "Prenzlauer Berg Nordwest                                                             1\n",
      "Hollywood Hills                                                                      1\n",
      "Innere Stadt                                                                         1\n",
      "Valby                                                                                1\n",
      "XI Arvalia/Portuense                                                                 1\n",
      "Lake Balboa                                                                          1\n",
      "Meidling                                                                             1\n",
      "Excelsior                                                                            1\n",
      "Noord-Oost                                                                           1\n",
      "Maribyrnong                                                                          1\n",
      "Lower East Side                                                                      1\n",
      "Forest                                                                               1\n",
      "Brentwood                                                                            1\n",
      "Hulme                                                                                1\n",
      "Petra                                                                                1\n",
      "De Pijp - Rivierenbuurt                                                              1\n",
      "Dupont Circle, Connecticut Avenue/K Street                                           1\n",
      "Sunset Park                                                                          1\n",
      "Rogers Park                                                                          1\n",
      "Fairfax                                                                              1\n",
      "Dbling                                                                              1\n",
      "Longsight                                                                            1\n",
      "Richmond upon Thames                                                                 1\n",
      "District 18                                                                          1\n",
      "Oud-Noord                                                                            1\n",
      "Moreland                                                                             1\n",
      "Brightwood Park, Crestwood, Petworth                                                 1\n",
      "East Riverside                                                                       1\n",
      "XV Cassia/Flaminia                                                                   1\n",
      "Alt  Treptow                                                                         1\n",
      "Cologny                                                                              1\n",
      "West Hollywood                                                                       1\n",
      "la Maternitat i Sant Ramon                                                           1\n",
      "Broadway                                                                             1\n",
      "Theaterbuurt-Meir                                                                    1\n",
      "SoHo                                                                                 1\n",
      "Lake View                                                                            1\n",
      "Southwest Employment Area, Southwest/Waterfront, Fort McNair, Buzzard Point          1\n",
      "Capitol Hill, Lincoln Park                                                           1\n",
      "Balgreen and Roseburn                                                                1\n",
      "Los Feliz                                                                            1\n",
      "Beverly Grove                                                                        1\n",
      "Theater District                                                                     1\n",
      "Bernal Heights                                                                       1\n",
      "Dn Laoghaire-Rathdown                                                                1\n",
      "San Fernando                                                                         1\n",
      "Weißensee                                                                            1\n",
      "Kalorama Heights, Adams Morgan, Lanier Heights                                       1\n",
      "Port Phillip                                                                         1\n",
      "Highbridge                                                                           1\n",
      "North Sydney                                                                         1\n",
      "Lawton Park                                                                          1\n",
      "Frankfurter Allee Nord                                                               1\n",
      "Redbridge                                                                            1\n",
      "Long Beach                                                                           1\n",
      "Waltham Forest                                                                       1\n",
      "la Vila Olímpica del Poblenou                                                        1\n",
      "Brunnenstr. Süd                                                                      1\n",
      "Mid-City                                                                             1\n",
      "78733                                                                                1\n",
      "Marratxí                                                                             1\n",
      "Beverly Hills                                                                        1\n",
      "Sant Gervasi - la Bonanova                                                           1\n",
      "Hollywood Hills West                                                                 1\n",
      "West Village                                                                         1\n",
      "LISMORE CITY COUNCIL                                                                 1\n",
      "Berkeley                                                                             1\n",
      "XIII Aurelia                                                                         1\n",
      "South Dublin                                                                         1\n",
      "Adams-Normandie                                                                      1\n",
      "Inverleith, Goldenacre and Warriston                                                 1\n",
      "Lachine                                                                              1\n",
      "Van Nuys                                                                             1\n",
      "Malibu                                                                               1\n",
      "West Highland                                                                        1\n",
      "ΝΕΟΣ ΚΟΣΜΟΣ                                                                          1\n",
      "Niagara                                                                              1\n",
      "Chinatown                                                                            1\n",
      "el Fort Pienc                                                                        1\n",
      "Nob Hill                                                                             1\n",
      "Sint-Andries                                                                         1\n",
      "Carroll Gardens                                                                      1\n",
      "Ixelles                                                                              1\n",
      "Lloret de Vistalegre                                                                 1\n",
      "Bunyola                                                                              1\n",
      "Volkspark Wilmersdorf                                                                1\n",
      "la Font de la Guatlla                                                                1\n",
      "Mid-Beacon Hill                                                                      1\n",
      "Darebin                                                                              1\n",
      "Gramercy                                                                             1\n",
      "The Beaches                                                                          1\n",
      "Cleveland Heights                                                                    1\n",
      "Sloan Lake                                                                           1\n",
      "Friedenau                                                                            1\n",
      "Westmount                                                                            1\n",
      "Rancho Park                                                                          1\n",
      "nördliche Luisenstadt                                                                1\n",
      "Flatbush                                                                             1\n",
      "Rosedale-Moore Park                                                                  1\n",
      "Costitx                                                                              1\n",
      "ΠΛΑΤΕΙΑ ΑΜΕΡΙΚΗΣ                                                                     1\n",
      "Dorsoduro                                                                            1\n",
      "Sutton                                                                               1\n",
      "El Pardo                                                                             1\n",
      "Boerum Hill                                                                          1\n",
      "Porta                                                                                1\n",
      "Church-Yonge Corridor                                                                1\n",
      "Takoma, Brightwood, Manor Park                                                       1\n",
      "Civic Center                                                                         1\n",
      "Near North Side                                                                      1\n",
      "Geuzenveld - Slotermeer                                                              1\n",
      "Name: Neighbourhood Cleansed, dtype: int64\n"
     ]
    }
   ],
   "source": [
    "#print(full_airbnb['Neighbourhood'].unique())\n",
    "print(len(train['Neighbourhood Cleansed'].unique()))\n",
    "print(train['Neighbourhood Cleansed'].isna().sum())\n",
    "with pd.option_context(\"display.max_rows\", 1000):\n",
    "    print(train['Neighbourhood Cleansed'].value_counts())"
   ]
  },
  {
   "cell_type": "code",
   "execution_count": 14,
   "metadata": {},
   "outputs": [
    {
     "name": "stdout",
     "output_type": "stream",
     "text": [
      "49\n",
      "819\n",
      "Centro                      5422\n",
      "Chamberí                     763\n",
      "Salamanca                    721\n",
      "Arganzuela                   631\n",
      "Tetuán                       373\n",
      "Retiro                       361\n",
      "Moncloa - Aravaca            358\n",
      "Latina                       291\n",
      "Chamartín                    284\n",
      "Carabanchel                  284\n",
      "Ciudad Lineal                257\n",
      "Puente de Vallecas           174\n",
      "Hortaleza                    142\n",
      "Fuencarral - El Pardo        129\n",
      "Usera                        120\n",
      "Eixample                      97\n",
      "San Blas - Canillejas         92\n",
      "Barajas                       67\n",
      "Villaverde                    65\n",
      "Moratalaz                     58\n",
      "Villa de Vallecas             39\n",
      "Ciutat Vella                  37\n",
      "Sants-Montjuïc                32\n",
      "Vicálvaro                     31\n",
      "Gràcia                        31\n",
      "Manhattan                     28\n",
      "Brooklyn                      21\n",
      "Les Corts                     12\n",
      "Friedrichshain-Kreuzberg      12\n",
      "Isole                         12\n",
      "Sarrià-Sant Gervasi           11\n",
      "Sant Martí                    11\n",
      "Neukölln                       7\n",
      "Pankow                         6\n",
      "Queens                         5\n",
      "Mitte                          5\n",
      "Horta-Guinardó                 4\n",
      "Charlottenburg-Wilm.           2\n",
      "Nou Barris                     1\n",
      "Ballard                        1\n",
      "Beacon Hill                    1\n",
      "Treptow - Köpenick             1\n",
      "Magnolia                       1\n",
      "Bronx                          1\n",
      "Tempelhof - Schöneberg         1\n",
      "Lichtenberg                    1\n",
      "Capitol Hill                   1\n",
      "Other neighborhoods            1\n",
      "Name: Neighbourhood Group Cleansed, dtype: int64\n"
     ]
    }
   ],
   "source": [
    "#print(full_airbnb['Neighbourhood'].unique())\n",
    "print(len(train['Neighbourhood Group Cleansed'].unique()))\n",
    "print(train['Neighbourhood Group Cleansed'].isna().sum())\n",
    "with pd.option_context(\"display.max_rows\", 1000):\n",
    "    print(train['Neighbourhood Group Cleansed'].value_counts())"
   ]
  },
  {
   "cell_type": "markdown",
   "metadata": {},
   "source": [
    "A la vista de los datos anteriores tenemos la siguiente informacio:\n",
    "- La variable \"Neighbourhood Cleansed\" contiene 449 categorias y ningun valor null.\n",
    "- La variable \"Neighbourhood Group Cleansed contiene 49 categorias y 819 celdas null.En lugar de imputar los nulls a la categoria \"Other\" lo rellenamos con el valor de la columna \"Neighbourhood Cleansed\""
   ]
  },
  {
   "cell_type": "code",
   "execution_count": 15,
   "metadata": {},
   "outputs": [],
   "source": [
    "train['Neighbourhood Group Cleansed'].fillna(train['Neighbourhood Cleansed'], inplace=True)"
   ]
  },
  {
   "cell_type": "markdown",
   "metadata": {},
   "source": [
    "A continuación trataremos las otras tres variables categoricas que nos quedan (Property Type, Room Type y Cancellation Policy)"
   ]
  },
  {
   "cell_type": "code",
   "execution_count": 16,
   "metadata": {},
   "outputs": [
    {
     "name": "stdout",
     "output_type": "stream",
     "text": [
      "277\n",
      "0\n",
      "Centro                                                                            5422\n",
      "Chamberí                                                                           763\n",
      "Salamanca                                                                          721\n",
      "Arganzuela                                                                         631\n",
      "Tetuán                                                                             373\n",
      "Retiro                                                                             361\n",
      "Moncloa - Aravaca                                                                  358\n",
      "Latina                                                                             291\n",
      "Carabanchel                                                                        284\n",
      "Chamartín                                                                          284\n",
      "Ciudad Lineal                                                                      257\n",
      "Puente de Vallecas                                                                 174\n",
      "Hortaleza                                                                          142\n",
      "Fuencarral - El Pardo                                                              129\n",
      "Usera                                                                              120\n",
      "Eixample                                                                            97\n",
      "San Blas - Canillejas                                                               92\n",
      "Barajas                                                                             67\n",
      "Villaverde                                                                          65\n",
      "Palma de Mallorca                                                                   59\n",
      "Moratalaz                                                                           58\n",
      "Villa de Vallecas                                                                   39\n",
      "Ciutat Vella                                                                        37\n",
      "Alcúdia                                                                             34\n",
      "Dublin City                                                                         33\n",
      "Sants-Montjuïc                                                                      32\n",
      "Vicálvaro                                                                           31\n",
      "Gràcia                                                                              31\n",
      "Manhattan                                                                           28\n",
      "I Centro Storico                                                                    23\n",
      "Brooklyn                                                                            21\n",
      "Westminster                                                                         18\n",
      "Tower Hamlets                                                                       17\n",
      "Pollença                                                                            15\n",
      "Calvià                                                                              15\n",
      "Ealing                                                                              14\n",
      "Santa Margalida                                                                     13\n",
      "Inca                                                                                13\n",
      "Landstra§e                                                                          13\n",
      "Hackney                                                                             12\n",
      "Friedrichshain-Kreuzberg                                                            12\n",
      "Selva                                                                               12\n",
      "Manacor                                                                             12\n",
      "Isole                                                                               12\n",
      "Les Corts                                                                           12\n",
      "Sarrià-Sant Gervasi                                                                 11\n",
      "Buttes-Montmartre                                                                   11\n",
      "Sant Martí                                                                          11\n",
      "Waverley                                                                            11\n",
      "Sa Pobla                                                                            10\n",
      "Deyá                                                                                 9\n",
      "Sóller                                                                               8\n",
      "Opéra                                                                                8\n",
      "Neukölln                                                                             7\n",
      "Muro                                                                                 7\n",
      "Batignolles-Monceau                                                                  7\n",
      "Sydney                                                                               7\n",
      "Islington                                                                            7\n",
      "Algaida                                                                              7\n",
      "Búger                                                                                7\n",
      "Popincourt                                                                           7\n",
      "Palais-Bourbon                                                                       6\n",
      "Entrepôt                                                                             6\n",
      "Lambeth                                                                              6\n",
      "Ménilmontant                                                                         6\n",
      "Alaró                                                                                6\n",
      "Élysée                                                                               6\n",
      "Kensington and Chelsea                                                               6\n",
      "Llucmajor                                                                            6\n",
      "Pankow                                                                               6\n",
      "Southwark                                                                            5\n",
      "Campanet                                                                             5\n",
      "Artà                                                                                 5\n",
      "Sineu                                                                                5\n",
      "Felanitx                                                                             5\n",
      "Sant Llorenç des Cardassar                                                           5\n",
      "Mitte                                                                                5\n",
      "Castro/Upper Market                                                                  5\n",
      "Valldemossa                                                                          5\n",
      "Mid-Wilshire                                                                         5\n",
      "Queens                                                                               5\n",
      "Panthéon                                                                             5\n",
      "II Parioli/Nomentano                                                                 4\n",
      "Brent                                                                                4\n",
      "Mancor de la Vall                                                                    4\n",
      "Capdepera                                                                            4\n",
      "Santa María del Camí                                                                 4\n",
      "Bruxelles                                                                            4\n",
      "Horta-Guinardó                                                                       4\n",
      "IV Tiburtina                                                                         4\n",
      "Hammersmith and Fulham                                                               4\n",
      "Passy                                                                                4\n",
      "Downtown                                                                             4\n",
      "Camden                                                                               4\n",
      "sterbro                                                                              3\n",
      "Llubí                                                                                3\n",
      "Balboa Park                                                                          3\n",
      "Zuid                                                                                 3\n",
      "Centrum-West                                                                         3\n",
      "Leopoldstadt                                                                         3\n",
      "Croydon                                                                              3\n",
      "Woollahra                                                                            3\n",
      "Binissalem                                                                           3\n",
      "Tollcross                                                                            3\n",
      "Commune de Genève                                                                    3\n",
      "Ses Salines                                                                          3\n",
      "De Baarsjes - Oud-West                                                               3\n",
      "Santanyí                                                                             3\n",
      "Annex                                                                                3\n",
      "Observatoire                                                                         3\n",
      "Wandsworth                                                                           3\n",
      "VII San Giovanni/Cinecittà                                                           3\n",
      "Wieden                                                                               3\n",
      "Marrickville                                                                         3\n",
      "Saint-Josse-ten-Noode                                                                3\n",
      "Vesterbro-Kongens Enghave                                                            3\n",
      "Hollywood                                                                            3\n",
      "Temple                                                                               3\n",
      "Centrum-Oost                                                                         3\n",
      "Edgewood, Bloomingdale, Truxton Circle, Eckington                                    3\n",
      "West Town                                                                            3\n",
      "Vaugirard                                                                            3\n",
      "VIII Appia Antica                                                                    3\n",
      "Campos                                                                               3\n",
      "III Monte Sacro                                                                      2\n",
      "Charlottenburg-Wilm.                                                                 2\n",
      "Luxembourg                                                                           2\n",
      "XII Monte Verde                                                                      2\n",
      "Melbourne                                                                            2\n",
      "Lloseta                                                                              2\n",
      "Sant Joan                                                                            2\n",
      "Bromley                                                                              2\n",
      "Son Servera                                                                          2\n",
      "Andratx                                                                              2\n",
      "Topanga                                                                              2\n",
      "Leonidas                                                                             2\n",
      "Forest Hill South                                                                    2\n",
      "78704                                                                                2\n",
      "Reuilly                                                                              2\n",
      "Ariany                                                                               2\n",
      "Louvre                                                                               2\n",
      "Saint-Gilles                                                                         2\n",
      "Mariahilf                                                                            2\n",
      "Venice                                                                               2\n",
      "Hôtel-de-Ville                                                                       2\n",
      "Stonnington                                                                          2\n",
      "Oud-Oost                                                                             2\n",
      "Highland Park                                                                        2\n",
      "Logan Square                                                                         2\n",
      "Gobelins                                                                             2\n",
      "Neubau                                                                               2\n",
      "Bourse                                                                               2\n",
      "Frederiksberg                                                                        2\n",
      "Canongate, Southside and Dumbiedykes                                                 2\n",
      "University                                                                           2\n",
      "Merton                                                                               2\n",
      "Jamaica Plain                                                                        2\n",
      "Santa Monica                                                                         2\n",
      "Indre By                                                                             2\n",
      "Hounslow                                                                             2\n",
      "Haringey                                                                             2\n",
      "VI Roma delle Torri                                                                  1\n",
      "Sencelles                                                                            1\n",
      "Noord-Oost                                                                           1\n",
      "Warringah                                                                            1\n",
      "Etterbeek                                                                            1\n",
      "Treptow - Köpenick                                                                   1\n",
      "Chesterfield Square                                                                  1\n",
      "Balgreen and Roseburn                                                                1\n",
      "Twining, Fairlawn, Randle Highlands, Penn Branch, Fort Davis Park, Fort Dupont       1\n",
      "Beacon Hill                                                                          1\n",
      "Bunyola                                                                              1\n",
      "Pasadena                                                                             1\n",
      "Hulme                                                                                1\n",
      "Moreland                                                                             1\n",
      "Westlake                                                                             1\n",
      "Vilafranc de Bonany                                                                  1\n",
      "Richmond upon Thames                                                                 1\n",
      "East Village                                                                         1\n",
      "Excelsior                                                                            1\n",
      "Westerpark                                                                           1\n",
      "Silver Lake                                                                          1\n",
      "Hietzing                                                                             1\n",
      "Dupont Circle, Connecticut Avenue/K Street                                           1\n",
      "Dbling                                                                              1\n",
      "Capitol Hill                                                                         1\n",
      "Buttes-Chaumont                                                                      1\n",
      "Brentwood                                                                            1\n",
      "XI Arvalia/Portuense                                                                 1\n",
      "Innere Stadt                                                                         1\n",
      "Hollywood Hills                                                                      1\n",
      "Valby                                                                                1\n",
      "Dovercourt-Wallace Emerson-Junction                                                  1\n",
      "Whring                                                                              1\n",
      "Bronx                                                                                1\n",
      "ΠΑΤΗΣΙΑ                                                                              1\n",
      "Tempelhof - Schöneberg                                                               1\n",
      "Lake Balboa                                                                          1\n",
      "Brederode                                                                            1\n",
      "Meidling                                                                             1\n",
      "Longsight                                                                            1\n",
      "Fairfax                                                                              1\n",
      "De Pijp - Rivierenbuurt                                                              1\n",
      "Petra                                                                                1\n",
      "Amager Vest                                                                          1\n",
      "Magnolia                                                                             1\n",
      "Central & Western                                                                    1\n",
      "Van Nuys                                                                             1\n",
      "District 18                                                                          1\n",
      "Little Italy                                                                         1\n",
      "ΝΕΟΣ ΚΟΣΜΟΣ                                                                          1\n",
      "Dn Laoghaire-Rathdown                                                                1\n",
      "Lachine                                                                              1\n",
      "West Highland                                                                        1\n",
      "The Beaches                                                                          1\n",
      "78733                                                                                1\n",
      "Beverly Hills                                                                        1\n",
      "Sloan Lake                                                                           1\n",
      "Niagara                                                                              1\n",
      "Sutton                                                                               1\n",
      "ΠΛΑΤΕΙΑ ΑΜΕΡΙΚΗΣ                                                                     1\n",
      "Costitx                                                                              1\n",
      "Hollywood Hills West                                                                 1\n",
      "Rosedale-Moore Park                                                                  1\n",
      "Ballard                                                                              1\n",
      "LISMORE CITY COUNCIL                                                                 1\n",
      "Berkeley                                                                             1\n",
      "Botany Bay                                                                           1\n",
      "Forest                                                                               1\n",
      "Rancho Park                                                                          1\n",
      "Takoma, Brightwood, Manor Park                                                       1\n",
      "Westmount                                                                            1\n",
      "Lake View                                                                            1\n",
      "Cologny                                                                              1\n",
      "XIII Aurelia                                                                         1\n",
      "West Hollywood                                                                       1\n",
      "Maribyrnong                                                                          1\n",
      "Brightwood Park, Crestwood, Petworth                                                 1\n",
      "Southwest Employment Area, Southwest/Waterfront, Fort McNair, Buzzard Point          1\n",
      "Capitol Hill, Lincoln Park                                                           1\n",
      "Los Feliz                                                                            1\n",
      "Beverly Grove                                                                        1\n",
      "Other neighborhoods                                                                  1\n",
      "Malibu                                                                               1\n",
      "Nou Barris                                                                           1\n",
      "Cleveland Heights                                                                    1\n",
      "Inverleith, Goldenacre and Warriston                                                 1\n",
      "Near North Side                                                                      1\n",
      "Church-Yonge Corridor                                                                1\n",
      "Waltham Forest                                                                       1\n",
      "Sint-Andries                                                                         1\n",
      "Adams-Normandie                                                                      1\n",
      "South Dublin                                                                         1\n",
      "Bernal Heights                                                                       1\n",
      "Kensington-Chinatown                                                                 1\n",
      "Nrrebro                                                                              1\n",
      "Theaterbuurt-Meir                                                                    1\n",
      "Margareten                                                                           1\n",
      "Verdun                                                                               1\n",
      "Rogers Park                                                                          1\n",
      "Kalorama Heights, Adams Morgan, Lanier Heights                                       1\n",
      "XV Cassia/Flaminia                                                                   1\n",
      "East Riverside                                                                       1\n",
      "San Fernando                                                                         1\n",
      "Darebin                                                                              1\n",
      "Marratxí                                                                             1\n",
      "Port Phillip                                                                         1\n",
      "Geuzenveld - Slotermeer                                                              1\n",
      "Long Beach                                                                           1\n",
      "Oud-Noord                                                                            1\n",
      "North Sydney                                                                         1\n",
      "Lloret de Vistalegre                                                                 1\n",
      "Lichtenberg                                                                          1\n",
      "Redbridge                                                                            1\n",
      "Ixelles                                                                              1\n",
      "Nob Hill                                                                             1\n",
      "Mid-City                                                                             1\n",
      "Name: Neighbourhood Group Cleansed, dtype: int64\n"
     ]
    }
   ],
   "source": [
    "#print(full_airbnb['Neighbourhood'].unique())\n",
    "print(len(train['Neighbourhood Group Cleansed'].unique()))\n",
    "print(train['Neighbourhood Group Cleansed'].isna().sum())\n",
    "with pd.option_context(\"display.max_rows\", 1000):\n",
    "    print(train['Neighbourhood Group Cleansed'].value_counts())"
   ]
  },
  {
   "cell_type": "markdown",
   "metadata": {},
   "source": [
    "Es cierto que ahora hemos pasado de 49 categorias a 277, pero creemos que esta distribucion es mas realista que la de incluir tantos pisos en la categoria de Other."
   ]
  },
  {
   "cell_type": "code",
   "execution_count": 17,
   "metadata": {
    "scrolled": true
   },
   "outputs": [
    {
     "name": "stdout",
     "output_type": "stream",
     "text": [
      "Apartment             9601\n",
      "House                 1074\n",
      "Condominium            288\n",
      "Bed & Breakfast        275\n",
      "Loft                   247\n",
      "Other                  181\n",
      "Dorm                    35\n",
      "Guesthouse              32\n",
      "Chalet                  19\n",
      "Townhouse               15\n",
      "Hostel                  14\n",
      "Villa                   13\n",
      "Serviced apartment       9\n",
      "Casa particular          3\n",
      "Guest suite              3\n",
      "Boutique hotel           3\n",
      "Boat                     3\n",
      "Camper/RV                3\n",
      "Bungalow                 2\n",
      "Earth House              2\n",
      "Timeshare                1\n",
      "Tent                     1\n",
      "Name: Property Type, dtype: int64\n",
      "Entire home/apt    7184\n",
      "Private room       4484\n",
      "Shared room         156\n",
      "Name: Room Type, dtype: int64\n",
      "strict             4576\n",
      "flexible           3777\n",
      "moderate           3373\n",
      "strict_new           28\n",
      "super_strict_60      25\n",
      "moderate_new         17\n",
      "super_strict_30      16\n",
      "flexible_new         12\n",
      "Name: Cancellation Policy, dtype: int64\n"
     ]
    }
   ],
   "source": [
    "print(train['Property Type'].value_counts())\n",
    "print(train['Room Type'].value_counts())\n",
    "print(train['Cancellation Policy'].value_counts())\n"
   ]
  },
  {
   "cell_type": "markdown",
   "metadata": {},
   "source": [
    "Vamos a dejar las categorias de Property Type en \"Apartment\", \"House\", \"Condominium\", \"Bed & Breakfast\", \"Loft\", \"Dorm\", \"Guesthouse\", \"Chalet\", \"Townhouse\", \"Hostel\" y \"Villa\" que representan mas del 95% del total y todas las demas las incluiremos en la categoría \"Other\".\n",
    "Para ello usaremos la funcion change_cat_to_other"
   ]
  },
  {
   "cell_type": "code",
   "execution_count": 18,
   "metadata": {},
   "outputs": [
    {
     "data": {
      "text/plain": [
       "Apartment          9601\n",
       "House              1074\n",
       "Condominium         288\n",
       "Bed & Breakfast     275\n",
       "Loft                247\n",
       "Other               211\n",
       "Dorm                 35\n",
       "Guesthouse           32\n",
       "Chalet               19\n",
       "Townhouse            15\n",
       "Hostel               14\n",
       "Villa                13\n",
       "Name: Property Type, dtype: int64"
      ]
     },
     "execution_count": 18,
     "metadata": {},
     "output_type": "execute_result"
    }
   ],
   "source": [
    "array_main_cat_property_type = ['Apartment', 'House', 'Condominium', 'Bed & Breakfast', 'Loft', 'Dorm', 'Guesthouse',\n",
    "                               'Chalet', 'Townhouse', 'Hostel', 'Villa']\n",
    "train['Property Type'] = change_cat_to_other(array_main_cat_property_type, train['Property Type'])\n",
    "train['Property Type'].value_counts()"
   ]
  },
  {
   "cell_type": "markdown",
   "metadata": {},
   "source": [
    "De la misma manera vamos a dejar las categorias de Cancellation Policy en \"strict\", \"flexible\" y \"moderate\", que representan mas del 96% del total y todas las demas las incluiremos en la categoría \"Other\".\n",
    "Usamos nuevamente la funcion change_cat_to_other"
   ]
  },
  {
   "cell_type": "code",
   "execution_count": 19,
   "metadata": {},
   "outputs": [
    {
     "data": {
      "text/plain": [
       "strict      4576\n",
       "flexible    3777\n",
       "moderate    3373\n",
       "Other         98\n",
       "Name: Cancellation Policy, dtype: int64"
      ]
     },
     "execution_count": 19,
     "metadata": {},
     "output_type": "execute_result"
    }
   ],
   "source": [
    "array_main_cat_cancellation_policy = ['strict', 'flexible', 'moderate']\n",
    "train['Cancellation Policy'] = change_cat_to_other(array_main_cat_cancellation_policy, train['Cancellation Policy'])\n",
    "train['Cancellation Policy'].value_counts()"
   ]
  },
  {
   "cell_type": "markdown",
   "metadata": {},
   "source": [
    "## Codificacion de las variables categoricas (Mean encoding)\n",
    "Una vez reducidas las categorias de las variables categoricas, las convertiremos en numericas mediante el mecanismo de mean\n",
    "encoding.\n",
    "Guardamos las transformacion hechas en Train para reproducirlas en Test con un replace o un map sin volver a aplicar el mean encoding para evitar que los datos de test infulyan en el modelo.\n",
    "Para aplicar le metodo Mean Encoding es conveniente que no haya NaNs en la variable Target (Price), por ello imputaremos esos valores con la media de los precios."
   ]
  },
  {
   "cell_type": "code",
   "execution_count": 20,
   "metadata": {},
   "outputs": [
    {
     "name": "stdout",
     "output_type": "stream",
     "text": [
      "14\n"
     ]
    }
   ],
   "source": [
    "print(train['Price'].isna().sum())"
   ]
  },
  {
   "cell_type": "code",
   "execution_count": 21,
   "metadata": {},
   "outputs": [],
   "source": [
    "y_train_mean = np.mean(train['Price'])\n",
    "train['Price'] = train['Price'].fillna(y_train_mean)"
   ]
  },
  {
   "cell_type": "code",
   "execution_count": 22,
   "metadata": {},
   "outputs": [
    {
     "name": "stdout",
     "output_type": "stream",
     "text": [
      "0\n"
     ]
    }
   ],
   "source": [
    "print(train['Price'].isna().sum())"
   ]
  },
  {
   "cell_type": "code",
   "execution_count": 23,
   "metadata": {},
   "outputs": [],
   "source": [
    "#Property Type\n",
    "mean_encode_property_type = train.groupby('Property Type')['Price'].mean()\n",
    "train.loc[:,'Property Type'] = train['Property Type'].map(mean_encode_property_type)\n",
    "\n",
    "#Cancellation Policy \n",
    "mean_encode_cancellation_policy = train.groupby('Cancellation Policy')['Price'].mean()\n",
    "train.loc[:,'Cancellation Policy'] = train['Cancellation Policy'].map(mean_encode_cancellation_policy)\n",
    "\n",
    "#Room Type\n",
    "mean_encode_room_type = train.groupby('Room Type')['Price'].mean()\n",
    "train.loc[:,'Room Type'] = train['Room Type'].map(mean_encode_room_type)\n",
    "\n",
    "#Neighbourhood Cleansed\n",
    "mean_encode_neigh = train.groupby('Neighbourhood Cleansed')['Price'].mean()\n",
    "train.loc[:,'Neighbourhood Cleansed'] = train['Neighbourhood Cleansed'].map(mean_encode_neigh)\n",
    "\n",
    "#Neighbourhood Group Cleansed\n",
    "mean_encode_neigh_group = train.groupby('Neighbourhood Group Cleansed')['Price'].mean()\n",
    "train.loc[:,'Neighbourhood Group Cleansed'] = train['Neighbourhood Group Cleansed'].map(mean_encode_neigh_group)\n"
   ]
  },
  {
   "cell_type": "markdown",
   "metadata": {},
   "source": [
    "Antes de pasar a la correlacion de variables llevemos a cabo un análisis rapido de las caracteristicas que nos quedan"
   ]
  },
  {
   "cell_type": "code",
   "execution_count": 24,
   "metadata": {
    "scrolled": true
   },
   "outputs": [
    {
     "data": {
      "text/html": [
       "<div>\n",
       "<style scoped>\n",
       "    .dataframe tbody tr th:only-of-type {\n",
       "        vertical-align: middle;\n",
       "    }\n",
       "\n",
       "    .dataframe tbody tr th {\n",
       "        vertical-align: top;\n",
       "    }\n",
       "\n",
       "    .dataframe thead th {\n",
       "        text-align: right;\n",
       "    }\n",
       "</style>\n",
       "<table border=\"1\" class=\"dataframe\">\n",
       "  <thead>\n",
       "    <tr style=\"text-align: right;\">\n",
       "      <th></th>\n",
       "      <th>count</th>\n",
       "      <th>mean</th>\n",
       "      <th>std</th>\n",
       "      <th>min</th>\n",
       "      <th>25%</th>\n",
       "      <th>50%</th>\n",
       "      <th>75%</th>\n",
       "      <th>max</th>\n",
       "    </tr>\n",
       "  </thead>\n",
       "  <tbody>\n",
       "    <tr>\n",
       "      <td>Neighbourhood Cleansed</td>\n",
       "      <td>11824.0</td>\n",
       "      <td>73.702794</td>\n",
       "      <td>37.713752</td>\n",
       "      <td>16.000000</td>\n",
       "      <td>59.843750</td>\n",
       "      <td>67.610673</td>\n",
       "      <td>82.065898</td>\n",
       "      <td>999.000000</td>\n",
       "    </tr>\n",
       "    <tr>\n",
       "      <td>Neighbourhood Group Cleansed</td>\n",
       "      <td>11824.0</td>\n",
       "      <td>73.702794</td>\n",
       "      <td>33.882569</td>\n",
       "      <td>20.000000</td>\n",
       "      <td>69.553193</td>\n",
       "      <td>73.130046</td>\n",
       "      <td>73.276150</td>\n",
       "      <td>999.000000</td>\n",
       "    </tr>\n",
       "    <tr>\n",
       "      <td>Property Type</td>\n",
       "      <td>11824.0</td>\n",
       "      <td>73.702794</td>\n",
       "      <td>11.554603</td>\n",
       "      <td>39.876364</td>\n",
       "      <td>72.130541</td>\n",
       "      <td>72.130541</td>\n",
       "      <td>72.130541</td>\n",
       "      <td>257.338891</td>\n",
       "    </tr>\n",
       "    <tr>\n",
       "      <td>Room Type</td>\n",
       "      <td>11824.0</td>\n",
       "      <td>73.702794</td>\n",
       "      <td>27.069142</td>\n",
       "      <td>31.692308</td>\n",
       "      <td>40.334613</td>\n",
       "      <td>95.442293</td>\n",
       "      <td>95.442293</td>\n",
       "      <td>95.442293</td>\n",
       "    </tr>\n",
       "    <tr>\n",
       "      <td>Accommodates</td>\n",
       "      <td>11824.0</td>\n",
       "      <td>3.276641</td>\n",
       "      <td>2.106127</td>\n",
       "      <td>1.000000</td>\n",
       "      <td>2.000000</td>\n",
       "      <td>3.000000</td>\n",
       "      <td>4.000000</td>\n",
       "      <td>16.000000</td>\n",
       "    </tr>\n",
       "    <tr>\n",
       "      <td>Bathrooms</td>\n",
       "      <td>11779.0</td>\n",
       "      <td>1.286442</td>\n",
       "      <td>0.667359</td>\n",
       "      <td>0.000000</td>\n",
       "      <td>1.000000</td>\n",
       "      <td>1.000000</td>\n",
       "      <td>1.000000</td>\n",
       "      <td>8.000000</td>\n",
       "    </tr>\n",
       "    <tr>\n",
       "      <td>Bedrooms</td>\n",
       "      <td>11806.0</td>\n",
       "      <td>1.346773</td>\n",
       "      <td>0.909841</td>\n",
       "      <td>0.000000</td>\n",
       "      <td>1.000000</td>\n",
       "      <td>1.000000</td>\n",
       "      <td>2.000000</td>\n",
       "      <td>10.000000</td>\n",
       "    </tr>\n",
       "    <tr>\n",
       "      <td>Beds</td>\n",
       "      <td>11789.0</td>\n",
       "      <td>2.051065</td>\n",
       "      <td>1.641454</td>\n",
       "      <td>1.000000</td>\n",
       "      <td>1.000000</td>\n",
       "      <td>2.000000</td>\n",
       "      <td>2.000000</td>\n",
       "      <td>16.000000</td>\n",
       "    </tr>\n",
       "    <tr>\n",
       "      <td>Price</td>\n",
       "      <td>11824.0</td>\n",
       "      <td>73.702794</td>\n",
       "      <td>72.161084</td>\n",
       "      <td>9.000000</td>\n",
       "      <td>34.000000</td>\n",
       "      <td>55.000000</td>\n",
       "      <td>86.000000</td>\n",
       "      <td>999.000000</td>\n",
       "    </tr>\n",
       "    <tr>\n",
       "      <td>Security Deposit</td>\n",
       "      <td>5035.0</td>\n",
       "      <td>190.150745</td>\n",
       "      <td>117.420048</td>\n",
       "      <td>0.000000</td>\n",
       "      <td>100.000000</td>\n",
       "      <td>150.000000</td>\n",
       "      <td>200.000000</td>\n",
       "      <td>990.000000</td>\n",
       "    </tr>\n",
       "    <tr>\n",
       "      <td>Cleaning Fee</td>\n",
       "      <td>6967.0</td>\n",
       "      <td>32.152146</td>\n",
       "      <td>32.030358</td>\n",
       "      <td>0.000000</td>\n",
       "      <td>15.000000</td>\n",
       "      <td>25.000000</td>\n",
       "      <td>40.000000</td>\n",
       "      <td>662.000000</td>\n",
       "    </tr>\n",
       "    <tr>\n",
       "      <td>Guests Included</td>\n",
       "      <td>11824.0</td>\n",
       "      <td>1.586181</td>\n",
       "      <td>1.182357</td>\n",
       "      <td>1.000000</td>\n",
       "      <td>1.000000</td>\n",
       "      <td>1.000000</td>\n",
       "      <td>2.000000</td>\n",
       "      <td>16.000000</td>\n",
       "    </tr>\n",
       "    <tr>\n",
       "      <td>Extra People</td>\n",
       "      <td>11824.0</td>\n",
       "      <td>7.639800</td>\n",
       "      <td>12.490317</td>\n",
       "      <td>0.000000</td>\n",
       "      <td>0.000000</td>\n",
       "      <td>0.000000</td>\n",
       "      <td>15.000000</td>\n",
       "      <td>500.000000</td>\n",
       "    </tr>\n",
       "    <tr>\n",
       "      <td>Minimum Nights</td>\n",
       "      <td>11824.0</td>\n",
       "      <td>3.111806</td>\n",
       "      <td>13.370049</td>\n",
       "      <td>1.000000</td>\n",
       "      <td>1.000000</td>\n",
       "      <td>2.000000</td>\n",
       "      <td>3.000000</td>\n",
       "      <td>1125.000000</td>\n",
       "    </tr>\n",
       "    <tr>\n",
       "      <td>Maximum Nights</td>\n",
       "      <td>11824.0</td>\n",
       "      <td>964.132358</td>\n",
       "      <td>9387.839981</td>\n",
       "      <td>1.000000</td>\n",
       "      <td>365.000000</td>\n",
       "      <td>1125.000000</td>\n",
       "      <td>1125.000000</td>\n",
       "      <td>1000000.000000</td>\n",
       "    </tr>\n",
       "    <tr>\n",
       "      <td>Availability 30</td>\n",
       "      <td>11824.0</td>\n",
       "      <td>8.973275</td>\n",
       "      <td>9.345545</td>\n",
       "      <td>0.000000</td>\n",
       "      <td>0.000000</td>\n",
       "      <td>6.000000</td>\n",
       "      <td>14.000000</td>\n",
       "      <td>30.000000</td>\n",
       "    </tr>\n",
       "    <tr>\n",
       "      <td>Availability 60</td>\n",
       "      <td>11824.0</td>\n",
       "      <td>22.990020</td>\n",
       "      <td>19.753682</td>\n",
       "      <td>0.000000</td>\n",
       "      <td>4.000000</td>\n",
       "      <td>20.000000</td>\n",
       "      <td>38.000000</td>\n",
       "      <td>60.000000</td>\n",
       "    </tr>\n",
       "    <tr>\n",
       "      <td>Availability 90</td>\n",
       "      <td>11824.0</td>\n",
       "      <td>39.863836</td>\n",
       "      <td>29.658085</td>\n",
       "      <td>0.000000</td>\n",
       "      <td>12.000000</td>\n",
       "      <td>38.000000</td>\n",
       "      <td>65.000000</td>\n",
       "      <td>90.000000</td>\n",
       "    </tr>\n",
       "    <tr>\n",
       "      <td>Availability 365</td>\n",
       "      <td>11824.0</td>\n",
       "      <td>202.482747</td>\n",
       "      <td>127.946375</td>\n",
       "      <td>0.000000</td>\n",
       "      <td>78.000000</td>\n",
       "      <td>242.000000</td>\n",
       "      <td>319.000000</td>\n",
       "      <td>365.000000</td>\n",
       "    </tr>\n",
       "    <tr>\n",
       "      <td>Number of Reviews</td>\n",
       "      <td>11824.0</td>\n",
       "      <td>22.589394</td>\n",
       "      <td>37.874278</td>\n",
       "      <td>0.000000</td>\n",
       "      <td>1.000000</td>\n",
       "      <td>7.000000</td>\n",
       "      <td>27.000000</td>\n",
       "      <td>356.000000</td>\n",
       "    </tr>\n",
       "    <tr>\n",
       "      <td>Review Scores Rating</td>\n",
       "      <td>9173.0</td>\n",
       "      <td>91.687452</td>\n",
       "      <td>9.028574</td>\n",
       "      <td>20.000000</td>\n",
       "      <td>89.000000</td>\n",
       "      <td>94.000000</td>\n",
       "      <td>98.000000</td>\n",
       "      <td>100.000000</td>\n",
       "    </tr>\n",
       "    <tr>\n",
       "      <td>Review Scores Accuracy</td>\n",
       "      <td>9152.0</td>\n",
       "      <td>9.415210</td>\n",
       "      <td>0.925849</td>\n",
       "      <td>2.000000</td>\n",
       "      <td>9.000000</td>\n",
       "      <td>10.000000</td>\n",
       "      <td>10.000000</td>\n",
       "      <td>10.000000</td>\n",
       "    </tr>\n",
       "    <tr>\n",
       "      <td>Review Scores Cleanliness</td>\n",
       "      <td>9158.0</td>\n",
       "      <td>9.324088</td>\n",
       "      <td>1.003331</td>\n",
       "      <td>2.000000</td>\n",
       "      <td>9.000000</td>\n",
       "      <td>10.000000</td>\n",
       "      <td>10.000000</td>\n",
       "      <td>10.000000</td>\n",
       "    </tr>\n",
       "    <tr>\n",
       "      <td>Review Scores Checkin</td>\n",
       "      <td>9149.0</td>\n",
       "      <td>9.624549</td>\n",
       "      <td>0.803586</td>\n",
       "      <td>2.000000</td>\n",
       "      <td>9.000000</td>\n",
       "      <td>10.000000</td>\n",
       "      <td>10.000000</td>\n",
       "      <td>10.000000</td>\n",
       "    </tr>\n",
       "    <tr>\n",
       "      <td>Review Scores Communication</td>\n",
       "      <td>9157.0</td>\n",
       "      <td>9.649121</td>\n",
       "      <td>0.759505</td>\n",
       "      <td>2.000000</td>\n",
       "      <td>9.000000</td>\n",
       "      <td>10.000000</td>\n",
       "      <td>10.000000</td>\n",
       "      <td>10.000000</td>\n",
       "    </tr>\n",
       "    <tr>\n",
       "      <td>Review Scores Location</td>\n",
       "      <td>9146.0</td>\n",
       "      <td>9.537284</td>\n",
       "      <td>0.763133</td>\n",
       "      <td>2.000000</td>\n",
       "      <td>9.000000</td>\n",
       "      <td>10.000000</td>\n",
       "      <td>10.000000</td>\n",
       "      <td>10.000000</td>\n",
       "    </tr>\n",
       "    <tr>\n",
       "      <td>Review Scores Value</td>\n",
       "      <td>9146.0</td>\n",
       "      <td>9.214301</td>\n",
       "      <td>0.952104</td>\n",
       "      <td>2.000000</td>\n",
       "      <td>9.000000</td>\n",
       "      <td>9.000000</td>\n",
       "      <td>10.000000</td>\n",
       "      <td>10.000000</td>\n",
       "    </tr>\n",
       "    <tr>\n",
       "      <td>Cancellation Policy</td>\n",
       "      <td>11824.0</td>\n",
       "      <td>73.702794</td>\n",
       "      <td>11.526667</td>\n",
       "      <td>64.480862</td>\n",
       "      <td>64.480862</td>\n",
       "      <td>64.849040</td>\n",
       "      <td>86.902931</td>\n",
       "      <td>117.489796</td>\n",
       "    </tr>\n",
       "    <tr>\n",
       "      <td>Reviews per Month</td>\n",
       "      <td>9293.0</td>\n",
       "      <td>1.868515</td>\n",
       "      <td>1.862982</td>\n",
       "      <td>0.020000</td>\n",
       "      <td>0.460000</td>\n",
       "      <td>1.200000</td>\n",
       "      <td>2.780000</td>\n",
       "      <td>17.210000</td>\n",
       "    </tr>\n",
       "  </tbody>\n",
       "</table>\n",
       "</div>"
      ],
      "text/plain": [
       "                                count        mean          std        min  \\\n",
       "Neighbourhood Cleansed        11824.0   73.702794    37.713752  16.000000   \n",
       "Neighbourhood Group Cleansed  11824.0   73.702794    33.882569  20.000000   \n",
       "Property Type                 11824.0   73.702794    11.554603  39.876364   \n",
       "Room Type                     11824.0   73.702794    27.069142  31.692308   \n",
       "Accommodates                  11824.0    3.276641     2.106127   1.000000   \n",
       "Bathrooms                     11779.0    1.286442     0.667359   0.000000   \n",
       "Bedrooms                      11806.0    1.346773     0.909841   0.000000   \n",
       "Beds                          11789.0    2.051065     1.641454   1.000000   \n",
       "Price                         11824.0   73.702794    72.161084   9.000000   \n",
       "Security Deposit               5035.0  190.150745   117.420048   0.000000   \n",
       "Cleaning Fee                   6967.0   32.152146    32.030358   0.000000   \n",
       "Guests Included               11824.0    1.586181     1.182357   1.000000   \n",
       "Extra People                  11824.0    7.639800    12.490317   0.000000   \n",
       "Minimum Nights                11824.0    3.111806    13.370049   1.000000   \n",
       "Maximum Nights                11824.0  964.132358  9387.839981   1.000000   \n",
       "Availability 30               11824.0    8.973275     9.345545   0.000000   \n",
       "Availability 60               11824.0   22.990020    19.753682   0.000000   \n",
       "Availability 90               11824.0   39.863836    29.658085   0.000000   \n",
       "Availability 365              11824.0  202.482747   127.946375   0.000000   \n",
       "Number of Reviews             11824.0   22.589394    37.874278   0.000000   \n",
       "Review Scores Rating           9173.0   91.687452     9.028574  20.000000   \n",
       "Review Scores Accuracy         9152.0    9.415210     0.925849   2.000000   \n",
       "Review Scores Cleanliness      9158.0    9.324088     1.003331   2.000000   \n",
       "Review Scores Checkin          9149.0    9.624549     0.803586   2.000000   \n",
       "Review Scores Communication    9157.0    9.649121     0.759505   2.000000   \n",
       "Review Scores Location         9146.0    9.537284     0.763133   2.000000   \n",
       "Review Scores Value            9146.0    9.214301     0.952104   2.000000   \n",
       "Cancellation Policy           11824.0   73.702794    11.526667  64.480862   \n",
       "Reviews per Month              9293.0    1.868515     1.862982   0.020000   \n",
       "\n",
       "                                     25%          50%          75%  \\\n",
       "Neighbourhood Cleansed         59.843750    67.610673    82.065898   \n",
       "Neighbourhood Group Cleansed   69.553193    73.130046    73.276150   \n",
       "Property Type                  72.130541    72.130541    72.130541   \n",
       "Room Type                      40.334613    95.442293    95.442293   \n",
       "Accommodates                    2.000000     3.000000     4.000000   \n",
       "Bathrooms                       1.000000     1.000000     1.000000   \n",
       "Bedrooms                        1.000000     1.000000     2.000000   \n",
       "Beds                            1.000000     2.000000     2.000000   \n",
       "Price                          34.000000    55.000000    86.000000   \n",
       "Security Deposit              100.000000   150.000000   200.000000   \n",
       "Cleaning Fee                   15.000000    25.000000    40.000000   \n",
       "Guests Included                 1.000000     1.000000     2.000000   \n",
       "Extra People                    0.000000     0.000000    15.000000   \n",
       "Minimum Nights                  1.000000     2.000000     3.000000   \n",
       "Maximum Nights                365.000000  1125.000000  1125.000000   \n",
       "Availability 30                 0.000000     6.000000    14.000000   \n",
       "Availability 60                 4.000000    20.000000    38.000000   \n",
       "Availability 90                12.000000    38.000000    65.000000   \n",
       "Availability 365               78.000000   242.000000   319.000000   \n",
       "Number of Reviews               1.000000     7.000000    27.000000   \n",
       "Review Scores Rating           89.000000    94.000000    98.000000   \n",
       "Review Scores Accuracy          9.000000    10.000000    10.000000   \n",
       "Review Scores Cleanliness       9.000000    10.000000    10.000000   \n",
       "Review Scores Checkin           9.000000    10.000000    10.000000   \n",
       "Review Scores Communication     9.000000    10.000000    10.000000   \n",
       "Review Scores Location          9.000000    10.000000    10.000000   \n",
       "Review Scores Value             9.000000     9.000000    10.000000   \n",
       "Cancellation Policy            64.480862    64.849040    86.902931   \n",
       "Reviews per Month               0.460000     1.200000     2.780000   \n",
       "\n",
       "                                         max  \n",
       "Neighbourhood Cleansed            999.000000  \n",
       "Neighbourhood Group Cleansed      999.000000  \n",
       "Property Type                     257.338891  \n",
       "Room Type                          95.442293  \n",
       "Accommodates                       16.000000  \n",
       "Bathrooms                           8.000000  \n",
       "Bedrooms                           10.000000  \n",
       "Beds                               16.000000  \n",
       "Price                             999.000000  \n",
       "Security Deposit                  990.000000  \n",
       "Cleaning Fee                      662.000000  \n",
       "Guests Included                    16.000000  \n",
       "Extra People                      500.000000  \n",
       "Minimum Nights                   1125.000000  \n",
       "Maximum Nights                1000000.000000  \n",
       "Availability 30                    30.000000  \n",
       "Availability 60                    60.000000  \n",
       "Availability 90                    90.000000  \n",
       "Availability 365                  365.000000  \n",
       "Number of Reviews                 356.000000  \n",
       "Review Scores Rating              100.000000  \n",
       "Review Scores Accuracy             10.000000  \n",
       "Review Scores Cleanliness          10.000000  \n",
       "Review Scores Checkin              10.000000  \n",
       "Review Scores Communication        10.000000  \n",
       "Review Scores Location             10.000000  \n",
       "Review Scores Value                10.000000  \n",
       "Cancellation Policy               117.489796  \n",
       "Reviews per Month                  17.210000  "
      ]
     },
     "execution_count": 24,
     "metadata": {},
     "output_type": "execute_result"
    }
   ],
   "source": [
    "train.describe().T"
   ]
  },
  {
   "cell_type": "code",
   "execution_count": 25,
   "metadata": {},
   "outputs": [
    {
     "data": {
      "text/plain": [
       "0"
      ]
     },
     "execution_count": 25,
     "metadata": {},
     "output_type": "execute_result"
    }
   ],
   "source": [
    "train['Availability 30'].value_counts()\n",
    "train['Availability 30'].isna().sum()"
   ]
  },
  {
   "cell_type": "markdown",
   "metadata": {},
   "source": [
    "## Correlacion de variables\n",
    "Tengamos en cuenta que "
   ]
  },
  {
   "cell_type": "code",
   "execution_count": 26,
   "metadata": {},
   "outputs": [
    {
     "data": {
      "image/png": "[encoded data removed]",
      "text/plain": [
       "<Figure size 864x720 with 2 Axes>"
      ]
     },
     "metadata": {
      "needs_background": "light"
     },
     "output_type": "display_data"
    }
   ],
   "source": [
    "import seaborn as sns\n",
    "\n",
    "# Compute the correlation matrix\n",
    "corr = np.abs(train.drop(['Price'], axis=1).corr())\n",
    "\n",
    "# Generate a mask for the upper triangle\n",
    "mask = np.zeros_like(corr, dtype=np.bool)\n",
    "mask[np.triu_indices_from(mask)] = True\n",
    "\n",
    "# Set up the matplotlib figure\n",
    "f, ax = plt.subplots(figsize=(12, 10))\n",
    "\n",
    "# Draw the heatmap with the mask and correct aspect ratio\n",
    "sns.heatmap(corr, mask=mask,vmin = 0.0, vmax=1.0, center=0.5,\n",
    "            linewidths=.1, cmap=\"YlGnBu\", cbar_kws={\"shrink\": .8})\n",
    "\n",
    "plt.show()"
   ]
  },
  {
   "cell_type": "markdown",
   "metadata": {},
   "source": [
    "Pintemos algunas variables"
   ]
  },
  {
   "cell_type": "code",
   "execution_count": 27,
   "metadata": {
    "scrolled": true
   },
   "outputs": [
    {
     "data": {
      "image/png": "[encoded data removed]",
      "text/plain": [
       "<Figure size 1080x360 with 4 Axes>"
      ]
     },
     "metadata": {
      "needs_background": "light"
     },
     "output_type": "display_data"
    }
   ],
   "source": [
    "plt.figure(figsize=(15, 5))\n",
    "\n",
    "plt.subplot(1,4,1)\n",
    "train['Accommodates'].plot.hist(alpha=0.75, bins=25, grid = True)\n",
    "#plt.axis([0, 10, 0, 10000])\n",
    "plt.xlabel('Accommodates')\n",
    "\n",
    "plt.subplot(1,4,2)\n",
    "train['Bedrooms'].plot.hist(alpha=0.5, bins=15, grid = True)\n",
    "plt.xlabel('Bedrooms')\n",
    "\n",
    "plt.subplot(1,4,3)\n",
    "train['Beds'].plot.hist(alpha=0.5, bins=25, grid = False)\n",
    "plt.xlabel('Beds')\n",
    "\n",
    "plt.subplot(1,4,4)\n",
    "train['Bathrooms'].plot.hist(alpha=0.5, bins=25, grid = False)\n",
    "plt.xlabel('Bathrooms')\n",
    "\n",
    "plt.show()"
   ]
  },
  {
   "cell_type": "markdown",
   "metadata": {},
   "source": [
    "A la vista de la grafica de correlacion y siendo un poco generosos con las variables a eliminar para simplificar el modelo, podemos deducir lo siguiente:\n",
    "1. **Accommodates** tiene una fuerte correlacion con Bedrooms, Beds y moderada con Guests Included\n",
    "2. **Availability 30** tiene fuerte correlacion con Availability 60 Availability 90 y moderada con Availability 365\n",
    "3. **Review Scores Rating** tiene una fuerte correlacion con Review Scores Accuracy, Review Scores Cleanliness, Review Scores Checkin, Review Scores Communication, Review Scores Value y moderada con Review Scores Location.\n",
    "4. **Number of Reviews** tiene fuerte  correlacion con Reviews per Month\n",
    "5. **Neighbourhood Cleansed y Neighbourhood Group Cleansed** muestran una fuerte correlacion, pero de momento dejamos las dos para analizar mediante el filtrado de caracterisdtcas cual de las dos influye mas en la regresion que tenemos que plantear."
   ]
  },
  {
   "cell_type": "code",
   "execution_count": 28,
   "metadata": {},
   "outputs": [
    {
     "data": {
      "text/plain": [
       "(11824, 16)"
      ]
     },
     "execution_count": 28,
     "metadata": {},
     "output_type": "execute_result"
    }
   ],
   "source": [
    "#Vamos a eliminar todas estas variables del dataset de entrenamiento\n",
    "drop_corr = ['Bedrooms', 'Beds', 'Guests Included', 'Availability 60', 'Availability 90', 'Availability 365',\n",
    "             'Review Scores Accuracy', 'Review Scores Cleanliness', 'Review Scores Checkin', 'Review Scores Communication',\n",
    "             'Review Scores Value', 'Review Scores Location', 'Reviews per Month']\n",
    "train.drop(drop_corr, axis=1, inplace=True)\n",
    "train.shape"
   ]
  },
  {
   "cell_type": "markdown",
   "metadata": {},
   "source": [
    "## Separacion variable dependiente \n",
    "Separemos el dataset train entre la varible dependiente (y_train) y el resto de variables independientes (X_train)\n"
   ]
  },
  {
   "cell_type": "code",
   "execution_count": 29,
   "metadata": {},
   "outputs": [],
   "source": [
    "y_train = train['Price']\n",
    "X_train= train.drop(['Price'], axis=1)\n"
   ]
  },
  {
   "cell_type": "markdown",
   "metadata": {},
   "source": [
    "El siguiente paso es aplicar los metodos de filtrados para regresion, pero esto solo se pueden aplicar sobre variables que no contienen valores NaN.\n",
    "por tanto analicemos que variables tienen valores NaN y llevemos a cabo el proceso de imputacion, aprovechare para analizar algun posible outlier\n",
    "\n",
    "Para hacerlo vamos a aplicar los siguientes comandos a todas las variables que quedan:\n",
    "```\n",
    "print(len(train['campo'].unique()))\n",
    "print(train['campo'].isna().sum())\n",
    "print(train['campo'].value_counts())\n",
    "\n",
    "```\n",
    "\n",
    "Haciendo esto vemos que los unicos campos que contienen NaNs son:\n",
    "- Bathroom (45) Imputamos la media\n",
    "- Security Deposit (6798). Es mas de la mitad de los regitros por lo que lo eliminamos\n",
    "- Cleaning Fee (4857). Imputamnos un cero. asumismos que quien no tiene ese dato es porque no hay gastos de limpieza.\n",
    "- Review Scores Rating (2651). Imputamos la media."
   ]
  },
  {
   "cell_type": "code",
   "execution_count": 30,
   "metadata": {},
   "outputs": [],
   "source": [
    "X_train.drop('Security Deposit', axis=1, inplace=True)"
   ]
  },
  {
   "cell_type": "code",
   "execution_count": 31,
   "metadata": {},
   "outputs": [
    {
     "data": {
      "text/plain": [
       "91.68745230567971"
      ]
     },
     "execution_count": 31,
     "metadata": {},
     "output_type": "execute_result"
    }
   ],
   "source": [
    "mean_bathroom = np.mean(train['Bathrooms'])\n",
    "mean_review = np.mean(train['Review Scores Rating'])\n",
    "mean_review"
   ]
  },
  {
   "cell_type": "code",
   "execution_count": 32,
   "metadata": {},
   "outputs": [],
   "source": [
    "X_train['Bathrooms'] = train['Bathrooms'].fillna(mean_bathroom)\n",
    "X_train['Cleaning Fee'] = train['Cleaning Fee'].fillna(0)\n",
    "X_train['Review Scores Rating'] = train['Review Scores Rating'].fillna(mean_review)"
   ]
  },
  {
   "cell_type": "markdown",
   "metadata": {},
   "source": [
    "## Variable objetivo\n",
    "Por ultimo analizamos la variable objetivo"
   ]
  },
  {
   "cell_type": "code",
   "execution_count": 33,
   "metadata": {
    "scrolled": true
   },
   "outputs": [
    {
     "data": {
      "text/plain": [
       "count    11824.000000\n",
       "mean        73.702794\n",
       "std         72.161084\n",
       "min          9.000000\n",
       "25%         34.000000\n",
       "50%         55.000000\n",
       "75%         86.000000\n",
       "max        999.000000\n",
       "Name: Price, dtype: float64"
      ]
     },
     "execution_count": 33,
     "metadata": {},
     "output_type": "execute_result"
    }
   ],
   "source": [
    "y_train.describe()"
   ]
  },
  {
   "cell_type": "code",
   "execution_count": 34,
   "metadata": {},
   "outputs": [
    {
     "name": "stdout",
     "output_type": "stream",
     "text": [
      "348\n",
      "0\n",
      "50.0     513\n",
      "60.0     441\n",
      "30.0     437\n",
      "25.0     433\n",
      "35.0     381\n",
      "        ... \n",
      "356.0      1\n",
      "252.0      1\n",
      "154.0      1\n",
      "222.0      1\n",
      "434.0      1\n",
      "Name: Price, Length: 348, dtype: int64\n",
      "73.70279424216767\n"
     ]
    }
   ],
   "source": [
    "print(len(y_train.unique()))\n",
    "print(y_train.isna().sum())\n",
    "print(y_train.value_counts())\n",
    "print(np.mean(y_train)) "
   ]
  },
  {
   "cell_type": "code",
   "execution_count": 35,
   "metadata": {},
   "outputs": [
    {
     "name": "stdout",
     "output_type": "stream",
     "text": [
      "<class 'pandas.core.frame.DataFrame'>\n",
      "Int64Index: 11824 entries, 2472 to 2732\n",
      "Data columns (total 14 columns):\n",
      "Neighbourhood Cleansed          11824 non-null float64\n",
      "Neighbourhood Group Cleansed    11824 non-null float64\n",
      "Property Type                   11824 non-null float64\n",
      "Room Type                       11824 non-null float64\n",
      "Accommodates                    11824 non-null int64\n",
      "Bathrooms                       11824 non-null float64\n",
      "Cleaning Fee                    11824 non-null float64\n",
      "Extra People                    11824 non-null int64\n",
      "Minimum Nights                  11824 non-null int64\n",
      "Maximum Nights                  11824 non-null int64\n",
      "Availability 30                 11824 non-null int64\n",
      "Number of Reviews               11824 non-null int64\n",
      "Review Scores Rating            11824 non-null float64\n",
      "Cancellation Policy             11824 non-null float64\n",
      "dtypes: float64(8), int64(6)\n",
      "memory usage: 1.4 MB\n"
     ]
    }
   ],
   "source": [
    "X_train.info()"
   ]
  },
  {
   "cell_type": "markdown",
   "metadata": {},
   "source": [
    "## Filtrado para regresion\n",
    "Con las 13 variables que me quedan aplico los metodos de fitrado **f_regresion** y **mutual_info_regresion**"
   ]
  },
  {
   "cell_type": "code",
   "execution_count": 36,
   "metadata": {},
   "outputs": [],
   "source": [
    "from sklearn.feature_selection import f_regression, mutual_info_regression\n",
    "f_test, _ = f_regression(X_train, y_train)\n",
    "f_test /= np.max(f_test)\n",
    "mi = mutual_info_regression(X_train, y_train)\n",
    "mi /= np.max(mi)"
   ]
  },
  {
   "cell_type": "markdown",
   "metadata": {},
   "source": [
    "Mostremos esta informacion en forma de grafica"
   ]
  },
  {
   "cell_type": "code",
   "execution_count": 37,
   "metadata": {
    "scrolled": false
   },
   "outputs": [
    {
     "data": {
      "image/png": "[encoded data removed]",
      "text/plain": [
       "<Figure size 2160x720 with 2 Axes>"
      ]
     },
     "metadata": {
      "needs_background": "light"
     },
     "output_type": "display_data"
    }
   ],
   "source": [
    "featureNames = list(X_train.columns)\n",
    "\n",
    "plt.figure(figsize=(30, 10))\n",
    "\n",
    "plt.subplot(1,2,1)\n",
    "plt.bar(range(X_train.shape[1]),f_test,  align=\"center\")\n",
    "plt.xticks(range(X_train.shape[1]),featureNames, rotation = 90)\n",
    "plt.xlabel('features')\n",
    "plt.ylabel('Ranking')\n",
    "plt.title('$F-test$ score')\n",
    "\n",
    "\n",
    "plt.subplot(1,2,2)\n",
    "plt.bar(range(X_train.shape[1]),mi,  align=\"center\")\n",
    "plt.xticks(range(X_train.shape[1]),featureNames, rotation = 90)\n",
    "plt.xlabel('features')\n",
    "plt.ylabel('Ranking')\n",
    "plt.title('Mutual information score')\n",
    "\n",
    "plt.show()"
   ]
  },
  {
   "cell_type": "markdown",
   "metadata": {},
   "source": [
    "A la vista de las graficas y de los valores de f_test y mi las variables que mas estan impactando en la variable objetivo son:\n",
    "- Neighbourhood Cleansed (quitamos la grupal pues como ya habiamos visto esta fuertemente correlada con esta)\n",
    "- Room Type\n",
    "- Accommodates\n",
    "- Bathrooms\n",
    "- Cleaning Fee\n",
    "- Extra People\n",
    "- Minimum Nigths\n",
    "- Availability 30\n",
    "- cancelation Policy\n",
    "\n",
    "Como era de esperar el barrio, el tipo de habitacion y las personas que pueden ocupar la casa son los parametros que mas afectan al precio de la casa.\n",
    "\n",
    "**Me gustaria apuntar aqui que inicialmente habia hecho una prueba haciendo limpieza de la varibale \"Neighbourhood Cleansed\" poniendo en la categoria 'Others' todos aquellos barrios por debajo de una frecuencia determinada y la influencia de esa variable era mucho menor**"
   ]
  },
  {
   "cell_type": "markdown",
   "metadata": {},
   "source": [
    "Por tanto seran estas las variables que usare para testear mis modelos, elimando el resto del dataset de training"
   ]
  },
  {
   "cell_type": "code",
   "execution_count": 38,
   "metadata": {},
   "outputs": [],
   "source": [
    "drop_filtrado = ['Neighbourhood Group Cleansed', 'Property Type','Maximum Nights', 'Number of Reviews', 'Review Scores Rating']\n",
    "X_train.drop(drop_filtrado, axis=1, inplace=True)"
   ]
  },
  {
   "cell_type": "markdown",
   "metadata": {},
   "source": [
    "Por ultimo cambiare el nombre de la variable \"Neighbourhood Group Cleansed\" por \"Barrio\" para que sea mas manejable"
   ]
  },
  {
   "cell_type": "code",
   "execution_count": 39,
   "metadata": {},
   "outputs": [],
   "source": [
    "X_train.rename(columns={'Neighbourhood Cleansed':'Barrio'}, inplace=True)"
   ]
  },
  {
   "cell_type": "code",
   "execution_count": 40,
   "metadata": {},
   "outputs": [
    {
     "data": {
      "text/html": [
       "<div>\n",
       "<style scoped>\n",
       "    .dataframe tbody tr th:only-of-type {\n",
       "        vertical-align: middle;\n",
       "    }\n",
       "\n",
       "    .dataframe tbody tr th {\n",
       "        vertical-align: top;\n",
       "    }\n",
       "\n",
       "    .dataframe thead th {\n",
       "        text-align: right;\n",
       "    }\n",
       "</style>\n",
       "<table border=\"1\" class=\"dataframe\">\n",
       "  <thead>\n",
       "    <tr style=\"text-align: right;\">\n",
       "      <th></th>\n",
       "      <th>Barrio</th>\n",
       "      <th>Room Type</th>\n",
       "      <th>Accommodates</th>\n",
       "      <th>Bathrooms</th>\n",
       "      <th>Cleaning Fee</th>\n",
       "      <th>Extra People</th>\n",
       "      <th>Minimum Nights</th>\n",
       "      <th>Availability 30</th>\n",
       "      <th>Cancellation Policy</th>\n",
       "    </tr>\n",
       "  </thead>\n",
       "  <tbody>\n",
       "    <tr>\n",
       "      <td>count</td>\n",
       "      <td>11824.000000</td>\n",
       "      <td>11824.000000</td>\n",
       "      <td>11824.000000</td>\n",
       "      <td>11824.000000</td>\n",
       "      <td>11824.000000</td>\n",
       "      <td>11824.000000</td>\n",
       "      <td>11824.000000</td>\n",
       "      <td>11824.000000</td>\n",
       "      <td>11824.000000</td>\n",
       "    </tr>\n",
       "    <tr>\n",
       "      <td>mean</td>\n",
       "      <td>73.702794</td>\n",
       "      <td>73.702794</td>\n",
       "      <td>3.276641</td>\n",
       "      <td>1.286442</td>\n",
       "      <td>18.944858</td>\n",
       "      <td>7.639800</td>\n",
       "      <td>3.111806</td>\n",
       "      <td>8.973275</td>\n",
       "      <td>73.702794</td>\n",
       "    </tr>\n",
       "    <tr>\n",
       "      <td>std</td>\n",
       "      <td>37.713752</td>\n",
       "      <td>27.069142</td>\n",
       "      <td>2.106127</td>\n",
       "      <td>0.666088</td>\n",
       "      <td>29.235386</td>\n",
       "      <td>12.490317</td>\n",
       "      <td>13.370049</td>\n",
       "      <td>9.345545</td>\n",
       "      <td>11.526667</td>\n",
       "    </tr>\n",
       "    <tr>\n",
       "      <td>min</td>\n",
       "      <td>16.000000</td>\n",
       "      <td>31.692308</td>\n",
       "      <td>1.000000</td>\n",
       "      <td>0.000000</td>\n",
       "      <td>0.000000</td>\n",
       "      <td>0.000000</td>\n",
       "      <td>1.000000</td>\n",
       "      <td>0.000000</td>\n",
       "      <td>64.480862</td>\n",
       "    </tr>\n",
       "    <tr>\n",
       "      <td>25%</td>\n",
       "      <td>59.843750</td>\n",
       "      <td>40.334613</td>\n",
       "      <td>2.000000</td>\n",
       "      <td>1.000000</td>\n",
       "      <td>0.000000</td>\n",
       "      <td>0.000000</td>\n",
       "      <td>1.000000</td>\n",
       "      <td>0.000000</td>\n",
       "      <td>64.480862</td>\n",
       "    </tr>\n",
       "    <tr>\n",
       "      <td>50%</td>\n",
       "      <td>67.610673</td>\n",
       "      <td>95.442293</td>\n",
       "      <td>3.000000</td>\n",
       "      <td>1.000000</td>\n",
       "      <td>10.000000</td>\n",
       "      <td>0.000000</td>\n",
       "      <td>2.000000</td>\n",
       "      <td>6.000000</td>\n",
       "      <td>64.849040</td>\n",
       "    </tr>\n",
       "    <tr>\n",
       "      <td>75%</td>\n",
       "      <td>82.065898</td>\n",
       "      <td>95.442293</td>\n",
       "      <td>4.000000</td>\n",
       "      <td>1.000000</td>\n",
       "      <td>30.000000</td>\n",
       "      <td>15.000000</td>\n",
       "      <td>3.000000</td>\n",
       "      <td>14.000000</td>\n",
       "      <td>86.902931</td>\n",
       "    </tr>\n",
       "    <tr>\n",
       "      <td>max</td>\n",
       "      <td>999.000000</td>\n",
       "      <td>95.442293</td>\n",
       "      <td>16.000000</td>\n",
       "      <td>8.000000</td>\n",
       "      <td>662.000000</td>\n",
       "      <td>500.000000</td>\n",
       "      <td>1125.000000</td>\n",
       "      <td>30.000000</td>\n",
       "      <td>117.489796</td>\n",
       "    </tr>\n",
       "  </tbody>\n",
       "</table>\n",
       "</div>"
      ],
      "text/plain": [
       "             Barrio     Room Type  Accommodates     Bathrooms  Cleaning Fee  \\\n",
       "count  11824.000000  11824.000000  11824.000000  11824.000000  11824.000000   \n",
       "mean      73.702794     73.702794      3.276641      1.286442     18.944858   \n",
       "std       37.713752     27.069142      2.106127      0.666088     29.235386   \n",
       "min       16.000000     31.692308      1.000000      0.000000      0.000000   \n",
       "25%       59.843750     40.334613      2.000000      1.000000      0.000000   \n",
       "50%       67.610673     95.442293      3.000000      1.000000     10.000000   \n",
       "75%       82.065898     95.442293      4.000000      1.000000     30.000000   \n",
       "max      999.000000     95.442293     16.000000      8.000000    662.000000   \n",
       "\n",
       "       Extra People  Minimum Nights  Availability 30  Cancellation Policy  \n",
       "count  11824.000000    11824.000000     11824.000000         11824.000000  \n",
       "mean       7.639800        3.111806         8.973275            73.702794  \n",
       "std       12.490317       13.370049         9.345545            11.526667  \n",
       "min        0.000000        1.000000         0.000000            64.480862  \n",
       "25%        0.000000        1.000000         0.000000            64.480862  \n",
       "50%        0.000000        2.000000         6.000000            64.849040  \n",
       "75%       15.000000        3.000000        14.000000            86.902931  \n",
       "max      500.000000     1125.000000        30.000000           117.489796  "
      ]
     },
     "execution_count": 40,
     "metadata": {},
     "output_type": "execute_result"
    }
   ],
   "source": [
    "X_train.describe()"
   ]
  },
  {
   "cell_type": "markdown",
   "metadata": {},
   "source": [
    "## Normalizacion\n",
    "Por ultimo llevamos a cabo el escalado mediante StandarEscales\n",
    "Recordemos que para test deberemos usar el scaler obtenido en train\n"
   ]
  },
  {
   "cell_type": "code",
   "execution_count": 41,
   "metadata": {},
   "outputs": [],
   "source": [
    "from sklearn import preprocessing\n",
    "\n",
    "scaler = preprocessing.StandardScaler().fit(X_train)\n",
    "XtrainScaled = scaler.transform(X_train)"
   ]
  },
  {
   "cell_type": "markdown",
   "metadata": {},
   "source": [
    "**Y hasta aqui el analisis exploratorio y la limpieza del dataset, empezamos con las pruebas de los modelos**"
   ]
  },
  {
   "cell_type": "markdown",
   "metadata": {},
   "source": [
    "## Prueba de Modelos"
   ]
  },
  {
   "cell_type": "markdown",
   "metadata": {},
   "source": [
    "Antes de iniciar la evaluacion de modelos, vamos a dejar preparado el **dataset de Test** con las mismas transformaciones que hemos llevado a cao sobre el de Train.\n",
    "Abajo indicamos el listado de dichas transformaciones para no olvidarnos de ninguna:\n",
    "- Lo primero es el dropeo de las variables que no van a participar en el modelo (correlacion y filtrado): drop_corr y drop_filtrado.\n",
    "- Tratamiento de las variables categoricas que influyen en el modelo (filtrado de categorias y Encoder): encoder_room_type y encoder_neigh_group\n",
    "- Tratamiento de NaNs: Bathroom y Cleaning Fee\n"
   ]
  },
  {
   "cell_type": "markdown",
   "metadata": {},
   "source": [
    "Analizamos y limpiamos el dataset de test"
   ]
  },
  {
   "cell_type": "code",
   "execution_count": 42,
   "metadata": {},
   "outputs": [
    {
     "data": {
      "text/plain": [
       "(2956, 29)"
      ]
     },
     "execution_count": 42,
     "metadata": {},
     "output_type": "execute_result"
    }
   ],
   "source": [
    "test = pd.read_csv('./data/test.csv',sep=';', decimal='.')\n",
    "test.shape\n",
    "#test.info()"
   ]
  },
  {
   "cell_type": "code",
   "execution_count": 43,
   "metadata": {},
   "outputs": [
    {
     "name": "stdout",
     "output_type": "stream",
     "text": [
      "Your slelected dataframe has 29 columns.\n",
      "There are 15 columns that have missing values.\n"
     ]
    },
    {
     "data": {
      "text/html": [
       "<div>\n",
       "<style scoped>\n",
       "    .dataframe tbody tr th:only-of-type {\n",
       "        vertical-align: middle;\n",
       "    }\n",
       "\n",
       "    .dataframe tbody tr th {\n",
       "        vertical-align: top;\n",
       "    }\n",
       "\n",
       "    .dataframe thead th {\n",
       "        text-align: right;\n",
       "    }\n",
       "</style>\n",
       "<table border=\"1\" class=\"dataframe\">\n",
       "  <thead>\n",
       "    <tr style=\"text-align: right;\">\n",
       "      <th></th>\n",
       "      <th>Missing Values</th>\n",
       "      <th>% of Total Values</th>\n",
       "    </tr>\n",
       "  </thead>\n",
       "  <tbody>\n",
       "    <tr>\n",
       "      <td>Security Deposit</td>\n",
       "      <td>1735</td>\n",
       "      <td>58.69</td>\n",
       "    </tr>\n",
       "    <tr>\n",
       "      <td>Cleaning Fee</td>\n",
       "      <td>1236</td>\n",
       "      <td>41.81</td>\n",
       "    </tr>\n",
       "    <tr>\n",
       "      <td>Review Scores Value</td>\n",
       "      <td>663</td>\n",
       "      <td>22.43</td>\n",
       "    </tr>\n",
       "    <tr>\n",
       "      <td>Review Scores Checkin</td>\n",
       "      <td>662</td>\n",
       "      <td>22.40</td>\n",
       "    </tr>\n",
       "    <tr>\n",
       "      <td>Review Scores Location</td>\n",
       "      <td>662</td>\n",
       "      <td>22.40</td>\n",
       "    </tr>\n",
       "    <tr>\n",
       "      <td>Review Scores Accuracy</td>\n",
       "      <td>654</td>\n",
       "      <td>22.12</td>\n",
       "    </tr>\n",
       "    <tr>\n",
       "      <td>Review Scores Cleanliness</td>\n",
       "      <td>654</td>\n",
       "      <td>22.12</td>\n",
       "    </tr>\n",
       "    <tr>\n",
       "      <td>Review Scores Rating</td>\n",
       "      <td>653</td>\n",
       "      <td>22.09</td>\n",
       "    </tr>\n",
       "    <tr>\n",
       "      <td>Review Scores Communication</td>\n",
       "      <td>653</td>\n",
       "      <td>22.09</td>\n",
       "    </tr>\n",
       "    <tr>\n",
       "      <td>Reviews per Month</td>\n",
       "      <td>631</td>\n",
       "      <td>21.35</td>\n",
       "    </tr>\n",
       "    <tr>\n",
       "      <td>Neighbourhood Group Cleansed</td>\n",
       "      <td>201</td>\n",
       "      <td>6.80</td>\n",
       "    </tr>\n",
       "    <tr>\n",
       "      <td>Beds</td>\n",
       "      <td>14</td>\n",
       "      <td>0.47</td>\n",
       "    </tr>\n",
       "    <tr>\n",
       "      <td>Bathrooms</td>\n",
       "      <td>10</td>\n",
       "      <td>0.34</td>\n",
       "    </tr>\n",
       "    <tr>\n",
       "      <td>Bedrooms</td>\n",
       "      <td>7</td>\n",
       "      <td>0.24</td>\n",
       "    </tr>\n",
       "    <tr>\n",
       "      <td>Price</td>\n",
       "      <td>3</td>\n",
       "      <td>0.10</td>\n",
       "    </tr>\n",
       "  </tbody>\n",
       "</table>\n",
       "</div>"
      ],
      "text/plain": [
       "                              Missing Values  % of Total Values\n",
       "Security Deposit                        1735              58.69\n",
       "Cleaning Fee                            1236              41.81\n",
       "Review Scores Value                      663              22.43\n",
       "Review Scores Checkin                    662              22.40\n",
       "Review Scores Location                   662              22.40\n",
       "Review Scores Accuracy                   654              22.12\n",
       "Review Scores Cleanliness                654              22.12\n",
       "Review Scores Rating                     653              22.09\n",
       "Review Scores Communication              653              22.09\n",
       "Reviews per Month                        631              21.35\n",
       "Neighbourhood Group Cleansed             201               6.80\n",
       "Beds                                      14               0.47\n",
       "Bathrooms                                 10               0.34\n",
       "Bedrooms                                   7               0.24\n",
       "Price                                      3               0.10"
      ]
     },
     "execution_count": 43,
     "metadata": {},
     "output_type": "execute_result"
    }
   ],
   "source": [
    "missing_values_table(test)"
   ]
  },
  {
   "cell_type": "markdown",
   "metadata": {},
   "source": [
    "A la vista de los datos de arriba vemos que Price tienen valores NaN(3), por ello deberemos limpiarlos "
   ]
  },
  {
   "cell_type": "code",
   "execution_count": 44,
   "metadata": {},
   "outputs": [],
   "source": [
    "#Dropeamos\n",
    "test.drop(drop_corr, axis=1, inplace=True)\n",
    "test.drop(drop_filtrado, axis=1, inplace=True)\n",
    "\n",
    "#Eliminamos tambien la variable Security Deposit \n",
    "test.drop('Security Deposit', axis=1, inplace=True)\n",
    "\n",
    "#imputamos los valores NaNs del target con la media del train (y_train_mean)\n",
    "media_target_test = np.mean(test['Price'])\n",
    "test['Price'] = test['Price'].fillna(y_train_mean)\n",
    "\n",
    "#Imputamos los NaNs de la misma manera que se hace en Train\n",
    "test['Bathrooms'] = test['Bathrooms'].fillna(mean_bathroom)\n",
    "test['Cleaning Fee'] = test['Cleaning Fee'].fillna(0)\n",
    "\n",
    "\n",
    "#Aplicamos el Mean Encoder a Room Type y a Neighbourhood Cleansed con los valores del test (sino podria haber valores que \n",
    "# no existieran en main y que aparezcan en el test)\n",
    "mean_encode_room_type_test = test.groupby('Room Type')['Price'].mean()\n",
    "mean_encode_neigh_test = test.groupby('Neighbourhood Cleansed')['Price'].mean()\n",
    "mean_encode_cancellation_policy_test = test.groupby('Cancellation Policy')['Price'].mean()\n",
    "test.loc[:,'Room Type'] = test['Room Type'].map(mean_encode_room_type_test)\n",
    "test.loc[:,'Neighbourhood Cleansed'] = test['Neighbourhood Cleansed'].map(mean_encode_neigh_test)\n",
    "test.loc[:,'Cancellation Policy'] = test['Cancellation Policy'].map(mean_encode_cancellation_policy_test)\n",
    "\n",
    "\n",
    "#Por ultimo cambiamos el nombre de la variable a Barrio\n",
    "test.rename(columns={'Neighbourhood Cleansed':'Barrio'}, inplace=True)\n"
   ]
  },
  {
   "cell_type": "code",
   "execution_count": 45,
   "metadata": {},
   "outputs": [
    {
     "name": "stdout",
     "output_type": "stream",
     "text": [
      "Your slelected dataframe has 10 columns.\n",
      "There are 0 columns that have missing values.\n"
     ]
    },
    {
     "data": {
      "text/html": [
       "<div>\n",
       "<style scoped>\n",
       "    .dataframe tbody tr th:only-of-type {\n",
       "        vertical-align: middle;\n",
       "    }\n",
       "\n",
       "    .dataframe tbody tr th {\n",
       "        vertical-align: top;\n",
       "    }\n",
       "\n",
       "    .dataframe thead th {\n",
       "        text-align: right;\n",
       "    }\n",
       "</style>\n",
       "<table border=\"1\" class=\"dataframe\">\n",
       "  <thead>\n",
       "    <tr style=\"text-align: right;\">\n",
       "      <th></th>\n",
       "      <th>Missing Values</th>\n",
       "      <th>% of Total Values</th>\n",
       "    </tr>\n",
       "  </thead>\n",
       "  <tbody>\n",
       "  </tbody>\n",
       "</table>\n",
       "</div>"
      ],
      "text/plain": [
       "Empty DataFrame\n",
       "Columns: [Missing Values, % of Total Values]\n",
       "Index: []"
      ]
     },
     "execution_count": 45,
     "metadata": {},
     "output_type": "execute_result"
    }
   ],
   "source": [
    "missing_values_table(test)"
   ]
  },
  {
   "cell_type": "code",
   "execution_count": 46,
   "metadata": {},
   "outputs": [
    {
     "name": "stdout",
     "output_type": "stream",
     "text": [
      "<class 'pandas.core.frame.DataFrame'>\n",
      "RangeIndex: 2956 entries, 0 to 2955\n",
      "Data columns (total 10 columns):\n",
      "Barrio                 2956 non-null float64\n",
      "Room Type              2956 non-null float64\n",
      "Accommodates           2956 non-null int64\n",
      "Bathrooms              2956 non-null float64\n",
      "Price                  2956 non-null float64\n",
      "Cleaning Fee           2956 non-null float64\n",
      "Extra People           2956 non-null int64\n",
      "Minimum Nights         2956 non-null int64\n",
      "Availability 30        2956 non-null int64\n",
      "Cancellation Policy    2956 non-null float64\n",
      "dtypes: float64(6), int64(4)\n",
      "memory usage: 231.1 KB\n"
     ]
    }
   ],
   "source": [
    "test.info()"
   ]
  },
  {
   "cell_type": "markdown",
   "metadata": {},
   "source": [
    "Separamos la variable objetivo del tets"
   ]
  },
  {
   "cell_type": "code",
   "execution_count": 47,
   "metadata": {},
   "outputs": [],
   "source": [
    "y_test = test['Price']\n",
    "X_test= test.drop(['Price'], axis=1)"
   ]
  },
  {
   "cell_type": "code",
   "execution_count": 48,
   "metadata": {},
   "outputs": [
    {
     "data": {
      "text/html": [
       "<div>\n",
       "<style scoped>\n",
       "    .dataframe tbody tr th:only-of-type {\n",
       "        vertical-align: middle;\n",
       "    }\n",
       "\n",
       "    .dataframe tbody tr th {\n",
       "        vertical-align: top;\n",
       "    }\n",
       "\n",
       "    .dataframe thead th {\n",
       "        text-align: right;\n",
       "    }\n",
       "</style>\n",
       "<table border=\"1\" class=\"dataframe\">\n",
       "  <thead>\n",
       "    <tr style=\"text-align: right;\">\n",
       "      <th></th>\n",
       "      <th>Barrio</th>\n",
       "      <th>Room Type</th>\n",
       "      <th>Accommodates</th>\n",
       "      <th>Bathrooms</th>\n",
       "      <th>Cleaning Fee</th>\n",
       "      <th>Extra People</th>\n",
       "      <th>Minimum Nights</th>\n",
       "      <th>Availability 30</th>\n",
       "      <th>Cancellation Policy</th>\n",
       "    </tr>\n",
       "  </thead>\n",
       "  <tbody>\n",
       "    <tr>\n",
       "      <td>0</td>\n",
       "      <td>27.444444</td>\n",
       "      <td>41.436544</td>\n",
       "      <td>1</td>\n",
       "      <td>1.0</td>\n",
       "      <td>5.0</td>\n",
       "      <td>0</td>\n",
       "      <td>1</td>\n",
       "      <td>7</td>\n",
       "      <td>63.321029</td>\n",
       "    </tr>\n",
       "    <tr>\n",
       "      <td>1</td>\n",
       "      <td>59.434316</td>\n",
       "      <td>93.904078</td>\n",
       "      <td>2</td>\n",
       "      <td>1.0</td>\n",
       "      <td>0.0</td>\n",
       "      <td>0</td>\n",
       "      <td>3</td>\n",
       "      <td>4</td>\n",
       "      <td>65.883892</td>\n",
       "    </tr>\n",
       "    <tr>\n",
       "      <td>2</td>\n",
       "      <td>78.322581</td>\n",
       "      <td>93.904078</td>\n",
       "      <td>2</td>\n",
       "      <td>1.0</td>\n",
       "      <td>20.0</td>\n",
       "      <td>25</td>\n",
       "      <td>1</td>\n",
       "      <td>6</td>\n",
       "      <td>85.059779</td>\n",
       "    </tr>\n",
       "    <tr>\n",
       "      <td>3</td>\n",
       "      <td>30.500000</td>\n",
       "      <td>41.436544</td>\n",
       "      <td>1</td>\n",
       "      <td>0.5</td>\n",
       "      <td>0.0</td>\n",
       "      <td>0</td>\n",
       "      <td>1</td>\n",
       "      <td>30</td>\n",
       "      <td>63.321029</td>\n",
       "    </tr>\n",
       "    <tr>\n",
       "      <td>4</td>\n",
       "      <td>59.434316</td>\n",
       "      <td>93.904078</td>\n",
       "      <td>3</td>\n",
       "      <td>1.0</td>\n",
       "      <td>0.0</td>\n",
       "      <td>0</td>\n",
       "      <td>1</td>\n",
       "      <td>0</td>\n",
       "      <td>63.321029</td>\n",
       "    </tr>\n",
       "    <tr>\n",
       "      <td>...</td>\n",
       "      <td>...</td>\n",
       "      <td>...</td>\n",
       "      <td>...</td>\n",
       "      <td>...</td>\n",
       "      <td>...</td>\n",
       "      <td>...</td>\n",
       "      <td>...</td>\n",
       "      <td>...</td>\n",
       "      <td>...</td>\n",
       "    </tr>\n",
       "    <tr>\n",
       "      <td>2951</td>\n",
       "      <td>37.636364</td>\n",
       "      <td>41.436544</td>\n",
       "      <td>1</td>\n",
       "      <td>1.0</td>\n",
       "      <td>0.0</td>\n",
       "      <td>0</td>\n",
       "      <td>10</td>\n",
       "      <td>0</td>\n",
       "      <td>85.059779</td>\n",
       "    </tr>\n",
       "    <tr>\n",
       "      <td>2952</td>\n",
       "      <td>59.434316</td>\n",
       "      <td>93.904078</td>\n",
       "      <td>2</td>\n",
       "      <td>1.0</td>\n",
       "      <td>0.0</td>\n",
       "      <td>0</td>\n",
       "      <td>2</td>\n",
       "      <td>9</td>\n",
       "      <td>85.059779</td>\n",
       "    </tr>\n",
       "    <tr>\n",
       "      <td>2953</td>\n",
       "      <td>26.285714</td>\n",
       "      <td>41.436544</td>\n",
       "      <td>1</td>\n",
       "      <td>1.0</td>\n",
       "      <td>0.0</td>\n",
       "      <td>0</td>\n",
       "      <td>2</td>\n",
       "      <td>20</td>\n",
       "      <td>63.321029</td>\n",
       "    </tr>\n",
       "    <tr>\n",
       "      <td>2954</td>\n",
       "      <td>83.381503</td>\n",
       "      <td>93.904078</td>\n",
       "      <td>5</td>\n",
       "      <td>1.5</td>\n",
       "      <td>40.0</td>\n",
       "      <td>20</td>\n",
       "      <td>2</td>\n",
       "      <td>6</td>\n",
       "      <td>85.059779</td>\n",
       "    </tr>\n",
       "    <tr>\n",
       "      <td>2955</td>\n",
       "      <td>47.571429</td>\n",
       "      <td>93.904078</td>\n",
       "      <td>6</td>\n",
       "      <td>2.0</td>\n",
       "      <td>40.0</td>\n",
       "      <td>0</td>\n",
       "      <td>4</td>\n",
       "      <td>1</td>\n",
       "      <td>85.059779</td>\n",
       "    </tr>\n",
       "  </tbody>\n",
       "</table>\n",
       "<p>2956 rows × 9 columns</p>\n",
       "</div>"
      ],
      "text/plain": [
       "         Barrio  Room Type  Accommodates  Bathrooms  Cleaning Fee  \\\n",
       "0     27.444444  41.436544             1        1.0           5.0   \n",
       "1     59.434316  93.904078             2        1.0           0.0   \n",
       "2     78.322581  93.904078             2        1.0          20.0   \n",
       "3     30.500000  41.436544             1        0.5           0.0   \n",
       "4     59.434316  93.904078             3        1.0           0.0   \n",
       "...         ...        ...           ...        ...           ...   \n",
       "2951  37.636364  41.436544             1        1.0           0.0   \n",
       "2952  59.434316  93.904078             2        1.0           0.0   \n",
       "2953  26.285714  41.436544             1        1.0           0.0   \n",
       "2954  83.381503  93.904078             5        1.5          40.0   \n",
       "2955  47.571429  93.904078             6        2.0          40.0   \n",
       "\n",
       "      Extra People  Minimum Nights  Availability 30  Cancellation Policy  \n",
       "0                0               1                7            63.321029  \n",
       "1                0               3                4            65.883892  \n",
       "2               25               1                6            85.059779  \n",
       "3                0               1               30            63.321029  \n",
       "4                0               1                0            63.321029  \n",
       "...            ...             ...              ...                  ...  \n",
       "2951             0              10                0            85.059779  \n",
       "2952             0               2                9            85.059779  \n",
       "2953             0               2               20            63.321029  \n",
       "2954            20               2                6            85.059779  \n",
       "2955             0               4                1            85.059779  \n",
       "\n",
       "[2956 rows x 9 columns]"
      ]
     },
     "execution_count": 48,
     "metadata": {},
     "output_type": "execute_result"
    }
   ],
   "source": [
    "X_test"
   ]
  },
  {
   "cell_type": "markdown",
   "metadata": {},
   "source": [
    "Normalizamos los datos de Test"
   ]
  },
  {
   "cell_type": "code",
   "execution_count": 49,
   "metadata": {},
   "outputs": [],
   "source": [
    "XtestScaled = scaler.transform(X_test)"
   ]
  },
  {
   "cell_type": "markdown",
   "metadata": {},
   "source": [
    "## Ridge Model\n",
    "Por convenio se recomienda empezar con una regresion regularizada tipo Ridge"
   ]
  },
  {
   "cell_type": "code",
   "execution_count": 50,
   "metadata": {
    "scrolled": false
   },
   "outputs": [
    {
     "name": "stdout",
     "output_type": "stream",
     "text": [
      "Valores de alpha: [  0.1          0.14384499   0.20691381   0.29763514   0.42813324\n",
      "   0.61584821   0.88586679   1.27427499   1.83298071   2.6366509\n",
      "   3.79269019   5.45559478   7.8475997   11.28837892  16.23776739\n",
      "  23.35721469  33.59818286  48.32930239  69.51927962 100.        ]\n",
      "best mean cross-validation score: -2551.653\n",
      "best parameters: {'alpha': 48.32930238571752}\n"
     ]
    },
    {
     "data": {
      "image/png": "[encoded data removed]",
      "text/plain": [
       "<Figure size 432x288 with 1 Axes>"
      ]
     },
     "metadata": {
      "needs_background": "light"
     },
     "output_type": "display_data"
    }
   ],
   "source": [
    "from sklearn.model_selection import GridSearchCV\n",
    "from sklearn.linear_model import Ridge\n",
    "\n",
    "\n",
    "alpha_vector = np.logspace(-1,2,20)\n",
    "param_grid = {'alpha': alpha_vector }\n",
    "print(f'Valores de alpha: {alpha_vector}')\n",
    "grid = GridSearchCV(Ridge(), scoring= 'neg_mean_squared_error', param_grid=param_grid, cv = 5)\n",
    "grid.fit(XtrainScaled, y_train)\n",
    "print(\"best mean cross-validation score: {:.3f}\".format(grid.best_score_))\n",
    "print(\"best parameters: {}\".format(grid.best_params_))\n",
    "\n",
    "scores = -1*np.array(grid.cv_results_['mean_test_score'])\n",
    "plt.semilogx(alpha_vector,scores,'-o')\n",
    "plt.xlabel('alpha',fontsize=16)\n",
    "plt.ylabel('5-Fold MSE')\n",
    "#plt.ylim((0, 1))\n",
    "plt.show()"
   ]
  },
  {
   "cell_type": "markdown",
   "metadata": {},
   "source": [
    "Entrenamos el modelo ahora con el valor óptimo de $\\alpha$ que hemos encontrado con validación cruzada."
   ]
  },
  {
   "cell_type": "code",
   "execution_count": 51,
   "metadata": {
    "scrolled": true
   },
   "outputs": [
    {
     "name": "stdout",
     "output_type": "stream",
     "text": [
      "MSE Modelo Ridge (train): 2.53e+03\n",
      "MSE Modelo Ridge (test) : 2.21e+03\n",
      "RMSE Modelo Ridge (train): 50.3\n",
      "RMSE Modelo Ridge (test) : 47\n",
      "Barrio 24.805820265220017\n",
      "Room Type 9.802194194375057\n",
      "Accommodates 19.19165062139891\n",
      "Bathrooms 10.739926335846922\n",
      "Cleaning Fee 14.422149312700208\n",
      "Extra People -6.480120765735437\n",
      "Minimum Nights 0.023639907298486147\n",
      "Availability 30 9.027770522820488\n",
      "Cancellation Policy -3.115056747214189\n"
     ]
    }
   ],
   "source": [
    "from sklearn.metrics import mean_squared_error\n",
    "\n",
    "alpha_optimo = grid.best_params_['alpha']\n",
    "ridge = Ridge(alpha = alpha_optimo).fit(XtrainScaled,y_train)\n",
    "\n",
    "ytrainRidge = ridge.predict(XtrainScaled)\n",
    "ytestRidge  = ridge.predict(XtestScaled)\n",
    "mseTrainModelRidge = mean_squared_error(y_train,ytrainRidge)\n",
    "mseTestModelRidge = mean_squared_error(y_test,ytestRidge)\n",
    "\n",
    "print('MSE Modelo Ridge (train): %0.3g' % mseTrainModelRidge)\n",
    "print('MSE Modelo Ridge (test) : %0.3g' % mseTestModelRidge)\n",
    "\n",
    "print('RMSE Modelo Ridge (train): %0.3g' % np.sqrt(mseTrainModelRidge))\n",
    "print('RMSE Modelo Ridge (test) : %0.3g' % np.sqrt(mseTestModelRidge))\n",
    "\n",
    "feature_names = X_test.columns[0:]\n",
    "w = ridge.coef_\n",
    "for f,wi in zip(feature_names,w):\n",
    "    print(f,wi)"
   ]
  },
  {
   "cell_type": "markdown",
   "metadata": {},
   "source": [
    "## Lasso Model"
   ]
  },
  {
   "cell_type": "code",
   "execution_count": 52,
   "metadata": {},
   "outputs": [
    {
     "name": "stdout",
     "output_type": "stream",
     "text": [
      "best mean cross-validation score: -2553.232\n",
      "best parameters: {'alpha': 0.06951927961775606}\n"
     ]
    },
    {
     "data": {
      "image/png": "[encoded data removed]",
      "text/plain": [
       "<Figure size 432x288 with 1 Axes>"
      ]
     },
     "metadata": {
      "needs_background": "light"
     },
     "output_type": "display_data"
    }
   ],
   "source": [
    "from sklearn.model_selection import GridSearchCV\n",
    "from sklearn.linear_model import Lasso\n",
    "\n",
    "alpha_vector = np.logspace(-2,2,20)\n",
    "param_grid = {'alpha': alpha_vector }\n",
    "grid = GridSearchCV(Lasso(), scoring= 'neg_mean_squared_error', param_grid=param_grid, cv = 10)\n",
    "grid.fit(XtrainScaled, y_train)\n",
    "print(\"best mean cross-validation score: {:.3f}\".format(grid.best_score_))\n",
    "print(\"best parameters: {}\".format(grid.best_params_))\n",
    "\n",
    "#-1 porque es negado\n",
    "scores = -1*np.array(grid.cv_results_['mean_test_score'])\n",
    "plt.semilogx(alpha_vector,scores,'-o')\n",
    "plt.xlabel('alpha',fontsize=16)\n",
    "plt.ylabel('5-Fold MSE')\n",
    "plt.show()"
   ]
  },
  {
   "cell_type": "code",
   "execution_count": 53,
   "metadata": {},
   "outputs": [
    {
     "name": "stdout",
     "output_type": "stream",
     "text": [
      "MSE Modelo Lasso (train): 2.53e+03\n",
      "MSE Modelo Lasso (test) : 2.21e+03\n",
      "RMSE Modelo Lasso (train): 50.3\n",
      "RMSE Modelo Lasso (test) : 47\n",
      "Room Type 24.848247414584996\n",
      "Accommodates 9.724835046324916\n",
      "Bathrooms 19.242894206676773\n",
      "Cleaning Fee 10.675774239256802\n",
      "Extra People 14.398145532124643\n",
      "Minimum Nights -6.442264630010936\n",
      "Availability 30 0.0\n",
      "Cancellation Policy 8.978972175552881\n"
     ]
    }
   ],
   "source": [
    "from sklearn.metrics import mean_squared_error\n",
    "\n",
    "alpha_optimo = grid.best_params_['alpha']\n",
    "lasso = Lasso(alpha = alpha_optimo).fit(XtrainScaled,y_train)\n",
    "\n",
    "ytrainLasso = lasso.predict(XtrainScaled)\n",
    "ytestLasso  = lasso.predict(XtestScaled)\n",
    "mseTrainModelLasso = mean_squared_error(y_train,ytrainLasso)\n",
    "mseTestModelLasso = mean_squared_error(y_test,ytestLasso)\n",
    "\n",
    "print('MSE Modelo Lasso (train): %0.3g' % mseTrainModelLasso)\n",
    "print('MSE Modelo Lasso (test) : %0.3g' % mseTestModelLasso)\n",
    "\n",
    "print('RMSE Modelo Lasso (train): %0.3g' % np.sqrt(mseTrainModelLasso))\n",
    "print('RMSE Modelo Lasso (test) : %0.3g' % np.sqrt(mseTestModelLasso))\n",
    "\n",
    "feature_names = X_train.columns[1:]\n",
    "w = lasso.coef_\n",
    "for f,wi in zip(feature_names,w):\n",
    "    print(f,wi)"
   ]
  },
  {
   "cell_type": "markdown",
   "metadata": {},
   "source": [
    "**Como vemos, a pesar de haber incluido mas caracteristicas en la regresion (9, en lugar de las 5 de la primera version, los errores tanto de Ridge como de Lasso son muy elevados **"
   ]
  },
  {
   "cell_type": "code",
   "execution_count": 54,
   "metadata": {},
   "outputs": [
    {
     "data": {
      "image/png": "[encoded data removed]",
      "text/plain": [
       "<Figure size 432x288 with 1 Axes>"
      ]
     },
     "metadata": {
      "needs_background": "light"
     },
     "output_type": "display_data"
    }
   ],
   "source": [
    "plt.hist(y_train, bins=30)\n",
    "plt.show()"
   ]
  },
  {
   "cell_type": "code",
   "execution_count": 55,
   "metadata": {},
   "outputs": [
    {
     "data": {
      "image/png": "[encoded data removed]",
      "text/plain": [
       "<Figure size 432x288 with 1 Axes>"
      ]
     },
     "metadata": {
      "needs_background": "light"
     },
     "output_type": "display_data"
    }
   ],
   "source": [
    "plt.hist(np.log10(y_train), bins=30)\n",
    "plt.show()"
   ]
  },
  {
   "cell_type": "markdown",
   "metadata": {},
   "source": [
    "Repitamos el modelo Lasso con una normalizacion logaritmica:"
   ]
  },
  {
   "cell_type": "code",
   "execution_count": 56,
   "metadata": {},
   "outputs": [],
   "source": [
    "y_train_log = np.log10(y_train)\n",
    "y_test_log = np.log10(y_test)"
   ]
  },
  {
   "cell_type": "code",
   "execution_count": 57,
   "metadata": {},
   "outputs": [
    {
     "name": "stdout",
     "output_type": "stream",
     "text": [
      "best mean cross-validation score: -0.035\n",
      "best parameters: {'alpha': 0.0009102981779915217}\n"
     ]
    },
    {
     "data": {
      "image/png": "[encoded data removed]",
      "text/plain": [
       "<Figure size 432x288 with 1 Axes>"
      ]
     },
     "metadata": {
      "needs_background": "light"
     },
     "output_type": "display_data"
    }
   ],
   "source": [
    "\n",
    "alpha_vector = np.logspace(-5,-3,50)\n",
    "param_grid = {'alpha': alpha_vector }\n",
    "grid = GridSearchCV(Lasso(), scoring= 'neg_mean_squared_error', param_grid=param_grid, cv = 10)\n",
    "grid.fit(XtrainScaled, y_train_log)\n",
    "print(\"best mean cross-validation score: {:.3f}\".format(grid.best_score_))\n",
    "print(\"best parameters: {}\".format(grid.best_params_))\n",
    "\n",
    "#-1 porque es negado\n",
    "scores = -1*np.array(grid.cv_results_['mean_test_score'])\n",
    "plt.semilogx(alpha_vector,scores,'-o')\n",
    "plt.xlabel('alpha',fontsize=16)\n",
    "plt.ylabel('5-Fold MSE')\n",
    "plt.show()"
   ]
  },
  {
   "cell_type": "code",
   "execution_count": 58,
   "metadata": {},
   "outputs": [
    {
     "name": "stdout",
     "output_type": "stream",
     "text": [
      "MSE Modelo Lasso (train): 7.83e+03\n",
      "MSE Modelo Lasso (test) : 7.62e+03\n",
      "RMSE Modelo Lasso (train): 88.5\n",
      "RMSE Modelo Lasso (test) : 87.3\n",
      "Room Type 24.89164401559416\n",
      "Accommodates 9.783182718368893\n",
      "Bathrooms 19.26320078260546\n",
      "Cleaning Fee 10.723576593240354\n",
      "Extra People 14.455311818421233\n",
      "Minimum Nights -6.532655773303356\n",
      "Availability 30 0.011651403859154787\n",
      "Cancellation Policy 9.050584619261567\n"
     ]
    }
   ],
   "source": [
    "alpha_optimo = grid.best_params_['alpha']*10\n",
    "lasso = Lasso(alpha = alpha_optimo).fit(XtrainScaled,y_train)\n",
    "\n",
    "ytrainLasso = lasso.predict(XtrainScaled)\n",
    "ytestLasso  = lasso.predict(XtestScaled)\n",
    "mseTrainModelLasso = mean_squared_error(y_train_log,ytrainLasso)\n",
    "mseTestModelLasso = mean_squared_error(y_test_log,ytestLasso)\n",
    "\n",
    "print('MSE Modelo Lasso (train): %0.3g' % mseTrainModelLasso)\n",
    "print('MSE Modelo Lasso (test) : %0.3g' % mseTestModelLasso)\n",
    "\n",
    "print('RMSE Modelo Lasso (train): %0.3g' % np.sqrt(mseTrainModelLasso))\n",
    "print('RMSE Modelo Lasso (test) : %0.3g' % np.sqrt(mseTestModelLasso))\n",
    "\n",
    "feature_names = X_train.columns[1:]\n",
    "w = lasso.coef_\n",
    "for f,wi in zip(feature_names,w):\n",
    "    print(f,wi)"
   ]
  },
  {
   "cell_type": "markdown",
   "metadata": {},
   "source": [
    "Sigue saliendo un truño!!"
   ]
  },
  {
   "cell_type": "markdown",
   "metadata": {},
   "source": [
    "Antes de pasar a probar con un random Forest voy a hacer una ultima prueba con Lasso y una regresion polinomica de grado 2. A fin de cuentas, se ha visto en el filtrado de caracteristicas que hay bastante dependencia no lineal de ciertas caracteristicas por lo que el modelo podria funcionar mejor.\n"
   ]
  },
  {
   "cell_type": "code",
   "execution_count": 59,
   "metadata": {},
   "outputs": [],
   "source": [
    "from sklearn.preprocessing import PolynomialFeatures\n",
    "from sklearn.linear_model import LinearRegression \n",
    "\n",
    "degree = 2\n",
    "\n",
    "# features\n",
    "poly    = PolynomialFeatures(degree) # generamos x^j\n",
    "X_train_poly = poly.fit_transform(X_train.values.reshape(-1, 9))\n",
    "\n",
    "X_test_poly = poly.fit_transform(X_test.values.reshape(-1, 9))\n"
   ]
  },
  {
   "cell_type": "code",
   "execution_count": 60,
   "metadata": {},
   "outputs": [
    {
     "data": {
      "text/plain": [
       "55"
      ]
     },
     "execution_count": 60,
     "metadata": {},
     "output_type": "execute_result"
    }
   ],
   "source": [
    "len(X_train_poly[0])"
   ]
  },
  {
   "cell_type": "markdown",
   "metadata": {},
   "source": [
    "Normalizamos"
   ]
  },
  {
   "cell_type": "code",
   "execution_count": 61,
   "metadata": {},
   "outputs": [],
   "source": [
    "scaler_poly = preprocessing.StandardScaler().fit(X_train_poly)\n",
    "XtrainScaled_poly = scaler_poly.transform(X_train_poly)\n",
    "XtestScaled_poly = scaler_poly.transform(X_test_poly)"
   ]
  },
  {
   "cell_type": "code",
   "execution_count": 62,
   "metadata": {},
   "outputs": [
    {
     "data": {
      "text/plain": [
       "(11824, 9)"
      ]
     },
     "execution_count": 62,
     "metadata": {},
     "output_type": "execute_result"
    }
   ],
   "source": [
    "XtrainScaled.shape"
   ]
  },
  {
   "cell_type": "markdown",
   "metadata": {},
   "source": [
    "Ahora GridSearchCV"
   ]
  },
  {
   "cell_type": "code",
   "execution_count": 63,
   "metadata": {
    "scrolled": true
   },
   "outputs": [
    {
     "name": "stdout",
     "output_type": "stream",
     "text": [
      "best mean cross-validation score: -2315.410\n",
      "best parameters: {'alpha': 0.18873918221350977}\n"
     ]
    },
    {
     "data": {
      "image/png": "[encoded data removed]",
      "text/plain": [
       "<Figure size 432x288 with 1 Axes>"
      ]
     },
     "metadata": {
      "needs_background": "light"
     },
     "output_type": "display_data"
    }
   ],
   "source": [
    "alpha_vector = np.logspace(-4,1,30)\n",
    "param_grid = {'alpha': alpha_vector }\n",
    "grid = GridSearchCV(Lasso(), scoring= 'neg_mean_squared_error', param_grid=param_grid, cv = 10)\n",
    "grid.fit(XtrainScaled_poly, y_train)\n",
    "print(\"best mean cross-validation score: {:.3f}\".format(grid.best_score_))\n",
    "print(\"best parameters: {}\".format(grid.best_params_))\n",
    "\n",
    "#-1 porque es negado\n",
    "scores = -1*np.array(grid.cv_results_['mean_test_score'])\n",
    "plt.semilogx(alpha_vector,scores,'-o')\n",
    "plt.xlabel('alpha',fontsize=16)\n",
    "plt.ylabel('5-Fold MSE')\n",
    "plt.show()"
   ]
  },
  {
   "cell_type": "code",
   "execution_count": 64,
   "metadata": {},
   "outputs": [
    {
     "data": {
      "text/plain": [
       "0.18873918221350977"
      ]
     },
     "execution_count": 64,
     "metadata": {},
     "output_type": "execute_result"
    }
   ],
   "source": [
    "grid.best_params_['alpha']"
   ]
  },
  {
   "cell_type": "markdown",
   "metadata": {},
   "source": [
    "Ahora lo entrenamos"
   ]
  },
  {
   "cell_type": "code",
   "execution_count": 65,
   "metadata": {},
   "outputs": [
    {
     "name": "stdout",
     "output_type": "stream",
     "text": [
      "MSE Modelo Lasso (train): 2.22e+03\n",
      "MSE Modelo Lasso (test) : 1.97e+03\n",
      "RMSE Modelo Lasso (train): 47.1\n",
      "RMSE Modelo Lasso (test) : 44.4\n",
      "Room Type 0.0\n",
      "Accommodates 22.711058884258534\n",
      "Bathrooms -0.0\n",
      "Cleaning Fee 0.0\n",
      "Extra People -12.520431052163044\n",
      "Minimum Nights 0.0\n",
      "Availability 30 -3.628724221749722\n",
      "Cancellation Policy -0.0\n"
     ]
    }
   ],
   "source": [
    "alpha_optimo = grid.best_params_['alpha']\n",
    "lasso = Lasso(alpha = alpha_optimo).fit(XtrainScaled_poly,y_train)\n",
    "\n",
    "ytrainLasso = lasso.predict(XtrainScaled_poly)\n",
    "ytestLasso  = lasso.predict(XtestScaled_poly)\n",
    "mseTrainModelLasso = mean_squared_error(y_train,ytrainLasso)\n",
    "mseTestModelLasso = mean_squared_error(y_test,ytestLasso)\n",
    "\n",
    "print('MSE Modelo Lasso (train): %0.3g' % mseTrainModelLasso)\n",
    "print('MSE Modelo Lasso (test) : %0.3g' % mseTestModelLasso)\n",
    "\n",
    "print('RMSE Modelo Lasso (train): %0.3g' % np.sqrt(mseTrainModelLasso))\n",
    "print('RMSE Modelo Lasso (test) : %0.3g' % np.sqrt(mseTestModelLasso))\n",
    "\n",
    "feature_names = X_train.columns[1:]\n",
    "w = lasso.coef_\n",
    "for f,wi in zip(feature_names,w):\n",
    "    print(f,wi)"
   ]
  },
  {
   "cell_type": "markdown",
   "metadata": {},
   "source": [
    "## Random Forest"
   ]
  },
  {
   "cell_type": "markdown",
   "metadata": {},
   "source": [
    "Hacemos primero el Crossvalidation con GridSearchCV, para encotrar los parametros libres optimos"
   ]
  },
  {
   "cell_type": "code",
   "execution_count": 66,
   "metadata": {
    "scrolled": true
   },
   "outputs": [
    {
     "name": "stdout",
     "output_type": "stream",
     "text": [
      "best mean cross-validation score: 0.625\n",
      "best parameters: {'max_depth': 13}\n"
     ]
    },
    {
     "data": {
      "image/png": "[encoded data removed]",
      "text/plain": [
       "<Figure size 432x288 with 1 Axes>"
      ]
     },
     "metadata": {
      "needs_background": "light"
     },
     "output_type": "display_data"
    }
   ],
   "source": [
    "from sklearn.ensemble import RandomForestRegressor\n",
    "from sklearn.model_selection import GridSearchCV\n",
    "\n",
    "# grid search\n",
    "maxDepth = range(1,15)\n",
    "tuned_parameters = {'max_depth': maxDepth}\n",
    "\n",
    "grid = GridSearchCV(RandomForestRegressor(random_state=0, n_estimators=200, max_features='sqrt'), param_grid=tuned_parameters,cv=10) \n",
    "grid.fit(X_train, y_train)\n",
    "\n",
    "print(\"best mean cross-validation score: {:.3f}\".format(grid.best_score_))\n",
    "print(\"best parameters: {}\".format(grid.best_params_))\n",
    "\n",
    "scores = np.array(grid.cv_results_['mean_test_score'])\n",
    "plt.plot(maxDepth,scores,'-o')\n",
    "plt.xlabel('max_depth')\n",
    "plt.ylabel('10-fold ACC')\n",
    "\n",
    "plt.show()"
   ]
  },
  {
   "cell_type": "markdown",
   "metadata": {},
   "source": [
    "Entrenamos nuestro modelo con el parametro libre optimo obtenido en el paso anterior"
   ]
  },
  {
   "cell_type": "code",
   "execution_count": 67,
   "metadata": {},
   "outputs": [
    {
     "name": "stdout",
     "output_type": "stream",
     "text": [
      "Score Train:  0.7240052896104043\n",
      "Score Test:  0.6600484370260049\n"
     ]
    }
   ],
   "source": [
    "maxDepthOptimo = grid.best_params_['max_depth']\n",
    "bagModel = RandomForestRegressor(max_depth=8,n_estimators=200,max_features='sqrt').fit(X_train,y_train)\n",
    "\n",
    "print(\"Score Train: \",bagModel.score(X_train,y_train))\n",
    "print(\"Score Test: \",bagModel.score(X_test,y_test))"
   ]
  },
  {
   "cell_type": "markdown",
   "metadata": {},
   "source": [
    "**Analizamos ahora las caracteristicas mas relevantes para nuestro modelo**"
   ]
  },
  {
   "cell_type": "code",
   "execution_count": 68,
   "metadata": {
    "scrolled": false
   },
   "outputs": [
    {
     "data": {
      "image/png": "[encoded data removed]",
      "text/plain": [
       "<Figure size 720x720 with 1 Axes>"
      ]
     },
     "metadata": {
      "needs_background": "light"
     },
     "output_type": "display_data"
    }
   ],
   "source": [
    "# Tu código aquí\n",
    "importances = bagModel.feature_importances_\n",
    "importances = importances / np.max(importances)\n",
    "\n",
    "feature_names = X_train.columns[0:]\n",
    "indices = np.argsort(importances)[::-1]\n",
    "\n",
    "plt.figure(figsize=(10,10))\n",
    "plt.barh(range(X_train.shape[1]),importances[indices])\n",
    "plt.yticks(range(X_train.shape[1]),feature_names[indices])\n",
    "plt.show()"
   ]
  },
  {
   "cell_type": "markdown",
   "metadata": {},
   "source": [
    "**Como vemos las caracteristicas mas relevantes siguen practicamente el mismo orden que lo que habiamos obtenido \n",
    "mas arriba en las tareas de regularizacion**"
   ]
  },
  {
   "cell_type": "markdown",
   "metadata": {},
   "source": [
    "Me permito por ultimo copiar esto para tenerlo todo en un unico notebook"
   ]
  },
  {
   "cell_type": "code",
   "execution_count": 69,
   "metadata": {
    "scrolled": true
   },
   "outputs": [
    {
     "name": "stdout",
     "output_type": "stream",
     "text": [
      "R^2 en datos de test: 0.621\n",
      "Mediana del error en datos de test: 11.45\n",
      "Media del error en datos de test: 21.639\n"
     ]
    }
   ],
   "source": [
    "from sklearn.ensemble import RandomForestRegressor\n",
    "from sklearn.metrics import mean_absolute_error\n",
    "from sklearn.metrics import median_absolute_error\n",
    "\n",
    "rf = RandomForestRegressor(oob_score = True)\n",
    "rf.fit(X_train, y_train)\n",
    "\n",
    "y_predict = rf.predict(X_test)\n",
    "rf_testing_set_score = rf.score(X_test, y_test)\n",
    "rf_median_abs_error = median_absolute_error(y_test, y_predict)\n",
    "rf_mean_abs_error = mean_absolute_error(y_test, y_predict)\n",
    "print('R^2 en datos de test: ' + str(round(rf_testing_set_score,3)))\n",
    "print('Mediana del error en datos de test: ' + str(round(rf_median_abs_error,3)))\n",
    "print('Media del error en datos de test: ' + str(round(rf_mean_abs_error,3)))"
   ]
  },
  {
   "cell_type": "code",
   "execution_count": 70,
   "metadata": {},
   "outputs": [
    {
     "name": "stdout",
     "output_type": "stream",
     "text": [
      "Mejores parámetros: {'n_estimators': 2000}\n",
      "R^2 en datos de test: 0.621\n",
      "Mediana del error en datos de test: 11.45\n",
      "Media del error en datos de test: 21.168\n"
     ]
    }
   ],
   "source": [
    "tuned_parameters = {\n",
    "    \"n_estimators\": [100, 500, 1000, 2000]\n",
    "}\n",
    "\n",
    "rf_tuned = GridSearchCV(RandomForestRegressor(), cv = 3, param_grid = tuned_parameters)\n",
    "\n",
    "preds = rf_tuned.fit(X_train, y_train)\n",
    "best = rf_tuned.best_estimator_ \n",
    "y_predict = rf_tuned.predict(X_test)\n",
    "rft_testing_set_score = rf_tuned.score(X_test, y_test)\n",
    "rft_median_abs_error = median_absolute_error(y_test, y_predict)\n",
    "rf_mean_abs_error = mean_absolute_error(y_test, y_predict)\n",
    "\n",
    "print('Mejores parámetros:', rf_tuned.best_params_)\n",
    "print('R^2 en datos de test: ' + str(round(rf_testing_set_score,3)))\n",
    "print('Mediana del error en datos de test: ' + str(round(rf_median_abs_error,3)))\n",
    "print('Media del error en datos de test: ' + str(round(rf_mean_abs_error,3)))"
   ]
  }
 ],
 "metadata": {
  "kernelspec": {
   "display_name": "Python 3",
   "language": "python",
   "name": "python3"
  },
  "language_info": {
   "codemirror_mode": {
    "name": "ipython",
    "version": 3
   },
   "file_extension": ".py",
   "mimetype": "text/x-python",
   "name": "python",
   "nbconvert_exporter": "python",
   "pygments_lexer": "ipython3",
   "version": "3.7.4"
  }
 },
 "nbformat": 4,
 "nbformat_minor": 2
}
