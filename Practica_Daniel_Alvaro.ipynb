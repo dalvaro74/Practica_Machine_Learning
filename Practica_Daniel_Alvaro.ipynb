{
 "cells": [
  {
   "cell_type": "markdown",
   "metadata": {},
   "source": [
    "# Practica Modulo Machine Learning -- Daniel Alvaro\n",
    "\n",
    "En este notebook vamos a abordar la práctica del modulo de Machine Learning siguiendo los siguientes pasos.\n",
    "\n",
    "1. Generación de nuevas características a partir de las existentes\n",
    "2. Codificación de variables\n",
    "3. Análisis exploratorio\n",
    "4. Selección y evaluación del modelo\n",
    "5. Comparativa de distintos algoritmos"
   ]
  },
  {
   "cell_type": "markdown",
   "metadata": {},
   "source": [
    "## Librerías y funciones\n",
    "\n",
    "Lo primero es cargar las librerías y funciones necesarias."
   ]
  },
  {
   "cell_type": "code",
   "execution_count": 1,
   "metadata": {},
   "outputs": [],
   "source": [
    "import numpy as np\n",
    "import pandas as pd\n",
    "\n",
    "import matplotlib.pyplot as plt\n",
    "from matplotlib.colors import ListedColormap\n",
    "%matplotlib inline\n",
    "\n",
    "cm = plt.cm.RdBu\n",
    "cm_bright = ListedColormap(['#FF0000', '#0000FF'])\n",
    "\n",
    "import warnings\n",
    "warnings.filterwarnings('ignore')"
   ]
  },
  {
   "cell_type": "markdown",
   "metadata": {},
   "source": [
    "## Datos de entrada\n",
    "\n",
    "Cargamos los datos del fichero de airbnb reducido.\n",
    "Este fichero contiene 14870 observaciones y 89 variables"
   ]
  },
  {
   "cell_type": "code",
   "execution_count": 2,
   "metadata": {},
   "outputs": [],
   "source": [
    "full_airbnb = pd.read_csv('./data/airbnb-listings.csv',sep=';', decimal='.')"
   ]
  },
  {
   "cell_type": "code",
   "execution_count": 3,
   "metadata": {},
   "outputs": [
    {
     "name": "stdout",
     "output_type": "stream",
     "text": [
      "<class 'pandas.core.frame.DataFrame'>\n",
      "RangeIndex: 14780 entries, 0 to 14779\n",
      "Data columns (total 89 columns):\n",
      "ID                                14780 non-null int64\n",
      "Listing Url                       14780 non-null object\n",
      "Scrape ID                         14780 non-null int64\n",
      "Last Scraped                      14780 non-null object\n",
      "Name                              14779 non-null object\n",
      "Summary                           14189 non-null object\n",
      "Space                             10888 non-null object\n",
      "Description                       14774 non-null object\n",
      "Experiences Offered               14780 non-null object\n",
      "Neighborhood Overview             9134 non-null object\n",
      "Notes                             5644 non-null object\n",
      "Transit                           9066 non-null object\n",
      "Access                            8318 non-null object\n",
      "Interaction                       8228 non-null object\n",
      "House Rules                       9619 non-null object\n",
      "Thumbnail Url                     11960 non-null object\n",
      "Medium Url                        11960 non-null object\n",
      "Picture Url                       14761 non-null object\n",
      "XL Picture Url                    11960 non-null object\n",
      "Host ID                           14780 non-null int64\n",
      "Host URL                          14780 non-null object\n",
      "Host Name                         14777 non-null object\n",
      "Host Since                        14777 non-null object\n",
      "Host Location                     14737 non-null object\n",
      "Host About                        9539 non-null object\n",
      "Host Response Time                12881 non-null object\n",
      "Host Response Rate                12881 non-null float64\n",
      "Host Acceptance Rate              39 non-null object\n",
      "Host Thumbnail Url                14777 non-null object\n",
      "Host Picture Url                  14777 non-null object\n",
      "Host Neighbourhood                10904 non-null object\n",
      "Host Listings Count               14777 non-null float64\n",
      "Host Total Listings Count         14777 non-null float64\n",
      "Host Verifications                14774 non-null object\n",
      "Street                            14780 non-null object\n",
      "Neighbourhood                     9551 non-null object\n",
      "Neighbourhood Cleansed            14780 non-null object\n",
      "Neighbourhood Group Cleansed      13760 non-null object\n",
      "City                              14774 non-null object\n",
      "State                             14636 non-null object\n",
      "Zipcode                           14274 non-null object\n",
      "Market                            14723 non-null object\n",
      "Smart Location                    14780 non-null object\n",
      "Country Code                      14780 non-null object\n",
      "Country                           14779 non-null object\n",
      "Latitude                          14780 non-null float64\n",
      "Longitude                         14780 non-null float64\n",
      "Property Type                     14780 non-null object\n",
      "Room Type                         14780 non-null object\n",
      "Accommodates                      14780 non-null int64\n",
      "Bathrooms                         14725 non-null float64\n",
      "Bedrooms                          14755 non-null float64\n",
      "Beds                              14731 non-null float64\n",
      "Bed Type                          14780 non-null object\n",
      "Amenities                         14610 non-null object\n",
      "Square Feet                       598 non-null float64\n",
      "Price                             14763 non-null float64\n",
      "Weekly Price                      3590 non-null float64\n",
      "Monthly Price                     3561 non-null float64\n",
      "Security Deposit                  6256 non-null float64\n",
      "Cleaning Fee                      8687 non-null float64\n",
      "Guests Included                   14780 non-null int64\n",
      "Extra People                      14780 non-null int64\n",
      "Minimum Nights                    14780 non-null int64\n",
      "Maximum Nights                    14780 non-null int64\n",
      "Calendar Updated                  14780 non-null object\n",
      "Has Availability                  12 non-null object\n",
      "Availability 30                   14780 non-null int64\n",
      "Availability 60                   14780 non-null int64\n",
      "Availability 90                   14780 non-null int64\n",
      "Availability 365                  14780 non-null int64\n",
      "Calendar last Scraped             14780 non-null object\n",
      "Number of Reviews                 14780 non-null int64\n",
      "First Review                      11618 non-null object\n",
      "Last Review                       11617 non-null object\n",
      "Review Scores Rating              11476 non-null float64\n",
      "Review Scores Accuracy            11454 non-null float64\n",
      "Review Scores Cleanliness         11460 non-null float64\n",
      "Review Scores Checkin             11443 non-null float64\n",
      "Review Scores Communication       11460 non-null float64\n",
      "Review Scores Location            11440 non-null float64\n",
      "Review Scores Value               11439 non-null float64\n",
      "License                           349 non-null object\n",
      "Jurisdiction Names                227 non-null object\n",
      "Cancellation Policy               14780 non-null object\n",
      "Calculated host listings count    14776 non-null float64\n",
      "Reviews per Month                 11618 non-null float64\n",
      "Geolocation                       14780 non-null object\n",
      "Features                          14779 non-null object\n",
      "dtypes: float64(23), int64(13), object(53)\n",
      "memory usage: 10.0+ MB\n"
     ]
    }
   ],
   "source": [
    "full_airbnb.info()"
   ]
  },
  {
   "cell_type": "markdown",
   "metadata": {},
   "source": [
    "Antes de llevar a cabo el split entre Trainintg y Test eliminamos las columnas que tenemos claro que no van a ser utiles para nuestro objetivo:\n",
    "1. **Las que contienen URLs**: Listing Url: drop_url  \n",
    "2. **Los Ids y lo relativo al Scrape realizado**: drop_id_scrape\n",
    "3. **Nombres y comentarios**:drop_comments\n",
    "4. **Direcciones**: A la vista de la informacion que contienen las variables de direccion podemos dropear varias de ellas por diversos motivos (sin que tengamos que dividir previamente en Train Test). Demasiado genericas: City, State, Market, Smart Location, Country Code, Country, Jurisdiction Names. Demasiado concretas: Street, Latitude, Longitude y Geolocation. Demasiado ruido o demasiados registros nulos: Neighbourhood, Host Location, Host Neighbourhood. Por ultimo Zipcode es una variable que para representar la direccion no me parece la mas adecuada debido a que aunque es un numero, deberia ser tratado como una variable categorica. Ademas contiene bastante ruido, una cantidad no despreciable de nulos y tambien es demasiado concreta (506 valores unicos)     Por tanto y para la evaluacion del modelo deberemos barajar cual de las dos opciones que quedan es la mejor para representar la \"zona\" en la que se encuentra el piso ( Neighbourhood Cleansed o Neighbourhood Group Cleansed, las cuales obviamente van a estar fuertemente correladas), pero esto debera hacerse una vez separado el dataset, para que los datos de Test no influyan en la decision. (En cualquier caso sera necesario hacer un trabajo de limpieza y categorizacion con la variable elegida):drop_address\n",
    "5. **Informascion relativa al Hospedador**: drop_host"
   ]
  },
  {
   "cell_type": "code",
   "execution_count": 4,
   "metadata": {},
   "outputs": [],
   "source": [
    "drop_url = np.array(['Listing Url', 'Thumbnail Url', 'Medium Url', 'Picture Url', 'XL Picture Url', 'Host URL',\n",
    "                     'Host Thumbnail Url','Host Picture Url'])\n",
    "full_airbnb.drop(drop_url, axis=1, inplace=True)\n",
    "\n",
    "drop_id_scrape = np.array(['ID', 'Scrape ID', 'Last Scraped', 'Host ID', 'Calendar last Scraped'])\n",
    "full_airbnb.drop(drop_id_scrape, axis=1, inplace=True)\n",
    "\n",
    "\n",
    "drop_comments = np.array(['Name', 'Summary', 'Space', 'Description', 'Neighborhood Overview', 'Notes',\n",
    "                     'Transit','Access', 'Interaction', 'House Rules', 'Host Name', 'Experiences Offered',\n",
    "                         'Host About', 'Amenities', 'Features'])\n",
    "\n",
    "full_airbnb.drop(drop_comments, axis=1, inplace=True)\n",
    "\n",
    "drop_address = np.array(['Host Location', 'Host Neighbourhood', 'Neighbourhood', 'Street', 'Zipcode', \n",
    "    'City', 'State', 'Market', 'Smart Location','Country Code', 'Country', 'Latitude', \n",
    "                         'Longitude', 'Jurisdiction Names', 'Geolocation'])\n",
    "\n",
    "full_airbnb.drop(drop_address, axis=1, inplace=True)\n",
    "\n",
    "drop_host = np.array(['Host Since', 'Host Response Time', 'Host Response Rate', 'Host Acceptance Rate', \n",
    "    'Host Listings Count', 'Host Total Listings Count','Host Verifications', 'Calculated host listings count'])\n",
    "\n",
    "full_airbnb.drop(drop_host, axis=1, inplace=True)\n",
    "\n"
   ]
  },
  {
   "cell_type": "markdown",
   "metadata": {},
   "source": [
    "Por ultimo eliminamos varios campos sueltos por los siguientes motivos:\n",
    "* Square Feet: Contiene 14182 observaciones null\n",
    "* Weekly Price: Contiene 11190 observaciones null\n",
    "* Monthly Price: Contiene 11219 obsevaciones null\n",
    "* Has Availability: Contiene 12768 observaciones null\n",
    "* First Review: No creemos que aporte informacion util para el calculo del precio\n",
    "* Last Review: No creemos que aporte informacion util para el calculo del precio\n",
    "* Calendar Updated: No creemos que aporte informacion util para el calculo del precio\n",
    "* License: Contiene 14431 observaciones null\n",
    "* Bed Type: Casi el 99% de las camas son del mismo tipo (Real Bed)\n",
    "\n"
   ]
  },
  {
   "cell_type": "code",
   "execution_count": 5,
   "metadata": {},
   "outputs": [],
   "source": [
    "drop_varios = np.array(['Square Feet', 'Weekly Price', 'Monthly Price', 'Has Availability', 'First Review', 'Last Review',\n",
    "                     'Calendar Updated','License', 'Bed Type'])\n",
    "\n",
    "full_airbnb.drop(drop_varios, axis=1, inplace=True)\n"
   ]
  },
  {
   "cell_type": "code",
   "execution_count": 6,
   "metadata": {},
   "outputs": [
    {
     "data": {
      "text/plain": [
       "(14780, 29)"
      ]
     },
     "execution_count": 6,
     "metadata": {},
     "output_type": "execute_result"
    }
   ],
   "source": [
    "full_airbnb.shape"
   ]
  },
  {
   "cell_type": "code",
   "execution_count": 7,
   "metadata": {},
   "outputs": [
    {
     "data": {
      "text/plain": [
       "count    14763.000000\n",
       "mean        73.561471\n",
       "std         72.062050\n",
       "min          9.000000\n",
       "25%         34.000000\n",
       "50%         55.000000\n",
       "75%         86.000000\n",
       "max        999.000000\n",
       "Name: Price, dtype: float64"
      ]
     },
     "execution_count": 7,
     "metadata": {},
     "output_type": "execute_result"
    }
   ],
   "source": [
    "full_airbnb['Price'].describe().T"
   ]
  },
  {
   "cell_type": "markdown",
   "metadata": {},
   "source": [
    "**Tras la limpeza inicial nos hemos quedado con 28 caracteristicas (y el target).**"
   ]
  },
  {
   "cell_type": "markdown",
   "metadata": {},
   "source": [
    "## Separación Train Test\n",
    "\n",
    "Ahora, y antes de pasar al analisis exploratorio y la seleccion de caratresiticas procemos a la divsion del dataset de entrada en train y test. De momento y por si llevamos a cabo tratamiento de outliers no separaremos la variable objetivo del resto de caracteristicas."
   ]
  },
  {
   "cell_type": "code",
   "execution_count": 8,
   "metadata": {},
   "outputs": [
    {
     "name": "stdout",
     "output_type": "stream",
     "text": [
      "Dimensiones del dataset de training: (11824, 29)\n",
      "Dimensiones del dataset de test: (2956, 29)\n"
     ]
    }
   ],
   "source": [
    "from sklearn.model_selection import train_test_split\n",
    "train, test = train_test_split(full_airbnb, test_size=0.2, shuffle=True, random_state=0)\n",
    "print(f'Dimensiones del dataset de training: {train.shape}')\n",
    "print(f'Dimensiones del dataset de test: {test.shape}')\n",
    "# Guardamos\n",
    "train.to_csv('./data/train.csv', sep=';', decimal='.', index=False)\n",
    "test.to_csv('./data/test.csv', sep=';', decimal='.', index=False)"
   ]
  },
  {
   "cell_type": "markdown",
   "metadata": {},
   "source": [
    "**Tengamos en cuenta que a partir de ahora todo el analisis exploratorio y selección de caracteristicas se hara sobre el dataset de entrenamiento.**\n",
    "**Posteriormente todas transformaciones llevadas a cabo en dicho dataset se deberan implementar en el de Test.**"
   ]
  },
  {
   "cell_type": "markdown",
   "metadata": {},
   "source": [
    "Empecemos tratando las variables de vecindario (Neighbourhood Cleansed y Neighbourhood Group Cleansed)"
   ]
  },
  {
   "cell_type": "code",
   "execution_count": 9,
   "metadata": {},
   "outputs": [
    {
     "name": "stdout",
     "output_type": "stream",
     "text": [
      "449\n",
      "0\n",
      "Embajadores                                                                       1476\n",
      "Universidad                                                                       1059\n",
      "Palacio                                                                            881\n",
      "Sol                                                                                769\n",
      "Justicia                                                                           630\n",
      "Cortes                                                                             607\n",
      "Trafalgar                                                                          253\n",
      "Argüelles                                                                          216\n",
      "Palos de Moguer                                                                    215\n",
      "Goya                                                                               190\n",
      "Puerta del Angel                                                                   151\n",
      "Guindalera                                                                         144\n",
      "Recoletos                                                                          140\n",
      "Arapiles                                                                           137\n",
      "Almagro                                                                            124\n",
      "Acacias                                                                            119\n",
      "Pacífico                                                                           117\n",
      "Gaztambide                                                                         111\n",
      "Lista                                                                              108\n",
      "Cuatro Caminos                                                                     104\n",
      "Delicias                                                                            96\n",
      "Chopera                                                                             90\n",
      "Castellana                                                                          85\n",
      "Rios Rosas                                                                          84\n",
      "Ibiza                                                                               83\n",
      "Prosperidad                                                                         77\n",
      "San Isidro                                                                          71\n",
      "Jerónimos                                                                           70\n",
      "Imperial                                                                            67\n",
      "San Diego                                                                           67\n",
      "Ventas                                                                              66\n",
      "Bellas Vistas                                                                       65\n",
      "Castillejos                                                                         65\n",
      "Hispanoamérica                                                                      59\n",
      "Palma de Mallorca                                                                   59\n",
      "Vista Alegre                                                                        59\n",
      "Casa de Campo                                                                       58\n",
      "Nueva España                                                                        55\n",
      "Fuente del Berro                                                                    54\n",
      "Vallehermoso                                                                        54\n",
      "Berruguete                                                                          52\n",
      "Lucero                                                                              51\n",
      "Numancia                                                                            50\n",
      "la Dreta de l'Eixample                                                              50\n",
      "Almenara                                                                            47\n",
      "Comillas                                                                            45\n",
      "Opañel                                                                              44\n",
      "Adelfas                                                                             43\n",
      "Ciudad Universitaria                                                                42\n",
      "Ciudad Jardín                                                                       41\n",
      "Valdefuentes                                                                        40\n",
      "Valdeacederas                                                                       40\n",
      "Quintana                                                                            39\n",
      "Almendrales                                                                         38\n",
      "Pueblo Nuevo                                                                        37\n",
      "Pinar del Rey                                                                       36\n",
      "Concepción                                                                          36\n",
      "Simancas                                                                            36\n",
      "Valverde                                                                            35\n",
      "Peñagrande                                                                          35\n",
      "Casco Histórico de Vallecas                                                         35\n",
      "Canillas                                                                            34\n",
      "Alcúdia                                                                             34\n",
      "Aluche                                                                              33\n",
      "Dublin City                                                                         33\n",
      "Puerta Bonita                                                                       32\n",
      "El Viso                                                                             32\n",
      "Legazpi                                                                             30\n",
      "San Fermín                                                                          29\n",
      "Moscardó                                                                            29\n",
      "Costillares                                                                         28\n",
      "Cármenes                                                                            26\n",
      "l'Antiga Esquerra de l'Eixample                                                     26\n",
      "Palomeras Bajas                                                                     26\n",
      "Estrella                                                                            26\n",
      "I Centro Storico                                                                    23\n",
      "Niño Jesús                                                                          22\n",
      "Pilar                                                                               22\n",
      "San Juan Bautista                                                                   22\n",
      "Buenavista                                                                          22\n",
      "Alameda de Osuna                                                                    21\n",
      "Los Rosales                                                                         21\n",
      "Casco Histórico de Barajas                                                          21\n",
      "Castilla                                                                            20\n",
      "Casco Histórico de Vicálvaro                                                        19\n",
      "Westminster                                                                         18\n",
      "Rejas                                                                               18\n",
      "Fontarrón                                                                           18\n",
      "Aravaca                                                                             17\n",
      "Tower Hamlets                                                                       17\n",
      "Valdezarza                                                                          17\n",
      "San Andrés                                                                          16\n",
      "Pollença                                                                            15\n",
      "Calvià                                                                              15\n",
      "Campamento                                                                          15\n",
      "Sant Pere, Santa Caterina i la Ribera                                               15\n",
      "la Vila de Gràcia                                                                   15\n",
      "Colina                                                                              15\n",
      "Ealing                                                                              14\n",
      "Mirasierra                                                                          14\n",
      "San Pascual                                                                         14\n",
      "el Camp d'en Grassot i Gràcia Nova                                                  14\n",
      "La Paz                                                                              14\n",
      "Los Angeles                                                                         14\n",
      "Media Legua                                                                         14\n",
      "Atocha                                                                              14\n",
      "Inca                                                                                13\n",
      "Timón                                                                               13\n",
      "Santa Margalida                                                                     13\n",
      "Landstra§e                                                                          13\n",
      "Aguilas                                                                             13\n",
      "Portazgo                                                                            12\n",
      "Manacor                                                                             12\n",
      "Apostol Santiago                                                                    12\n",
      "Hackney                                                                             12\n",
      "Vinateros                                                                           12\n",
      "Ambroz                                                                              12\n",
      "Selva                                                                               12\n",
      "Arcos                                                                               11\n",
      "Marroquina                                                                          11\n",
      "Pradolongo                                                                          11\n",
      "el Barri Gòtic                                                                      11\n",
      "Waverley                                                                            11\n",
      "les Corts                                                                           11\n",
      "Buttes-Montmartre                                                                   11\n",
      "Palomeras Sureste                                                                   11\n",
      "Abrantes                                                                            11\n",
      "la Sagrada Família                                                                  11\n",
      "Salvador                                                                            10\n",
      "Palomas                                                                             10\n",
      "Sa Pobla                                                                            10\n",
      "Piovera                                                                             10\n",
      "Hostafrancs                                                                         10\n",
      "Sant Gervasi - Galvany                                                               9\n",
      "Deyá                                                                                 9\n",
      "Sants                                                                                9\n",
      "el Raval                                                                             9\n",
      "Sóller                                                                               8\n",
      "Entrevías                                                                            8\n",
      "Opéra                                                                                8\n",
      "el Poble Sec                                                                         8\n",
      "Butarque                                                                             7\n",
      "Algaida                                                                              7\n",
      "Búger                                                                                7\n",
      "Islington                                                                            7\n",
      "San Cristobal                                                                        7\n",
      "Aeropuerto                                                                           7\n",
      "Sydney                                                                               7\n",
      "Muro                                                                                 7\n",
      "Popincourt                                                                           7\n",
      "Batignolles-Monceau                                                                  7\n",
      "Llucmajor                                                                            6\n",
      "Palais-Bourbon                                                                       6\n",
      "Canillejas                                                                           6\n",
      "Lambeth                                                                              6\n",
      "Frankfurter Allee Süd FK                                                             6\n",
      "Kensington and Chelsea                                                               6\n",
      "Alaró                                                                                6\n",
      "Élysée                                                                               6\n",
      "Orcasur                                                                              6\n",
      "Entrepôt                                                                             6\n",
      "Ménilmontant                                                                         6\n",
      "la Nova Esquerra de l'Eixample                                                       6\n",
      "Castro/Upper Market                                                                  5\n",
      "Valdemarín                                                                           5\n",
      "Sineu                                                                                5\n",
      "Southwark                                                                            5\n",
      "Sant Llorenç des Cardassar                                                           5\n",
      "Fuentelareina                                                                        5\n",
      "Amposta                                                                              5\n",
      "Panthéon                                                                             5\n",
      "Corralejos                                                                           5\n",
      "Cannaregio                                                                           5\n",
      "Campanet                                                                             5\n",
      "Zofío                                                                                5\n",
      "Artà                                                                                 5\n",
      "Valldemossa                                                                          5\n",
      "Felanitx                                                                             5\n",
      "Midtown                                                                              5\n",
      "Mid-Wilshire                                                                         5\n",
      "Bedford-Stuyvesant                                                                   5\n",
      "Harlem                                                                               5\n",
      "Williamsburg                                                                         5\n",
      "el Parc i la Llacuna del Poblenou                                                    4\n",
      "Hammersmith and Fulham                                                               4\n",
      "Bruxelles                                                                            4\n",
      "Passy                                                                                4\n",
      "Camden                                                                               4\n",
      "Brent                                                                                4\n",
      "Reuterstraße                                                                         4\n",
      "IV Tiburtina                                                                         4\n",
      "Santa Eugenia                                                                        4\n",
      "Mancor de la Vall                                                                    4\n",
      "Santa María del Camí                                                                 4\n",
      "Capdepera                                                                            4\n",
      "Downtown                                                                             4\n",
      "Rosas                                                                                4\n",
      "II Parioli/Nomentano                                                                 4\n",
      "Annex                                                                                3\n",
      "Binissalem                                                                           3\n",
      "De Baarsjes - Oud-West                                                               3\n",
      "Llubí                                                                                3\n",
      "Centrum-West                                                                         3\n",
      "Ridgewood                                                                            3\n",
      "Vesterbro-Kongens Enghave                                                            3\n",
      "Leopoldstadt                                                                         3\n",
      "sterbro                                                                              3\n",
      "Observatoire                                                                         3\n",
      "El Plantío                                                                           3\n",
      "Balboa Park                                                                          3\n",
      "Campos                                                                               3\n",
      "Zuid                                                                                 3\n",
      "Commune de Genève                                                                    3\n",
      "Croydon                                                                              3\n",
      "Marrickville                                                                         3\n",
      "Pavones                                                                              3\n",
      "Centrum-Oost                                                                         3\n",
      "East Village                                                                         3\n",
      "Wandsworth                                                                           3\n",
      "Saint-Josse-ten-Noode                                                                3\n",
      "El Goloso                                                                            3\n",
      "Hollywood                                                                            3\n",
      "Sant Antoni                                                                          3\n",
      "Tollcross                                                                            3\n",
      "VII San Giovanni/Cinecittà                                                           3\n",
      "el Camp de l'Arpa del Clot                                                           3\n",
      "Wieden                                                                               3\n",
      "Giudecca                                                                             3\n",
      "Woollahra                                                                            3\n",
      "Ses Salines                                                                          3\n",
      "Santanyí                                                                             3\n",
      "VIII Appia Antica                                                                    3\n",
      "West Town                                                                            3\n",
      "Alexanderplatz                                                                       3\n",
      "Temple                                                                               3\n",
      "Edgewood, Bloomingdale, Truxton Circle, Eckington                                    3\n",
      "Vaugirard                                                                            3\n",
      "Upper East Side                                                                      2\n",
      "Can Baró                                                                             2\n",
      "Long Island City                                                                     2\n",
      "Schillerpromenade                                                                    2\n",
      "Bromley                                                                              2\n",
      "Merton                                                                               2\n",
      "Andratx                                                                              2\n",
      "la Barceloneta                                                                       2\n",
      "Frederiksberg                                                                        2\n",
      "Forest Hill South                                                                    2\n",
      "Leonidas                                                                             2\n",
      "Little Italy                                                                         2\n",
      "East Harlem                                                                          2\n",
      "Topanga                                                                              2\n",
      "Saint-Gilles                                                                         2\n",
      "Indre By                                                                             2\n",
      "Orcasitas                                                                            2\n",
      "Hôtel-de-Ville                                                                       2\n",
      "Neubau                                                                               2\n",
      "Lloseta                                                                              2\n",
      "Oud-Oost                                                                             2\n",
      "University                                                                           2\n",
      "Canongate, Southside and Dumbiedykes                                                 2\n",
      "Hell's Kitchen                                                                       2\n",
      "XII Monte Verde                                                                      2\n",
      "Sants - Badal                                                                        2\n",
      "Hounslow                                                                             2\n",
      "Son Servera                                                                          2\n",
      "Mariahilf                                                                            2\n",
      "Prenzlauer Berg Süd                                                                  2\n",
      "la Marina de Port                                                                    2\n",
      "la Salut                                                                             2\n",
      "Haringey                                                                             2\n",
      "Cuatro Vientos                                                                       2\n",
      "Gobelins                                                                             2\n",
      "Logan Square                                                                         2\n",
      "Hellín                                                                               2\n",
      "Melbourne                                                                            2\n",
      "III Monte Sacro                                                                      2\n",
      "78704                                                                                2\n",
      "Lido                                                                                 2\n",
      "Luxembourg                                                                           2\n",
      "Bourse                                                                               2\n",
      "Reuilly                                                                              2\n",
      "Louvre                                                                               2\n",
      "Helmholtzplatz                                                                       2\n",
      "Jamaica Plain                                                                        2\n",
      "Nolita                                                                               2\n",
      "Greenpoint                                                                           2\n",
      "Stonnington                                                                          2\n",
      "Ariany                                                                               2\n",
      "Santa Monica                                                                         2\n",
      "Highland Park                                                                        2\n",
      "Sant Joan                                                                            2\n",
      "Venice                                                                               2\n",
      "Vilafranc de Bonany                                                                  1\n",
      "Etterbeek                                                                            1\n",
      "Bushwick                                                                             1\n",
      "South Dublin                                                                         1\n",
      "Bernal Heights                                                                       1\n",
      "Noord-Oost                                                                           1\n",
      "District 18                                                                          1\n",
      "Oud-Noord                                                                            1\n",
      "Fort Greene                                                                          1\n",
      "Kantstraße                                                                           1\n",
      "Westerpark                                                                           1\n",
      "Nrrebro                                                                              1\n",
      "Weißensee                                                                            1\n",
      "De Pijp - Rivierenbuurt                                                              1\n",
      "la Font d'en Fargues                                                                 1\n",
      "Bunyola                                                                              1\n",
      "78733                                                                                1\n",
      "Lower East Side                                                                      1\n",
      "Theater District                                                                     1\n",
      "Malibu                                                                               1\n",
      "SoHo                                                                                 1\n",
      "LISMORE CITY COUNCIL                                                                 1\n",
      "Hietzing                                                                             1\n",
      "North Sydney                                                                         1\n",
      "Hollywood Hills                                                                      1\n",
      "Capitol Hill, Lincoln Park                                                           1\n",
      "Ixelles                                                                              1\n",
      "Sant Gervasi - la Bonanova                                                           1\n",
      "Church-Yonge Corridor                                                                1\n",
      "Mid-Beacon Hill                                                                      1\n",
      "Costitx                                                                              1\n",
      "Innere Stadt                                                                         1\n",
      "Bitter Lake                                                                          1\n",
      "Southwest Employment Area, Southwest/Waterfront, Fort McNair, Buzzard Point          1\n",
      "el Fort Pienc                                                                        1\n",
      "Crown Heights                                                                        1\n",
      "Dupont Circle, Connecticut Avenue/K Street                                           1\n",
      "Karlshorst                                                                           1\n",
      "Adams                                                                                1\n",
      "Sant Martí de Provençals                                                             1\n",
      "el Putxet i el Farró                                                                 1\n",
      "el Baix Guinardó                                                                     1\n",
      "Meidling                                                                             1\n",
      "la Font de la Guatlla                                                                1\n",
      "Highbridge                                                                           1\n",
      "Brightwood Park, Crestwood, Petworth                                                 1\n",
      "Silver Lake                                                                          1\n",
      "Sunset Park                                                                          1\n",
      "Waltham Forest                                                                       1\n",
      "Lawton Park                                                                          1\n",
      "Maribyrnong                                                                          1\n",
      "Excelsior                                                                            1\n",
      "Long Beach                                                                           1\n",
      "ΝΕΟΣ ΚΟΣΜΟΣ                                                                          1\n",
      "Sencelles                                                                            1\n",
      "Warringah                                                                            1\n",
      "Near North Side                                                                      1\n",
      "ΠΑΤΗΣΙΑ                                                                              1\n",
      "Moreland                                                                             1\n",
      "West Highland                                                                        1\n",
      "Petra                                                                                1\n",
      "Lloret de Vistalegre                                                                 1\n",
      "Margareten                                                                           1\n",
      "Civic Center                                                                         1\n",
      "Broadway                                                                             1\n",
      "Balgreen and Roseburn                                                                1\n",
      "Sutton                                                                               1\n",
      "Adams-Normandie                                                                      1\n",
      "Hulme                                                                                1\n",
      "Richmond upon Thames                                                                 1\n",
      "Botany Bay                                                                           1\n",
      "ΠΛΑΤΕΙΑ ΑΜΕΡΙΚΗΣ                                                                     1\n",
      "Cleveland Heights                                                                    1\n",
      "Geuzenveld - Slotermeer                                                              1\n",
      "Westmount                                                                            1\n",
      "Lachine                                                                              1\n",
      "la Vila Olímpica del Poblenou                                                        1\n",
      "Sloan Lake                                                                           1\n",
      "Dovercourt-Wallace Emerson-Junction                                                  1\n",
      "Inverleith, Goldenacre and Warriston                                                 1\n",
      "Brederode                                                                            1\n",
      "Tempelhofer Vorstadt                                                                 1\n",
      "Longsight                                                                            1\n",
      "XIII Aurelia                                                                         1\n",
      "Parkviertel                                                                          1\n",
      "Chinatown                                                                            1\n",
      "Hollywood Hills West                                                                 1\n",
      "West Village                                                                         1\n",
      "Südliche Friedrichstadt                                                              1\n",
      "Porta                                                                                1\n",
      "San Fernando                                                                         1\n",
      "Dorsoduro                                                                            1\n",
      "VI Roma delle Torri                                                                  1\n",
      "Friedenau                                                                            1\n",
      "Los Feliz                                                                            1\n",
      "Whring                                                                              1\n",
      "The Beaches                                                                          1\n",
      "Rancho Park                                                                          1\n",
      "Pasadena                                                                             1\n",
      "Brunnenstr. Süd                                                                      1\n",
      "Central & Western                                                                    1\n",
      "East Riverside                                                                       1\n",
      "Kensington-Chinatown                                                                 1\n",
      "Boerum Hill                                                                          1\n",
      "Prospect-Lefferts Gardens                                                            1\n",
      "El Pardo                                                                             1\n",
      "Van Nuys                                                                             1\n",
      "Kalorama Heights, Adams Morgan, Lanier Heights                                       1\n",
      "XV Cassia/Flaminia                                                                   1\n",
      "XI Arvalia/Portuense                                                                 1\n",
      "Nob Hill                                                                             1\n",
      "Darebin                                                                              1\n",
      "Theaterbuurt-Meir                                                                    1\n",
      "südliche Luisenstadt                                                                 1\n",
      "Gramercy                                                                             1\n",
      "Volkspark Wilmersdorf                                                                1\n",
      "Brentwood                                                                            1\n",
      "Verdun                                                                               1\n",
      "West Hollywood                                                                       1\n",
      "Beverly Hills                                                                        1\n",
      "Twining, Fairlawn, Randle Highlands, Penn Branch, Fort Davis Park, Fort Dupont       1\n",
      "Lake Balboa                                                                          1\n",
      "Fairfax                                                                              1\n",
      "Forest                                                                               1\n",
      "Rogers Park                                                                          1\n",
      "Amager Vest                                                                          1\n",
      "Sint-Andries                                                                         1\n",
      "Lake View                                                                            1\n",
      "la Maternitat i Sant Ramon                                                           1\n",
      "Westlake                                                                             1\n",
      "Flatbush                                                                             1\n",
      "Rosedale-Moore Park                                                                  1\n",
      "Niagara                                                                              1\n",
      "Karl-Marx-Allee-Süd                                                                  1\n",
      "Dn Laoghaire-Rathdown                                                                1\n",
      "Mid-City                                                                             1\n",
      "Chesterfield Square                                                                  1\n",
      "nördliche Luisenstadt                                                                1\n",
      "Castello                                                                             1\n",
      "Beverly Grove                                                                        1\n",
      "el Clot                                                                              1\n",
      "Takoma, Brightwood, Manor Park                                                       1\n",
      "Prenzlauer Berg Nordwest                                                             1\n",
      "Frankfurter Allee Nord                                                               1\n",
      "Prospect Heights                                                                     1\n",
      "Alt  Treptow                                                                         1\n",
      "Redbridge                                                                            1\n",
      "Marratxí                                                                             1\n",
      "Carroll Gardens                                                                      1\n",
      "Rixdorf                                                                              1\n",
      "Port Phillip                                                                         1\n",
      "Berkeley                                                                             1\n",
      "Cologny                                                                              1\n",
      "Provençals del Poblenou                                                              1\n",
      "Buttes-Chaumont                                                                      1\n",
      "Dbling                                                                              1\n",
      "Valby                                                                                1\n",
      "Name: Neighbourhood Cleansed, dtype: int64\n"
     ]
    }
   ],
   "source": [
    "#print(full_airbnb['Neighbourhood'].unique())\n",
    "print(len(train['Neighbourhood Cleansed'].unique()))\n",
    "print(train['Neighbourhood Cleansed'].isna().sum())\n",
    "with pd.option_context(\"display.max_rows\", 1000):\n",
    "    print(train['Neighbourhood Cleansed'].value_counts())"
   ]
  },
  {
   "cell_type": "code",
   "execution_count": 10,
   "metadata": {},
   "outputs": [
    {
     "name": "stdout",
     "output_type": "stream",
     "text": [
      "49\n",
      "819\n",
      "Centro                      5422\n",
      "Chamberí                     763\n",
      "Salamanca                    721\n",
      "Arganzuela                   631\n",
      "Tetuán                       373\n",
      "Retiro                       361\n",
      "Moncloa - Aravaca            358\n",
      "Latina                       291\n",
      "Carabanchel                  284\n",
      "Chamartín                    284\n",
      "Ciudad Lineal                257\n",
      "Puente de Vallecas           174\n",
      "Hortaleza                    142\n",
      "Fuencarral - El Pardo        129\n",
      "Usera                        120\n",
      "Eixample                      97\n",
      "San Blas - Canillejas         92\n",
      "Barajas                       67\n",
      "Villaverde                    65\n",
      "Moratalaz                     58\n",
      "Villa de Vallecas             39\n",
      "Ciutat Vella                  37\n",
      "Sants-Montjuïc                32\n",
      "Gràcia                        31\n",
      "Vicálvaro                     31\n",
      "Manhattan                     28\n",
      "Brooklyn                      21\n",
      "Les Corts                     12\n",
      "Friedrichshain-Kreuzberg      12\n",
      "Isole                         12\n",
      "Sant Martí                    11\n",
      "Sarrià-Sant Gervasi           11\n",
      "Neukölln                       7\n",
      "Pankow                         6\n",
      "Mitte                          5\n",
      "Queens                         5\n",
      "Horta-Guinardó                 4\n",
      "Charlottenburg-Wilm.           2\n",
      "Beacon Hill                    1\n",
      "Other neighborhoods            1\n",
      "Nou Barris                     1\n",
      "Treptow - Köpenick             1\n",
      "Lichtenberg                    1\n",
      "Capitol Hill                   1\n",
      "Magnolia                       1\n",
      "Ballard                        1\n",
      "Bronx                          1\n",
      "Tempelhof - Schöneberg         1\n",
      "Name: Neighbourhood Group Cleansed, dtype: int64\n"
     ]
    }
   ],
   "source": [
    "#print(full_airbnb['Neighbourhood'].unique())\n",
    "print(len(train['Neighbourhood Group Cleansed'].unique()))\n",
    "print(train['Neighbourhood Group Cleansed'].isna().sum())\n",
    "with pd.option_context(\"display.max_rows\", 1000):\n",
    "    print(train['Neighbourhood Group Cleansed'].value_counts())"
   ]
  },
  {
   "cell_type": "markdown",
   "metadata": {},
   "source": [
    "A la vista de los datos anteriores tenemos la siguiente informacio:\n",
    "- La variable \"Neighbourhood Cleansed\" contiene 449 categorias y ningun valor null.\n",
    "- La variable \"Neighbourhood Group Cleansed contiene 49 categorias y 819 celdas null.Imputamos los nulls a la categoria 'Other'"
   ]
  },
  {
   "cell_type": "code",
   "execution_count": 11,
   "metadata": {},
   "outputs": [],
   "source": [
    "train['Neighbourhood Group Cleansed'] = train['Neighbourhood Group Cleansed'].fillna('Other')"
   ]
  },
  {
   "cell_type": "markdown",
   "metadata": {},
   "source": [
    "A continuación trataremos las otras tres variables categoricas que nos quedan (Property Type, Room Type y Cancellation Policy)"
   ]
  },
  {
   "cell_type": "code",
   "execution_count": 12,
   "metadata": {
    "scrolled": true
   },
   "outputs": [
    {
     "name": "stdout",
     "output_type": "stream",
     "text": [
      "Apartment             9601\n",
      "House                 1074\n",
      "Condominium            288\n",
      "Bed & Breakfast        275\n",
      "Loft                   247\n",
      "Other                  181\n",
      "Dorm                    35\n",
      "Guesthouse              32\n",
      "Chalet                  19\n",
      "Townhouse               15\n",
      "Hostel                  14\n",
      "Villa                   13\n",
      "Serviced apartment       9\n",
      "Guest suite              3\n",
      "Boat                     3\n",
      "Boutique hotel           3\n",
      "Camper/RV                3\n",
      "Casa particular          3\n",
      "Earth House              2\n",
      "Bungalow                 2\n",
      "Timeshare                1\n",
      "Tent                     1\n",
      "Name: Property Type, dtype: int64\n",
      "Entire home/apt    7184\n",
      "Private room       4484\n",
      "Shared room         156\n",
      "Name: Room Type, dtype: int64\n",
      "strict             4576\n",
      "flexible           3777\n",
      "moderate           3373\n",
      "strict_new           28\n",
      "super_strict_60      25\n",
      "moderate_new         17\n",
      "super_strict_30      16\n",
      "flexible_new         12\n",
      "Name: Cancellation Policy, dtype: int64\n"
     ]
    }
   ],
   "source": [
    "print(train['Property Type'].value_counts())\n",
    "print(train['Room Type'].value_counts())\n",
    "print(train['Cancellation Policy'].value_counts())\n"
   ]
  },
  {
   "cell_type": "markdown",
   "metadata": {},
   "source": [
    "Vamos a dejar las categorias de Property Type en \"Apartment\", \"House\", \"Condominium\", \"Bed & Breakfast\" y \"Loft\", que representan mas del 95% del total y todas las demas las incluiremos en la categoría \"Other\""
   ]
  },
  {
   "cell_type": "code",
   "execution_count": 13,
   "metadata": {},
   "outputs": [
    {
     "name": "stdout",
     "output_type": "stream",
     "text": [
      "Apartment          9601\n",
      "House              1074\n",
      "Other               339\n",
      "Condominium         288\n",
      "Bed & Breakfast     275\n",
      "Loft                247\n",
      "Name: Property Type, dtype: int64\n"
     ]
    }
   ],
   "source": [
    "array_to_replace = ['Dorm', 'Guesthouse', 'Chalet', 'Townhouse', 'Hostel', 'Villa', 'Serviced apartment', 'Casa particular',\n",
    "                   'Boat', 'Camper/RV', 'Boutique hotel', 'Guest suite', 'Bungalow', 'Earth House', 'Tent', 'Timeshare']\n",
    "train['Property Type'] = train['Property Type'].replace(array_to_replace, 'Other')\n",
    "print(train['Property Type'].value_counts())"
   ]
  },
  {
   "cell_type": "markdown",
   "metadata": {},
   "source": [
    "De la misma manera vamos a dejar las categorias de Cancellation Policy en \"strict\", \"flexible\" y \"moderate\", que representan mas del 96% del totak y todas las demas las incluiremos en la categoría \"Other\""
   ]
  },
  {
   "cell_type": "code",
   "execution_count": 14,
   "metadata": {},
   "outputs": [
    {
     "name": "stdout",
     "output_type": "stream",
     "text": [
      "strict      4576\n",
      "flexible    3777\n",
      "moderate    3373\n",
      "Other         98\n",
      "Name: Cancellation Policy, dtype: int64\n"
     ]
    }
   ],
   "source": [
    "array_to_replace2 = ['strict_new', 'super_strict_60', 'moderate_new', 'super_strict_30', 'flexible_new']\n",
    "train['Cancellation Policy'] = train['Cancellation Policy'].replace(array_to_replace2, 'Other')\n",
    "print(train['Cancellation Policy'].value_counts())"
   ]
  },
  {
   "cell_type": "markdown",
   "metadata": {},
   "source": [
    "## Codificacion de las variables categoricas (Mean encoding)\n",
    "Una vez reducidas las categorias de las variables categoricas, las convertiremos en numericas mediante el mecanismo de mean\n",
    "encoding.\n",
    "Guardamos las transformacion hechas en Train para reproducirlas en Test con un replace o un map sin volver a aplicar el mean encoding para evitar que los datos de test infulyan en el modelo.\n",
    "Para aplicar le metodo Mean Encoding es coneniente que no haya NaNs en la variable Target (Price), por ello imputaremos esos valores con la media de los precios."
   ]
  },
  {
   "cell_type": "code",
   "execution_count": 15,
   "metadata": {},
   "outputs": [
    {
     "name": "stdout",
     "output_type": "stream",
     "text": [
      "14\n"
     ]
    }
   ],
   "source": [
    "print(train['Price'].isna().sum())"
   ]
  },
  {
   "cell_type": "code",
   "execution_count": 16,
   "metadata": {},
   "outputs": [],
   "source": [
    "y_train_mean = np.mean(train['Price'])\n",
    "train['Price'] = train['Price'].fillna(74)"
   ]
  },
  {
   "cell_type": "code",
   "execution_count": 17,
   "metadata": {},
   "outputs": [
    {
     "name": "stdout",
     "output_type": "stream",
     "text": [
      "0\n"
     ]
    }
   ],
   "source": [
    "print(train['Price'].isna().sum())"
   ]
  },
  {
   "cell_type": "code",
   "execution_count": 18,
   "metadata": {},
   "outputs": [],
   "source": [
    "#Property Type\n",
    "mean_encode_property_type = train.groupby('Property Type')['Price'].mean()\n",
    "train.loc[:,'Property Type'] = train['Property Type'].map(mean_encode_property_type)\n",
    "\n",
    "#Cancellation Policy \n",
    "mean_encode_cancellation_policy = train.groupby('Cancellation Policy')['Price'].mean()\n",
    "train.loc[:,'Cancellation Policy'] = train['Cancellation Policy'].map(mean_encode_cancellation_policy)\n",
    "\n",
    "#Room Type\n",
    "mean_encode_room_type = train.groupby('Room Type')['Price'].mean()\n",
    "train.loc[:,'Room Type'] = train['Room Type'].map(mean_encode_room_type)\n",
    "\n",
    "#Neighbourhood Cleansed\n",
    "mean_encode_neigh = train.groupby('Neighbourhood Cleansed')['Price'].mean()\n",
    "train.loc[:,'Neighbourhood Cleansed'] = train['Neighbourhood Cleansed'].map(mean_encode_neigh)\n",
    "\n",
    "#Neighbourhood Group Cleansed\n",
    "mean_encode_neigh_group = train.groupby('Neighbourhood Group Cleansed')['Price'].mean()\n",
    "train.loc[:,'Neighbourhood Group Cleansed'] = train['Neighbourhood Group Cleansed'].map(mean_encode_neigh_group)\n"
   ]
  },
  {
   "cell_type": "code",
   "execution_count": 19,
   "metadata": {},
   "outputs": [
    {
     "data": {
      "text/plain": [
       "Neighbourhood Cleansed\n",
       "78704                   112.000000\n",
       "78733                    58.000000\n",
       "Abrantes                 28.000000\n",
       "Acacias                  45.680672\n",
       "Adams                   218.000000\n",
       "                           ...    \n",
       "südliche Luisenstadt     50.000000\n",
       "Élysée                  122.666667\n",
       "ΝΕΟΣ ΚΟΣΜΟΣ              32.000000\n",
       "ΠΑΤΗΣΙΑ                  30.000000\n",
       "ΠΛΑΤΕΙΑ ΑΜΕΡΙΚΗΣ         25.000000\n",
       "Name: Price, Length: 449, dtype: float64"
      ]
     },
     "execution_count": 19,
     "metadata": {},
     "output_type": "execute_result"
    }
   ],
   "source": [
    "mean_encode_neigh"
   ]
  },
  {
   "cell_type": "markdown",
   "metadata": {},
   "source": [
    "Antes de pasar a la correlacion de variables llevemos a cabo un análisis rapido de las caracteristicas que nos quedan"
   ]
  },
  {
   "cell_type": "code",
   "execution_count": 20,
   "metadata": {
    "scrolled": true
   },
   "outputs": [
    {
     "data": {
      "text/html": [
       "<div>\n",
       "<style scoped>\n",
       "    .dataframe tbody tr th:only-of-type {\n",
       "        vertical-align: middle;\n",
       "    }\n",
       "\n",
       "    .dataframe tbody tr th {\n",
       "        vertical-align: top;\n",
       "    }\n",
       "\n",
       "    .dataframe thead th {\n",
       "        text-align: right;\n",
       "    }\n",
       "</style>\n",
       "<table border=\"1\" class=\"dataframe\">\n",
       "  <thead>\n",
       "    <tr style=\"text-align: right;\">\n",
       "      <th></th>\n",
       "      <th>count</th>\n",
       "      <th>mean</th>\n",
       "      <th>std</th>\n",
       "      <th>min</th>\n",
       "      <th>25%</th>\n",
       "      <th>50%</th>\n",
       "      <th>75%</th>\n",
       "      <th>max</th>\n",
       "    </tr>\n",
       "  </thead>\n",
       "  <tbody>\n",
       "    <tr>\n",
       "      <td>Neighbourhood Cleansed</td>\n",
       "      <td>11824.0</td>\n",
       "      <td>73.703146</td>\n",
       "      <td>37.714257</td>\n",
       "      <td>16.000000</td>\n",
       "      <td>59.843750</td>\n",
       "      <td>67.610954</td>\n",
       "      <td>82.065898</td>\n",
       "      <td>999.000000</td>\n",
       "    </tr>\n",
       "    <tr>\n",
       "      <td>Neighbourhood Group Cleansed</td>\n",
       "      <td>11824.0</td>\n",
       "      <td>73.703146</td>\n",
       "      <td>23.243157</td>\n",
       "      <td>20.000000</td>\n",
       "      <td>69.554017</td>\n",
       "      <td>73.130210</td>\n",
       "      <td>73.276540</td>\n",
       "      <td>218.000000</td>\n",
       "    </tr>\n",
       "    <tr>\n",
       "      <td>Property Type</td>\n",
       "      <td>11824.0</td>\n",
       "      <td>73.703146</td>\n",
       "      <td>9.387664</td>\n",
       "      <td>39.876364</td>\n",
       "      <td>72.130820</td>\n",
       "      <td>72.130820</td>\n",
       "      <td>72.130820</td>\n",
       "      <td>98.489758</td>\n",
       "    </tr>\n",
       "    <tr>\n",
       "      <td>Room Type</td>\n",
       "      <td>11824.0</td>\n",
       "      <td>73.703146</td>\n",
       "      <td>27.069322</td>\n",
       "      <td>31.692308</td>\n",
       "      <td>40.334746</td>\n",
       "      <td>95.442790</td>\n",
       "      <td>95.442790</td>\n",
       "      <td>95.442790</td>\n",
       "    </tr>\n",
       "    <tr>\n",
       "      <td>Accommodates</td>\n",
       "      <td>11824.0</td>\n",
       "      <td>3.276641</td>\n",
       "      <td>2.106127</td>\n",
       "      <td>1.000000</td>\n",
       "      <td>2.000000</td>\n",
       "      <td>3.000000</td>\n",
       "      <td>4.000000</td>\n",
       "      <td>16.000000</td>\n",
       "    </tr>\n",
       "    <tr>\n",
       "      <td>Bathrooms</td>\n",
       "      <td>11779.0</td>\n",
       "      <td>1.286442</td>\n",
       "      <td>0.667359</td>\n",
       "      <td>0.000000</td>\n",
       "      <td>1.000000</td>\n",
       "      <td>1.000000</td>\n",
       "      <td>1.000000</td>\n",
       "      <td>8.000000</td>\n",
       "    </tr>\n",
       "    <tr>\n",
       "      <td>Bedrooms</td>\n",
       "      <td>11806.0</td>\n",
       "      <td>1.346773</td>\n",
       "      <td>0.909841</td>\n",
       "      <td>0.000000</td>\n",
       "      <td>1.000000</td>\n",
       "      <td>1.000000</td>\n",
       "      <td>2.000000</td>\n",
       "      <td>10.000000</td>\n",
       "    </tr>\n",
       "    <tr>\n",
       "      <td>Beds</td>\n",
       "      <td>11789.0</td>\n",
       "      <td>2.051065</td>\n",
       "      <td>1.641454</td>\n",
       "      <td>1.000000</td>\n",
       "      <td>1.000000</td>\n",
       "      <td>2.000000</td>\n",
       "      <td>2.000000</td>\n",
       "      <td>16.000000</td>\n",
       "    </tr>\n",
       "    <tr>\n",
       "      <td>Price</td>\n",
       "      <td>11824.0</td>\n",
       "      <td>73.703146</td>\n",
       "      <td>72.161085</td>\n",
       "      <td>9.000000</td>\n",
       "      <td>34.000000</td>\n",
       "      <td>55.000000</td>\n",
       "      <td>86.000000</td>\n",
       "      <td>999.000000</td>\n",
       "    </tr>\n",
       "    <tr>\n",
       "      <td>Security Deposit</td>\n",
       "      <td>5035.0</td>\n",
       "      <td>190.150745</td>\n",
       "      <td>117.420048</td>\n",
       "      <td>0.000000</td>\n",
       "      <td>100.000000</td>\n",
       "      <td>150.000000</td>\n",
       "      <td>200.000000</td>\n",
       "      <td>990.000000</td>\n",
       "    </tr>\n",
       "    <tr>\n",
       "      <td>Cleaning Fee</td>\n",
       "      <td>6967.0</td>\n",
       "      <td>32.152146</td>\n",
       "      <td>32.030358</td>\n",
       "      <td>0.000000</td>\n",
       "      <td>15.000000</td>\n",
       "      <td>25.000000</td>\n",
       "      <td>40.000000</td>\n",
       "      <td>662.000000</td>\n",
       "    </tr>\n",
       "    <tr>\n",
       "      <td>Guests Included</td>\n",
       "      <td>11824.0</td>\n",
       "      <td>1.586181</td>\n",
       "      <td>1.182357</td>\n",
       "      <td>1.000000</td>\n",
       "      <td>1.000000</td>\n",
       "      <td>1.000000</td>\n",
       "      <td>2.000000</td>\n",
       "      <td>16.000000</td>\n",
       "    </tr>\n",
       "    <tr>\n",
       "      <td>Extra People</td>\n",
       "      <td>11824.0</td>\n",
       "      <td>7.639800</td>\n",
       "      <td>12.490317</td>\n",
       "      <td>0.000000</td>\n",
       "      <td>0.000000</td>\n",
       "      <td>0.000000</td>\n",
       "      <td>15.000000</td>\n",
       "      <td>500.000000</td>\n",
       "    </tr>\n",
       "    <tr>\n",
       "      <td>Minimum Nights</td>\n",
       "      <td>11824.0</td>\n",
       "      <td>3.111806</td>\n",
       "      <td>13.370049</td>\n",
       "      <td>1.000000</td>\n",
       "      <td>1.000000</td>\n",
       "      <td>2.000000</td>\n",
       "      <td>3.000000</td>\n",
       "      <td>1125.000000</td>\n",
       "    </tr>\n",
       "    <tr>\n",
       "      <td>Maximum Nights</td>\n",
       "      <td>11824.0</td>\n",
       "      <td>964.132358</td>\n",
       "      <td>9387.839981</td>\n",
       "      <td>1.000000</td>\n",
       "      <td>365.000000</td>\n",
       "      <td>1125.000000</td>\n",
       "      <td>1125.000000</td>\n",
       "      <td>1000000.000000</td>\n",
       "    </tr>\n",
       "    <tr>\n",
       "      <td>Availability 30</td>\n",
       "      <td>11824.0</td>\n",
       "      <td>8.973275</td>\n",
       "      <td>9.345545</td>\n",
       "      <td>0.000000</td>\n",
       "      <td>0.000000</td>\n",
       "      <td>6.000000</td>\n",
       "      <td>14.000000</td>\n",
       "      <td>30.000000</td>\n",
       "    </tr>\n",
       "    <tr>\n",
       "      <td>Availability 60</td>\n",
       "      <td>11824.0</td>\n",
       "      <td>22.990020</td>\n",
       "      <td>19.753682</td>\n",
       "      <td>0.000000</td>\n",
       "      <td>4.000000</td>\n",
       "      <td>20.000000</td>\n",
       "      <td>38.000000</td>\n",
       "      <td>60.000000</td>\n",
       "    </tr>\n",
       "    <tr>\n",
       "      <td>Availability 90</td>\n",
       "      <td>11824.0</td>\n",
       "      <td>39.863836</td>\n",
       "      <td>29.658085</td>\n",
       "      <td>0.000000</td>\n",
       "      <td>12.000000</td>\n",
       "      <td>38.000000</td>\n",
       "      <td>65.000000</td>\n",
       "      <td>90.000000</td>\n",
       "    </tr>\n",
       "    <tr>\n",
       "      <td>Availability 365</td>\n",
       "      <td>11824.0</td>\n",
       "      <td>202.482747</td>\n",
       "      <td>127.946375</td>\n",
       "      <td>0.000000</td>\n",
       "      <td>78.000000</td>\n",
       "      <td>242.000000</td>\n",
       "      <td>319.000000</td>\n",
       "      <td>365.000000</td>\n",
       "    </tr>\n",
       "    <tr>\n",
       "      <td>Number of Reviews</td>\n",
       "      <td>11824.0</td>\n",
       "      <td>22.589394</td>\n",
       "      <td>37.874278</td>\n",
       "      <td>0.000000</td>\n",
       "      <td>1.000000</td>\n",
       "      <td>7.000000</td>\n",
       "      <td>27.000000</td>\n",
       "      <td>356.000000</td>\n",
       "    </tr>\n",
       "    <tr>\n",
       "      <td>Review Scores Rating</td>\n",
       "      <td>9173.0</td>\n",
       "      <td>91.687452</td>\n",
       "      <td>9.028574</td>\n",
       "      <td>20.000000</td>\n",
       "      <td>89.000000</td>\n",
       "      <td>94.000000</td>\n",
       "      <td>98.000000</td>\n",
       "      <td>100.000000</td>\n",
       "    </tr>\n",
       "    <tr>\n",
       "      <td>Review Scores Accuracy</td>\n",
       "      <td>9152.0</td>\n",
       "      <td>9.415210</td>\n",
       "      <td>0.925849</td>\n",
       "      <td>2.000000</td>\n",
       "      <td>9.000000</td>\n",
       "      <td>10.000000</td>\n",
       "      <td>10.000000</td>\n",
       "      <td>10.000000</td>\n",
       "    </tr>\n",
       "    <tr>\n",
       "      <td>Review Scores Cleanliness</td>\n",
       "      <td>9158.0</td>\n",
       "      <td>9.324088</td>\n",
       "      <td>1.003331</td>\n",
       "      <td>2.000000</td>\n",
       "      <td>9.000000</td>\n",
       "      <td>10.000000</td>\n",
       "      <td>10.000000</td>\n",
       "      <td>10.000000</td>\n",
       "    </tr>\n",
       "    <tr>\n",
       "      <td>Review Scores Checkin</td>\n",
       "      <td>9149.0</td>\n",
       "      <td>9.624549</td>\n",
       "      <td>0.803586</td>\n",
       "      <td>2.000000</td>\n",
       "      <td>9.000000</td>\n",
       "      <td>10.000000</td>\n",
       "      <td>10.000000</td>\n",
       "      <td>10.000000</td>\n",
       "    </tr>\n",
       "    <tr>\n",
       "      <td>Review Scores Communication</td>\n",
       "      <td>9157.0</td>\n",
       "      <td>9.649121</td>\n",
       "      <td>0.759505</td>\n",
       "      <td>2.000000</td>\n",
       "      <td>9.000000</td>\n",
       "      <td>10.000000</td>\n",
       "      <td>10.000000</td>\n",
       "      <td>10.000000</td>\n",
       "    </tr>\n",
       "    <tr>\n",
       "      <td>Review Scores Location</td>\n",
       "      <td>9146.0</td>\n",
       "      <td>9.537284</td>\n",
       "      <td>0.763133</td>\n",
       "      <td>2.000000</td>\n",
       "      <td>9.000000</td>\n",
       "      <td>10.000000</td>\n",
       "      <td>10.000000</td>\n",
       "      <td>10.000000</td>\n",
       "    </tr>\n",
       "    <tr>\n",
       "      <td>Review Scores Value</td>\n",
       "      <td>9146.0</td>\n",
       "      <td>9.214301</td>\n",
       "      <td>0.952104</td>\n",
       "      <td>2.000000</td>\n",
       "      <td>9.000000</td>\n",
       "      <td>9.000000</td>\n",
       "      <td>10.000000</td>\n",
       "      <td>10.000000</td>\n",
       "    </tr>\n",
       "    <tr>\n",
       "      <td>Cancellation Policy</td>\n",
       "      <td>11824.0</td>\n",
       "      <td>73.703146</td>\n",
       "      <td>11.526584</td>\n",
       "      <td>64.481334</td>\n",
       "      <td>64.481334</td>\n",
       "      <td>64.849392</td>\n",
       "      <td>86.903191</td>\n",
       "      <td>117.489796</td>\n",
       "    </tr>\n",
       "    <tr>\n",
       "      <td>Reviews per Month</td>\n",
       "      <td>9293.0</td>\n",
       "      <td>1.868515</td>\n",
       "      <td>1.862982</td>\n",
       "      <td>0.020000</td>\n",
       "      <td>0.460000</td>\n",
       "      <td>1.200000</td>\n",
       "      <td>2.780000</td>\n",
       "      <td>17.210000</td>\n",
       "    </tr>\n",
       "  </tbody>\n",
       "</table>\n",
       "</div>"
      ],
      "text/plain": [
       "                                count        mean          std        min  \\\n",
       "Neighbourhood Cleansed        11824.0   73.703146    37.714257  16.000000   \n",
       "Neighbourhood Group Cleansed  11824.0   73.703146    23.243157  20.000000   \n",
       "Property Type                 11824.0   73.703146     9.387664  39.876364   \n",
       "Room Type                     11824.0   73.703146    27.069322  31.692308   \n",
       "Accommodates                  11824.0    3.276641     2.106127   1.000000   \n",
       "Bathrooms                     11779.0    1.286442     0.667359   0.000000   \n",
       "Bedrooms                      11806.0    1.346773     0.909841   0.000000   \n",
       "Beds                          11789.0    2.051065     1.641454   1.000000   \n",
       "Price                         11824.0   73.703146    72.161085   9.000000   \n",
       "Security Deposit               5035.0  190.150745   117.420048   0.000000   \n",
       "Cleaning Fee                   6967.0   32.152146    32.030358   0.000000   \n",
       "Guests Included               11824.0    1.586181     1.182357   1.000000   \n",
       "Extra People                  11824.0    7.639800    12.490317   0.000000   \n",
       "Minimum Nights                11824.0    3.111806    13.370049   1.000000   \n",
       "Maximum Nights                11824.0  964.132358  9387.839981   1.000000   \n",
       "Availability 30               11824.0    8.973275     9.345545   0.000000   \n",
       "Availability 60               11824.0   22.990020    19.753682   0.000000   \n",
       "Availability 90               11824.0   39.863836    29.658085   0.000000   \n",
       "Availability 365              11824.0  202.482747   127.946375   0.000000   \n",
       "Number of Reviews             11824.0   22.589394    37.874278   0.000000   \n",
       "Review Scores Rating           9173.0   91.687452     9.028574  20.000000   \n",
       "Review Scores Accuracy         9152.0    9.415210     0.925849   2.000000   \n",
       "Review Scores Cleanliness      9158.0    9.324088     1.003331   2.000000   \n",
       "Review Scores Checkin          9149.0    9.624549     0.803586   2.000000   \n",
       "Review Scores Communication    9157.0    9.649121     0.759505   2.000000   \n",
       "Review Scores Location         9146.0    9.537284     0.763133   2.000000   \n",
       "Review Scores Value            9146.0    9.214301     0.952104   2.000000   \n",
       "Cancellation Policy           11824.0   73.703146    11.526584  64.481334   \n",
       "Reviews per Month              9293.0    1.868515     1.862982   0.020000   \n",
       "\n",
       "                                     25%          50%          75%  \\\n",
       "Neighbourhood Cleansed         59.843750    67.610954    82.065898   \n",
       "Neighbourhood Group Cleansed   69.554017    73.130210    73.276540   \n",
       "Property Type                  72.130820    72.130820    72.130820   \n",
       "Room Type                      40.334746    95.442790    95.442790   \n",
       "Accommodates                    2.000000     3.000000     4.000000   \n",
       "Bathrooms                       1.000000     1.000000     1.000000   \n",
       "Bedrooms                        1.000000     1.000000     2.000000   \n",
       "Beds                            1.000000     2.000000     2.000000   \n",
       "Price                          34.000000    55.000000    86.000000   \n",
       "Security Deposit              100.000000   150.000000   200.000000   \n",
       "Cleaning Fee                   15.000000    25.000000    40.000000   \n",
       "Guests Included                 1.000000     1.000000     2.000000   \n",
       "Extra People                    0.000000     0.000000    15.000000   \n",
       "Minimum Nights                  1.000000     2.000000     3.000000   \n",
       "Maximum Nights                365.000000  1125.000000  1125.000000   \n",
       "Availability 30                 0.000000     6.000000    14.000000   \n",
       "Availability 60                 4.000000    20.000000    38.000000   \n",
       "Availability 90                12.000000    38.000000    65.000000   \n",
       "Availability 365               78.000000   242.000000   319.000000   \n",
       "Number of Reviews               1.000000     7.000000    27.000000   \n",
       "Review Scores Rating           89.000000    94.000000    98.000000   \n",
       "Review Scores Accuracy          9.000000    10.000000    10.000000   \n",
       "Review Scores Cleanliness       9.000000    10.000000    10.000000   \n",
       "Review Scores Checkin           9.000000    10.000000    10.000000   \n",
       "Review Scores Communication     9.000000    10.000000    10.000000   \n",
       "Review Scores Location          9.000000    10.000000    10.000000   \n",
       "Review Scores Value             9.000000     9.000000    10.000000   \n",
       "Cancellation Policy            64.481334    64.849392    86.903191   \n",
       "Reviews per Month               0.460000     1.200000     2.780000   \n",
       "\n",
       "                                         max  \n",
       "Neighbourhood Cleansed            999.000000  \n",
       "Neighbourhood Group Cleansed      218.000000  \n",
       "Property Type                      98.489758  \n",
       "Room Type                          95.442790  \n",
       "Accommodates                       16.000000  \n",
       "Bathrooms                           8.000000  \n",
       "Bedrooms                           10.000000  \n",
       "Beds                               16.000000  \n",
       "Price                             999.000000  \n",
       "Security Deposit                  990.000000  \n",
       "Cleaning Fee                      662.000000  \n",
       "Guests Included                    16.000000  \n",
       "Extra People                      500.000000  \n",
       "Minimum Nights                   1125.000000  \n",
       "Maximum Nights                1000000.000000  \n",
       "Availability 30                    30.000000  \n",
       "Availability 60                    60.000000  \n",
       "Availability 90                    90.000000  \n",
       "Availability 365                  365.000000  \n",
       "Number of Reviews                 356.000000  \n",
       "Review Scores Rating              100.000000  \n",
       "Review Scores Accuracy             10.000000  \n",
       "Review Scores Cleanliness          10.000000  \n",
       "Review Scores Checkin              10.000000  \n",
       "Review Scores Communication        10.000000  \n",
       "Review Scores Location             10.000000  \n",
       "Review Scores Value                10.000000  \n",
       "Cancellation Policy               117.489796  \n",
       "Reviews per Month                  17.210000  "
      ]
     },
     "execution_count": 20,
     "metadata": {},
     "output_type": "execute_result"
    }
   ],
   "source": [
    "train.describe().T"
   ]
  },
  {
   "cell_type": "code",
   "execution_count": 21,
   "metadata": {},
   "outputs": [
    {
     "data": {
      "text/plain": [
       "0"
      ]
     },
     "execution_count": 21,
     "metadata": {},
     "output_type": "execute_result"
    }
   ],
   "source": [
    "train['Availability 30'].value_counts()\n",
    "train['Availability 30'].isna().sum()"
   ]
  },
  {
   "cell_type": "markdown",
   "metadata": {},
   "source": [
    "## Correlacion de variables\n",
    "Tengamos en cuenta que "
   ]
  },
  {
   "cell_type": "code",
   "execution_count": 22,
   "metadata": {},
   "outputs": [
    {
     "data": {
      "image/png": "[encoded data removed]",
      "text/plain": [
       "<Figure size 864x720 with 2 Axes>"
      ]
     },
     "metadata": {
      "needs_background": "light"
     },
     "output_type": "display_data"
    }
   ],
   "source": [
    "import seaborn as sns\n",
    "\n",
    "# Compute the correlation matrix\n",
    "corr = np.abs(train.drop(['Price'], axis=1).corr())\n",
    "\n",
    "# Generate a mask for the upper triangle\n",
    "mask = np.zeros_like(corr, dtype=np.bool)\n",
    "mask[np.triu_indices_from(mask)] = True\n",
    "\n",
    "# Set up the matplotlib figure\n",
    "f, ax = plt.subplots(figsize=(12, 10))\n",
    "\n",
    "# Draw the heatmap with the mask and correct aspect ratio\n",
    "sns.heatmap(corr, mask=mask,vmin = 0.0, vmax=1.0, center=0.5,\n",
    "            linewidths=.1, cmap=\"YlGnBu\", cbar_kws={\"shrink\": .8})\n",
    "\n",
    "plt.show()"
   ]
  },
  {
   "cell_type": "markdown",
   "metadata": {},
   "source": [
    "Pintemos algunas variables"
   ]
  },
  {
   "cell_type": "code",
   "execution_count": 23,
   "metadata": {
    "scrolled": true
   },
   "outputs": [
    {
     "data": {
      "image/png": "[encoded data removed]",
      "text/plain": [
       "<Figure size 1080x360 with 4 Axes>"
      ]
     },
     "metadata": {
      "needs_background": "light"
     },
     "output_type": "display_data"
    }
   ],
   "source": [
    "plt.figure(figsize=(15, 5))\n",
    "\n",
    "plt.subplot(1,4,1)\n",
    "train['Accommodates'].plot.hist(alpha=0.75, bins=25, grid = True)\n",
    "#plt.axis([0, 10, 0, 10000])\n",
    "plt.xlabel('Accommodates')\n",
    "\n",
    "plt.subplot(1,4,2)\n",
    "train['Bedrooms'].plot.hist(alpha=0.5, bins=15, grid = True)\n",
    "plt.xlabel('Bedrooms')\n",
    "\n",
    "plt.subplot(1,4,3)\n",
    "train['Beds'].plot.hist(alpha=0.5, bins=25, grid = False)\n",
    "plt.xlabel('Beds')\n",
    "\n",
    "plt.subplot(1,4,4)\n",
    "train['Bathrooms'].plot.hist(alpha=0.5, bins=25, grid = False)\n",
    "plt.xlabel('Bathrooms')\n",
    "\n",
    "plt.show()"
   ]
  },
  {
   "cell_type": "markdown",
   "metadata": {},
   "source": [
    "A la vista de la grafica de correlacion y siendo un poco generosos con las variables a eliminar para simplificar el modelo, podemos deducir lo siguiente:\n",
    "1. **Accommodates** tiene una fuerte correlacion con Bedrooms, Beds y moderada con Guests Included\n",
    "2. **Availability 30** tiene fuerte correlacion con Availability 60 Availability 90 y moderada con Availability 365\n",
    "3. **Review Scores Rating** tiene una fuerte correlacion con Review Scores Accuracy, Review Scores Cleanliness, Review Scores Checkin, Review Scores Communication, Review Scores Value y moderada con Review Scores Location.\n",
    "4. **Number of Reviews** tiene fuerte  correlacion con Reviews per Month\n",
    "5. **Neighbourhood Cleansed y Neighbourhood Group Cleansed** muestran una fuerte correlacion, pero de momento dejamos las dos para analizar mediante el filtrado de caracterisdtcas cual de las dos influye mas en la regresion que tenemos que plantear."
   ]
  },
  {
   "cell_type": "code",
   "execution_count": 24,
   "metadata": {},
   "outputs": [
    {
     "data": {
      "text/plain": [
       "(11824, 16)"
      ]
     },
     "execution_count": 24,
     "metadata": {},
     "output_type": "execute_result"
    }
   ],
   "source": [
    "#Vamos a eliminar todas estas variables del dataset de entrenamiento\n",
    "drop_corr = ['Bedrooms', 'Beds', 'Guests Included', 'Availability 60', 'Availability 90', 'Availability 365',\n",
    "             'Review Scores Accuracy', 'Review Scores Cleanliness', 'Review Scores Checkin', 'Review Scores Communication',\n",
    "             'Review Scores Value', 'Review Scores Location', 'Reviews per Month']\n",
    "train.drop(drop_corr, axis=1, inplace=True)\n",
    "train.shape"
   ]
  },
  {
   "cell_type": "markdown",
   "metadata": {},
   "source": [
    "## Separacion variable dependiente \n",
    "Separemos el dataset train entre la varible dependiente (y_train) y el resto de variables independientes (X_train)\n"
   ]
  },
  {
   "cell_type": "code",
   "execution_count": 25,
   "metadata": {},
   "outputs": [],
   "source": [
    "y_train = train['Price']\n",
    "X_train= train.drop(['Price'], axis=1)\n"
   ]
  },
  {
   "cell_type": "markdown",
   "metadata": {},
   "source": [
    "El siguiente paso es aplicar los metodos de filtrados para regresion, pero esto solo se pueden aplicar sobre variables que no contienen valores NaN.\n",
    "por tanto analicemos que variables tienen valores NaN y llevemos a cabo el proceso de imputacion, aprovechare para analizar algun posible outlier\n",
    "\n",
    "Para hacerlo vamos a aplicar los siguientes comandos a todas las variables que quedan:\n",
    "```\n",
    "print(len(X_train['campo'].unique()))\n",
    "print(X_train['campo'].isna().sum())\n",
    "print(X_train['campo'].value_counts())\n",
    "\n",
    "```\n",
    "\n",
    "Haciendo esto vemos que los unicos campos que contienen NaNs son:\n",
    "- Bathroom (45) Imputamos la media (1.3)\n",
    "- Security Deposit (6798). Es mas de la mitad de los regitros por lo que lo eliminamos\n",
    "- Cleaning Fee (4857). Imputamnos la media (32)\n",
    "- Review Scores Rating (2651). Imputamos la mediana (77) ya que la media esta demasiado cerca de la mejor puntuacion."
   ]
  },
  {
   "cell_type": "code",
   "execution_count": 26,
   "metadata": {},
   "outputs": [],
   "source": [
    "X_train.drop('Security Deposit', axis=1, inplace=True)"
   ]
  },
  {
   "cell_type": "code",
   "execution_count": 27,
   "metadata": {},
   "outputs": [],
   "source": [
    "X_train['Bathrooms'] = train['Bathrooms'].fillna(1.3)\n",
    "X_train['Cleaning Fee'] = train['Cleaning Fee'].fillna(32)\n",
    "X_train['Review Scores Rating'] = train['Review Scores Rating'].fillna(77)"
   ]
  },
  {
   "cell_type": "markdown",
   "metadata": {},
   "source": [
    "## Variable objetivo\n",
    "Por ultimo analizamos la variable objetivo"
   ]
  },
  {
   "cell_type": "code",
   "execution_count": 28,
   "metadata": {
    "scrolled": true
   },
   "outputs": [
    {
     "data": {
      "text/plain": [
       "count    11824.000000\n",
       "mean        73.703146\n",
       "std         72.161085\n",
       "min          9.000000\n",
       "25%         34.000000\n",
       "50%         55.000000\n",
       "75%         86.000000\n",
       "max        999.000000\n",
       "Name: Price, dtype: float64"
      ]
     },
     "execution_count": 28,
     "metadata": {},
     "output_type": "execute_result"
    }
   ],
   "source": [
    "y_train.describe()"
   ]
  },
  {
   "cell_type": "code",
   "execution_count": 29,
   "metadata": {},
   "outputs": [
    {
     "name": "stdout",
     "output_type": "stream",
     "text": [
      "347\n",
      "0\n",
      "50.0     513\n",
      "60.0     441\n",
      "30.0     437\n",
      "25.0     433\n",
      "35.0     381\n",
      "        ... \n",
      "356.0      1\n",
      "252.0      1\n",
      "154.0      1\n",
      "222.0      1\n",
      "434.0      1\n",
      "Name: Price, Length: 347, dtype: int64\n",
      "73.70314614343708\n"
     ]
    }
   ],
   "source": [
    "print(len(y_train.unique()))\n",
    "print(y_train.isna().sum())\n",
    "print(y_train.value_counts())\n",
    "print(np.mean(y_train)) "
   ]
  },
  {
   "cell_type": "markdown",
   "metadata": {},
   "source": [
    "## Filtrado para regresion\n",
    "Con las 13 variables que me quedan aplico los metodos de fitrado **f_regresion** y **mutual_info_regresion**"
   ]
  },
  {
   "cell_type": "code",
   "execution_count": 30,
   "metadata": {},
   "outputs": [],
   "source": [
    "from sklearn.feature_selection import f_regression, mutual_info_regression\n",
    "f_test, _ = f_regression(X_train, y_train)\n",
    "f_test /= np.max(f_test)\n",
    "mi = mutual_info_regression(X_train, y_train)\n",
    "mi /= np.max(mi)"
   ]
  },
  {
   "cell_type": "markdown",
   "metadata": {},
   "source": [
    "Mostremos esta informacion en forma de grafica"
   ]
  },
  {
   "cell_type": "code",
   "execution_count": 31,
   "metadata": {
    "scrolled": false
   },
   "outputs": [
    {
     "data": {
      "image/png": "[encoded data removed]",
      "text/plain": [
       "<Figure size 2160x720 with 2 Axes>"
      ]
     },
     "metadata": {
      "needs_background": "light"
     },
     "output_type": "display_data"
    }
   ],
   "source": [
    "featureNames = list(X_train.columns)\n",
    "\n",
    "plt.figure(figsize=(30, 10))\n",
    "\n",
    "plt.subplot(1,2,1)\n",
    "plt.bar(range(X_train.shape[1]),f_test,  align=\"center\")\n",
    "plt.xticks(range(X_train.shape[1]),featureNames, rotation = 90)\n",
    "plt.xlabel('features')\n",
    "plt.ylabel('Ranking')\n",
    "plt.title('$F-test$ score')\n",
    "\n",
    "\n",
    "plt.subplot(1,2,2)\n",
    "plt.bar(range(X_train.shape[1]),mi,  align=\"center\")\n",
    "plt.xticks(range(X_train.shape[1]),featureNames, rotation = 90)\n",
    "plt.xlabel('features')\n",
    "plt.ylabel('Ranking')\n",
    "plt.title('Mutual information score')\n",
    "\n",
    "plt.show()"
   ]
  },
  {
   "cell_type": "markdown",
   "metadata": {},
   "source": [
    "A la vista de las graficas y de los valores de f_test y mi las variables que mas estan impactando en la variable objetivo son:\n",
    "- Neighbourhood Cleansed\n",
    "- Room Type\n",
    "- Accommodates\n",
    "- Bathrooms\n",
    "- Cleaning Fee\n",
    "\n",
    "Como era de esperar el barrio, el tipo de habitacion y las personas que pueden ocupar la casa son los parametros que mas afectan al precio de la casa.\n",
    "\n",
    "**Me gustaria apuntar aqui que inicialmente habia hecho una prueba haciendo limpieza de la varibale \"Neighbourhood Cleansed\" poniendo en la categoria 'Others' todos aquellos barrios por debajo de una frecuencia determinada y la influencia de esa variable era mucho menor**"
   ]
  },
  {
   "cell_type": "markdown",
   "metadata": {},
   "source": [
    "Por tanto seran estas las variables que usare para testear mis modelos, elimando el resto del dataset de training"
   ]
  },
  {
   "cell_type": "code",
   "execution_count": 32,
   "metadata": {},
   "outputs": [],
   "source": [
    "drop_filtrado = ['Neighbourhood Group Cleansed', 'Property Type', 'Extra People', 'Minimum Nights', 'Maximum Nights', \n",
    "                 'Availability 30', 'Number of Reviews', 'Review Scores Rating', 'Cancellation Policy']\n",
    "X_train.drop(drop_filtrado, axis=1, inplace=True)"
   ]
  },
  {
   "cell_type": "markdown",
   "metadata": {},
   "source": [
    "Por ultimo cambiare el nombre de la variable \"Neighbourhood Group Cleansed\" por \"Barrio\" para que sea mas manejable"
   ]
  },
  {
   "cell_type": "code",
   "execution_count": 33,
   "metadata": {},
   "outputs": [],
   "source": [
    "X_train.rename(columns={'Neighbourhood Cleansed':'Barrio'}, inplace=True)"
   ]
  },
  {
   "cell_type": "code",
   "execution_count": 34,
   "metadata": {},
   "outputs": [
    {
     "data": {
      "text/html": [
       "<div>\n",
       "<style scoped>\n",
       "    .dataframe tbody tr th:only-of-type {\n",
       "        vertical-align: middle;\n",
       "    }\n",
       "\n",
       "    .dataframe tbody tr th {\n",
       "        vertical-align: top;\n",
       "    }\n",
       "\n",
       "    .dataframe thead th {\n",
       "        text-align: right;\n",
       "    }\n",
       "</style>\n",
       "<table border=\"1\" class=\"dataframe\">\n",
       "  <thead>\n",
       "    <tr style=\"text-align: right;\">\n",
       "      <th></th>\n",
       "      <th>Barrio</th>\n",
       "      <th>Room Type</th>\n",
       "      <th>Accommodates</th>\n",
       "      <th>Bathrooms</th>\n",
       "      <th>Cleaning Fee</th>\n",
       "    </tr>\n",
       "  </thead>\n",
       "  <tbody>\n",
       "    <tr>\n",
       "      <td>count</td>\n",
       "      <td>11824.000000</td>\n",
       "      <td>11824.000000</td>\n",
       "      <td>11824.000000</td>\n",
       "      <td>11824.000000</td>\n",
       "      <td>11824.000000</td>\n",
       "    </tr>\n",
       "    <tr>\n",
       "      <td>mean</td>\n",
       "      <td>73.703146</td>\n",
       "      <td>73.703146</td>\n",
       "      <td>3.276641</td>\n",
       "      <td>1.286494</td>\n",
       "      <td>32.089648</td>\n",
       "    </tr>\n",
       "    <tr>\n",
       "      <td>std</td>\n",
       "      <td>37.714257</td>\n",
       "      <td>27.069322</td>\n",
       "      <td>2.106127</td>\n",
       "      <td>0.666088</td>\n",
       "      <td>24.586216</td>\n",
       "    </tr>\n",
       "    <tr>\n",
       "      <td>min</td>\n",
       "      <td>16.000000</td>\n",
       "      <td>31.692308</td>\n",
       "      <td>1.000000</td>\n",
       "      <td>0.000000</td>\n",
       "      <td>0.000000</td>\n",
       "    </tr>\n",
       "    <tr>\n",
       "      <td>25%</td>\n",
       "      <td>59.843750</td>\n",
       "      <td>40.334746</td>\n",
       "      <td>2.000000</td>\n",
       "      <td>1.000000</td>\n",
       "      <td>20.000000</td>\n",
       "    </tr>\n",
       "    <tr>\n",
       "      <td>50%</td>\n",
       "      <td>67.610954</td>\n",
       "      <td>95.442790</td>\n",
       "      <td>3.000000</td>\n",
       "      <td>1.000000</td>\n",
       "      <td>32.000000</td>\n",
       "    </tr>\n",
       "    <tr>\n",
       "      <td>75%</td>\n",
       "      <td>82.065898</td>\n",
       "      <td>95.442790</td>\n",
       "      <td>4.000000</td>\n",
       "      <td>1.000000</td>\n",
       "      <td>32.000000</td>\n",
       "    </tr>\n",
       "    <tr>\n",
       "      <td>max</td>\n",
       "      <td>999.000000</td>\n",
       "      <td>95.442790</td>\n",
       "      <td>16.000000</td>\n",
       "      <td>8.000000</td>\n",
       "      <td>662.000000</td>\n",
       "    </tr>\n",
       "  </tbody>\n",
       "</table>\n",
       "</div>"
      ],
      "text/plain": [
       "             Barrio     Room Type  Accommodates     Bathrooms  Cleaning Fee\n",
       "count  11824.000000  11824.000000  11824.000000  11824.000000  11824.000000\n",
       "mean      73.703146     73.703146      3.276641      1.286494     32.089648\n",
       "std       37.714257     27.069322      2.106127      0.666088     24.586216\n",
       "min       16.000000     31.692308      1.000000      0.000000      0.000000\n",
       "25%       59.843750     40.334746      2.000000      1.000000     20.000000\n",
       "50%       67.610954     95.442790      3.000000      1.000000     32.000000\n",
       "75%       82.065898     95.442790      4.000000      1.000000     32.000000\n",
       "max      999.000000     95.442790     16.000000      8.000000    662.000000"
      ]
     },
     "execution_count": 34,
     "metadata": {},
     "output_type": "execute_result"
    }
   ],
   "source": [
    "X_train.describe()"
   ]
  },
  {
   "cell_type": "markdown",
   "metadata": {},
   "source": [
    "## Normalizacion\n",
    "Por ultimo llevamos a cabo el escalado mediante StandarEscales\n",
    "Recordemos que para test deberemos usar el scaler obtenido en train\n"
   ]
  },
  {
   "cell_type": "code",
   "execution_count": 37,
   "metadata": {},
   "outputs": [],
   "source": [
    "from sklearn import preprocessing\n",
    "\n",
    "scaler = preprocessing.StandardScaler().fit(X_train)\n",
    "XtrainScaled = scaler.transform(X_train)"
   ]
  },
  {
   "cell_type": "markdown",
   "metadata": {},
   "source": [
    "**Y hasta aqui el analisis exploratorio y la limpieza del dataset, empezamos con las pruebas de los modelos**"
   ]
  },
  {
   "cell_type": "markdown",
   "metadata": {},
   "source": [
    "## Prueba de Modelos"
   ]
  },
  {
   "cell_type": "markdown",
   "metadata": {},
   "source": [
    "Antes de iniciar la evaluacion de modelos, vamos a dejar preparado el **dataset de Test** con las mismas transformaciones que hemos llevado a cao sobre el de Train.\n",
    "Abajo indicamos el listado de dichas transformaciones para no olvidarnos de ninguna:\n",
    "- Lo primero es el dropeo de las variables que no van a participar en el modelo (correlacion y filtrado): drop_corr y drop_filtrado.\n",
    "- Tratamiento de las variables categoricas que influyen en el modelo (filtrado de categorias y Encoder): encoder_room_type y encoder_neigh_group\n",
    "- Tratamiento de NaNs: Bathroom y Cleaning Fee\n"
   ]
  },
  {
   "cell_type": "markdown",
   "metadata": {},
   "source": [
    "Analizamos y limpiamos el dataset de test"
   ]
  },
  {
   "cell_type": "code",
   "execution_count": 38,
   "metadata": {},
   "outputs": [
    {
     "data": {
      "text/plain": [
       "(2956, 29)"
      ]
     },
     "execution_count": 38,
     "metadata": {},
     "output_type": "execute_result"
    }
   ],
   "source": [
    "test = pd.read_csv('./data/test.csv',sep=';', decimal='.')\n",
    "test.shape\n",
    "#test.info()"
   ]
  },
  {
   "cell_type": "code",
   "execution_count": 39,
   "metadata": {},
   "outputs": [
    {
     "name": "stdout",
     "output_type": "stream",
     "text": [
      "261\n",
      "0\n",
      "Embajadores                                          373\n",
      "Universidad                                          304\n",
      "Palacio                                              203\n",
      "Sol                                                  173\n",
      "Justicia                                             159\n",
      "Cortes                                               146\n",
      "Trafalgar                                             62\n",
      "Puerta del Angel                                      49\n",
      "Argüelles                                             48\n",
      "Palos de Moguer                                       47\n",
      "Arapiles                                              45\n",
      "Guindalera                                            44\n",
      "Goya                                                  39\n",
      "Delicias                                              33\n",
      "Recoletos                                             32\n",
      "Gaztambide                                            31\n",
      "Almagro                                               31\n",
      "Acacias                                               26\n",
      "Chopera                                               23\n",
      "Ibiza                                                 23\n",
      "Prosperidad                                           23\n",
      "Imperial                                              22\n",
      "Lista                                                 21\n",
      "Pacífico                                              21\n",
      "Cuatro Caminos                                        20\n",
      "Jerónimos                                             20\n",
      "Rios Rosas                                            20\n",
      "Casa de Campo                                         18\n",
      "la Dreta de l'Eixample                                18\n",
      "Castillejos                                           16\n",
      "Comillas                                              16\n",
      "Almenara                                              15\n",
      "Valdefuentes                                          15\n",
      "Berruguete                                            15\n",
      "Vista Alegre                                          15\n",
      "Bellas Vistas                                         15\n",
      "San Isidro                                            14\n",
      "San Diego                                             14\n",
      "El Viso                                               14\n",
      "Ventas                                                14\n",
      "Hispanoamérica                                        14\n",
      "Ciudad Jardín                                         14\n",
      "Fuente del Berro                                      14\n",
      "Opañel                                                13\n",
      "Valverde                                              13\n",
      "Peñagrande                                            13\n",
      "Alcúdia                                               13\n",
      "Aluche                                                12\n",
      "Palma de Mallorca                                     12\n",
      "Pinar del Rey                                         12\n",
      "Castellana                                            12\n",
      "Concepción                                            11\n",
      "Lucero                                                11\n",
      "Aravaca                                               11\n",
      "Valdeacederas                                         10\n",
      "Numancia                                              10\n",
      "Canillas                                              10\n",
      "Dublin City                                           10\n",
      "Ciudad Universitaria                                   9\n",
      "Simancas                                               9\n",
      "Los Rosales                                            9\n",
      "Campamento                                             8\n",
      "Vallehermoso                                           8\n",
      "Adelfas                                                8\n",
      "Palomeras Bajas                                        8\n",
      "Abrantes                                               7\n",
      "Portazgo                                               7\n",
      "Casco Histórico de Barajas                             7\n",
      "Almendrales                                            7\n",
      "Casco Histórico de Vallecas                            7\n",
      "Arcos                                                  7\n",
      "Quintana                                               7\n",
      "Puerta Bonita                                          7\n",
      "Legazpi                                                7\n",
      "Mirasierra                                             6\n",
      "Pueblo Nuevo                                           6\n",
      "Castilla                                               6\n",
      "Fontarrón                                              6\n",
      "Nueva España                                           6\n",
      "Moscardó                                               5\n",
      "San Pascual                                            5\n",
      "la Vila de Gràcia                                      5\n",
      "Llucmajor                                              5\n",
      "Vaugirard                                              5\n",
      "Selva                                                  5\n",
      "Vinateros                                              5\n",
      "Entrevías                                              5\n",
      "Pilar                                                  5\n",
      "San Andrés                                             5\n",
      "l'Antiga Esquerra de l'Eixample                        5\n",
      "Hollywood                                              4\n",
      "Palomeras Sureste                                      4\n",
      "Zofío                                                  4\n",
      "San Fermín                                             4\n",
      "Buttes-Montmartre                                      4\n",
      "Popincourt                                             4\n",
      "I Centro Storico                                       4\n",
      "Edgewood, Bloomingdale, Truxton Circle, Eckington      4\n",
      "Costillares                                            4\n",
      "Atocha                                                 4\n",
      "Kensington and Chelsea                                 4\n",
      "Tower Hamlets                                          4\n",
      "Cármenes                                               4\n",
      "Niño Jesús                                             4\n",
      "el Camp d'en Grassot i Gràcia Nova                     4\n",
      "De Baarsjes - Oud-West                                 4\n",
      "Timón                                                  4\n",
      "Hackney                                                4\n",
      "Valdezarza                                             4\n",
      "San Juan Bautista                                      4\n",
      "Salvador                                               3\n",
      "Pradolongo                                             3\n",
      "Alameda de Osuna                                       3\n",
      "Apostol Santiago                                       3\n",
      "Ealing                                                 3\n",
      "Media Legua                                            3\n",
      "La Paz                                                 3\n",
      "Los Angeles                                            3\n",
      "Calvià                                                 3\n",
      "De Pijp - Rivierenbuurt                                3\n",
      "Westminster                                            3\n",
      "Hellín                                                 3\n",
      "les Corts                                              3\n",
      "el Barri Gòtic                                         3\n",
      "Casco Histórico de Vicálvaro                           3\n",
      "Waverley                                               3\n",
      "Búger                                                  3\n",
      "Pollença                                               3\n",
      "Aguilas                                                3\n",
      "Santanyí                                               2\n",
      "Wandsworth                                             2\n",
      "Bromley                                                2\n",
      "Fort Greene                                            2\n",
      "el Parc i la Llacuna del Poblenou                      2\n",
      "Costitx                                                2\n",
      "Palais-Bourbon                                         2\n",
      "Sants - Badal                                          2\n",
      "Williamsburg                                           2\n",
      "Marrickville                                           2\n",
      "Estrella                                               2\n",
      "Petra                                                  2\n",
      "Deyá                                                   2\n",
      "Rejas                                                  2\n",
      "Commune de Genève                                      2\n",
      "la Bordeta                                             2\n",
      "Leonidas                                               2\n",
      "Son Servera                                            2\n",
      "Sants                                                  2\n",
      "Buenavista                                             2\n",
      "Palomas                                                2\n",
      "Orcasur                                                2\n",
      "Southwark                                              2\n",
      "Piovera                                                2\n",
      "Gobelins                                               2\n",
      "Buttes-Chaumont                                        2\n",
      "Brent                                                  2\n",
      "Upper East Side                                        2\n",
      "el Fort Pienc                                          1\n",
      "ΠΛΑΤΕΙΑ ΑΤΤΙΚΗΣ                                        1\n",
      "Pavones                                                1\n",
      "Algaida                                                1\n",
      "Woodland Hills                                         1\n",
      "Sant Gervasi - la Bonanova                             1\n",
      "Hostafrancs                                            1\n",
      "Artà                                                   1\n",
      "Mierendorffplatz                                       1\n",
      "Entrepôt                                               1\n",
      "Yau Tsim Mong                                          1\n",
      "Valldemossa                                            1\n",
      "Capdepera                                              1\n",
      "Marroquina                                             1\n",
      "Inca                                                   1\n",
      "II Parioli/Nomentano                                   1\n",
      "Ditmars Steinway                                       1\n",
      "Phinney Ridge                                          1\n",
      "Richmond upon Thames                                   1\n",
      "Haselhorst                                             1\n",
      "Binissalem                                             1\n",
      "Vilafranc de Bonany                                    1\n",
      "78703                                                  1\n",
      "Central & Western                                      1\n",
      "San Cristobal                                          1\n",
      "Hornsby                                                1\n",
      "Bedford-Stuyvesant                                     1\n",
      "Sant Antoni                                            1\n",
      "Felanitx                                               1\n",
      "Fairfax                                                1\n",
      "Harlem                                                 1\n",
      "Manly                                                  1\n",
      "Canillejas                                             1\n",
      "Luxembourg                                             1\n",
      "Bushwick                                               1\n",
      "Campanet                                               1\n",
      "Waterfront Communities-The Island                      1\n",
      "El Goloso                                              1\n",
      "Sant Gervasi - Galvany                                 1\n",
      "Randwick                                               1\n",
      "Pasadena                                               1\n",
      "ΠΛΑΤΕΙΑ ΑΜΕΡΙΚΗΣ                                       1\n",
      "Indre By                                               1\n",
      "Landstra§e                                             1\n",
      "Sunset Park                                            1\n",
      "Provençals del Poblenou                                1\n",
      "Near North Side                                        1\n",
      "Longsight                                              1\n",
      "la Salut                                               1\n",
      "Rixdorf                                                1\n",
      "Santa Margalida                                        1\n",
      "Pico-Robertson                                         1\n",
      "City of London                                         1\n",
      "la Sagrada Família                                     1\n",
      "Ixelles                                                1\n",
      "Cuatro Vientos                                         1\n",
      "Frederiksberg                                          1\n",
      "Santa María del Camí                                   1\n",
      "XIII Aurelia                                           1\n",
      "la Nova Esquerra de l'Eixample                         1\n",
      "Upper West Side                                        1\n",
      "Amposta                                                1\n",
      "East Riverside                                         1\n",
      "Colina                                                 1\n",
      "Sant Pere, Santa Caterina i la Ribera                  1\n",
      "Port Phillip                                           1\n",
      "Camden                                                 1\n",
      "IX Eur                                                 1\n",
      "Batignolles-Monceau                                    1\n",
      "Broadway                                               1\n",
      "Schaerbeek                                             1\n",
      "Sóller                                                 1\n",
      "XII Monte Verde                                        1\n",
      "VII San Giovanni/Cinecittà                             1\n",
      "North Sydney                                           1\n",
      "Topanga                                                1\n",
      "East Village                                           1\n",
      "Prenzlauer Berg Südwest                                1\n",
      "West Village                                           1\n",
      "City Park West                                         1\n",
      "Manacor                                                1\n",
      "Villeray-Saint-Michel-Parc-Extension                   1\n",
      "El Plantío                                             1\n",
      "Sa Pobla                                               1\n",
      "Ravenna                                                1\n",
      "Valdemarín                                             1\n",
      "Leopoldstadt                                           1\n",
      "Dorsoduro                                              1\n",
      "Lake View                                              1\n",
      "Vesterbro-Kongens Enghave                              1\n",
      "Whalley Range                                          1\n",
      "Abbeyhill                                              1\n",
      "Wallingford                                            1\n",
      "Newington and Dalkeith Road                            1\n",
      "Beverly Grove                                          1\n",
      "Tempelhofer Vorstadt                                   1\n",
      "Andratx                                                1\n",
      "Greenwich                                              1\n",
      "East Harlem                                            1\n",
      "Lambeth                                                1\n",
      "Alexanderplatz                                         1\n",
      "Palms                                                  1\n",
      "Fairview                                               1\n",
      "IV Tiburtina                                           1\n",
      "Name: Neighbourhood Cleansed, dtype: int64\n"
     ]
    }
   ],
   "source": [
    "#print(full_airbnb['Neighbourhood'].unique())\n",
    "print(len(test['Neighbourhood Cleansed'].unique()))\n",
    "print(test['Neighbourhood Cleansed'].isna().sum())\n",
    "with pd.option_context(\"display.max_rows\", 1000):\n",
    "    print(test['Neighbourhood Cleansed'].value_counts())"
   ]
  },
  {
   "cell_type": "code",
   "execution_count": 40,
   "metadata": {},
   "outputs": [
    {
     "name": "stdout",
     "output_type": "stream",
     "text": [
      "<class 'pandas.core.frame.DataFrame'>\n",
      "RangeIndex: 2956 entries, 0 to 2955\n",
      "Data columns (total 29 columns):\n",
      "Neighbourhood Cleansed          2956 non-null object\n",
      "Neighbourhood Group Cleansed    2755 non-null object\n",
      "Property Type                   2956 non-null object\n",
      "Room Type                       2956 non-null object\n",
      "Accommodates                    2956 non-null int64\n",
      "Bathrooms                       2946 non-null float64\n",
      "Bedrooms                        2949 non-null float64\n",
      "Beds                            2942 non-null float64\n",
      "Price                           2953 non-null float64\n",
      "Security Deposit                1221 non-null float64\n",
      "Cleaning Fee                    1720 non-null float64\n",
      "Guests Included                 2956 non-null int64\n",
      "Extra People                    2956 non-null int64\n",
      "Minimum Nights                  2956 non-null int64\n",
      "Maximum Nights                  2956 non-null int64\n",
      "Availability 30                 2956 non-null int64\n",
      "Availability 60                 2956 non-null int64\n",
      "Availability 90                 2956 non-null int64\n",
      "Availability 365                2956 non-null int64\n",
      "Number of Reviews               2956 non-null int64\n",
      "Review Scores Rating            2303 non-null float64\n",
      "Review Scores Accuracy          2302 non-null float64\n",
      "Review Scores Cleanliness       2302 non-null float64\n",
      "Review Scores Checkin           2294 non-null float64\n",
      "Review Scores Communication     2303 non-null float64\n",
      "Review Scores Location          2294 non-null float64\n",
      "Review Scores Value             2293 non-null float64\n",
      "Cancellation Policy             2956 non-null object\n",
      "Reviews per Month               2325 non-null float64\n",
      "dtypes: float64(14), int64(10), object(5)\n",
      "memory usage: 669.8+ KB\n"
     ]
    }
   ],
   "source": [
    "test.info()"
   ]
  },
  {
   "cell_type": "markdown",
   "metadata": {},
   "source": [
    "A la vista de los datos de arriba vemos que Price tienen valores NaN(3), por ello deberemos limpiarlos "
   ]
  },
  {
   "cell_type": "code",
   "execution_count": 41,
   "metadata": {},
   "outputs": [],
   "source": [
    "#Dropeamos\n",
    "test.drop(drop_corr, axis=1, inplace=True)\n",
    "test.drop(drop_filtrado, axis=1, inplace=True)\n",
    "\n",
    "#Eliminamos tambien la variable Security Deposit \n",
    "test.drop('Security Deposit', axis=1, inplace=True)\n",
    "\n",
    "#imputamos los valores NaNs del target con la media del test (No estoy seguro si deberia usar esa media o la del train)\n",
    "media_target_test = np.mean(test['Price'])\n",
    "test['Price'] = test['Price'].fillna(media_target_test)\n",
    "\n",
    "#Imputamos los NaNs de la misma manera que se hace en Train\n",
    "test['Bathrooms'] = test['Bathrooms'].fillna(1.3)\n",
    "test['Cleaning Fee'] = test['Cleaning Fee'].fillna(32)\n",
    "\n",
    "\n",
    "#Aplicamos el Mean Encoder a Room Type y a Neighbourhood Cleansed (En este caso entiendo que debemos usar sus propios datos \n",
    "# y no los de train, porque salen de la relacion entre la variable en target)\n",
    "mean_encode_room_type_test = test.groupby('Room Type')['Price'].mean()\n",
    "mean_encode_neigh_test = test.groupby('Neighbourhood Cleansed')['Price'].mean()\n",
    "test.loc[:,'Room Type'] = test['Room Type'].map(mean_encode_room_type_test)\n",
    "test.loc[:,'Neighbourhood Cleansed'] = test['Neighbourhood Cleansed'].map(mean_encode_neigh_test)\n",
    "\n",
    "\n",
    "#Por ultimo cambiamos el nombre de la variable a Barrio\n",
    "test.rename(columns={'Neighbourhood Cleansed':'Barrio'}, inplace=True)\n"
   ]
  },
  {
   "cell_type": "markdown",
   "metadata": {},
   "source": [
    "Separamos la variable objetivo del tets"
   ]
  },
  {
   "cell_type": "code",
   "execution_count": 42,
   "metadata": {},
   "outputs": [],
   "source": [
    "y_test = test['Price']\n",
    "X_test= test.drop(['Price'], axis=1)"
   ]
  },
  {
   "cell_type": "markdown",
   "metadata": {},
   "source": [
    "Normalizamos los datos de Test"
   ]
  },
  {
   "cell_type": "code",
   "execution_count": 43,
   "metadata": {},
   "outputs": [],
   "source": [
    "XtestScaled = scaler.transform(X_test)"
   ]
  },
  {
   "cell_type": "markdown",
   "metadata": {},
   "source": [
    "## Lasso Model"
   ]
  },
  {
   "cell_type": "code",
   "execution_count": 45,
   "metadata": {},
   "outputs": [
    {
     "name": "stdout",
     "output_type": "stream",
     "text": [
      "best mean cross-validation score: -2576.336\n",
      "best parameters: {'alpha': 0.1}\n"
     ]
    },
    {
     "data": {
      "image/png": "[encoded data removed]",
      "text/plain": [
       "<Figure size 432x288 with 1 Axes>"
      ]
     },
     "metadata": {
      "needs_background": "light"
     },
     "output_type": "display_data"
    }
   ],
   "source": [
    "from sklearn.model_selection import GridSearchCV\n",
    "from sklearn.linear_model import Lasso\n",
    "\n",
    "alpha_vector = np.logspace(-1,3,20)\n",
    "param_grid = {'alpha': alpha_vector }\n",
    "grid = GridSearchCV(Lasso(), scoring= 'neg_mean_squared_error', param_grid=param_grid, cv = 10)\n",
    "grid.fit(XtrainScaled, y_train)\n",
    "print(\"best mean cross-validation score: {:.3f}\".format(grid.best_score_))\n",
    "print(\"best parameters: {}\".format(grid.best_params_))\n",
    "\n",
    "#-1 porque es negado\n",
    "scores = -1*np.array(grid.cv_results_['mean_test_score'])\n",
    "plt.semilogx(alpha_vector,scores,'-o')\n",
    "plt.xlabel('alpha',fontsize=16)\n",
    "plt.ylabel('5-Fold MSE')\n",
    "plt.show()"
   ]
  },
  {
   "cell_type": "code",
   "execution_count": 50,
   "metadata": {},
   "outputs": [
    {
     "name": "stdout",
     "output_type": "stream",
     "text": [
      "MSE Modelo Lasso (train): 2.55e+03\n",
      "MSE Modelo Lasso (test) : 2.2e+03\n",
      "RMSE Modelo Lasso (train): 50.5\n",
      "RMSE Modelo Lasso (test) : 46.9\n",
      "Room Type 23.103355715584357\n",
      "Accommodates 9.152972425879872\n",
      "Bathrooms 18.301684994979666\n",
      "Cleaning Fee 9.887253501000862\n"
     ]
    }
   ],
   "source": [
    "from sklearn.metrics import mean_squared_error\n",
    "\n",
    "alpha_optimo = grid.best_params_['alpha']*100\n",
    "lasso = Lasso(alpha = alpha_optimo).fit(XtrainScaled,y_train)\n",
    "\n",
    "ytrainLasso = lasso.predict(XtrainScaled)\n",
    "ytestLasso  = lasso.predict(XtestScaled)\n",
    "mseTrainModelLasso = mean_squared_error(y_train,ytrainLasso)\n",
    "mseTestModelLasso = mean_squared_error(y_test,ytestLasso)\n",
    "\n",
    "print('MSE Modelo Lasso (train): %0.3g' % mseTrainModelLasso)\n",
    "print('MSE Modelo Lasso (test) : %0.3g' % mseTestModelLasso)\n",
    "\n",
    "print('RMSE Modelo Lasso (train): %0.3g' % np.sqrt(mseTrainModelLasso))\n",
    "print('RMSE Modelo Lasso (test) : %0.3g' % np.sqrt(mseTestModelLasso))\n",
    "\n",
    "feature_names = X_train.columns[1:]\n",
    "w = lasso.coef_\n",
    "for f,wi in zip(feature_names,w):\n",
    "    print(f,wi)"
   ]
  },
  {
   "cell_type": "markdown",
   "metadata": {},
   "source": [
    "**Estos datos no son aceptables asi que deberiamos a intentar hacer una normalizacion logaritmica, pero sera en una proxima entrega**"
   ]
  },
  {
   "cell_type": "code",
   "execution_count": 54,
   "metadata": {},
   "outputs": [
    {
     "data": {
      "image/png": "[encoded data removed]",
      "text/plain": [
       "<Figure size 432x288 with 1 Axes>"
      ]
     },
     "metadata": {
      "needs_background": "light"
     },
     "output_type": "display_data"
    }
   ],
   "source": [
    "plt.hist(y_train, bins=30)\n",
    "plt.show()"
   ]
  },
  {
   "cell_type": "code",
   "execution_count": 55,
   "metadata": {},
   "outputs": [
    {
     "data": {
      "image/png": "[encoded data removed]",
      "text/plain": [
       "<Figure size 432x288 with 1 Axes>"
      ]
     },
     "metadata": {
      "needs_background": "light"
     },
     "output_type": "display_data"
    }
   ],
   "source": [
    "plt.hist(np.log10(y_train), bins=30)\n",
    "plt.show()"
   ]
  }
 ],
 "metadata": {
  "kernelspec": {
   "display_name": "Python 3",
   "language": "python",
   "name": "python3"
  },
  "language_info": {
   "codemirror_mode": {
    "name": "ipython",
    "version": 3
   },
   "file_extension": ".py",
   "mimetype": "text/x-python",
   "name": "python",
   "nbconvert_exporter": "python",
   "pygments_lexer": "ipython3",
   "version": "3.7.4"
  }
 },
 "nbformat": 4,
 "nbformat_minor": 2
}
