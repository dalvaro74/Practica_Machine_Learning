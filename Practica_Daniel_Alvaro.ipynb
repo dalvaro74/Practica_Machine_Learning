{
 "cells": [
  {
   "cell_type": "markdown",
   "metadata": {},
   "source": [
    "# Practica Modulo Machine Learning -- Daniel Alvaro\n",
    "\n",
    "En este notebook vamos a abordar la práctica del modulo de Machine Learning siguiendo los siguientes pasos.\n",
    "\n",
    "1. Generación de nuevas características a partir de las existentes\n",
    "2. Codificación de variables\n",
    "3. Análisis exploratorio\n",
    "4. Selección y evaluación del modelo\n",
    "5. Comparativa de distintos algoritmos"
   ]
  },
  {
   "cell_type": "markdown",
   "metadata": {},
   "source": [
    "## Librerías y funciones\n",
    "\n",
    "Lo primero es cargar las librerías y funciones necesarias."
   ]
  },
  {
   "cell_type": "code",
   "execution_count": 1,
   "metadata": {},
   "outputs": [],
   "source": [
    "import numpy as np\n",
    "import pandas as pd\n",
    "\n",
    "import matplotlib.pyplot as plt\n",
    "from matplotlib.colors import ListedColormap\n",
    "%matplotlib inline\n",
    "\n",
    "cm = plt.cm.RdBu\n",
    "cm_bright = ListedColormap(['#FF0000', '#0000FF'])\n",
    "\n",
    "import warnings\n",
    "warnings.filterwarnings('ignore')"
   ]
  },
  {
   "cell_type": "markdown",
   "metadata": {},
   "source": [
    "## Datos de entrada\n",
    "\n",
    "Cargamos los datos del fichero de airbnb reducido.\n",
    "Este fichero contiene 14870 observaciones y 89 variables"
   ]
  },
  {
   "cell_type": "code",
   "execution_count": 2,
   "metadata": {},
   "outputs": [],
   "source": [
    "full_airbnb = pd.read_csv('./data/airbnb-listings.csv',sep=';', decimal='.')"
   ]
  },
  {
   "cell_type": "code",
   "execution_count": 3,
   "metadata": {},
   "outputs": [
    {
     "data": {
      "text/plain": [
       "506"
      ]
     },
     "execution_count": 3,
     "metadata": {},
     "output_type": "execute_result"
    }
   ],
   "source": [
    "full_airbnb.shape\n",
    "full_airbnb['Zipcode'].isna().sum()"
   ]
  },
  {
   "cell_type": "markdown",
   "metadata": {},
   "source": [
    "Antes de llevar a cabo el split entre Trainintg y Test eliminamos las columnas que tenemos claro que no van a ser utiles para nuestro objetivo:\n",
    "1. Las que contienen URLs: Listing Url: drop_url  \n",
    "2. Los Ids y lo relativo al Scrape realizado: drop_id_scrape\n",
    "3. Nombres y comentarios:drop_comments\n",
    "4. Direcciones: Para simplificar el tratamiento del modelo y debido al ruido que continen las variables de direccion solo nos quedaremos con el zip code:drop_address\n",
    "5. Informascion relativa al Hospedador: drop_host"
   ]
  },
  {
   "cell_type": "code",
   "execution_count": 4,
   "metadata": {},
   "outputs": [],
   "source": [
    "drop_url = np.array(['Listing Url', 'Thumbnail Url', 'Medium Url', 'Picture Url', 'XL Picture Url', 'Host URL',\n",
    "                     'Host Thumbnail Url','Host Picture Url'])\n",
    "full_airbnb.drop(drop_url, axis=1, inplace=True)\n",
    "\n",
    "drop_id_scrape = np.array(['ID', 'Scrape ID', 'Last Scraped', 'Host ID', 'Calendar last Scraped'])\n",
    "full_airbnb.drop(drop_id_scrape, axis=1, inplace=True)\n",
    "\n",
    "\n",
    "drop_comments = np.array(['Name', 'Summary', 'Space', 'Description', 'Neighborhood Overview', 'Notes',\n",
    "                     'Transit','Access', 'Interaction', 'House Rules', 'Host Name', 'Experiences Offered',\n",
    "                         'Host About', 'Amenities', 'Features'])\n",
    "\n",
    "full_airbnb.drop(drop_comments, axis=1, inplace=True)\n",
    "\n",
    "drop_address = np.array(['Host Location', 'Host Neighbourhood', 'Street', 'Neighbourhood', \n",
    "    'Neighbourhood Cleansed', 'Neighbourhood Group Cleansed','City', 'State', 'Market', 'Smart Location',\n",
    "    'Country Code', 'Country', 'Latitude', 'Longitude', 'Jurisdiction Names', 'Geolocation'])\n",
    "\n",
    "full_airbnb.drop(drop_address, axis=1, inplace=True)\n",
    "\n",
    "drop_host = np.array(['Host Since', 'Host Response Time', 'Host Response Rate', 'Host Acceptance Rate', \n",
    "    'Host Listings Count', 'Host Total Listings Count','Host Verifications', 'Calculated host listings count'])\n",
    "\n",
    "full_airbnb.drop(drop_host, axis=1, inplace=True)\n",
    "\n"
   ]
  },
  {
   "cell_type": "markdown",
   "metadata": {},
   "source": [
    "Por ultimo eliminamos varios campos sueltos por los siguientes motivos:\n",
    "* Square Feet: Contiene 14182 observaciones null\n",
    "* Weekly Price: Contiene 11190 observaciones null\n",
    "* Monthly Price: Contiene 11219 obsevaciones null\n",
    "* Has Availability: Contiene 12768 observaciones null\n",
    "* First Review: No creemos que aporte informacion util para el calculo del precio\n",
    "* Last Review: No creemos que aporte informacion util para el calculo del precio\n",
    "* Calendar Updated: No creemos que aporte informacion util para el calculo del precio\n",
    "* License: Contiene 14431 observaciones null\n",
    "* Bed Type: Casi el 99% de las camas son del mismo tipo (Real Bed)\n",
    "\n"
   ]
  },
  {
   "cell_type": "code",
   "execution_count": 5,
   "metadata": {},
   "outputs": [],
   "source": [
    "drop_varios = np.array(['Square Feet', 'Weekly Price', 'Monthly Price', 'Has Availability', 'First Review', 'Last Review',\n",
    "                     'Calendar Updated','License', 'Bed Type'])\n",
    "\n",
    "full_airbnb.drop(drop_varios, axis=1, inplace=True)\n"
   ]
  },
  {
   "cell_type": "code",
   "execution_count": 6,
   "metadata": {},
   "outputs": [
    {
     "data": {
      "text/plain": [
       "(14780, 28)"
      ]
     },
     "execution_count": 6,
     "metadata": {},
     "output_type": "execute_result"
    }
   ],
   "source": [
    "full_airbnb.shape"
   ]
  },
  {
   "cell_type": "markdown",
   "metadata": {},
   "source": [
    "Tras la limpeza inicial nos hemos quedado con 28 caracteristicas.\n",
    "\n",
    "Ahora, y antes de pasar al analisis exploratorio y la seleccion de caratresiticas procemos a la divsion del dataset de entrada en train y test. De moento y por si llevamos a cabo tratamiento de outliers no separaremos la variable objetivo del resto de caracteristicas."
   ]
  },
  {
   "cell_type": "code",
   "execution_count": 7,
   "metadata": {},
   "outputs": [
    {
     "name": "stdout",
     "output_type": "stream",
     "text": [
      "Dimensiones del dataset de training: (11824, 28)\n",
      "Dimensiones del dataset de test: (2956, 28)\n"
     ]
    }
   ],
   "source": [
    "from sklearn.model_selection import train_test_split\n",
    "train, test = train_test_split(full_airbnb, test_size=0.2, shuffle=True, random_state=0)\n",
    "print(f'Dimensiones del dataset de training: {train.shape}')\n",
    "print(f'Dimensiones del dataset de test: {test.shape}')\n",
    "# Guardamos\n",
    "train.to_csv('./data/train.csv', sep=';', decimal='.', index=False)\n",
    "test.to_csv('./data/test.csv', sep=';', decimal='.', index=False)"
   ]
  },
  {
   "cell_type": "markdown",
   "metadata": {},
   "source": [
    "**Tengamos en cuenta que a partir de ahora todo el analisis exploratorio y selección de caracteristicas se hara sobre el dataset de entrenamiento.**\n",
    "\n",
    "**Posteriormente todas transformaciones llevadas a cabo en dicho dataset se deberan implementar en el de Test.**"
   ]
  },
  {
   "cell_type": "markdown",
   "metadata": {},
   "source": [
    "En primer lugar trataremos las tres variables categoricas que nos quedan (Property Type, Room Type y Cancellation Policy)"
   ]
  },
  {
   "cell_type": "code",
   "execution_count": 8,
   "metadata": {
    "scrolled": true
   },
   "outputs": [
    {
     "name": "stdout",
     "output_type": "stream",
     "text": [
      "Apartment             9601\n",
      "House                 1074\n",
      "Condominium            288\n",
      "Bed & Breakfast        275\n",
      "Loft                   247\n",
      "Other                  181\n",
      "Dorm                    35\n",
      "Guesthouse              32\n",
      "Chalet                  19\n",
      "Townhouse               15\n",
      "Hostel                  14\n",
      "Villa                   13\n",
      "Serviced apartment       9\n",
      "Boat                     3\n",
      "Boutique hotel           3\n",
      "Guest suite              3\n",
      "Casa particular          3\n",
      "Camper/RV                3\n",
      "Earth House              2\n",
      "Bungalow                 2\n",
      "Timeshare                1\n",
      "Tent                     1\n",
      "Name: Property Type, dtype: int64\n",
      "Entire home/apt    7184\n",
      "Private room       4484\n",
      "Shared room         156\n",
      "Name: Room Type, dtype: int64\n",
      "strict             4576\n",
      "flexible           3777\n",
      "moderate           3373\n",
      "strict_new           28\n",
      "super_strict_60      25\n",
      "moderate_new         17\n",
      "super_strict_30      16\n",
      "flexible_new         12\n",
      "Name: Cancellation Policy, dtype: int64\n"
     ]
    }
   ],
   "source": [
    "print(train['Property Type'].value_counts())\n",
    "print(train['Room Type'].value_counts())\n",
    "print(train['Cancellation Policy'].value_counts())\n"
   ]
  },
  {
   "cell_type": "markdown",
   "metadata": {},
   "source": [
    "Vamos a dejar las categorias de Property Type en \"Apartment\", \"House\", \"Condominium\", \"Bed & Breakfast\" y \"Loft\", que representan mas del 95% del total y todas las demas las incluiremos en la categoría \"Other\""
   ]
  },
  {
   "cell_type": "code",
   "execution_count": 9,
   "metadata": {},
   "outputs": [
    {
     "name": "stdout",
     "output_type": "stream",
     "text": [
      "Apartment          9601\n",
      "House              1074\n",
      "Other               339\n",
      "Condominium         288\n",
      "Bed & Breakfast     275\n",
      "Loft                247\n",
      "Name: Property Type, dtype: int64\n"
     ]
    }
   ],
   "source": [
    "array_to_replace = ['Dorm', 'Guesthouse', 'Chalet', 'Townhouse', 'Hostel', 'Villa', 'Serviced apartment', 'Casa particular',\n",
    "                   'Boat', 'Camper/RV', 'Boutique hotel', 'Guest suite', 'Bungalow', 'Earth House', 'Tent', 'Timeshare']\n",
    "train['Property Type'] = train['Property Type'].replace(array_to_replace, 'Other')\n",
    "print(train['Property Type'].value_counts())"
   ]
  },
  {
   "cell_type": "markdown",
   "metadata": {},
   "source": [
    "De la misma manera vamos a dejar las categorias de Cancellation Policy en \"strict\", \"flexible\" y \"moderate\", que representan mas del 96% del totak y todas las demas las incluiremos en la categoría \"Other\""
   ]
  },
  {
   "cell_type": "code",
   "execution_count": 10,
   "metadata": {},
   "outputs": [
    {
     "name": "stdout",
     "output_type": "stream",
     "text": [
      "strict      4576\n",
      "flexible    3777\n",
      "moderate    3373\n",
      "Other         98\n",
      "Name: Cancellation Policy, dtype: int64\n"
     ]
    }
   ],
   "source": [
    "array_to_replace2 = ['strict_new', 'super_strict_60', 'moderate_new', 'super_strict_30', 'flexible_new']\n",
    "train['Cancellation Policy'] = train['Cancellation Policy'].replace(array_to_replace2, 'Other')\n",
    "print(train['Cancellation Policy'].value_counts())"
   ]
  },
  {
   "cell_type": "markdown",
   "metadata": {},
   "source": [
    "## LabelEncoder\n",
    "Una vez reducidas las categorias de las variables categoricas, las convertiremos en numericas mediante LabelEncoder"
   ]
  },
  {
   "cell_type": "code",
   "execution_count": 11,
   "metadata": {},
   "outputs": [],
   "source": [
    "from sklearn import preprocessing\n",
    "le = preprocessing.LabelEncoder()\n",
    "le.fit(train['Property Type'])\n",
    "train['Property Type'] =  le.transform(train['Property Type'])\n",
    "\n",
    "le.fit(train['Cancellation Policy'])\n",
    "train['Cancellation Policy'] =  le.transform(train['Cancellation Policy'])\n",
    "\n",
    "le.fit(train['Room Type'])\n",
    "train['Room Type'] =  le.transform(train['Room Type'])"
   ]
  },
  {
   "cell_type": "markdown",
   "metadata": {},
   "source": [
    "Antes de pasar a la correlacion de variables llevemos a cabo un análisis rapido de las caracteristicas que nos quedan"
   ]
  },
  {
   "cell_type": "code",
   "execution_count": 12,
   "metadata": {
    "scrolled": true
   },
   "outputs": [
    {
     "data": {
      "text/html": [
       "<div>\n",
       "<style scoped>\n",
       "    .dataframe tbody tr th:only-of-type {\n",
       "        vertical-align: middle;\n",
       "    }\n",
       "\n",
       "    .dataframe tbody tr th {\n",
       "        vertical-align: top;\n",
       "    }\n",
       "\n",
       "    .dataframe thead th {\n",
       "        text-align: right;\n",
       "    }\n",
       "</style>\n",
       "<table border=\"1\" class=\"dataframe\">\n",
       "  <thead>\n",
       "    <tr style=\"text-align: right;\">\n",
       "      <th></th>\n",
       "      <th>count</th>\n",
       "      <th>mean</th>\n",
       "      <th>std</th>\n",
       "      <th>min</th>\n",
       "      <th>25%</th>\n",
       "      <th>50%</th>\n",
       "      <th>75%</th>\n",
       "      <th>max</th>\n",
       "    </tr>\n",
       "  </thead>\n",
       "  <tbody>\n",
       "    <tr>\n",
       "      <td>Property Type</td>\n",
       "      <td>11824.0</td>\n",
       "      <td>0.571380</td>\n",
       "      <td>1.289511</td>\n",
       "      <td>0.00</td>\n",
       "      <td>0.00</td>\n",
       "      <td>0.0</td>\n",
       "      <td>0.00</td>\n",
       "      <td>5.00</td>\n",
       "    </tr>\n",
       "    <tr>\n",
       "      <td>Room Type</td>\n",
       "      <td>11824.0</td>\n",
       "      <td>0.405616</td>\n",
       "      <td>0.517205</td>\n",
       "      <td>0.00</td>\n",
       "      <td>0.00</td>\n",
       "      <td>0.0</td>\n",
       "      <td>1.00</td>\n",
       "      <td>2.00</td>\n",
       "    </tr>\n",
       "    <tr>\n",
       "      <td>Accommodates</td>\n",
       "      <td>11824.0</td>\n",
       "      <td>3.276641</td>\n",
       "      <td>2.106127</td>\n",
       "      <td>1.00</td>\n",
       "      <td>2.00</td>\n",
       "      <td>3.0</td>\n",
       "      <td>4.00</td>\n",
       "      <td>16.00</td>\n",
       "    </tr>\n",
       "    <tr>\n",
       "      <td>Bathrooms</td>\n",
       "      <td>11779.0</td>\n",
       "      <td>1.286442</td>\n",
       "      <td>0.667359</td>\n",
       "      <td>0.00</td>\n",
       "      <td>1.00</td>\n",
       "      <td>1.0</td>\n",
       "      <td>1.00</td>\n",
       "      <td>8.00</td>\n",
       "    </tr>\n",
       "    <tr>\n",
       "      <td>Bedrooms</td>\n",
       "      <td>11806.0</td>\n",
       "      <td>1.346773</td>\n",
       "      <td>0.909841</td>\n",
       "      <td>0.00</td>\n",
       "      <td>1.00</td>\n",
       "      <td>1.0</td>\n",
       "      <td>2.00</td>\n",
       "      <td>10.00</td>\n",
       "    </tr>\n",
       "    <tr>\n",
       "      <td>Beds</td>\n",
       "      <td>11789.0</td>\n",
       "      <td>2.051065</td>\n",
       "      <td>1.641454</td>\n",
       "      <td>1.00</td>\n",
       "      <td>1.00</td>\n",
       "      <td>2.0</td>\n",
       "      <td>2.00</td>\n",
       "      <td>16.00</td>\n",
       "    </tr>\n",
       "    <tr>\n",
       "      <td>Price</td>\n",
       "      <td>11810.0</td>\n",
       "      <td>73.702794</td>\n",
       "      <td>72.203846</td>\n",
       "      <td>9.00</td>\n",
       "      <td>34.00</td>\n",
       "      <td>55.0</td>\n",
       "      <td>87.00</td>\n",
       "      <td>999.00</td>\n",
       "    </tr>\n",
       "    <tr>\n",
       "      <td>Security Deposit</td>\n",
       "      <td>5035.0</td>\n",
       "      <td>190.150745</td>\n",
       "      <td>117.420048</td>\n",
       "      <td>0.00</td>\n",
       "      <td>100.00</td>\n",
       "      <td>150.0</td>\n",
       "      <td>200.00</td>\n",
       "      <td>990.00</td>\n",
       "    </tr>\n",
       "    <tr>\n",
       "      <td>Cleaning Fee</td>\n",
       "      <td>6967.0</td>\n",
       "      <td>32.152146</td>\n",
       "      <td>32.030358</td>\n",
       "      <td>0.00</td>\n",
       "      <td>15.00</td>\n",
       "      <td>25.0</td>\n",
       "      <td>40.00</td>\n",
       "      <td>662.00</td>\n",
       "    </tr>\n",
       "    <tr>\n",
       "      <td>Guests Included</td>\n",
       "      <td>11824.0</td>\n",
       "      <td>1.586181</td>\n",
       "      <td>1.182357</td>\n",
       "      <td>1.00</td>\n",
       "      <td>1.00</td>\n",
       "      <td>1.0</td>\n",
       "      <td>2.00</td>\n",
       "      <td>16.00</td>\n",
       "    </tr>\n",
       "    <tr>\n",
       "      <td>Extra People</td>\n",
       "      <td>11824.0</td>\n",
       "      <td>7.639800</td>\n",
       "      <td>12.490317</td>\n",
       "      <td>0.00</td>\n",
       "      <td>0.00</td>\n",
       "      <td>0.0</td>\n",
       "      <td>15.00</td>\n",
       "      <td>500.00</td>\n",
       "    </tr>\n",
       "    <tr>\n",
       "      <td>Minimum Nights</td>\n",
       "      <td>11824.0</td>\n",
       "      <td>3.111806</td>\n",
       "      <td>13.370049</td>\n",
       "      <td>1.00</td>\n",
       "      <td>1.00</td>\n",
       "      <td>2.0</td>\n",
       "      <td>3.00</td>\n",
       "      <td>1125.00</td>\n",
       "    </tr>\n",
       "    <tr>\n",
       "      <td>Maximum Nights</td>\n",
       "      <td>11824.0</td>\n",
       "      <td>964.132358</td>\n",
       "      <td>9387.839981</td>\n",
       "      <td>1.00</td>\n",
       "      <td>365.00</td>\n",
       "      <td>1125.0</td>\n",
       "      <td>1125.00</td>\n",
       "      <td>1000000.00</td>\n",
       "    </tr>\n",
       "    <tr>\n",
       "      <td>Availability 30</td>\n",
       "      <td>11824.0</td>\n",
       "      <td>8.973275</td>\n",
       "      <td>9.345545</td>\n",
       "      <td>0.00</td>\n",
       "      <td>0.00</td>\n",
       "      <td>6.0</td>\n",
       "      <td>14.00</td>\n",
       "      <td>30.00</td>\n",
       "    </tr>\n",
       "    <tr>\n",
       "      <td>Availability 60</td>\n",
       "      <td>11824.0</td>\n",
       "      <td>22.990020</td>\n",
       "      <td>19.753682</td>\n",
       "      <td>0.00</td>\n",
       "      <td>4.00</td>\n",
       "      <td>20.0</td>\n",
       "      <td>38.00</td>\n",
       "      <td>60.00</td>\n",
       "    </tr>\n",
       "    <tr>\n",
       "      <td>Availability 90</td>\n",
       "      <td>11824.0</td>\n",
       "      <td>39.863836</td>\n",
       "      <td>29.658085</td>\n",
       "      <td>0.00</td>\n",
       "      <td>12.00</td>\n",
       "      <td>38.0</td>\n",
       "      <td>65.00</td>\n",
       "      <td>90.00</td>\n",
       "    </tr>\n",
       "    <tr>\n",
       "      <td>Availability 365</td>\n",
       "      <td>11824.0</td>\n",
       "      <td>202.482747</td>\n",
       "      <td>127.946375</td>\n",
       "      <td>0.00</td>\n",
       "      <td>78.00</td>\n",
       "      <td>242.0</td>\n",
       "      <td>319.00</td>\n",
       "      <td>365.00</td>\n",
       "    </tr>\n",
       "    <tr>\n",
       "      <td>Number of Reviews</td>\n",
       "      <td>11824.0</td>\n",
       "      <td>22.589394</td>\n",
       "      <td>37.874278</td>\n",
       "      <td>0.00</td>\n",
       "      <td>1.00</td>\n",
       "      <td>7.0</td>\n",
       "      <td>27.00</td>\n",
       "      <td>356.00</td>\n",
       "    </tr>\n",
       "    <tr>\n",
       "      <td>Review Scores Rating</td>\n",
       "      <td>9173.0</td>\n",
       "      <td>91.687452</td>\n",
       "      <td>9.028574</td>\n",
       "      <td>20.00</td>\n",
       "      <td>89.00</td>\n",
       "      <td>94.0</td>\n",
       "      <td>98.00</td>\n",
       "      <td>100.00</td>\n",
       "    </tr>\n",
       "    <tr>\n",
       "      <td>Review Scores Accuracy</td>\n",
       "      <td>9152.0</td>\n",
       "      <td>9.415210</td>\n",
       "      <td>0.925849</td>\n",
       "      <td>2.00</td>\n",
       "      <td>9.00</td>\n",
       "      <td>10.0</td>\n",
       "      <td>10.00</td>\n",
       "      <td>10.00</td>\n",
       "    </tr>\n",
       "    <tr>\n",
       "      <td>Review Scores Cleanliness</td>\n",
       "      <td>9158.0</td>\n",
       "      <td>9.324088</td>\n",
       "      <td>1.003331</td>\n",
       "      <td>2.00</td>\n",
       "      <td>9.00</td>\n",
       "      <td>10.0</td>\n",
       "      <td>10.00</td>\n",
       "      <td>10.00</td>\n",
       "    </tr>\n",
       "    <tr>\n",
       "      <td>Review Scores Checkin</td>\n",
       "      <td>9149.0</td>\n",
       "      <td>9.624549</td>\n",
       "      <td>0.803586</td>\n",
       "      <td>2.00</td>\n",
       "      <td>9.00</td>\n",
       "      <td>10.0</td>\n",
       "      <td>10.00</td>\n",
       "      <td>10.00</td>\n",
       "    </tr>\n",
       "    <tr>\n",
       "      <td>Review Scores Communication</td>\n",
       "      <td>9157.0</td>\n",
       "      <td>9.649121</td>\n",
       "      <td>0.759505</td>\n",
       "      <td>2.00</td>\n",
       "      <td>9.00</td>\n",
       "      <td>10.0</td>\n",
       "      <td>10.00</td>\n",
       "      <td>10.00</td>\n",
       "    </tr>\n",
       "    <tr>\n",
       "      <td>Review Scores Location</td>\n",
       "      <td>9146.0</td>\n",
       "      <td>9.537284</td>\n",
       "      <td>0.763133</td>\n",
       "      <td>2.00</td>\n",
       "      <td>9.00</td>\n",
       "      <td>10.0</td>\n",
       "      <td>10.00</td>\n",
       "      <td>10.00</td>\n",
       "    </tr>\n",
       "    <tr>\n",
       "      <td>Review Scores Value</td>\n",
       "      <td>9146.0</td>\n",
       "      <td>9.214301</td>\n",
       "      <td>0.952104</td>\n",
       "      <td>2.00</td>\n",
       "      <td>9.00</td>\n",
       "      <td>9.0</td>\n",
       "      <td>10.00</td>\n",
       "      <td>10.00</td>\n",
       "    </tr>\n",
       "    <tr>\n",
       "      <td>Cancellation Policy</td>\n",
       "      <td>11824.0</td>\n",
       "      <td>2.050998</td>\n",
       "      <td>0.858521</td>\n",
       "      <td>0.00</td>\n",
       "      <td>1.00</td>\n",
       "      <td>2.0</td>\n",
       "      <td>3.00</td>\n",
       "      <td>3.00</td>\n",
       "    </tr>\n",
       "    <tr>\n",
       "      <td>Reviews per Month</td>\n",
       "      <td>9293.0</td>\n",
       "      <td>1.868515</td>\n",
       "      <td>1.862982</td>\n",
       "      <td>0.02</td>\n",
       "      <td>0.46</td>\n",
       "      <td>1.2</td>\n",
       "      <td>2.78</td>\n",
       "      <td>17.21</td>\n",
       "    </tr>\n",
       "  </tbody>\n",
       "</table>\n",
       "</div>"
      ],
      "text/plain": [
       "                               count        mean          std    min     25%  \\\n",
       "Property Type                11824.0    0.571380     1.289511   0.00    0.00   \n",
       "Room Type                    11824.0    0.405616     0.517205   0.00    0.00   \n",
       "Accommodates                 11824.0    3.276641     2.106127   1.00    2.00   \n",
       "Bathrooms                    11779.0    1.286442     0.667359   0.00    1.00   \n",
       "Bedrooms                     11806.0    1.346773     0.909841   0.00    1.00   \n",
       "Beds                         11789.0    2.051065     1.641454   1.00    1.00   \n",
       "Price                        11810.0   73.702794    72.203846   9.00   34.00   \n",
       "Security Deposit              5035.0  190.150745   117.420048   0.00  100.00   \n",
       "Cleaning Fee                  6967.0   32.152146    32.030358   0.00   15.00   \n",
       "Guests Included              11824.0    1.586181     1.182357   1.00    1.00   \n",
       "Extra People                 11824.0    7.639800    12.490317   0.00    0.00   \n",
       "Minimum Nights               11824.0    3.111806    13.370049   1.00    1.00   \n",
       "Maximum Nights               11824.0  964.132358  9387.839981   1.00  365.00   \n",
       "Availability 30              11824.0    8.973275     9.345545   0.00    0.00   \n",
       "Availability 60              11824.0   22.990020    19.753682   0.00    4.00   \n",
       "Availability 90              11824.0   39.863836    29.658085   0.00   12.00   \n",
       "Availability 365             11824.0  202.482747   127.946375   0.00   78.00   \n",
       "Number of Reviews            11824.0   22.589394    37.874278   0.00    1.00   \n",
       "Review Scores Rating          9173.0   91.687452     9.028574  20.00   89.00   \n",
       "Review Scores Accuracy        9152.0    9.415210     0.925849   2.00    9.00   \n",
       "Review Scores Cleanliness     9158.0    9.324088     1.003331   2.00    9.00   \n",
       "Review Scores Checkin         9149.0    9.624549     0.803586   2.00    9.00   \n",
       "Review Scores Communication   9157.0    9.649121     0.759505   2.00    9.00   \n",
       "Review Scores Location        9146.0    9.537284     0.763133   2.00    9.00   \n",
       "Review Scores Value           9146.0    9.214301     0.952104   2.00    9.00   \n",
       "Cancellation Policy          11824.0    2.050998     0.858521   0.00    1.00   \n",
       "Reviews per Month             9293.0    1.868515     1.862982   0.02    0.46   \n",
       "\n",
       "                                50%      75%         max  \n",
       "Property Type                   0.0     0.00        5.00  \n",
       "Room Type                       0.0     1.00        2.00  \n",
       "Accommodates                    3.0     4.00       16.00  \n",
       "Bathrooms                       1.0     1.00        8.00  \n",
       "Bedrooms                        1.0     2.00       10.00  \n",
       "Beds                            2.0     2.00       16.00  \n",
       "Price                          55.0    87.00      999.00  \n",
       "Security Deposit              150.0   200.00      990.00  \n",
       "Cleaning Fee                   25.0    40.00      662.00  \n",
       "Guests Included                 1.0     2.00       16.00  \n",
       "Extra People                    0.0    15.00      500.00  \n",
       "Minimum Nights                  2.0     3.00     1125.00  \n",
       "Maximum Nights               1125.0  1125.00  1000000.00  \n",
       "Availability 30                 6.0    14.00       30.00  \n",
       "Availability 60                20.0    38.00       60.00  \n",
       "Availability 90                38.0    65.00       90.00  \n",
       "Availability 365              242.0   319.00      365.00  \n",
       "Number of Reviews               7.0    27.00      356.00  \n",
       "Review Scores Rating           94.0    98.00      100.00  \n",
       "Review Scores Accuracy         10.0    10.00       10.00  \n",
       "Review Scores Cleanliness      10.0    10.00       10.00  \n",
       "Review Scores Checkin          10.0    10.00       10.00  \n",
       "Review Scores Communication    10.0    10.00       10.00  \n",
       "Review Scores Location         10.0    10.00       10.00  \n",
       "Review Scores Value             9.0    10.00       10.00  \n",
       "Cancellation Policy             2.0     3.00        3.00  \n",
       "Reviews per Month               1.2     2.78       17.21  "
      ]
     },
     "execution_count": 12,
     "metadata": {},
     "output_type": "execute_result"
    }
   ],
   "source": [
    "train.describe().T"
   ]
  },
  {
   "cell_type": "code",
   "execution_count": 13,
   "metadata": {},
   "outputs": [
    {
     "data": {
      "text/plain": [
       "0"
      ]
     },
     "execution_count": 13,
     "metadata": {},
     "output_type": "execute_result"
    }
   ],
   "source": [
    "train['Availability 30'].value_counts()\n",
    "train['Availability 30'].isna().sum()"
   ]
  },
  {
   "cell_type": "markdown",
   "metadata": {},
   "source": [
    "## Correlacion de variables\n",
    "Tengamos en cuenta que "
   ]
  },
  {
   "cell_type": "code",
   "execution_count": 14,
   "metadata": {},
   "outputs": [
    {
     "data": {
      "image/png": "[encoded data removed]",
      "text/plain": [
       "<Figure size 864x720 with 2 Axes>"
      ]
     },
     "metadata": {
      "needs_background": "light"
     },
     "output_type": "display_data"
    }
   ],
   "source": [
    "import seaborn as sns\n",
    "\n",
    "# Compute the correlation matrix\n",
    "corr = np.abs(train.drop(['Price'], axis=1).corr())\n",
    "\n",
    "# Generate a mask for the upper triangle\n",
    "mask = np.zeros_like(corr, dtype=np.bool)\n",
    "mask[np.triu_indices_from(mask)] = True\n",
    "\n",
    "# Set up the matplotlib figure\n",
    "f, ax = plt.subplots(figsize=(12, 10))\n",
    "\n",
    "# Draw the heatmap with the mask and correct aspect ratio\n",
    "sns.heatmap(corr, mask=mask,vmin = 0.0, vmax=1.0, center=0.5,\n",
    "            linewidths=.1, cmap=\"YlGnBu\", cbar_kws={\"shrink\": .8})\n",
    "\n",
    "plt.show()"
   ]
  },
  {
   "cell_type": "markdown",
   "metadata": {},
   "source": [
    "Pintemos algunas variables"
   ]
  },
  {
   "cell_type": "code",
   "execution_count": 15,
   "metadata": {
    "scrolled": true
   },
   "outputs": [
    {
     "data": {
      "image/png": "[encoded data removed]",
      "text/plain": [
       "<Figure size 1080x360 with 4 Axes>"
      ]
     },
     "metadata": {
      "needs_background": "light"
     },
     "output_type": "display_data"
    }
   ],
   "source": [
    "plt.figure(figsize=(15, 5))\n",
    "\n",
    "plt.subplot(1,4,1)\n",
    "train['Accommodates'].plot.hist(alpha=0.75, bins=25, grid = True)\n",
    "#plt.axis([0, 10, 0, 10000])\n",
    "plt.xlabel('Accommodates')\n",
    "\n",
    "plt.subplot(1,4,2)\n",
    "train['Bedrooms'].plot.hist(alpha=0.5, bins=15, grid = True)\n",
    "plt.xlabel('Bedrooms')\n",
    "\n",
    "plt.subplot(1,4,3)\n",
    "train['Beds'].plot.hist(alpha=0.5, bins=25, grid = False)\n",
    "plt.xlabel('Beds')\n",
    "\n",
    "plt.subplot(1,4,4)\n",
    "train['Bathrooms'].plot.hist(alpha=0.5, bins=25, grid = False)\n",
    "plt.xlabel('Bathrooms')\n",
    "\n",
    "plt.show()"
   ]
  },
  {
   "attachments": {},
   "cell_type": "markdown",
   "metadata": {},
   "source": [
    "A la vista de la grafica de correlacion y siendo un poco generosos con las variables a eliminar para simplificar el modelo, podemos deducir lo siguiente:\n",
    "1. **Accommodates** tiene una fuerte correlacion con Bedrooms, Beds y moderada con Guests Included\n",
    "2. **Availability 30** tiene fuerte correlacion con Availability 60 Availability 90 y moderada con Availability 365\n",
    "3. **Review Scores Rating** tiene una fuerte correlacion con Review Scores Accuracy, Review Scores Cleanliness, Review Scores Checkin, Review Scores Communication, Review Scores Value y moderada con Review Scores Location.\n",
    "4. **Number of Reviews** tiene fuerte  correlacion con Reviews per Month"
   ]
  },
  {
   "cell_type": "code",
   "execution_count": 16,
   "metadata": {},
   "outputs": [
    {
     "data": {
      "text/plain": [
       "(11824, 15)"
      ]
     },
     "execution_count": 16,
     "metadata": {},
     "output_type": "execute_result"
    }
   ],
   "source": [
    "#Vamos a eliminar todas estas variables del dataset de entrenamiento\n",
    "drop_corr = ['Bedrooms', 'Beds', 'Guests Included', 'Availability 60', 'Availability 90', 'Availability 365',\n",
    "             'Review Scores Accuracy', 'Review Scores Cleanliness', 'Review Scores Checkin', 'Review Scores Communication',\n",
    "             'Review Scores Value', 'Review Scores Location', 'Reviews per Month']\n",
    "train.drop(drop_corr, axis=1, inplace=True)\n",
    "train.shape"
   ]
  },
  {
   "cell_type": "markdown",
   "metadata": {},
   "source": [
    "## Separacion variable dependiente \n",
    "Separemos el dataset train entre la varible dependiente (y_train) y el resto de variables independientes (X_train)\n"
   ]
  },
  {
   "cell_type": "code",
   "execution_count": 17,
   "metadata": {},
   "outputs": [],
   "source": [
    "y_train = train['Price']\n",
    "X_train= train.drop(['Price'], axis=1)\n"
   ]
  },
  {
   "cell_type": "markdown",
   "metadata": {},
   "source": [
    "Analicemos la variable ZipCode"
   ]
  },
  {
   "cell_type": "code",
   "execution_count": 18,
   "metadata": {},
   "outputs": [
    {
     "name": "stdout",
     "output_type": "stream",
     "text": [
      "535\n",
      "395\n"
     ]
    },
    {
     "data": {
      "text/plain": [
       "28012      1655\n",
       "28004      1419\n",
       "28005       977\n",
       "28013       816\n",
       "28014       512\n",
       "           ... \n",
       "E8 3DQ        1\n",
       "1130          1\n",
       "11216         1\n",
       "W12           1\n",
       "NW8 8BD       1\n",
       "Name: Zipcode, Length: 534, dtype: int64"
      ]
     },
     "execution_count": 18,
     "metadata": {},
     "output_type": "execute_result"
    }
   ],
   "source": [
    "print(len(X_train['Zipcode'].unique()))\n",
    "print(X_train['Zipcode'].isna().sum())\n",
    "X_train['Zipcode'].value_counts()"
   ]
  },
  {
   "cell_type": "markdown",
   "metadata": {},
   "source": [
    "Tenemos 11824 resgitros los cuales corresponden a 535 codigos postales distintos, sin embargo no todos esos codigos postales son validos, ademas tenemos 395 valores nan\n",
    "Para poder trabajar con Zipcode y poder aplicarle metodos de filtrado vamos a asignarles a todos lo valores que no son numericos (lo que incluye los NaN) el valor 88888"
   ]
  },
  {
   "cell_type": "code",
   "execution_count": 19,
   "metadata": {},
   "outputs": [
    {
     "data": {
      "text/plain": [
       "28012    1655\n",
       "28004    1419\n",
       "28005     977\n",
       "28013     816\n",
       "88888     562\n",
       "         ... \n",
       "1012        1\n",
       "11233       1\n",
       "11225       1\n",
       "10969       1\n",
       "2049        1\n",
       "Name: Zipcode, Length: 396, dtype: int64"
      ]
     },
     "execution_count": 19,
     "metadata": {},
     "output_type": "execute_result"
    }
   ],
   "source": [
    "#Debo pasar todos los valores de Zipcode a str (no se porque habia algunos que eran float) para poder aplicarle la condicion\n",
    "# de isnumeric\n",
    "X_train['Zipcode'] =  [str(i) for i in X_train['Zipcode']]\n",
    "X_train['Zipcode'] = [s if s.isnumeric() else '88888' for s in X_train['Zipcode']]\n",
    "\n",
    "#Por ultimo los paso todos a numeros\n",
    "X_train['Zipcode'] =  [int(i) for i in X_train['Zipcode']]\n",
    "X_train['Zipcode'].value_counts()"
   ]
  },
  {
   "cell_type": "markdown",
   "metadata": {},
   "source": [
    "El siguiente paso es aplicar los metodos de filtrados para regresion, pero esto solo se pueden aplicar sobre variables que no contienen valores NaN.\n",
    "por tanto analicemos que variables tienen valores NaN y llevemos a cabo el proceso de imputacion, aprovechare para analizar algun posible outlier\n",
    "\n",
    "Para hacerlo vamos a aplicar los siguientes comandos a todas las variables que quedan:\n",
    "```\n",
    "print(len(X_train['campo'].unique()))\n",
    "print(X_train['campo'].isna().sum())\n",
    "print(X_train['campo'].value_counts())\n",
    "\n",
    "```\n",
    "\n",
    "Haciendo esto vemos que los unicos campos que contienen NaNs son:\n",
    "- Bathroom (45) Imputamos la media (1.3)\n",
    "- Security Deposit (6798). Es mas de la mitad de los regitros por lo que lo eliminamos\n",
    "- Cleaning Fee (4857). Imputamnos la media (32)\n",
    "- Review Scores Rating (2651). Imputamos la mediana (77) ya que la media esta demasiado cerca de la mejor puntuacion."
   ]
  },
  {
   "cell_type": "code",
   "execution_count": 21,
   "metadata": {},
   "outputs": [],
   "source": [
    "X_train.drop('Security Deposit', axis=1, inplace=True)"
   ]
  },
  {
   "cell_type": "code",
   "execution_count": 26,
   "metadata": {},
   "outputs": [],
   "source": [
    "X_train['Bathrooms'] = train['Bathrooms'].fillna(1.3)\n",
    "X_train['Cleaning Fee'] = train['Cleaning Fee'].fillna(32)\n",
    "X_train['Review Scores Rating'] = train['Review Scores Rating'].fillna(77)"
   ]
  },
  {
   "cell_type": "markdown",
   "metadata": {},
   "source": [
    "## Variable objetivo\n",
    "Por ultimo analizamos la variable objetivo"
   ]
  },
  {
   "cell_type": "code",
   "execution_count": 28,
   "metadata": {},
   "outputs": [
    {
     "data": {
      "text/plain": [
       "count    11810.000000\n",
       "mean        73.702794\n",
       "std         72.203846\n",
       "min          9.000000\n",
       "25%         34.000000\n",
       "50%         55.000000\n",
       "75%         87.000000\n",
       "max        999.000000\n",
       "Name: Price, dtype: float64"
      ]
     },
     "execution_count": 28,
     "metadata": {},
     "output_type": "execute_result"
    }
   ],
   "source": [
    "y_train.describe()"
   ]
  },
  {
   "cell_type": "code",
   "execution_count": 29,
   "metadata": {},
   "outputs": [
    {
     "name": "stdout",
     "output_type": "stream",
     "text": [
      "348\n",
      "14\n",
      "50.0     513\n",
      "60.0     441\n",
      "30.0     437\n",
      "25.0     433\n",
      "35.0     381\n",
      "        ... \n",
      "356.0      1\n",
      "252.0      1\n",
      "154.0      1\n",
      "222.0      1\n",
      "434.0      1\n",
      "Name: Price, Length: 347, dtype: int64\n",
      "73.70279424216766\n"
     ]
    }
   ],
   "source": [
    "print(len(y_train.unique()))\n",
    "print(y_train.isna().sum())\n",
    "print(y_train.value_counts())\n",
    "print(np.mean(y_train)) "
   ]
  },
  {
   "cell_type": "code",
   "execution_count": 30,
   "metadata": {},
   "outputs": [],
   "source": [
    "y_train = y_train.fillna(74)"
   ]
  },
  {
   "cell_type": "markdown",
   "metadata": {},
   "source": [
    "## Filtrado para regresion\n",
    "Con las 13 variables que me quedan aplico los metodos de fitrado **f_regresion** y **mutual_info_regresion**"
   ]
  },
  {
   "cell_type": "code",
   "execution_count": 45,
   "metadata": {},
   "outputs": [],
   "source": [
    "from sklearn.feature_selection import f_regression, mutual_info_regression\n",
    "f_test, _ = f_regression(X_train, y_train)\n",
    "f_test /= np.max(f_test)\n",
    "mi = mutual_info_regression(X_train, y_train)\n",
    "mi /= np.max(mi)"
   ]
  },
  {
   "cell_type": "markdown",
   "metadata": {},
   "source": [
    "Mostremos esta informacion en forma de grafica"
   ]
  },
  {
   "cell_type": "code",
   "execution_count": 82,
   "metadata": {
    "scrolled": false
   },
   "outputs": [
    {
     "data": {
      "image/png": "[encoded data removed]",
      "text/plain": [
       "<Figure size 2160x720 with 2 Axes>"
      ]
     },
     "metadata": {
      "needs_background": "light"
     },
     "output_type": "display_data"
    }
   ],
   "source": [
    "featureNames = list(X_train.columns)\n",
    "\n",
    "plt.figure(figsize=(30, 10))\n",
    "\n",
    "plt.subplot(1,2,1)\n",
    "plt.bar(range(X_train.shape[1]),f_test,  align=\"center\")\n",
    "plt.xticks(range(X_train.shape[1]),featureNames, rotation = 45)\n",
    "plt.xlabel('features')\n",
    "plt.ylabel('Ranking')\n",
    "plt.title('$F-test$ score')\n",
    "\n",
    "\n",
    "plt.subplot(1,2,2)\n",
    "plt.bar(range(X_train.shape[1]),mi,  align=\"center\")\n",
    "plt.xticks(range(X_train.shape[1]),featureNames, rotation = 45)\n",
    "plt.xlabel('features')\n",
    "plt.ylabel('Ranking')\n",
    "plt.title('Mutual information score')\n",
    "\n",
    "plt.show()"
   ]
  },
  {
   "cell_type": "markdown",
   "metadata": {},
   "source": [
    "A la vista de las graficas y de los valores de f_test y mi las variables que mas estan impactando en la variable objetivo son:\n",
    "- Zipcode\n",
    "- Room Type\n",
    "- Accommodates\n",
    "- Bathrooms\n",
    "- Cleaning Fee\n",
    "\n",
    "Por tanto seran estas las variables que usare para testear mis modelos, elimando el resto del dataset de training"
   ]
  },
  {
   "cell_type": "code",
   "execution_count": 84,
   "metadata": {},
   "outputs": [],
   "source": [
    "drop_filtrado = ['Property Type', 'Extra People', 'Minimum Nights', 'Maximum Nights', 'Availability 30', 'Number of Reviews',\n",
    "                'Review Scores Rating', 'Cancellation Policy']\n",
    "X_train.drop(drop_filtrado, axis=1, inplace=True)"
   ]
  },
  {
   "cell_type": "markdown",
   "metadata": {},
   "source": [
    "## StandarScaler\n",
    "Por ultimo llevamos a cabo el escalado (Normalizacion)\n"
   ]
  },
  {
   "cell_type": "code",
   "execution_count": 86,
   "metadata": {},
   "outputs": [],
   "source": [
    "scaler = preprocessing.StandardScaler().fit(X_train)\n",
    "XtrainScaled = scaler.transform(X_train)"
   ]
  },
  {
   "cell_type": "markdown",
   "metadata": {},
   "source": [
    "**Y hasta aqui el analisis exploratorio y la limpieza del dataset, empezamos con las pruebas de los modelos**"
   ]
  },
  {
   "cell_type": "markdown",
   "metadata": {},
   "source": [
    "## Prueba de Modelos"
   ]
  },
  {
   "cell_type": "code",
   "execution_count": null,
   "metadata": {},
   "outputs": [],
   "source": []
  }
 ],
 "metadata": {
  "kernelspec": {
   "display_name": "Python 3",
   "language": "python",
   "name": "python3"
  },
  "language_info": {
   "codemirror_mode": {
    "name": "ipython",
    "version": 3
   },
   "file_extension": ".py",
   "mimetype": "text/x-python",
   "name": "python",
   "nbconvert_exporter": "python",
   "pygments_lexer": "ipython3",
   "version": "3.7.4"
  }
 },
 "nbformat": 4,
 "nbformat_minor": 2
}
