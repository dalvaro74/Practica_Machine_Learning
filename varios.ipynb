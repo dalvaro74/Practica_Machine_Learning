{
 "cells": [
  {
   "cell_type": "code",
   "execution_count": 2,
   "metadata": {},
   "outputs": [
    {
     "data": {
      "text/plain": [
       "['1', '2', '3', '4']"
      ]
     },
     "execution_count": 2,
     "metadata": {},
     "output_type": "execute_result"
    }
   ],
   "source": [
    "def raises(exception_types, func, *args, **kw):\n",
    "    try:\n",
    "        func(*args, **kw)\n",
    "    except exception_types:\n",
    "        return True\n",
    "    else:\n",
    "        return False\n",
    "mylist=['1','orange','2','3','4','apple']\n",
    "mylist_numeric = [item for item in mylist if not raises(ValueError, int, item)]\n",
    "mylist_numeric"
   ]
  },
  {
   "cell_type": "code",
   "execution_count": 3,
   "metadata": {},
   "outputs": [
    {
     "name": "stdout",
     "output_type": "stream",
     "text": [
      "[[0.356641256844492, 0.31861697794917376, 0.527973904304119, 0.7890974142600684, 0.8252779914988487], [0.3881649880434068, 0.12984202428158065, 0.4384115832025006, 0.6959914524534477, 0.14289280676735938], [0.9054195339112453, 0.41326234772569825, 0.45174787853807274, 0.6471087451473476, 0.9933213786764683], [0.9355114462047556, 0.8213625317025129, 0.7367087010075046, 0.991667119742382, 0.6913135911277395], [0.9202858633477112, 0.75423954003598, 0.46208687338185805, 0.28167593183371886, 0.9070343691751297]]\n",
      "[[0.356641256844492, 0.31861697794917376, 0.527973904304119, 0, 0], [0.3881649880434068, 0, 0.4384115832025006, 0.6959914524534477, 0], [0, 0.41326234772569825, 0.45174787853807274, 0.6471087451473476, 0], [0, 0, 0, 0, 0.6913135911277395], [0, 0, 0.46208687338185805, 0, 0]]\n"
     ]
    }
   ],
   "source": [
    "import random\n",
    "tsdata = [[random.random() for x in range(5)] for y in range(5)]\n",
    "print(tsdata)\n",
    "min_value = 0.3\n",
    "max_value = 0.7\n",
    "tsdata_mod = [[0 if (x < min_value or x > max_value) else x for x in y] for y in tsdata]\n",
    "print(tsdata_mod)"
   ]
  },
  {
   "cell_type": "code",
   "execution_count": 5,
   "metadata": {},
   "outputs": [],
   "source": [
    "import numpy as np\n",
    "import pandas as pd\n",
    "\n",
    "import matplotlib.pyplot as plt\n",
    "%matplotlib inline"
   ]
  },
  {
   "cell_type": "code",
   "execution_count": 6,
   "metadata": {},
   "outputs": [],
   "source": [
    "full_airbnb = pd.read_csv('./data/airbnb-listings.csv',sep=';', decimal='.')"
   ]
  },
  {
   "cell_type": "code",
   "execution_count": 24,
   "metadata": {},
   "outputs": [
    {
     "data": {
      "text/plain": [
       "14780"
      ]
     },
     "execution_count": 24,
     "metadata": {},
     "output_type": "execute_result"
    }
   ],
   "source": [
    "len(full_airbnb)"
   ]
  },
  {
   "cell_type": "code",
   "execution_count": 26,
   "metadata": {},
   "outputs": [],
   "source": [
    "full_airbnb = full_airbnb[(full_airbnb['Price']>20) & (full_airbnb['Price']<200)]"
   ]
  },
  {
   "cell_type": "code",
   "execution_count": 27,
   "metadata": {},
   "outputs": [
    {
     "data": {
      "text/plain": [
       "12817"
      ]
     },
     "execution_count": 27,
     "metadata": {},
     "output_type": "execute_result"
    }
   ],
   "source": [
    "len(full_airbnb)"
   ]
  },
  {
   "cell_type": "code",
   "execution_count": 23,
   "metadata": {},
   "outputs": [
    {
     "name": "stdout",
     "output_type": "stream",
     "text": [
      "12817\n"
     ]
    },
    {
     "data": {
      "image/png": "[encoded data removed]",
      "text/plain": [
       "<Figure size 432x288 with 1 Axes>"
      ]
     },
     "metadata": {
      "needs_background": "light"
     },
     "output_type": "display_data"
    }
   ],
   "source": [
    "tmp_price = full_airbnb['Price']\n",
    "tmp_price.describe()\n",
    "tmp_price = tmp_price[(tmp_price>20) & (tmp_price<200)]\n",
    "print(len(tmp_price))\n",
    "plt.hist(tmp_price, bins=50)\n",
    "plt.show()"
   ]
  },
  {
   "cell_type": "code",
   "execution_count": null,
   "metadata": {},
   "outputs": [],
   "source": []
  },
  {
   "cell_type": "code",
   "execution_count": 21,
   "metadata": {},
   "outputs": [
    {
     "data": {
      "text/plain": [
       "11824.0"
      ]
     },
     "execution_count": 21,
     "metadata": {},
     "output_type": "execute_result"
    }
   ],
   "source": [
    "14780*80/100"
   ]
  },
  {
   "cell_type": "code",
   "execution_count": null,
   "metadata": {},
   "outputs": [],
   "source": [
    "import import numpy as np"
   ]
  }
 ],
 "metadata": {
  "kernelspec": {
   "display_name": "Python 3",
   "language": "python",
   "name": "python3"
  },
  "language_info": {
   "codemirror_mode": {
    "name": "ipython",
    "version": 3
   },
   "file_extension": ".py",
   "mimetype": "text/x-python",
   "name": "python",
   "nbconvert_exporter": "python",
   "pygments_lexer": "ipython3",
   "version": "3.7.4"
  }
 },
 "nbformat": 4,
 "nbformat_minor": 2
}
