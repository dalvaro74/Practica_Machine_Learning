{
 "cells": [
  {
   "cell_type": "markdown",
   "metadata": {},
   "source": [
    "# Practica Modulo Machine Learning -- Daniel Alvaro V4\n",
    "\n",
    "En este notebook vamos a abordar la práctica del modulo de Machine Learning siguiendo los siguientes pasos.\n",
    "\n",
    "1. Generación de nuevas características a partir de las existentes\n",
    "2. Codificación de variables\n",
    "3. Análisis exploratorio\n",
    "4. Selección y evaluación del modelo\n",
    "5. Comparativa de distintos algoritmos"
   ]
  },
  {
   "cell_type": "markdown",
   "metadata": {},
   "source": [
    "## Version V4\n",
    "En la version V4 se llevan a cabo los siguientes cambios:\n",
    "- Se incrementa el modelo Lasso polinomico de grado 2 a grado 3"
   ]
  },
  {
   "cell_type": "markdown",
   "metadata": {},
   "source": [
    "## Librerías y funciones\n",
    "\n",
    "Lo primero es cargar las librerías y funciones necesarias."
   ]
  },
  {
   "cell_type": "code",
   "execution_count": 1,
   "metadata": {},
   "outputs": [],
   "source": [
    "import numpy as np\n",
    "import pandas as pd\n",
    "\n",
    "import matplotlib.pyplot as plt\n",
    "from matplotlib.colors import ListedColormap\n",
    "%matplotlib inline\n",
    "\n",
    "cm = plt.cm.RdBu\n",
    "cm_bright = ListedColormap(['#FF0000', '#0000FF'])\n",
    "\n",
    "import warnings\n",
    "warnings.filterwarnings('ignore')"
   ]
  },
  {
   "cell_type": "code",
   "execution_count": 2,
   "metadata": {},
   "outputs": [],
   "source": [
    "# Function to calculate missing values by column\n",
    "def missing_values_table(df):\n",
    "   \n",
    "    # Total missing values\n",
    "    mis_val = df.isnull().sum()\n",
    "    \n",
    "    # Percentage of missing values\n",
    "    mis_val_percent = 100 * df.isnull().sum() / len(df)\n",
    "    \n",
    "    # Make a table with the results\n",
    "    mis_val_table = pd.concat([mis_val, mis_val_percent], axis=1)\n",
    "    \n",
    "    # Rename the columns\n",
    "    mis_val_table_ren_columns = mis_val_table.rename(\n",
    "    columns = {0 : 'Missing Values', 1 : '% of Total Values'})\n",
    "    \n",
    "    # Sort the table by percentage of missing descending\n",
    "    # .iloc[:, 1]!= 0: filter on missing missing values not equal to zero\n",
    "    mis_val_table_ren_columns = mis_val_table_ren_columns[\n",
    "        mis_val_table_ren_columns.iloc[:,1] != 0].sort_values(\n",
    "    '% of Total Values', ascending=False).round(2)  # round(2), keep 2 digits\n",
    "    \n",
    "    # Print some summary information\n",
    "    print(\"Your slelected dataframe has {} columns.\".format(df.shape[1]) + '\\n' + \n",
    "    \"There are {} columns that have missing values.\".format(mis_val_table_ren_columns.shape[0]))\n",
    "    \n",
    "    # Return the dataframe with missing information\n",
    "    return mis_val_table_ren_columns"
   ]
  },
  {
   "cell_type": "code",
   "execution_count": 3,
   "metadata": {},
   "outputs": [],
   "source": [
    "# Function to change not main categories to \"Other\", this funtion will be used in train and test to keep coherence between datasets\n",
    "def change_cat_to_other(array_main_cat, df):\n",
    "    array_categories = list(df.value_counts().index)\n",
    "    array_others = [x for x in array_categories if x not in array_main_cat]\n",
    "    return df.replace(array_others, 'Other')"
   ]
  },
  {
   "cell_type": "markdown",
   "metadata": {},
   "source": [
    "## Datos de entrada\n",
    "\n",
    "Cargamos los datos del fichero de airbnb reducido.\n",
    "Este fichero contiene 14870 observaciones y 89 variables"
   ]
  },
  {
   "cell_type": "code",
   "execution_count": 4,
   "metadata": {},
   "outputs": [],
   "source": [
    "full_airbnb = pd.read_csv('./data/airbnb-listings.csv',sep=';', decimal='.')"
   ]
  },
  {
   "cell_type": "code",
   "execution_count": 5,
   "metadata": {},
   "outputs": [
    {
     "data": {
      "text/plain": [
       "(14780, 89)"
      ]
     },
     "execution_count": 5,
     "metadata": {},
     "output_type": "execute_result"
    }
   ],
   "source": [
    "full_airbnb.shape"
   ]
  },
  {
   "cell_type": "markdown",
   "metadata": {},
   "source": [
    "Antes de nada, vamos a hacer una pequeña limpieza de los outliers de precio, para ver si asi obtenemos unos modelos mas razonables"
   ]
  },
  {
   "cell_type": "code",
   "execution_count": 6,
   "metadata": {},
   "outputs": [],
   "source": [
    "full_airbnb = full_airbnb[(full_airbnb['Price']>10) & (full_airbnb['Price']<200)]"
   ]
  },
  {
   "cell_type": "code",
   "execution_count": 7,
   "metadata": {},
   "outputs": [
    {
     "name": "stdout",
     "output_type": "stream",
     "text": [
      "Your slelected dataframe has 89 columns.\n",
      "There are 58 columns that have missing values.\n"
     ]
    },
    {
     "data": {
      "text/html": [
       "<div>\n",
       "<style scoped>\n",
       "    .dataframe tbody tr th:only-of-type {\n",
       "        vertical-align: middle;\n",
       "    }\n",
       "\n",
       "    .dataframe tbody tr th {\n",
       "        vertical-align: top;\n",
       "    }\n",
       "\n",
       "    .dataframe thead th {\n",
       "        text-align: right;\n",
       "    }\n",
       "</style>\n",
       "<table border=\"1\" class=\"dataframe\">\n",
       "  <thead>\n",
       "    <tr style=\"text-align: right;\">\n",
       "      <th></th>\n",
       "      <th>Missing Values</th>\n",
       "      <th>% of Total Values</th>\n",
       "    </tr>\n",
       "  </thead>\n",
       "  <tbody>\n",
       "    <tr>\n",
       "      <th>Has Availability</th>\n",
       "      <td>14049</td>\n",
       "      <td>99.92</td>\n",
       "    </tr>\n",
       "    <tr>\n",
       "      <th>Host Acceptance Rate</th>\n",
       "      <td>14027</td>\n",
       "      <td>99.77</td>\n",
       "    </tr>\n",
       "    <tr>\n",
       "      <th>Jurisdiction Names</th>\n",
       "      <td>13858</td>\n",
       "      <td>98.56</td>\n",
       "    </tr>\n",
       "    <tr>\n",
       "      <th>License</th>\n",
       "      <td>13734</td>\n",
       "      <td>97.68</td>\n",
       "    </tr>\n",
       "    <tr>\n",
       "      <th>Square Feet</th>\n",
       "      <td>13487</td>\n",
       "      <td>95.92</td>\n",
       "    </tr>\n",
       "    <tr>\n",
       "      <th>Monthly Price</th>\n",
       "      <td>10603</td>\n",
       "      <td>75.41</td>\n",
       "    </tr>\n",
       "    <tr>\n",
       "      <th>Weekly Price</th>\n",
       "      <td>10490</td>\n",
       "      <td>74.61</td>\n",
       "    </tr>\n",
       "    <tr>\n",
       "      <th>Notes</th>\n",
       "      <td>8676</td>\n",
       "      <td>61.71</td>\n",
       "    </tr>\n",
       "    <tr>\n",
       "      <th>Security Deposit</th>\n",
       "      <td>8091</td>\n",
       "      <td>57.55</td>\n",
       "    </tr>\n",
       "    <tr>\n",
       "      <th>Interaction</th>\n",
       "      <td>6100</td>\n",
       "      <td>43.39</td>\n",
       "    </tr>\n",
       "    <tr>\n",
       "      <th>Access</th>\n",
       "      <td>6022</td>\n",
       "      <td>42.83</td>\n",
       "    </tr>\n",
       "    <tr>\n",
       "      <th>Cleaning Fee</th>\n",
       "      <td>5755</td>\n",
       "      <td>40.93</td>\n",
       "    </tr>\n",
       "    <tr>\n",
       "      <th>Transit</th>\n",
       "      <td>5298</td>\n",
       "      <td>37.68</td>\n",
       "    </tr>\n",
       "    <tr>\n",
       "      <th>Neighborhood Overview</th>\n",
       "      <td>5266</td>\n",
       "      <td>37.45</td>\n",
       "    </tr>\n",
       "    <tr>\n",
       "      <th>Host About</th>\n",
       "      <td>4981</td>\n",
       "      <td>35.43</td>\n",
       "    </tr>\n",
       "    <tr>\n",
       "      <th>Neighbourhood</th>\n",
       "      <td>4900</td>\n",
       "      <td>34.85</td>\n",
       "    </tr>\n",
       "    <tr>\n",
       "      <th>House Rules</th>\n",
       "      <td>4886</td>\n",
       "      <td>34.75</td>\n",
       "    </tr>\n",
       "    <tr>\n",
       "      <th>Space</th>\n",
       "      <td>3683</td>\n",
       "      <td>26.19</td>\n",
       "    </tr>\n",
       "    <tr>\n",
       "      <th>Host Neighbourhood</th>\n",
       "      <td>3614</td>\n",
       "      <td>25.70</td>\n",
       "    </tr>\n",
       "    <tr>\n",
       "      <th>Review Scores Value</th>\n",
       "      <td>3028</td>\n",
       "      <td>21.54</td>\n",
       "    </tr>\n",
       "    <tr>\n",
       "      <th>Review Scores Location</th>\n",
       "      <td>3028</td>\n",
       "      <td>21.54</td>\n",
       "    </tr>\n",
       "    <tr>\n",
       "      <th>Review Scores Checkin</th>\n",
       "      <td>3024</td>\n",
       "      <td>21.51</td>\n",
       "    </tr>\n",
       "    <tr>\n",
       "      <th>Review Scores Accuracy</th>\n",
       "      <td>3013</td>\n",
       "      <td>21.43</td>\n",
       "    </tr>\n",
       "    <tr>\n",
       "      <th>Review Scores Communication</th>\n",
       "      <td>3008</td>\n",
       "      <td>21.39</td>\n",
       "    </tr>\n",
       "    <tr>\n",
       "      <th>Review Scores Cleanliness</th>\n",
       "      <td>3007</td>\n",
       "      <td>21.39</td>\n",
       "    </tr>\n",
       "    <tr>\n",
       "      <th>Review Scores Rating</th>\n",
       "      <td>2994</td>\n",
       "      <td>21.29</td>\n",
       "    </tr>\n",
       "    <tr>\n",
       "      <th>Last Review</th>\n",
       "      <td>2865</td>\n",
       "      <td>20.38</td>\n",
       "    </tr>\n",
       "    <tr>\n",
       "      <th>First Review</th>\n",
       "      <td>2864</td>\n",
       "      <td>20.37</td>\n",
       "    </tr>\n",
       "    <tr>\n",
       "      <th>Reviews per Month</th>\n",
       "      <td>2864</td>\n",
       "      <td>20.37</td>\n",
       "    </tr>\n",
       "    <tr>\n",
       "      <th>Thumbnail Url</th>\n",
       "      <td>2560</td>\n",
       "      <td>18.21</td>\n",
       "    </tr>\n",
       "    <tr>\n",
       "      <th>Medium Url</th>\n",
       "      <td>2560</td>\n",
       "      <td>18.21</td>\n",
       "    </tr>\n",
       "    <tr>\n",
       "      <th>XL Picture Url</th>\n",
       "      <td>2560</td>\n",
       "      <td>18.21</td>\n",
       "    </tr>\n",
       "    <tr>\n",
       "      <th>Host Response Rate</th>\n",
       "      <td>1772</td>\n",
       "      <td>12.60</td>\n",
       "    </tr>\n",
       "    <tr>\n",
       "      <th>Host Response Time</th>\n",
       "      <td>1772</td>\n",
       "      <td>12.60</td>\n",
       "    </tr>\n",
       "    <tr>\n",
       "      <th>Neighbourhood Group Cleansed</th>\n",
       "      <td>830</td>\n",
       "      <td>5.90</td>\n",
       "    </tr>\n",
       "    <tr>\n",
       "      <th>Summary</th>\n",
       "      <td>551</td>\n",
       "      <td>3.92</td>\n",
       "    </tr>\n",
       "    <tr>\n",
       "      <th>Zipcode</th>\n",
       "      <td>474</td>\n",
       "      <td>3.37</td>\n",
       "    </tr>\n",
       "    <tr>\n",
       "      <th>State</th>\n",
       "      <td>119</td>\n",
       "      <td>0.85</td>\n",
       "    </tr>\n",
       "    <tr>\n",
       "      <th>Amenities</th>\n",
       "      <td>103</td>\n",
       "      <td>0.73</td>\n",
       "    </tr>\n",
       "    <tr>\n",
       "      <th>Market</th>\n",
       "      <td>56</td>\n",
       "      <td>0.40</td>\n",
       "    </tr>\n",
       "    <tr>\n",
       "      <th>Bathrooms</th>\n",
       "      <td>51</td>\n",
       "      <td>0.36</td>\n",
       "    </tr>\n",
       "    <tr>\n",
       "      <th>Beds</th>\n",
       "      <td>46</td>\n",
       "      <td>0.33</td>\n",
       "    </tr>\n",
       "    <tr>\n",
       "      <th>Host Location</th>\n",
       "      <td>40</td>\n",
       "      <td>0.28</td>\n",
       "    </tr>\n",
       "    <tr>\n",
       "      <th>Bedrooms</th>\n",
       "      <td>25</td>\n",
       "      <td>0.18</td>\n",
       "    </tr>\n",
       "    <tr>\n",
       "      <th>Picture Url</th>\n",
       "      <td>19</td>\n",
       "      <td>0.14</td>\n",
       "    </tr>\n",
       "    <tr>\n",
       "      <th>Description</th>\n",
       "      <td>5</td>\n",
       "      <td>0.04</td>\n",
       "    </tr>\n",
       "    <tr>\n",
       "      <th>Host Verifications</th>\n",
       "      <td>5</td>\n",
       "      <td>0.04</td>\n",
       "    </tr>\n",
       "    <tr>\n",
       "      <th>Calculated host listings count</th>\n",
       "      <td>4</td>\n",
       "      <td>0.03</td>\n",
       "    </tr>\n",
       "    <tr>\n",
       "      <th>Host Since</th>\n",
       "      <td>3</td>\n",
       "      <td>0.02</td>\n",
       "    </tr>\n",
       "    <tr>\n",
       "      <th>Host Total Listings Count</th>\n",
       "      <td>3</td>\n",
       "      <td>0.02</td>\n",
       "    </tr>\n",
       "    <tr>\n",
       "      <th>Host Listings Count</th>\n",
       "      <td>3</td>\n",
       "      <td>0.02</td>\n",
       "    </tr>\n",
       "    <tr>\n",
       "      <th>Host Picture Url</th>\n",
       "      <td>3</td>\n",
       "      <td>0.02</td>\n",
       "    </tr>\n",
       "    <tr>\n",
       "      <th>Host Thumbnail Url</th>\n",
       "      <td>3</td>\n",
       "      <td>0.02</td>\n",
       "    </tr>\n",
       "    <tr>\n",
       "      <th>Host Name</th>\n",
       "      <td>3</td>\n",
       "      <td>0.02</td>\n",
       "    </tr>\n",
       "    <tr>\n",
       "      <th>City</th>\n",
       "      <td>2</td>\n",
       "      <td>0.01</td>\n",
       "    </tr>\n",
       "    <tr>\n",
       "      <th>Name</th>\n",
       "      <td>1</td>\n",
       "      <td>0.01</td>\n",
       "    </tr>\n",
       "    <tr>\n",
       "      <th>Country</th>\n",
       "      <td>1</td>\n",
       "      <td>0.01</td>\n",
       "    </tr>\n",
       "    <tr>\n",
       "      <th>Features</th>\n",
       "      <td>1</td>\n",
       "      <td>0.01</td>\n",
       "    </tr>\n",
       "  </tbody>\n",
       "</table>\n",
       "</div>"
      ],
      "text/plain": [
       "                                Missing Values  % of Total Values\n",
       "Has Availability                         14049              99.92\n",
       "Host Acceptance Rate                     14027              99.77\n",
       "Jurisdiction Names                       13858              98.56\n",
       "License                                  13734              97.68\n",
       "Square Feet                              13487              95.92\n",
       "Monthly Price                            10603              75.41\n",
       "Weekly Price                             10490              74.61\n",
       "Notes                                     8676              61.71\n",
       "Security Deposit                          8091              57.55\n",
       "Interaction                               6100              43.39\n",
       "Access                                    6022              42.83\n",
       "Cleaning Fee                              5755              40.93\n",
       "Transit                                   5298              37.68\n",
       "Neighborhood Overview                     5266              37.45\n",
       "Host About                                4981              35.43\n",
       "Neighbourhood                             4900              34.85\n",
       "House Rules                               4886              34.75\n",
       "Space                                     3683              26.19\n",
       "Host Neighbourhood                        3614              25.70\n",
       "Review Scores Value                       3028              21.54\n",
       "Review Scores Location                    3028              21.54\n",
       "Review Scores Checkin                     3024              21.51\n",
       "Review Scores Accuracy                    3013              21.43\n",
       "Review Scores Communication               3008              21.39\n",
       "Review Scores Cleanliness                 3007              21.39\n",
       "Review Scores Rating                      2994              21.29\n",
       "Last Review                               2865              20.38\n",
       "First Review                              2864              20.37\n",
       "Reviews per Month                         2864              20.37\n",
       "Thumbnail Url                             2560              18.21\n",
       "Medium Url                                2560              18.21\n",
       "XL Picture Url                            2560              18.21\n",
       "Host Response Rate                        1772              12.60\n",
       "Host Response Time                        1772              12.60\n",
       "Neighbourhood Group Cleansed               830               5.90\n",
       "Summary                                    551               3.92\n",
       "Zipcode                                    474               3.37\n",
       "State                                      119               0.85\n",
       "Amenities                                  103               0.73\n",
       "Market                                      56               0.40\n",
       "Bathrooms                                   51               0.36\n",
       "Beds                                        46               0.33\n",
       "Host Location                               40               0.28\n",
       "Bedrooms                                    25               0.18\n",
       "Picture Url                                 19               0.14\n",
       "Description                                  5               0.04\n",
       "Host Verifications                           5               0.04\n",
       "Calculated host listings count               4               0.03\n",
       "Host Since                                   3               0.02\n",
       "Host Total Listings Count                    3               0.02\n",
       "Host Listings Count                          3               0.02\n",
       "Host Picture Url                             3               0.02\n",
       "Host Thumbnail Url                           3               0.02\n",
       "Host Name                                    3               0.02\n",
       "City                                         2               0.01\n",
       "Name                                         1               0.01\n",
       "Country                                      1               0.01\n",
       "Features                                     1               0.01"
      ]
     },
     "execution_count": 7,
     "metadata": {},
     "output_type": "execute_result"
    }
   ],
   "source": [
    "missing_values_table(full_airbnb)"
   ]
  },
  {
   "cell_type": "markdown",
   "metadata": {},
   "source": [
    "Antes de llevar a cabo el split entre Trainintg y Test eliminamos las columnas que tenemos claro que no van a ser utiles para nuestro objetivo:\n",
    "1. **Las que contienen URLs**: Listing Url: drop_url  \n",
    "2. **Los Ids y lo relativo al Scrape realizado**: drop_id_scrape\n",
    "3. **Nombres y comentarios**:drop_comments\n",
    "4. **Direcciones**: A la vista de la informacion que contienen las variables de direccion podemos dropear varias de ellas por diversos motivos (sin que tengamos que dividir previamente en Train Test). Demasiado genericas: City, State, Market, Smart Location, Country Code, Country, Jurisdiction Names. Demasiado concretas: Street, Latitude, Longitude y Geolocation. Demasiado ruido o demasiados registros nulos: Neighbourhood, Host Location, Host Neighbourhood. Por ultimo Zipcode es una variable que para representar la direccion no me parece la mas adecuada debido a que aunque es un numero, deberia ser tratado como una variable categorica. Ademas contiene bastante ruido, una cantidad no despreciable de nulos y tambien es demasiado concreta (506 valores unicos)     Por tanto y para la evaluacion del modelo deberemos barajar cual de las dos opciones que quedan es la mejor para representar la \"zona\" en la que se encuentra el piso ( Neighbourhood Cleansed o Neighbourhood Group Cleansed, las cuales obviamente van a estar fuertemente correladas), pero esto debera hacerse una vez separado el dataset, para que los datos de Test no influyan en la decision. (En cualquier caso sera necesario hacer un trabajo de limpieza y categorizacion con la variable elegida):drop_address\n",
    "5. **Informascion relativa al Hospedador**: drop_host"
   ]
  },
  {
   "cell_type": "code",
   "execution_count": 8,
   "metadata": {},
   "outputs": [],
   "source": [
    "drop_url = np.array(['Listing Url', 'Thumbnail Url', 'Medium Url', 'Picture Url', 'XL Picture Url', 'Host URL',\n",
    "                     'Host Thumbnail Url','Host Picture Url'])\n",
    "full_airbnb.drop(drop_url, axis=1, inplace=True)\n",
    "\n",
    "drop_id_scrape = np.array(['ID', 'Scrape ID', 'Last Scraped', 'Host ID', 'Calendar last Scraped'])\n",
    "full_airbnb.drop(drop_id_scrape, axis=1, inplace=True)\n",
    "\n",
    "\n",
    "drop_comments = np.array(['Name', 'Summary', 'Space', 'Description', 'Neighborhood Overview', 'Notes',\n",
    "                     'Transit','Access', 'Interaction', 'House Rules', 'Host Name', 'Experiences Offered',\n",
    "                         'Host About', 'Amenities', 'Features'])\n",
    "\n",
    "full_airbnb.drop(drop_comments, axis=1, inplace=True)\n",
    "\n",
    "drop_address = np.array(['Host Location', 'Host Neighbourhood', 'Neighbourhood', 'Street', 'Zipcode', \n",
    "    'City', 'State', 'Market', 'Smart Location','Country Code', 'Country', 'Latitude', \n",
    "                         'Longitude', 'Jurisdiction Names', 'Geolocation'])\n",
    "\n",
    "full_airbnb.drop(drop_address, axis=1, inplace=True)\n",
    "\n",
    "drop_host = np.array(['Host Since', 'Host Response Time', 'Host Response Rate', 'Host Acceptance Rate', \n",
    "    'Host Listings Count', 'Host Total Listings Count','Host Verifications', 'Calculated host listings count'])\n",
    "\n",
    "full_airbnb.drop(drop_host, axis=1, inplace=True)\n",
    "\n"
   ]
  },
  {
   "cell_type": "markdown",
   "metadata": {},
   "source": [
    "Por ultimo eliminamos varios campos sueltos por los siguientes motivos:\n",
    "* **Square Feet**: Contiene 96% observaciones null\n",
    "* **Weekly Price**: Contiene 76% observaciones null\n",
    "* **Monthly Price**: Contiene 76% obsevaciones null\n",
    "* **Has Availability**: Contiene 99% observaciones null\n",
    "* **First Review**: No creemos que aporte informacion util para el calculo del precio\n",
    "* **Last Review**: No creemos que aporte informacion util para el calculo del precio\n",
    "* **Calendar Updated**: No creemos que aporte informacion util para el calculo del precio\n",
    "* **License**: Contiene 98% observaciones null\n",
    "* **Bed Type**: Casi el 99% de las camas son del mismo tipo (Real Bed)\n",
    "\n",
    "\n"
   ]
  },
  {
   "cell_type": "code",
   "execution_count": 9,
   "metadata": {},
   "outputs": [],
   "source": [
    "drop_varios = np.array(['Square Feet', 'Weekly Price', 'Monthly Price', 'Has Availability', 'First Review', 'Last Review',\n",
    "                     'Calendar Updated','License', 'Bed Type'])\n",
    "\n",
    "full_airbnb.drop(drop_varios, axis=1, inplace=True)\n"
   ]
  },
  {
   "cell_type": "code",
   "execution_count": 10,
   "metadata": {},
   "outputs": [
    {
     "data": {
      "text/plain": [
       "(14060, 29)"
      ]
     },
     "execution_count": 10,
     "metadata": {},
     "output_type": "execute_result"
    }
   ],
   "source": [
    "full_airbnb.shape"
   ]
  },
  {
   "cell_type": "code",
   "execution_count": 11,
   "metadata": {},
   "outputs": [
    {
     "name": "stdout",
     "output_type": "stream",
     "text": [
      "Your slelected dataframe has 29 columns.\n",
      "There are 14 columns that have missing values.\n"
     ]
    },
    {
     "data": {
      "text/html": [
       "<div>\n",
       "<style scoped>\n",
       "    .dataframe tbody tr th:only-of-type {\n",
       "        vertical-align: middle;\n",
       "    }\n",
       "\n",
       "    .dataframe tbody tr th {\n",
       "        vertical-align: top;\n",
       "    }\n",
       "\n",
       "    .dataframe thead th {\n",
       "        text-align: right;\n",
       "    }\n",
       "</style>\n",
       "<table border=\"1\" class=\"dataframe\">\n",
       "  <thead>\n",
       "    <tr style=\"text-align: right;\">\n",
       "      <th></th>\n",
       "      <th>Missing Values</th>\n",
       "      <th>% of Total Values</th>\n",
       "    </tr>\n",
       "  </thead>\n",
       "  <tbody>\n",
       "    <tr>\n",
       "      <th>Security Deposit</th>\n",
       "      <td>8091</td>\n",
       "      <td>57.55</td>\n",
       "    </tr>\n",
       "    <tr>\n",
       "      <th>Cleaning Fee</th>\n",
       "      <td>5755</td>\n",
       "      <td>40.93</td>\n",
       "    </tr>\n",
       "    <tr>\n",
       "      <th>Review Scores Location</th>\n",
       "      <td>3028</td>\n",
       "      <td>21.54</td>\n",
       "    </tr>\n",
       "    <tr>\n",
       "      <th>Review Scores Value</th>\n",
       "      <td>3028</td>\n",
       "      <td>21.54</td>\n",
       "    </tr>\n",
       "    <tr>\n",
       "      <th>Review Scores Checkin</th>\n",
       "      <td>3024</td>\n",
       "      <td>21.51</td>\n",
       "    </tr>\n",
       "    <tr>\n",
       "      <th>Review Scores Accuracy</th>\n",
       "      <td>3013</td>\n",
       "      <td>21.43</td>\n",
       "    </tr>\n",
       "    <tr>\n",
       "      <th>Review Scores Communication</th>\n",
       "      <td>3008</td>\n",
       "      <td>21.39</td>\n",
       "    </tr>\n",
       "    <tr>\n",
       "      <th>Review Scores Cleanliness</th>\n",
       "      <td>3007</td>\n",
       "      <td>21.39</td>\n",
       "    </tr>\n",
       "    <tr>\n",
       "      <th>Review Scores Rating</th>\n",
       "      <td>2994</td>\n",
       "      <td>21.29</td>\n",
       "    </tr>\n",
       "    <tr>\n",
       "      <th>Reviews per Month</th>\n",
       "      <td>2864</td>\n",
       "      <td>20.37</td>\n",
       "    </tr>\n",
       "    <tr>\n",
       "      <th>Neighbourhood Group Cleansed</th>\n",
       "      <td>830</td>\n",
       "      <td>5.90</td>\n",
       "    </tr>\n",
       "    <tr>\n",
       "      <th>Bathrooms</th>\n",
       "      <td>51</td>\n",
       "      <td>0.36</td>\n",
       "    </tr>\n",
       "    <tr>\n",
       "      <th>Beds</th>\n",
       "      <td>46</td>\n",
       "      <td>0.33</td>\n",
       "    </tr>\n",
       "    <tr>\n",
       "      <th>Bedrooms</th>\n",
       "      <td>25</td>\n",
       "      <td>0.18</td>\n",
       "    </tr>\n",
       "  </tbody>\n",
       "</table>\n",
       "</div>"
      ],
      "text/plain": [
       "                              Missing Values  % of Total Values\n",
       "Security Deposit                        8091              57.55\n",
       "Cleaning Fee                            5755              40.93\n",
       "Review Scores Location                  3028              21.54\n",
       "Review Scores Value                     3028              21.54\n",
       "Review Scores Checkin                   3024              21.51\n",
       "Review Scores Accuracy                  3013              21.43\n",
       "Review Scores Communication             3008              21.39\n",
       "Review Scores Cleanliness               3007              21.39\n",
       "Review Scores Rating                    2994              21.29\n",
       "Reviews per Month                       2864              20.37\n",
       "Neighbourhood Group Cleansed             830               5.90\n",
       "Bathrooms                                 51               0.36\n",
       "Beds                                      46               0.33\n",
       "Bedrooms                                  25               0.18"
      ]
     },
     "execution_count": 11,
     "metadata": {},
     "output_type": "execute_result"
    }
   ],
   "source": [
    "missing_values_table(full_airbnb)"
   ]
  },
  {
   "cell_type": "code",
   "execution_count": 12,
   "metadata": {},
   "outputs": [
    {
     "data": {
      "text/plain": [
       "count    14060.000000\n",
       "mean        62.066145\n",
       "std         37.643521\n",
       "min         11.000000\n",
       "25%         32.000000\n",
       "50%         55.000000\n",
       "75%         80.000000\n",
       "max        199.000000\n",
       "Name: Price, dtype: float64"
      ]
     },
     "execution_count": 12,
     "metadata": {},
     "output_type": "execute_result"
    }
   ],
   "source": [
    "full_airbnb['Price'].describe().T"
   ]
  },
  {
   "cell_type": "markdown",
   "metadata": {},
   "source": [
    "**Tras la limpeza inicial nos hemos quedado con 28 caracteristicas (y el target).**"
   ]
  },
  {
   "cell_type": "markdown",
   "metadata": {},
   "source": [
    "## Separación Train Test\n",
    "\n",
    "Ahora, y antes de pasar al analisis exploratorio y la seleccion de caratresiticas procemos a la divsion del dataset de entrada en train y test. De momento y por si llevamos a cabo tratamiento de outliers no separaremos la variable objetivo del resto de caracteristicas."
   ]
  },
  {
   "cell_type": "code",
   "execution_count": 13,
   "metadata": {},
   "outputs": [
    {
     "name": "stdout",
     "output_type": "stream",
     "text": [
      "Dimensiones del dataset de training: (11248, 29)\n",
      "Dimensiones del dataset de test: (2812, 29)\n"
     ]
    }
   ],
   "source": [
    "from sklearn.model_selection import train_test_split\n",
    "train, test = train_test_split(full_airbnb, test_size=0.2, shuffle=True, random_state=0)\n",
    "print(f'Dimensiones del dataset de training: {train.shape}')\n",
    "print(f'Dimensiones del dataset de test: {test.shape}')\n",
    "# Guardamos\n",
    "train.to_csv('./data/train.csv', sep=';', decimal='.', index=False)\n",
    "test.to_csv('./data/test.csv', sep=';', decimal='.', index=False)"
   ]
  },
  {
   "cell_type": "markdown",
   "metadata": {},
   "source": [
    "**Tengamos en cuenta que a partir de ahora todo el analisis exploratorio y selección de caracteristicas se hara sobre el dataset de entrenamiento.**\n",
    "**Posteriormente todas transformaciones llevadas a cabo en dicho dataset se deberan implementar en el de Test.**"
   ]
  },
  {
   "cell_type": "markdown",
   "metadata": {},
   "source": [
    "Empecemos tratando las variables de vecindario (Neighbourhood Cleansed y Neighbourhood Group Cleansed)"
   ]
  },
  {
   "cell_type": "code",
   "execution_count": 14,
   "metadata": {},
   "outputs": [
    {
     "name": "stdout",
     "output_type": "stream",
     "text": [
      "424\n",
      "0\n",
      "Embajadores                                                                       1452\n",
      "Universidad                                                                       1082\n",
      "Palacio                                                                            825\n",
      "Sol                                                                                723\n",
      "Justicia                                                                           611\n",
      "Cortes                                                                             587\n",
      "Trafalgar                                                                          234\n",
      "Palos de Moguer                                                                    207\n",
      "Argüelles                                                                          200\n",
      "Goya                                                                               161\n",
      "Puerta del Angel                                                                   161\n",
      "Guindalera                                                                         149\n",
      "Arapiles                                                                           134\n",
      "Acacias                                                                            118\n",
      "Almagro                                                                            117\n",
      "Recoletos                                                                          110\n",
      "Delicias                                                                           107\n",
      "Pacífico                                                                           107\n",
      "Gaztambide                                                                         103\n",
      "Chopera                                                                             97\n",
      "Cuatro Caminos                                                                      97\n",
      "Lista                                                                               87\n",
      "Ibiza                                                                               85\n",
      "Prosperidad                                                                         83\n",
      "Rios Rosas                                                                          81\n",
      "San Isidro                                                                          73\n",
      "Imperial                                                                            73\n",
      "Castellana                                                                          70\n",
      "Castillejos                                                                         69\n",
      "Jerónimos                                                                           69\n",
      "Bellas Vistas                                                                       64\n",
      "Ventas                                                                              61\n",
      "San Diego                                                                           60\n",
      "Berruguete                                                                          59\n",
      "Comillas                                                                            53\n",
      "Hispanoamérica                                                                      53\n",
      "Casa de Campo                                                                       53\n",
      "Palma de Mallorca                                                                   49\n",
      "Ciudad Jardín                                                                       48\n",
      "Fuente del Berro                                                                    48\n",
      "Almenara                                                                            47\n",
      "Vista Alegre                                                                        46\n",
      "Adelfas                                                                             46\n",
      "la Dreta de l'Eixample                                                              45\n",
      "Numancia                                                                            45\n",
      "Opañel                                                                              44\n",
      "Nueva España                                                                        44\n",
      "Lucero                                                                              44\n",
      "Vallehermoso                                                                        41\n",
      "Valdefuentes                                                                        41\n",
      "Simancas                                                                            37\n",
      "Pinar del Rey                                                                       37\n",
      "Canillas                                                                            36\n",
      "Valdeacederas                                                                       36\n",
      "Almendrales                                                                         36\n",
      "Valverde                                                                            35\n",
      "Quintana                                                                            35\n",
      "Pueblo Nuevo                                                                        35\n",
      "El Viso                                                                             34\n",
      "Aluche                                                                              34\n",
      "Concepción                                                                          33\n",
      "Dublin City                                                                         33\n",
      "Palomeras Bajas                                                                     31\n",
      "Peñagrande                                                                          31\n",
      "Casco Histórico de Vallecas                                                         30\n",
      "San Fermín                                                                          30\n",
      "Puerta Bonita                                                                       29\n",
      "Moscardó                                                                            27\n",
      "Castilla                                                                            26\n",
      "Legazpi                                                                             25\n",
      "Ciudad Universitaria                                                                25\n",
      "Cármenes                                                                            25\n",
      "l'Antiga Esquerra de l'Eixample                                                     23\n",
      "San Juan Bautista                                                                   23\n",
      "Estrella                                                                            23\n",
      "Pilar                                                                               23\n",
      "Niño Jesús                                                                          22\n",
      "Alcúdia                                                                             22\n",
      "Buenavista                                                                          22\n",
      "Casco Histórico de Barajas                                                          21\n",
      "Costillares                                                                         21\n",
      "Alameda de Osuna                                                                    20\n",
      "Aravaca                                                                             18\n",
      "Campamento                                                                          18\n",
      "Los Rosales                                                                         18\n",
      "Tower Hamlets                                                                       17\n",
      "I Centro Storico                                                                    17\n",
      "Fontarrón                                                                           17\n",
      "Rejas                                                                               16\n",
      "Valdezarza                                                                          16\n",
      "Casco Histórico de Vicálvaro                                                        16\n",
      "Arcos                                                                               16\n",
      "San Pascual                                                                         16\n",
      "Mirasierra                                                                          15\n",
      "Portazgo                                                                            15\n",
      "San Andrés                                                                          14\n",
      "Hackney                                                                             14\n",
      "Abrantes                                                                            14\n",
      "Vinateros                                                                           14\n",
      "Colina                                                                              14\n",
      "Timón                                                                               13\n",
      "Sant Pere, Santa Caterina i la Ribera                                               13\n",
      "Apostol Santiago                                                                    13\n",
      "Media Legua                                                                         12\n",
      "Los Angeles                                                                         12\n",
      "Atocha                                                                              12\n",
      "la Vila de Gràcia                                                                   12\n",
      "Salvador                                                                            12\n",
      "el Camp d'en Grassot i Gràcia Nova                                                  11\n",
      "les Corts                                                                           11\n",
      "Ealing                                                                              11\n",
      "La Paz                                                                              11\n",
      "Pollença                                                                            11\n",
      "Calvià                                                                              11\n",
      "Buttes-Montmartre                                                                   11\n",
      "Westminster                                                                         11\n",
      "Entrevías                                                                           11\n",
      "Aguilas                                                                             11\n",
      "Ambroz                                                                              10\n",
      "Hostafrancs                                                                         10\n",
      "la Sagrada Família                                                                  10\n",
      "Santa Margalida                                                                     10\n",
      "Landstra§e                                                                          10\n",
      "Pradolongo                                                                          10\n",
      "Waverley                                                                            10\n",
      "Palomas                                                                              9\n",
      "Popincourt                                                                           9\n",
      "Marroquina                                                                           9\n",
      "Palomeras Sureste                                                                    9\n",
      "Inca                                                                                 9\n",
      "Piovera                                                                              9\n",
      "Vaugirard                                                                            8\n",
      "Sa Pobla                                                                             8\n",
      "el Poble Sec                                                                         7\n",
      "el Barri Gòtic                                                                       7\n",
      "Manacor                                                                              7\n",
      "Orcasur                                                                              7\n",
      "Opéra                                                                                7\n",
      "Southwark                                                                            7\n",
      "Sants                                                                                7\n",
      "San Cristobal                                                                        7\n",
      "Palais-Bourbon                                                                       7\n",
      "Kensington and Chelsea                                                               7\n",
      "el Parc i la Llacuna del Poblenou                                                    6\n",
      "Canillejas                                                                           6\n",
      "Sydney                                                                               6\n",
      "Muro                                                                                 6\n",
      "Selva                                                                                6\n",
      "Hollywood                                                                            6\n",
      "el Raval                                                                             6\n",
      "Butarque                                                                             6\n",
      "Brent                                                                                6\n",
      "Llucmajor                                                                            6\n",
      "Zofío                                                                                6\n",
      "Hellín                                                                               5\n",
      "Sóller                                                                               5\n",
      "Marrickville                                                                         5\n",
      "Amposta                                                                              5\n",
      "Batignolles-Monceau                                                                  5\n",
      "Deyá                                                                                 5\n",
      "Mid-Wilshire                                                                         5\n",
      "IV Tiburtina                                                                         5\n",
      "Aeropuerto                                                                           5\n",
      "Islington                                                                            5\n",
      "Bedford-Stuyvesant                                                                   5\n",
      "la Nova Esquerra de l'Eixample                                                       5\n",
      "Wandsworth                                                                           5\n",
      "Edgewood, Bloomingdale, Truxton Circle, Eckington                                    5\n",
      "Sant Gervasi - Galvany                                                               5\n",
      "Cannaregio                                                                           4\n",
      "Corralejos                                                                           4\n",
      "Rosas                                                                                4\n",
      "Ménilmontant                                                                         4\n",
      "Leonidas                                                                             4\n",
      "East Village                                                                         4\n",
      "Entrepôt                                                                             4\n",
      "De Baarsjes - Oud-West                                                               4\n",
      "Santanyí                                                                             4\n",
      "Commune de Genève                                                                    4\n",
      "Alexanderplatz                                                                       4\n",
      "Pavones                                                                              4\n",
      "Bruxelles                                                                            4\n",
      "VII San Giovanni/Cinecittà                                                           4\n",
      "Artà                                                                                 4\n",
      "Lambeth                                                                              4\n",
      "II Parioli/Nomentano                                                                 4\n",
      "Williamsburg                                                                         4\n",
      "Algaida                                                                              4\n",
      "el Camp de l'Arpa del Clot                                                           3\n",
      "Annex                                                                                3\n",
      "Gobelins                                                                             3\n",
      "Hammersmith and Fulham                                                               3\n",
      "Sineu                                                                                3\n",
      "Downtown                                                                             3\n",
      "VIII Appia Antica                                                                    3\n",
      "Midtown                                                                              3\n",
      "Tollcross                                                                            3\n",
      "Wieden                                                                               3\n",
      "Reuterstraße                                                                         3\n",
      "Centrum-Oost                                                                         3\n",
      "Leopoldstadt                                                                         3\n",
      "Sant Antoni                                                                          3\n",
      "Alaró                                                                                3\n",
      "Castro/Upper Market                                                                  3\n",
      "El Goloso                                                                            3\n",
      "El Plantío                                                                           3\n",
      "Frankfurter Allee Süd FK                                                             3\n",
      "Panthéon                                                                             3\n",
      "Búger                                                                                3\n",
      "Ses Salines                                                                          3\n",
      "Santa María del Camí                                                                 3\n",
      "Passy                                                                                3\n",
      "Fort Greene                                                                          3\n",
      "Ridgewood                                                                            3\n",
      "Hell's Kitchen                                                                       2\n",
      "Saint-Gilles                                                                         2\n",
      "Croydon                                                                              2\n",
      "el Fort Pienc                                                                        2\n",
      "Binissalem                                                                           2\n",
      "Fairfax                                                                              2\n",
      "Prenzlauer Berg Süd                                                                  2\n",
      "Little Italy                                                                         2\n",
      "Oud-Oost                                                                             2\n",
      "Provençals del Poblenou                                                              2\n",
      "Haringey                                                                             2\n",
      "Fuentelareina                                                                        2\n",
      "III Monte Sacro                                                                      2\n",
      "Richmond upon Thames                                                                 2\n",
      "Sant Llorenç des Cardassar                                                           2\n",
      "Felanitx                                                                             2\n",
      "Hounslow                                                                             2\n",
      "Élysée                                                                               2\n",
      "Centrum-West                                                                         2\n",
      "Capdepera                                                                            2\n",
      "Saint-Josse-ten-Noode                                                                2\n",
      "Bromley                                                                              2\n",
      "Camden                                                                               2\n",
      "la Barceloneta                                                                       2\n",
      "Valldemossa                                                                          2\n",
      "Santa Eugenia                                                                        2\n",
      "Luxembourg                                                                           2\n",
      "Longsight                                                                            2\n",
      "Observatoire                                                                         2\n",
      "Topanga                                                                              2\n",
      "Sunset Park                                                                          2\n",
      "Sant Gervasi - la Bonanova                                                           2\n",
      "Neubau                                                                               2\n",
      "West Town                                                                            2\n",
      "Can Baró                                                                             2\n",
      "Upper East Side                                                                      2\n",
      "Logan Square                                                                         2\n",
      "Helmholtzplatz                                                                       2\n",
      "Sants - Badal                                                                        2\n",
      "East Harlem                                                                          2\n",
      "la Salut                                                                             2\n",
      "Jamaica Plain                                                                        2\n",
      "Santa Monica                                                                         2\n",
      "Valdemarín                                                                           2\n",
      "Dorsoduro                                                                            2\n",
      "XIII Aurelia                                                                         2\n",
      "Buttes-Chaumont                                                                      2\n",
      "Stonnington                                                                          2\n",
      "Orcasitas                                                                            2\n",
      "University                                                                           2\n",
      "Schillerpromenade                                                                    2\n",
      "Zuid                                                                                 2\n",
      "Bushwick                                                                             2\n",
      "De Pijp - Rivierenbuurt                                                              2\n",
      "Greenpoint                                                                           2\n",
      "Woollahra                                                                            2\n",
      "Moreland                                                                             1\n",
      "ΠΑΤΗΣΙΑ                                                                              1\n",
      "la Marina de Port                                                                    1\n",
      "Near North Side                                                                      1\n",
      "Petra                                                                                1\n",
      "ΝΕΟΣ ΚΟΣΜΟΣ                                                                          1\n",
      "Weißensee                                                                            1\n",
      "San Fernando                                                                         1\n",
      "el Clot                                                                              1\n",
      "Rogers Park                                                                          1\n",
      "el Putxet i el Farró                                                                 1\n",
      "Brederode                                                                            1\n",
      "Haselhorst                                                                           1\n",
      "Sutton                                                                               1\n",
      "XV Cassia/Flaminia                                                                   1\n",
      "North Sydney                                                                         1\n",
      "Parkviertel                                                                          1\n",
      "Vilafranc de Bonany                                                                  1\n",
      "Dbling                                                                              1\n",
      "Louvre                                                                               1\n",
      "Palms                                                                                1\n",
      "Rancho Park                                                                          1\n",
      "Pico-Robertson                                                                       1\n",
      "El Pardo                                                                             1\n",
      "Giudecca                                                                             1\n",
      "West Highland                                                                        1\n",
      "Lloseta                                                                              1\n",
      "Newington and Dalkeith Road                                                          1\n",
      "XI Arvalia/Portuense                                                                 1\n",
      "Long Island City                                                                     1\n",
      "Crown Heights                                                                        1\n",
      "Manly                                                                                1\n",
      "Southwest Employment Area, Southwest/Waterfront, Fort McNair, Buzzard Point          1\n",
      "Nolita                                                                               1\n",
      "Harlem                                                                               1\n",
      "Westlake                                                                             1\n",
      "Lake Balboa                                                                          1\n",
      "Reuilly                                                                              1\n",
      "Dupont Circle, Connecticut Avenue/K Street                                           1\n",
      "Bourse                                                                               1\n",
      "Pasadena                                                                             1\n",
      "Prospect Heights                                                                     1\n",
      "la Maternitat i Sant Ramon                                                           1\n",
      "Silver Lake                                                                          1\n",
      "Balgreen and Roseburn                                                                1\n",
      "Ixelles                                                                              1\n",
      "Brentwood                                                                            1\n",
      "Forest Hill South                                                                    1\n",
      "Flatbush                                                                             1\n",
      "West Village                                                                         1\n",
      "Castello                                                                             1\n",
      "la Font de la Guatlla                                                                1\n",
      "Highland Park                                                                        1\n",
      "Sant Joan                                                                            1\n",
      "Westerpark                                                                           1\n",
      "Innere Stadt                                                                         1\n",
      "Schaerbeek                                                                           1\n",
      "Broadway                                                                             1\n",
      "78733                                                                                1\n",
      "Sint-Andries                                                                         1\n",
      "Inverleith, Goldenacre and Warriston                                                 1\n",
      "City of London                                                                       1\n",
      "Westmount                                                                            1\n",
      "Upper West Side                                                                      1\n",
      "Takoma, Brightwood, Manor Park                                                       1\n",
      "Temple                                                                               1\n",
      "Berkeley                                                                             1\n",
      "Karlshorst                                                                           1\n",
      "78704                                                                                1\n",
      "Prenzlauer Berg Südwest                                                              1\n",
      "Niagara                                                                              1\n",
      "Long Beach                                                                           1\n",
      "Waltham Forest                                                                       1\n",
      "Dn Laoghaire-Rathdown                                                                1\n",
      "Mid-City                                                                             1\n",
      "Oud-Noord                                                                            1\n",
      "Volkspark Wilmersdorf                                                                1\n",
      "Frankfurter Allee Nord                                                               1\n",
      "South Dublin                                                                         1\n",
      "Port Phillip                                                                         1\n",
      "la Vila Olímpica del Poblenou                                                        1\n",
      "City Park West                                                                       1\n",
      "Abbeyhill                                                                            1\n",
      "Hietzing                                                                             1\n",
      "Cuatro Vientos                                                                       1\n",
      "Twining, Fairlawn, Randle Highlands, Penn Branch, Fort Davis Park, Fort Dupont       1\n",
      "Boerum Hill                                                                          1\n",
      "Kantstraße                                                                           1\n",
      "Balboa Park                                                                          1\n",
      "Prenzlauer Berg Nordwest                                                             1\n",
      "Kalorama Heights, Adams Morgan, Lanier Heights                                       1\n",
      "Darebin                                                                              1\n",
      "Melbourne                                                                            1\n",
      "Ariany                                                                               1\n",
      "Son Servera                                                                          1\n",
      "Geuzenveld - Slotermeer                                                              1\n",
      "Botany Bay                                                                           1\n",
      "Waterfront Communities-The Island                                                    1\n",
      "IX Eur                                                                               1\n",
      "Lachine                                                                              1\n",
      "Kensington-Chinatown                                                                 1\n",
      "Llubí                                                                                1\n",
      "Cologny                                                                              1\n",
      "XII Monte Verde                                                                      1\n",
      "Wallingford                                                                          1\n",
      "Hollywood Hills West                                                                 1\n",
      "Excelsior                                                                            1\n",
      "Mierendorffplatz                                                                     1\n",
      "Karl-Marx-Allee-Süd                                                                  1\n",
      "Hollywood Hills                                                                      1\n",
      "Verdun                                                                               1\n",
      "Lloret de Vistalegre                                                                 1\n",
      "Campanet                                                                             1\n",
      "südliche Luisenstadt                                                                 1\n",
      "Bitter Lake                                                                          1\n",
      "West Hollywood                                                                       1\n",
      "Mid-Beacon Hill                                                                      1\n",
      "Tempelhofer Vorstadt                                                                 1\n",
      "Andratx                                                                              1\n",
      "LISMORE CITY COUNCIL                                                                 1\n",
      "la Bordeta                                                                           1\n",
      "Theaterbuurt-Meir                                                                    1\n",
      "Lido                                                                                 1\n",
      "Margareten                                                                           1\n",
      "Brunnenstr. Süd                                                                      1\n",
      "nördliche Luisenstadt                                                                1\n",
      "Beverly Grove                                                                        1\n",
      "Merton                                                                               1\n",
      "Hulme                                                                                1\n",
      "Rixdorf                                                                              1\n",
      "Van Nuys                                                                             1\n",
      "Prospect-Lefferts Gardens                                                            1\n",
      "Greenwich                                                                            1\n",
      "Beverly Hills                                                                        1\n",
      "Mancor de la Vall                                                                    1\n",
      "Chinatown                                                                            1\n",
      "el Baix Guinardó                                                                     1\n",
      "Civic Center                                                                         1\n",
      "Whalley Range                                                                        1\n",
      "Warringah                                                                            1\n",
      "Lake View                                                                            1\n",
      "Randwick                                                                             1\n",
      "Church-Yonge Corridor                                                                1\n",
      "East Riverside                                                                       1\n",
      "Dovercourt-Wallace Emerson-Junction                                                  1\n",
      "Sloan Lake                                                                           1\n",
      "Mariahilf                                                                            1\n",
      "Carroll Gardens                                                                      1\n",
      "Fairview                                                                             1\n",
      "Meidling                                                                             1\n",
      "Lawton Park                                                                          1\n",
      "Noord-Oost                                                                           1\n",
      "ΠΛΑΤΕΙΑ ΑΜΕΡΙΚΗΣ                                                                     1\n",
      "Canongate, Southside and Dumbiedykes                                                 1\n",
      "Name: Neighbourhood Cleansed, dtype: int64\n"
     ]
    }
   ],
   "source": [
    "#print(full_airbnb['Neighbourhood'].unique())\n",
    "print(len(train['Neighbourhood Cleansed'].unique()))\n",
    "print(train['Neighbourhood Cleansed'].isna().sum())\n",
    "with pd.option_context(\"display.max_rows\", 1000):\n",
    "    print(train['Neighbourhood Cleansed'].value_counts())"
   ]
  },
  {
   "cell_type": "code",
   "execution_count": 15,
   "metadata": {},
   "outputs": [
    {
     "name": "stdout",
     "output_type": "stream",
     "text": [
      "45\n",
      "663\n",
      "Centro                      5280\n",
      "Chamberí                     710\n",
      "Arganzuela                   639\n",
      "Salamanca                    625\n",
      "Tetuán                       372\n",
      "Retiro                       352\n",
      "Moncloa - Aravaca            317\n",
      "Latina                       294\n",
      "Chamartín                    288\n",
      "Carabanchel                  281\n",
      "Ciudad Lineal                238\n",
      "Puente de Vallecas           171\n",
      "Hortaleza                    145\n",
      "Fuencarral - El Pardo        121\n",
      "Usera                        118\n",
      "San Blas - Canillejas        101\n",
      "Eixample                      88\n",
      "Barajas                       63\n",
      "Villaverde                    57\n",
      "Moratalaz                     56\n",
      "Villa de Vallecas             32\n",
      "Sants-Montjuïc                29\n",
      "Ciutat Vella                  28\n",
      "Vicálvaro                     26\n",
      "Gràcia                        25\n",
      "Brooklyn                      24\n",
      "Manhattan                     19\n",
      "Sant Martí                    13\n",
      "Les Corts                     12\n",
      "Isole                          9\n",
      "Friedrichshain-Kreuzberg       8\n",
      "Sarrià-Sant Gervasi            8\n",
      "Pankow                         7\n",
      "Neukölln                       6\n",
      "Mitte                          6\n",
      "Queens                         4\n",
      "Horta-Guinardó                 3\n",
      "Charlottenburg-Wilm.           3\n",
      "Other neighborhoods            2\n",
      "Beacon Hill                    1\n",
      "Magnolia                       1\n",
      "Spandau                        1\n",
      "Lichtenberg                    1\n",
      "Capitol Hill                   1\n",
      "Name: Neighbourhood Group Cleansed, dtype: int64\n"
     ]
    }
   ],
   "source": [
    "#print(full_airbnb['Neighbourhood'].unique())\n",
    "print(len(train['Neighbourhood Group Cleansed'].unique()))\n",
    "print(train['Neighbourhood Group Cleansed'].isna().sum())\n",
    "with pd.option_context(\"display.max_rows\", 1000):\n",
    "    print(train['Neighbourhood Group Cleansed'].value_counts())"
   ]
  },
  {
   "cell_type": "markdown",
   "metadata": {},
   "source": [
    "A la vista de los datos anteriores tenemos la siguiente informacio:\n",
    "- La variable \"Neighbourhood Cleansed\" contiene 449 categorias y ningun valor null.\n",
    "- La variable \"Neighbourhood Group Cleansed contiene 49 categorias y 819 celdas null.En lugar de imputar los nulls a la categoria \"Other\" lo rellenamos con el valor de la columna \"Neighbourhood Cleansed\""
   ]
  },
  {
   "cell_type": "code",
   "execution_count": 16,
   "metadata": {},
   "outputs": [],
   "source": [
    "train['Neighbourhood Group Cleansed'].fillna(train['Neighbourhood Cleansed'], inplace=True)"
   ]
  },
  {
   "cell_type": "markdown",
   "metadata": {},
   "source": [
    "A continuación trataremos las otras tres variables categoricas que nos quedan (Property Type, Room Type y Cancellation Policy)"
   ]
  },
  {
   "cell_type": "code",
   "execution_count": 17,
   "metadata": {},
   "outputs": [
    {
     "name": "stdout",
     "output_type": "stream",
     "text": [
      "254\n",
      "0\n",
      "Centro                                                                            5280\n",
      "Chamberí                                                                           710\n",
      "Arganzuela                                                                         639\n",
      "Salamanca                                                                          625\n",
      "Tetuán                                                                             372\n",
      "Retiro                                                                             352\n",
      "Moncloa - Aravaca                                                                  317\n",
      "Latina                                                                             294\n",
      "Chamartín                                                                          288\n",
      "Carabanchel                                                                        281\n",
      "Ciudad Lineal                                                                      238\n",
      "Puente de Vallecas                                                                 171\n",
      "Hortaleza                                                                          145\n",
      "Fuencarral - El Pardo                                                              121\n",
      "Usera                                                                              118\n",
      "San Blas - Canillejas                                                              101\n",
      "Eixample                                                                            88\n",
      "Barajas                                                                             63\n",
      "Villaverde                                                                          57\n",
      "Moratalaz                                                                           56\n",
      "Palma de Mallorca                                                                   49\n",
      "Dublin City                                                                         33\n",
      "Villa de Vallecas                                                                   32\n",
      "Sants-Montjuïc                                                                      29\n",
      "Ciutat Vella                                                                        28\n",
      "Vicálvaro                                                                           26\n",
      "Gràcia                                                                              25\n",
      "Brooklyn                                                                            24\n",
      "Alcúdia                                                                             22\n",
      "Manhattan                                                                           19\n",
      "I Centro Storico                                                                    17\n",
      "Tower Hamlets                                                                       17\n",
      "Hackney                                                                             14\n",
      "Sant Martí                                                                          13\n",
      "Les Corts                                                                           12\n",
      "Westminster                                                                         11\n",
      "Pollença                                                                            11\n",
      "Buttes-Montmartre                                                                   11\n",
      "Ealing                                                                              11\n",
      "Calvià                                                                              11\n",
      "Santa Margalida                                                                     10\n",
      "Landstra§e                                                                          10\n",
      "Waverley                                                                            10\n",
      "Isole                                                                                9\n",
      "Popincourt                                                                           9\n",
      "Inca                                                                                 9\n",
      "Friedrichshain-Kreuzberg                                                             8\n",
      "Vaugirard                                                                            8\n",
      "Sarrià-Sant Gervasi                                                                  8\n",
      "Sa Pobla                                                                             8\n",
      "Manacor                                                                              7\n",
      "Pankow                                                                               7\n",
      "Palais-Bourbon                                                                       7\n",
      "Southwark                                                                            7\n",
      "Kensington and Chelsea                                                               7\n",
      "Opéra                                                                                7\n",
      "Llucmajor                                                                            6\n",
      "Muro                                                                                 6\n",
      "Sydney                                                                               6\n",
      "Neukölln                                                                             6\n",
      "Selva                                                                                6\n",
      "Brent                                                                                6\n",
      "Hollywood                                                                            6\n",
      "Mitte                                                                                6\n",
      "Deyá                                                                                 5\n",
      "Islington                                                                            5\n",
      "Batignolles-Monceau                                                                  5\n",
      "IV Tiburtina                                                                         5\n",
      "Edgewood, Bloomingdale, Truxton Circle, Eckington                                    5\n",
      "Mid-Wilshire                                                                         5\n",
      "Sóller                                                                               5\n",
      "Wandsworth                                                                           5\n",
      "Marrickville                                                                         5\n",
      "Entrepôt                                                                             4\n",
      "Ménilmontant                                                                         4\n",
      "De Baarsjes - Oud-West                                                               4\n",
      "II Parioli/Nomentano                                                                 4\n",
      "Algaida                                                                              4\n",
      "Lambeth                                                                              4\n",
      "Bruxelles                                                                            4\n",
      "VII San Giovanni/Cinecittà                                                           4\n",
      "Queens                                                                               4\n",
      "Santanyí                                                                             4\n",
      "Commune de Genève                                                                    4\n",
      "Leonidas                                                                             4\n",
      "Artà                                                                                 4\n",
      "Gobelins                                                                             3\n",
      "Annex                                                                                3\n",
      "Panthéon                                                                             3\n",
      "VIII Appia Antica                                                                    3\n",
      "Búger                                                                                3\n",
      "Horta-Guinardó                                                                       3\n",
      "Sineu                                                                                3\n",
      "Ses Salines                                                                          3\n",
      "Wieden                                                                               3\n",
      "Leopoldstadt                                                                         3\n",
      "Centrum-Oost                                                                         3\n",
      "Downtown                                                                             3\n",
      "Passy                                                                                3\n",
      "Santa María del Camí                                                                 3\n",
      "Charlottenburg-Wilm.                                                                 3\n",
      "Castro/Upper Market                                                                  3\n",
      "Alaró                                                                                3\n",
      "Tollcross                                                                            3\n",
      "Hammersmith and Fulham                                                               3\n",
      "Oud-Oost                                                                             2\n",
      "Binissalem                                                                           2\n",
      "III Monte Sacro                                                                      2\n",
      "Woollahra                                                                            2\n",
      "Saint-Josse-ten-Noode                                                                2\n",
      "Richmond upon Thames                                                                 2\n",
      "Felanitx                                                                             2\n",
      "Bromley                                                                              2\n",
      "Topanga                                                                              2\n",
      "Croydon                                                                              2\n",
      "Sant Llorenç des Cardassar                                                           2\n",
      "Capdepera                                                                            2\n",
      "Camden                                                                               2\n",
      "De Pijp - Rivierenbuurt                                                              2\n",
      "Saint-Gilles                                                                         2\n",
      "Jamaica Plain                                                                        2\n",
      "West Town                                                                            2\n",
      "Stonnington                                                                          2\n",
      "Santa Monica                                                                         2\n",
      "Centrum-West                                                                         2\n",
      "Luxembourg                                                                           2\n",
      "Observatoire                                                                         2\n",
      "Hounslow                                                                             2\n",
      "Valldemossa                                                                          2\n",
      "Fairfax                                                                              2\n",
      "Élysée                                                                               2\n",
      "University                                                                           2\n",
      "Haringey                                                                             2\n",
      "Neubau                                                                               2\n",
      "XIII Aurelia                                                                         2\n",
      "Longsight                                                                            2\n",
      "Logan Square                                                                         2\n",
      "Buttes-Chaumont                                                                      2\n",
      "Other neighborhoods                                                                  2\n",
      "Zuid                                                                                 2\n",
      "Manly                                                                                1\n",
      "Southwest Employment Area, Southwest/Waterfront, Fort McNair, Buzzard Point          1\n",
      "Cologny                                                                              1\n",
      "Westlake                                                                             1\n",
      "Rogers Park                                                                          1\n",
      "Brederode                                                                            1\n",
      "Dn Laoghaire-Rathdown                                                                1\n",
      "Theaterbuurt-Meir                                                                    1\n",
      "XV Cassia/Flaminia                                                                   1\n",
      "Margareten                                                                           1\n",
      "Inverleith, Goldenacre and Warriston                                                 1\n",
      "West Highland                                                                        1\n",
      "San Fernando                                                                         1\n",
      "Ixelles                                                                              1\n",
      "Moreland                                                                             1\n",
      "Palms                                                                                1\n",
      "Lloseta                                                                              1\n",
      "Petra                                                                                1\n",
      "Newington and Dalkeith Road                                                          1\n",
      "XI Arvalia/Portuense                                                                 1\n",
      "Westerpark                                                                           1\n",
      "Louvre                                                                               1\n",
      "North Sydney                                                                         1\n",
      "Balgreen and Roseburn                                                                1\n",
      "Brentwood                                                                            1\n",
      "Lake Balboa                                                                          1\n",
      "Reuilly                                                                              1\n",
      "Dupont Circle, Connecticut Avenue/K Street                                           1\n",
      "Rancho Park                                                                          1\n",
      "Silver Lake                                                                          1\n",
      "Dbling                                                                              1\n",
      "Pasadena                                                                             1\n",
      "Vilafranc de Bonany                                                                  1\n",
      "Meidling                                                                             1\n",
      "ΝΕΟΣ ΚΟΣΜΟΣ                                                                          1\n",
      "Andratx                                                                              1\n",
      "Mid-City                                                                             1\n",
      "ΠΑΤΗΣΙΑ                                                                              1\n",
      "Waltham Forest                                                                       1\n",
      "Highland Park                                                                        1\n",
      "Sant Joan                                                                            1\n",
      "Spandau                                                                              1\n",
      "LISMORE CITY COUNCIL                                                                 1\n",
      "Innere Stadt                                                                         1\n",
      "Schaerbeek                                                                           1\n",
      "78733                                                                                1\n",
      "Forest Hill South                                                                    1\n",
      "Sint-Andries                                                                         1\n",
      "City of London                                                                       1\n",
      "Westmount                                                                            1\n",
      "Takoma, Brightwood, Manor Park                                                       1\n",
      "Temple                                                                               1\n",
      "Capitol Hill                                                                         1\n",
      "Lichtenberg                                                                          1\n",
      "Oud-Noord                                                                            1\n",
      "Near North Side                                                                      1\n",
      "Balboa Park                                                                          1\n",
      "South Dublin                                                                         1\n",
      "Port Phillip                                                                         1\n",
      "City Park West                                                                       1\n",
      "Abbeyhill                                                                            1\n",
      "Hietzing                                                                             1\n",
      "Twining, Fairlawn, Randle Highlands, Penn Branch, Fort Davis Park, Fort Dupont       1\n",
      "East Village                                                                         1\n",
      "Kalorama Heights, Adams Morgan, Lanier Heights                                       1\n",
      "IX Eur                                                                               1\n",
      "Darebin                                                                              1\n",
      "Melbourne                                                                            1\n",
      "Ariany                                                                               1\n",
      "Son Servera                                                                          1\n",
      "Geuzenveld - Slotermeer                                                              1\n",
      "Botany Bay                                                                           1\n",
      "Waterfront Communities-The Island                                                    1\n",
      "Berkeley                                                                             1\n",
      "78704                                                                                1\n",
      "Niagara                                                                              1\n",
      "Excelsior                                                                            1\n",
      "Noord-Oost                                                                           1\n",
      "ΠΛΑΤΕΙΑ ΑΜΕΡΙΚΗΣ                                                                     1\n",
      "Merton                                                                               1\n",
      "Canongate, Southside and Dumbiedykes                                                 1\n",
      "Bourse                                                                               1\n",
      "XII Monte Verde                                                                      1\n",
      "Hollywood Hills West                                                                 1\n",
      "Little Italy                                                                         1\n",
      "Sloan Lake                                                                           1\n",
      "Hollywood Hills                                                                      1\n",
      "Verdun                                                                               1\n",
      "Lloret de Vistalegre                                                                 1\n",
      "Magnolia                                                                             1\n",
      "Campanet                                                                             1\n",
      "West Hollywood                                                                       1\n",
      "Beacon Hill                                                                          1\n",
      "Fairview                                                                             1\n",
      "Dovercourt-Wallace Emerson-Junction                                                  1\n",
      "Long Beach                                                                           1\n",
      "Greenwich                                                                            1\n",
      "Lachine                                                                              1\n",
      "Kensington-Chinatown                                                                 1\n",
      "Beverly Hills                                                                        1\n",
      "Llubí                                                                                1\n",
      "Hulme                                                                                1\n",
      "Van Nuys                                                                             1\n",
      "Pico-Robertson                                                                       1\n",
      "Mancor de la Vall                                                                    1\n",
      "Mariahilf                                                                            1\n",
      "Whalley Range                                                                        1\n",
      "Warringah                                                                            1\n",
      "Lake View                                                                            1\n",
      "Beverly Grove                                                                        1\n",
      "Randwick                                                                             1\n",
      "Church-Yonge Corridor                                                                1\n",
      "East Riverside                                                                       1\n",
      "Sutton                                                                               1\n",
      "Name: Neighbourhood Group Cleansed, dtype: int64\n"
     ]
    }
   ],
   "source": [
    "#print(full_airbnb['Neighbourhood'].unique())\n",
    "print(len(train['Neighbourhood Group Cleansed'].unique()))\n",
    "print(train['Neighbourhood Group Cleansed'].isna().sum())\n",
    "with pd.option_context(\"display.max_rows\", 1000):\n",
    "    print(train['Neighbourhood Group Cleansed'].value_counts())"
   ]
  },
  {
   "cell_type": "markdown",
   "metadata": {},
   "source": [
    "Es cierto que ahora hemos pasado de 49 categorias a 277, pero creemos que esta distribucion es mas realista que la de incluir tantos pisos en la categoria de Other."
   ]
  },
  {
   "cell_type": "code",
   "execution_count": 18,
   "metadata": {
    "scrolled": true
   },
   "outputs": [
    {
     "name": "stdout",
     "output_type": "stream",
     "text": [
      "Apartment             9181\n",
      "House                  963\n",
      "Bed & Breakfast        271\n",
      "Condominium            268\n",
      "Loft                   246\n",
      "Other                  176\n",
      "Dorm                    37\n",
      "Guesthouse              32\n",
      "Chalet                  18\n",
      "Townhouse               12\n",
      "Hostel                  12\n",
      "Serviced apartment       9\n",
      "Boutique hotel           5\n",
      "Villa                    5\n",
      "Boat                     4\n",
      "Casa particular          2\n",
      "Earth House              2\n",
      "Bungalow                 1\n",
      "Guest suite              1\n",
      "Timeshare                1\n",
      "Tent                     1\n",
      "Camper/RV                1\n",
      "Name: Property Type, dtype: int64\n",
      "Entire home/apt    6750\n",
      "Private room       4346\n",
      "Shared room         152\n",
      "Name: Room Type, dtype: int64\n",
      "strict             4282\n",
      "flexible           3581\n",
      "moderate           3302\n",
      "strict_new           23\n",
      "super_strict_60      18\n",
      "moderate_new         17\n",
      "super_strict_30      15\n",
      "flexible_new         10\n",
      "Name: Cancellation Policy, dtype: int64\n"
     ]
    }
   ],
   "source": [
    "print(train['Property Type'].value_counts())\n",
    "print(train['Room Type'].value_counts())\n",
    "print(train['Cancellation Policy'].value_counts())\n"
   ]
  },
  {
   "cell_type": "markdown",
   "metadata": {},
   "source": [
    "Vamos a dejar las categorias de Property Type en \"Apartment\", \"House\", \"Condominium\", \"Bed & Breakfast\", \"Loft\", \"Dorm\", \"Guesthouse\", \"Chalet\", \"Townhouse\", \"Hostel\" y \"Villa\" que representan mas del 95% del total y todas las demas las incluiremos en la categoría \"Other\".\n",
    "Para ello usaremos la funcion change_cat_to_other"
   ]
  },
  {
   "cell_type": "code",
   "execution_count": 19,
   "metadata": {},
   "outputs": [
    {
     "data": {
      "text/plain": [
       "Apartment          9181\n",
       "House               963\n",
       "Bed & Breakfast     271\n",
       "Condominium         268\n",
       "Loft                246\n",
       "Other               203\n",
       "Dorm                 37\n",
       "Guesthouse           32\n",
       "Chalet               18\n",
       "Hostel               12\n",
       "Townhouse            12\n",
       "Villa                 5\n",
       "Name: Property Type, dtype: int64"
      ]
     },
     "execution_count": 19,
     "metadata": {},
     "output_type": "execute_result"
    }
   ],
   "source": [
    "array_main_cat_property_type = ['Apartment', 'House', 'Condominium', 'Bed & Breakfast', 'Loft', 'Dorm', 'Guesthouse',\n",
    "                               'Chalet', 'Townhouse', 'Hostel', 'Villa']\n",
    "train['Property Type'] = change_cat_to_other(array_main_cat_property_type, train['Property Type'])\n",
    "train['Property Type'].value_counts()"
   ]
  },
  {
   "cell_type": "markdown",
   "metadata": {},
   "source": [
    "De la misma manera vamos a dejar las categorias de Cancellation Policy en \"strict\", \"flexible\" y \"moderate\", que representan mas del 96% del total y todas las demas las incluiremos en la categoría \"Other\".\n",
    "Usamos nuevamente la funcion change_cat_to_other"
   ]
  },
  {
   "cell_type": "code",
   "execution_count": 20,
   "metadata": {},
   "outputs": [
    {
     "data": {
      "text/plain": [
       "strict      4282\n",
       "flexible    3581\n",
       "moderate    3302\n",
       "Other         83\n",
       "Name: Cancellation Policy, dtype: int64"
      ]
     },
     "execution_count": 20,
     "metadata": {},
     "output_type": "execute_result"
    }
   ],
   "source": [
    "array_main_cat_cancellation_policy = ['strict', 'flexible', 'moderate']\n",
    "train['Cancellation Policy'] = change_cat_to_other(array_main_cat_cancellation_policy, train['Cancellation Policy'])\n",
    "train['Cancellation Policy'].value_counts()"
   ]
  },
  {
   "cell_type": "markdown",
   "metadata": {},
   "source": [
    "## Codificacion de las variables categoricas (Mean encoding)\n",
    "Una vez reducidas las categorias de las variables categoricas, las convertiremos en numericas mediante el mecanismo de mean\n",
    "encoding.\n",
    "Guardamos las transformacion hechas en Train para reproducirlas en Test con un replace o un map sin volver a aplicar el mean encoding para evitar que los datos de test infulyan en el modelo.\n",
    "Para aplicar le metodo Mean Encoding es conveniente que no haya NaNs en la variable Target (Price), por ello imputaremos esos valores con la media de los precios."
   ]
  },
  {
   "cell_type": "code",
   "execution_count": 21,
   "metadata": {},
   "outputs": [
    {
     "name": "stdout",
     "output_type": "stream",
     "text": [
      "0\n"
     ]
    }
   ],
   "source": [
    "print(train['Price'].isna().sum())"
   ]
  },
  {
   "cell_type": "code",
   "execution_count": 22,
   "metadata": {},
   "outputs": [],
   "source": [
    "y_train_mean = np.mean(train['Price'])\n",
    "train['Price'] = train['Price'].fillna(y_train_mean)"
   ]
  },
  {
   "cell_type": "code",
   "execution_count": 23,
   "metadata": {},
   "outputs": [
    {
     "name": "stdout",
     "output_type": "stream",
     "text": [
      "0\n"
     ]
    }
   ],
   "source": [
    "print(train['Price'].isna().sum())"
   ]
  },
  {
   "cell_type": "code",
   "execution_count": 24,
   "metadata": {},
   "outputs": [],
   "source": [
    "#Property Type\n",
    "mean_encode_property_type = train.groupby('Property Type')['Price'].mean()\n",
    "train.loc[:,'Property Type'] = train['Property Type'].map(mean_encode_property_type)\n",
    "\n",
    "#Cancellation Policy \n",
    "mean_encode_cancellation_policy = train.groupby('Cancellation Policy')['Price'].mean()\n",
    "train.loc[:,'Cancellation Policy'] = train['Cancellation Policy'].map(mean_encode_cancellation_policy)\n",
    "\n",
    "#Room Type\n",
    "mean_encode_room_type = train.groupby('Room Type')['Price'].mean()\n",
    "train.loc[:,'Room Type'] = train['Room Type'].map(mean_encode_room_type)\n",
    "\n",
    "#Neighbourhood Cleansed\n",
    "mean_encode_neigh = train.groupby('Neighbourhood Cleansed')['Price'].mean()\n",
    "train.loc[:,'Neighbourhood Cleansed'] = train['Neighbourhood Cleansed'].map(mean_encode_neigh)\n",
    "\n",
    "#Neighbourhood Group Cleansed\n",
    "mean_encode_neigh_group = train.groupby('Neighbourhood Group Cleansed')['Price'].mean()\n",
    "train.loc[:,'Neighbourhood Group Cleansed'] = train['Neighbourhood Group Cleansed'].map(mean_encode_neigh_group)\n"
   ]
  },
  {
   "cell_type": "markdown",
   "metadata": {},
   "source": [
    "Antes de pasar a la correlacion de variables llevemos a cabo un análisis rapido de las caracteristicas que nos quedan"
   ]
  },
  {
   "cell_type": "code",
   "execution_count": 25,
   "metadata": {
    "scrolled": true
   },
   "outputs": [
    {
     "data": {
      "text/html": [
       "<div>\n",
       "<style scoped>\n",
       "    .dataframe tbody tr th:only-of-type {\n",
       "        vertical-align: middle;\n",
       "    }\n",
       "\n",
       "    .dataframe tbody tr th {\n",
       "        vertical-align: top;\n",
       "    }\n",
       "\n",
       "    .dataframe thead th {\n",
       "        text-align: right;\n",
       "    }\n",
       "</style>\n",
       "<table border=\"1\" class=\"dataframe\">\n",
       "  <thead>\n",
       "    <tr style=\"text-align: right;\">\n",
       "      <th></th>\n",
       "      <th>count</th>\n",
       "      <th>mean</th>\n",
       "      <th>std</th>\n",
       "      <th>min</th>\n",
       "      <th>25%</th>\n",
       "      <th>50%</th>\n",
       "      <th>75%</th>\n",
       "      <th>max</th>\n",
       "    </tr>\n",
       "  </thead>\n",
       "  <tbody>\n",
       "    <tr>\n",
       "      <th>Neighbourhood Cleansed</th>\n",
       "      <td>11248.0</td>\n",
       "      <td>62.438122</td>\n",
       "      <td>18.576971</td>\n",
       "      <td>17.500000</td>\n",
       "      <td>51.193237</td>\n",
       "      <td>63.712644</td>\n",
       "      <td>69.968485</td>\n",
       "      <td>198.000000</td>\n",
       "    </tr>\n",
       "    <tr>\n",
       "      <th>Neighbourhood Group Cleansed</th>\n",
       "      <td>11248.0</td>\n",
       "      <td>62.438122</td>\n",
       "      <td>16.552478</td>\n",
       "      <td>19.000000</td>\n",
       "      <td>52.400000</td>\n",
       "      <td>67.098295</td>\n",
       "      <td>67.098295</td>\n",
       "      <td>198.000000</td>\n",
       "    </tr>\n",
       "    <tr>\n",
       "      <th>Property Type</th>\n",
       "      <td>11248.0</td>\n",
       "      <td>62.438122</td>\n",
       "      <td>4.975710</td>\n",
       "      <td>36.357934</td>\n",
       "      <td>63.379370</td>\n",
       "      <td>63.379370</td>\n",
       "      <td>63.379370</td>\n",
       "      <td>148.000000</td>\n",
       "    </tr>\n",
       "    <tr>\n",
       "      <th>Room Type</th>\n",
       "      <td>11248.0</td>\n",
       "      <td>62.438122</td>\n",
       "      <td>23.404771</td>\n",
       "      <td>28.388158</td>\n",
       "      <td>33.967326</td>\n",
       "      <td>81.535852</td>\n",
       "      <td>81.535852</td>\n",
       "      <td>81.535852</td>\n",
       "    </tr>\n",
       "    <tr>\n",
       "      <th>Accommodates</th>\n",
       "      <td>11248.0</td>\n",
       "      <td>3.133535</td>\n",
       "      <td>1.835781</td>\n",
       "      <td>1.000000</td>\n",
       "      <td>2.000000</td>\n",
       "      <td>2.000000</td>\n",
       "      <td>4.000000</td>\n",
       "      <td>16.000000</td>\n",
       "    </tr>\n",
       "    <tr>\n",
       "      <th>Bathrooms</th>\n",
       "      <td>11207.0</td>\n",
       "      <td>1.227179</td>\n",
       "      <td>0.542385</td>\n",
       "      <td>0.000000</td>\n",
       "      <td>1.000000</td>\n",
       "      <td>1.000000</td>\n",
       "      <td>1.000000</td>\n",
       "      <td>8.000000</td>\n",
       "    </tr>\n",
       "    <tr>\n",
       "      <th>Bedrooms</th>\n",
       "      <td>11230.0</td>\n",
       "      <td>1.275067</td>\n",
       "      <td>0.768359</td>\n",
       "      <td>0.000000</td>\n",
       "      <td>1.000000</td>\n",
       "      <td>1.000000</td>\n",
       "      <td>2.000000</td>\n",
       "      <td>10.000000</td>\n",
       "    </tr>\n",
       "    <tr>\n",
       "      <th>Beds</th>\n",
       "      <td>11213.0</td>\n",
       "      <td>1.930438</td>\n",
       "      <td>1.381538</td>\n",
       "      <td>1.000000</td>\n",
       "      <td>1.000000</td>\n",
       "      <td>1.000000</td>\n",
       "      <td>2.000000</td>\n",
       "      <td>16.000000</td>\n",
       "    </tr>\n",
       "    <tr>\n",
       "      <th>Price</th>\n",
       "      <td>11248.0</td>\n",
       "      <td>62.438122</td>\n",
       "      <td>37.958864</td>\n",
       "      <td>11.000000</td>\n",
       "      <td>32.000000</td>\n",
       "      <td>55.000000</td>\n",
       "      <td>80.000000</td>\n",
       "      <td>199.000000</td>\n",
       "    </tr>\n",
       "    <tr>\n",
       "      <th>Security Deposit</th>\n",
       "      <td>4816.0</td>\n",
       "      <td>181.372924</td>\n",
       "      <td>104.837130</td>\n",
       "      <td>0.000000</td>\n",
       "      <td>100.000000</td>\n",
       "      <td>150.000000</td>\n",
       "      <td>200.000000</td>\n",
       "      <td>990.000000</td>\n",
       "    </tr>\n",
       "    <tr>\n",
       "      <th>Cleaning Fee</th>\n",
       "      <td>6662.0</td>\n",
       "      <td>28.598469</td>\n",
       "      <td>20.130310</td>\n",
       "      <td>0.000000</td>\n",
       "      <td>15.000000</td>\n",
       "      <td>25.000000</td>\n",
       "      <td>35.000000</td>\n",
       "      <td>250.000000</td>\n",
       "    </tr>\n",
       "    <tr>\n",
       "      <th>Guests Included</th>\n",
       "      <td>11248.0</td>\n",
       "      <td>1.545075</td>\n",
       "      <td>1.021645</td>\n",
       "      <td>0.000000</td>\n",
       "      <td>1.000000</td>\n",
       "      <td>1.000000</td>\n",
       "      <td>2.000000</td>\n",
       "      <td>16.000000</td>\n",
       "    </tr>\n",
       "    <tr>\n",
       "      <th>Extra People</th>\n",
       "      <td>11248.0</td>\n",
       "      <td>7.451191</td>\n",
       "      <td>10.309055</td>\n",
       "      <td>0.000000</td>\n",
       "      <td>0.000000</td>\n",
       "      <td>0.000000</td>\n",
       "      <td>15.000000</td>\n",
       "      <td>276.000000</td>\n",
       "    </tr>\n",
       "    <tr>\n",
       "      <th>Minimum Nights</th>\n",
       "      <td>11248.0</td>\n",
       "      <td>2.934655</td>\n",
       "      <td>12.369022</td>\n",
       "      <td>1.000000</td>\n",
       "      <td>1.000000</td>\n",
       "      <td>2.000000</td>\n",
       "      <td>3.000000</td>\n",
       "      <td>1125.000000</td>\n",
       "    </tr>\n",
       "    <tr>\n",
       "      <th>Maximum Nights</th>\n",
       "      <td>11248.0</td>\n",
       "      <td>965.803698</td>\n",
       "      <td>9624.055766</td>\n",
       "      <td>1.000000</td>\n",
       "      <td>365.000000</td>\n",
       "      <td>1125.000000</td>\n",
       "      <td>1125.000000</td>\n",
       "      <td>1000000.000000</td>\n",
       "    </tr>\n",
       "    <tr>\n",
       "      <th>Availability 30</th>\n",
       "      <td>11248.0</td>\n",
       "      <td>8.663940</td>\n",
       "      <td>9.092941</td>\n",
       "      <td>0.000000</td>\n",
       "      <td>0.000000</td>\n",
       "      <td>6.000000</td>\n",
       "      <td>13.000000</td>\n",
       "      <td>30.000000</td>\n",
       "    </tr>\n",
       "    <tr>\n",
       "      <th>Availability 60</th>\n",
       "      <td>11248.0</td>\n",
       "      <td>22.553165</td>\n",
       "      <td>19.477559</td>\n",
       "      <td>0.000000</td>\n",
       "      <td>4.000000</td>\n",
       "      <td>19.000000</td>\n",
       "      <td>37.000000</td>\n",
       "      <td>60.000000</td>\n",
       "    </tr>\n",
       "    <tr>\n",
       "      <th>Availability 90</th>\n",
       "      <td>11248.0</td>\n",
       "      <td>39.415541</td>\n",
       "      <td>29.376763</td>\n",
       "      <td>0.000000</td>\n",
       "      <td>11.000000</td>\n",
       "      <td>37.000000</td>\n",
       "      <td>64.000000</td>\n",
       "      <td>90.000000</td>\n",
       "    </tr>\n",
       "    <tr>\n",
       "      <th>Availability 365</th>\n",
       "      <td>11248.0</td>\n",
       "      <td>202.090238</td>\n",
       "      <td>127.838621</td>\n",
       "      <td>0.000000</td>\n",
       "      <td>78.000000</td>\n",
       "      <td>240.000000</td>\n",
       "      <td>319.000000</td>\n",
       "      <td>365.000000</td>\n",
       "    </tr>\n",
       "    <tr>\n",
       "      <th>Number of Reviews</th>\n",
       "      <td>11248.0</td>\n",
       "      <td>23.367621</td>\n",
       "      <td>38.622287</td>\n",
       "      <td>0.000000</td>\n",
       "      <td>1.000000</td>\n",
       "      <td>7.000000</td>\n",
       "      <td>29.000000</td>\n",
       "      <td>446.000000</td>\n",
       "    </tr>\n",
       "    <tr>\n",
       "      <th>Review Scores Rating</th>\n",
       "      <td>8872.0</td>\n",
       "      <td>91.649121</td>\n",
       "      <td>8.929872</td>\n",
       "      <td>20.000000</td>\n",
       "      <td>89.000000</td>\n",
       "      <td>94.000000</td>\n",
       "      <td>98.000000</td>\n",
       "      <td>100.000000</td>\n",
       "    </tr>\n",
       "    <tr>\n",
       "      <th>Review Scores Accuracy</th>\n",
       "      <td>8860.0</td>\n",
       "      <td>9.413657</td>\n",
       "      <td>0.912775</td>\n",
       "      <td>2.000000</td>\n",
       "      <td>9.000000</td>\n",
       "      <td>10.000000</td>\n",
       "      <td>10.000000</td>\n",
       "      <td>10.000000</td>\n",
       "    </tr>\n",
       "    <tr>\n",
       "      <th>Review Scores Cleanliness</th>\n",
       "      <td>8865.0</td>\n",
       "      <td>9.323407</td>\n",
       "      <td>0.987729</td>\n",
       "      <td>2.000000</td>\n",
       "      <td>9.000000</td>\n",
       "      <td>10.000000</td>\n",
       "      <td>10.000000</td>\n",
       "      <td>10.000000</td>\n",
       "    </tr>\n",
       "    <tr>\n",
       "      <th>Review Scores Checkin</th>\n",
       "      <td>8852.0</td>\n",
       "      <td>9.626751</td>\n",
       "      <td>0.793487</td>\n",
       "      <td>2.000000</td>\n",
       "      <td>9.000000</td>\n",
       "      <td>10.000000</td>\n",
       "      <td>10.000000</td>\n",
       "      <td>10.000000</td>\n",
       "    </tr>\n",
       "    <tr>\n",
       "      <th>Review Scores Communication</th>\n",
       "      <td>8863.0</td>\n",
       "      <td>9.647862</td>\n",
       "      <td>0.754882</td>\n",
       "      <td>2.000000</td>\n",
       "      <td>9.000000</td>\n",
       "      <td>10.000000</td>\n",
       "      <td>10.000000</td>\n",
       "      <td>10.000000</td>\n",
       "    </tr>\n",
       "    <tr>\n",
       "      <th>Review Scores Location</th>\n",
       "      <td>8849.0</td>\n",
       "      <td>9.532490</td>\n",
       "      <td>0.765210</td>\n",
       "      <td>2.000000</td>\n",
       "      <td>9.000000</td>\n",
       "      <td>10.000000</td>\n",
       "      <td>10.000000</td>\n",
       "      <td>10.000000</td>\n",
       "    </tr>\n",
       "    <tr>\n",
       "      <th>Review Scores Value</th>\n",
       "      <td>8849.0</td>\n",
       "      <td>9.219460</td>\n",
       "      <td>0.933952</td>\n",
       "      <td>2.000000</td>\n",
       "      <td>9.000000</td>\n",
       "      <td>9.000000</td>\n",
       "      <td>10.000000</td>\n",
       "      <td>10.000000</td>\n",
       "    </tr>\n",
       "    <tr>\n",
       "      <th>Cancellation Policy</th>\n",
       "      <td>11248.0</td>\n",
       "      <td>62.438122</td>\n",
       "      <td>7.343593</td>\n",
       "      <td>53.291818</td>\n",
       "      <td>53.291818</td>\n",
       "      <td>61.493943</td>\n",
       "      <td>70.453293</td>\n",
       "      <td>81.108434</td>\n",
       "    </tr>\n",
       "    <tr>\n",
       "      <th>Reviews per Month</th>\n",
       "      <td>8973.0</td>\n",
       "      <td>1.910374</td>\n",
       "      <td>1.891470</td>\n",
       "      <td>0.020000</td>\n",
       "      <td>0.470000</td>\n",
       "      <td>1.240000</td>\n",
       "      <td>2.870000</td>\n",
       "      <td>17.210000</td>\n",
       "    </tr>\n",
       "  </tbody>\n",
       "</table>\n",
       "</div>"
      ],
      "text/plain": [
       "                                count        mean          std        min  \\\n",
       "Neighbourhood Cleansed        11248.0   62.438122    18.576971  17.500000   \n",
       "Neighbourhood Group Cleansed  11248.0   62.438122    16.552478  19.000000   \n",
       "Property Type                 11248.0   62.438122     4.975710  36.357934   \n",
       "Room Type                     11248.0   62.438122    23.404771  28.388158   \n",
       "Accommodates                  11248.0    3.133535     1.835781   1.000000   \n",
       "Bathrooms                     11207.0    1.227179     0.542385   0.000000   \n",
       "Bedrooms                      11230.0    1.275067     0.768359   0.000000   \n",
       "Beds                          11213.0    1.930438     1.381538   1.000000   \n",
       "Price                         11248.0   62.438122    37.958864  11.000000   \n",
       "Security Deposit               4816.0  181.372924   104.837130   0.000000   \n",
       "Cleaning Fee                   6662.0   28.598469    20.130310   0.000000   \n",
       "Guests Included               11248.0    1.545075     1.021645   0.000000   \n",
       "Extra People                  11248.0    7.451191    10.309055   0.000000   \n",
       "Minimum Nights                11248.0    2.934655    12.369022   1.000000   \n",
       "Maximum Nights                11248.0  965.803698  9624.055766   1.000000   \n",
       "Availability 30               11248.0    8.663940     9.092941   0.000000   \n",
       "Availability 60               11248.0   22.553165    19.477559   0.000000   \n",
       "Availability 90               11248.0   39.415541    29.376763   0.000000   \n",
       "Availability 365              11248.0  202.090238   127.838621   0.000000   \n",
       "Number of Reviews             11248.0   23.367621    38.622287   0.000000   \n",
       "Review Scores Rating           8872.0   91.649121     8.929872  20.000000   \n",
       "Review Scores Accuracy         8860.0    9.413657     0.912775   2.000000   \n",
       "Review Scores Cleanliness      8865.0    9.323407     0.987729   2.000000   \n",
       "Review Scores Checkin          8852.0    9.626751     0.793487   2.000000   \n",
       "Review Scores Communication    8863.0    9.647862     0.754882   2.000000   \n",
       "Review Scores Location         8849.0    9.532490     0.765210   2.000000   \n",
       "Review Scores Value            8849.0    9.219460     0.933952   2.000000   \n",
       "Cancellation Policy           11248.0   62.438122     7.343593  53.291818   \n",
       "Reviews per Month              8973.0    1.910374     1.891470   0.020000   \n",
       "\n",
       "                                     25%          50%          75%  \\\n",
       "Neighbourhood Cleansed         51.193237    63.712644    69.968485   \n",
       "Neighbourhood Group Cleansed   52.400000    67.098295    67.098295   \n",
       "Property Type                  63.379370    63.379370    63.379370   \n",
       "Room Type                      33.967326    81.535852    81.535852   \n",
       "Accommodates                    2.000000     2.000000     4.000000   \n",
       "Bathrooms                       1.000000     1.000000     1.000000   \n",
       "Bedrooms                        1.000000     1.000000     2.000000   \n",
       "Beds                            1.000000     1.000000     2.000000   \n",
       "Price                          32.000000    55.000000    80.000000   \n",
       "Security Deposit              100.000000   150.000000   200.000000   \n",
       "Cleaning Fee                   15.000000    25.000000    35.000000   \n",
       "Guests Included                 1.000000     1.000000     2.000000   \n",
       "Extra People                    0.000000     0.000000    15.000000   \n",
       "Minimum Nights                  1.000000     2.000000     3.000000   \n",
       "Maximum Nights                365.000000  1125.000000  1125.000000   \n",
       "Availability 30                 0.000000     6.000000    13.000000   \n",
       "Availability 60                 4.000000    19.000000    37.000000   \n",
       "Availability 90                11.000000    37.000000    64.000000   \n",
       "Availability 365               78.000000   240.000000   319.000000   \n",
       "Number of Reviews               1.000000     7.000000    29.000000   \n",
       "Review Scores Rating           89.000000    94.000000    98.000000   \n",
       "Review Scores Accuracy          9.000000    10.000000    10.000000   \n",
       "Review Scores Cleanliness       9.000000    10.000000    10.000000   \n",
       "Review Scores Checkin           9.000000    10.000000    10.000000   \n",
       "Review Scores Communication     9.000000    10.000000    10.000000   \n",
       "Review Scores Location          9.000000    10.000000    10.000000   \n",
       "Review Scores Value             9.000000     9.000000    10.000000   \n",
       "Cancellation Policy            53.291818    61.493943    70.453293   \n",
       "Reviews per Month               0.470000     1.240000     2.870000   \n",
       "\n",
       "                                         max  \n",
       "Neighbourhood Cleansed            198.000000  \n",
       "Neighbourhood Group Cleansed      198.000000  \n",
       "Property Type                     148.000000  \n",
       "Room Type                          81.535852  \n",
       "Accommodates                       16.000000  \n",
       "Bathrooms                           8.000000  \n",
       "Bedrooms                           10.000000  \n",
       "Beds                               16.000000  \n",
       "Price                             199.000000  \n",
       "Security Deposit                  990.000000  \n",
       "Cleaning Fee                      250.000000  \n",
       "Guests Included                    16.000000  \n",
       "Extra People                      276.000000  \n",
       "Minimum Nights                   1125.000000  \n",
       "Maximum Nights                1000000.000000  \n",
       "Availability 30                    30.000000  \n",
       "Availability 60                    60.000000  \n",
       "Availability 90                    90.000000  \n",
       "Availability 365                  365.000000  \n",
       "Number of Reviews                 446.000000  \n",
       "Review Scores Rating              100.000000  \n",
       "Review Scores Accuracy             10.000000  \n",
       "Review Scores Cleanliness          10.000000  \n",
       "Review Scores Checkin              10.000000  \n",
       "Review Scores Communication        10.000000  \n",
       "Review Scores Location             10.000000  \n",
       "Review Scores Value                10.000000  \n",
       "Cancellation Policy                81.108434  \n",
       "Reviews per Month                  17.210000  "
      ]
     },
     "execution_count": 25,
     "metadata": {},
     "output_type": "execute_result"
    }
   ],
   "source": [
    "train.describe().T"
   ]
  },
  {
   "cell_type": "code",
   "execution_count": 26,
   "metadata": {},
   "outputs": [
    {
     "data": {
      "text/plain": [
       "0"
      ]
     },
     "execution_count": 26,
     "metadata": {},
     "output_type": "execute_result"
    }
   ],
   "source": [
    "train['Availability 30'].value_counts()\n",
    "train['Availability 30'].isna().sum()"
   ]
  },
  {
   "cell_type": "markdown",
   "metadata": {},
   "source": [
    "## Correlacion de variables\n",
    "Tengamos en cuenta que "
   ]
  },
  {
   "cell_type": "code",
   "execution_count": 27,
   "metadata": {},
   "outputs": [
    {
     "data": {
      "image/png": "[encoded data removed]",
      "text/plain": [
       "<Figure size 864x720 with 2 Axes>"
      ]
     },
     "metadata": {
      "needs_background": "light"
     },
     "output_type": "display_data"
    }
   ],
   "source": [
    "import seaborn as sns\n",
    "\n",
    "# Compute the correlation matrix\n",
    "corr = np.abs(train.drop(['Price'], axis=1).corr())\n",
    "\n",
    "# Generate a mask for the upper triangle\n",
    "mask = np.zeros_like(corr, dtype=np.bool)\n",
    "mask[np.triu_indices_from(mask)] = True\n",
    "\n",
    "# Set up the matplotlib figure\n",
    "f, ax = plt.subplots(figsize=(12, 10))\n",
    "\n",
    "# Draw the heatmap with the mask and correct aspect ratio\n",
    "sns.heatmap(corr, mask=mask,vmin = 0.0, vmax=1.0, center=0.5,\n",
    "            linewidths=.1, cmap=\"YlGnBu\", cbar_kws={\"shrink\": .8})\n",
    "\n",
    "plt.show()"
   ]
  },
  {
   "cell_type": "markdown",
   "metadata": {},
   "source": [
    "Pintemos algunas variables"
   ]
  },
  {
   "cell_type": "code",
   "execution_count": 28,
   "metadata": {
    "scrolled": true
   },
   "outputs": [
    {
     "data": {
      "image/png": "[encoded data removed]",
      "text/plain": [
       "<Figure size 1080x360 with 4 Axes>"
      ]
     },
     "metadata": {
      "needs_background": "light"
     },
     "output_type": "display_data"
    }
   ],
   "source": [
    "plt.figure(figsize=(15, 5))\n",
    "\n",
    "plt.subplot(1,4,1)\n",
    "train['Accommodates'].plot.hist(alpha=0.75, bins=25, grid = True)\n",
    "#plt.axis([0, 10, 0, 10000])\n",
    "plt.xlabel('Accommodates')\n",
    "\n",
    "plt.subplot(1,4,2)\n",
    "train['Bedrooms'].plot.hist(alpha=0.5, bins=15, grid = True)\n",
    "plt.xlabel('Bedrooms')\n",
    "\n",
    "plt.subplot(1,4,3)\n",
    "train['Beds'].plot.hist(alpha=0.5, bins=25, grid = False)\n",
    "plt.xlabel('Beds')\n",
    "\n",
    "plt.subplot(1,4,4)\n",
    "train['Bathrooms'].plot.hist(alpha=0.5, bins=25, grid = False)\n",
    "plt.xlabel('Bathrooms')\n",
    "\n",
    "plt.show()"
   ]
  },
  {
   "cell_type": "markdown",
   "metadata": {},
   "source": [
    "A la vista de la grafica de correlacion y siendo un poco generosos con las variables a eliminar para simplificar el modelo, podemos deducir lo siguiente:\n",
    "1. **Accommodates** tiene una fuerte correlacion con Bedrooms, Beds y moderada con Guests Included\n",
    "2. **Availability 30** tiene fuerte correlacion con Availability 60 Availability 90 y moderada con Availability 365\n",
    "3. **Review Scores Rating** tiene una fuerte correlacion con Review Scores Accuracy, Review Scores Cleanliness, Review Scores Checkin, Review Scores Communication, Review Scores Value y moderada con Review Scores Location.\n",
    "4. **Number of Reviews** tiene fuerte  correlacion con Reviews per Month\n",
    "5. **Neighbourhood Cleansed y Neighbourhood Group Cleansed** muestran una fuerte correlacion, pero de momento dejamos las dos para analizar mediante el filtrado de caracterisdtcas cual de las dos influye mas en la regresion que tenemos que plantear."
   ]
  },
  {
   "cell_type": "code",
   "execution_count": 29,
   "metadata": {},
   "outputs": [
    {
     "data": {
      "text/plain": [
       "(11248, 16)"
      ]
     },
     "execution_count": 29,
     "metadata": {},
     "output_type": "execute_result"
    }
   ],
   "source": [
    "#Vamos a eliminar todas estas variables del dataset de entrenamiento\n",
    "drop_corr = ['Bedrooms', 'Beds', 'Guests Included', 'Availability 60', 'Availability 90', 'Availability 365',\n",
    "             'Review Scores Accuracy', 'Review Scores Cleanliness', 'Review Scores Checkin', 'Review Scores Communication',\n",
    "             'Review Scores Value', 'Review Scores Location', 'Reviews per Month']\n",
    "train.drop(drop_corr, axis=1, inplace=True)\n",
    "train.shape"
   ]
  },
  {
   "cell_type": "markdown",
   "metadata": {},
   "source": [
    "## Separacion variable dependiente \n",
    "Separemos el dataset train entre la varible dependiente (y_train) y el resto de variables independientes (X_train)\n"
   ]
  },
  {
   "cell_type": "code",
   "execution_count": 30,
   "metadata": {},
   "outputs": [],
   "source": [
    "y_train = train['Price']\n",
    "X_train= train.drop(['Price'], axis=1)\n"
   ]
  },
  {
   "cell_type": "markdown",
   "metadata": {},
   "source": [
    "El siguiente paso es aplicar los metodos de filtrados para regresion, pero esto solo se pueden aplicar sobre variables que no contienen valores NaN.\n",
    "por tanto analicemos que variables tienen valores NaN y llevemos a cabo el proceso de imputacion, aprovechare para analizar algun posible outlier\n",
    "\n",
    "Para hacerlo vamos a aplicar los siguientes comandos a todas las variables que quedan:\n",
    "```\n",
    "print(len(train['campo'].unique()))\n",
    "print(train['campo'].isna().sum())\n",
    "print(train['campo'].value_counts())\n",
    "\n",
    "```\n",
    "\n",
    "Haciendo esto vemos que los unicos campos que contienen NaNs son:\n",
    "- Bathroom (45) Imputamos la media\n",
    "- Security Deposit (6798). Es mas de la mitad de los regitros por lo que lo eliminamos\n",
    "- Cleaning Fee (4857). Imputamnos un cero. asumismos que quien no tiene ese dato es porque no hay gastos de limpieza.\n",
    "- Review Scores Rating (2651). Imputamos la media."
   ]
  },
  {
   "cell_type": "code",
   "execution_count": 31,
   "metadata": {},
   "outputs": [],
   "source": [
    "X_train.drop('Security Deposit', axis=1, inplace=True)"
   ]
  },
  {
   "cell_type": "code",
   "execution_count": 32,
   "metadata": {},
   "outputs": [
    {
     "data": {
      "text/plain": [
       "91.64912082957619"
      ]
     },
     "execution_count": 32,
     "metadata": {},
     "output_type": "execute_result"
    }
   ],
   "source": [
    "mean_bathroom = np.mean(train['Bathrooms'])\n",
    "mean_review = np.mean(train['Review Scores Rating'])\n",
    "mean_review"
   ]
  },
  {
   "cell_type": "code",
   "execution_count": 33,
   "metadata": {},
   "outputs": [],
   "source": [
    "X_train['Bathrooms'] = train['Bathrooms'].fillna(mean_bathroom)\n",
    "X_train['Cleaning Fee'] = train['Cleaning Fee'].fillna(0)\n",
    "X_train['Review Scores Rating'] = train['Review Scores Rating'].fillna(mean_review)"
   ]
  },
  {
   "cell_type": "markdown",
   "metadata": {},
   "source": [
    "## Variable objetivo\n",
    "Por ultimo analizamos la variable objetivo"
   ]
  },
  {
   "cell_type": "code",
   "execution_count": 34,
   "metadata": {
    "scrolled": true
   },
   "outputs": [
    {
     "data": {
      "text/plain": [
       "count    11248.000000\n",
       "mean        62.438122\n",
       "std         37.958864\n",
       "min         11.000000\n",
       "25%         32.000000\n",
       "50%         55.000000\n",
       "75%         80.000000\n",
       "max        199.000000\n",
       "Name: Price, dtype: float64"
      ]
     },
     "execution_count": 34,
     "metadata": {},
     "output_type": "execute_result"
    }
   ],
   "source": [
    "y_train.describe()"
   ]
  },
  {
   "cell_type": "code",
   "execution_count": 35,
   "metadata": {},
   "outputs": [
    {
     "name": "stdout",
     "output_type": "stream",
     "text": [
      "183\n",
      "0\n",
      "50.0     516\n",
      "60.0     455\n",
      "25.0     442\n",
      "30.0     440\n",
      "35.0     372\n",
      "        ... \n",
      "184.0      1\n",
      "173.0      1\n",
      "174.0      1\n",
      "193.0      1\n",
      "171.0      1\n",
      "Name: Price, Length: 183, dtype: int64\n",
      "62.43812233285917\n"
     ]
    }
   ],
   "source": [
    "print(len(y_train.unique()))\n",
    "print(y_train.isna().sum())\n",
    "print(y_train.value_counts())\n",
    "print(np.mean(y_train)) "
   ]
  },
  {
   "cell_type": "code",
   "execution_count": 36,
   "metadata": {},
   "outputs": [
    {
     "name": "stdout",
     "output_type": "stream",
     "text": [
      "<class 'pandas.core.frame.DataFrame'>\n",
      "Int64Index: 11248 entries, 12521 to 2900\n",
      "Data columns (total 14 columns):\n",
      "Neighbourhood Cleansed          11248 non-null float64\n",
      "Neighbourhood Group Cleansed    11248 non-null float64\n",
      "Property Type                   11248 non-null float64\n",
      "Room Type                       11248 non-null float64\n",
      "Accommodates                    11248 non-null int64\n",
      "Bathrooms                       11248 non-null float64\n",
      "Cleaning Fee                    11248 non-null float64\n",
      "Extra People                    11248 non-null int64\n",
      "Minimum Nights                  11248 non-null int64\n",
      "Maximum Nights                  11248 non-null int64\n",
      "Availability 30                 11248 non-null int64\n",
      "Number of Reviews               11248 non-null int64\n",
      "Review Scores Rating            11248 non-null float64\n",
      "Cancellation Policy             11248 non-null float64\n",
      "dtypes: float64(8), int64(6)\n",
      "memory usage: 1.3 MB\n"
     ]
    }
   ],
   "source": [
    "X_train.info()"
   ]
  },
  {
   "cell_type": "markdown",
   "metadata": {},
   "source": [
    "## Filtrado para regresion\n",
    "Con las 13 variables que me quedan aplico los metodos de fitrado **f_regresion** y **mutual_info_regresion**"
   ]
  },
  {
   "cell_type": "code",
   "execution_count": 37,
   "metadata": {},
   "outputs": [],
   "source": [
    "from sklearn.feature_selection import f_regression, mutual_info_regression\n",
    "f_test, _ = f_regression(X_train, y_train)\n",
    "f_test /= np.max(f_test)\n",
    "mi = mutual_info_regression(X_train, y_train)\n",
    "mi /= np.max(mi)"
   ]
  },
  {
   "cell_type": "markdown",
   "metadata": {},
   "source": [
    "Mostremos esta informacion en forma de grafica"
   ]
  },
  {
   "cell_type": "code",
   "execution_count": 38,
   "metadata": {
    "scrolled": false
   },
   "outputs": [
    {
     "data": {
      "image/png": "[encoded data removed]",
      "text/plain": [
       "<Figure size 2160x720 with 2 Axes>"
      ]
     },
     "metadata": {
      "needs_background": "light"
     },
     "output_type": "display_data"
    }
   ],
   "source": [
    "featureNames = list(X_train.columns)\n",
    "\n",
    "plt.figure(figsize=(30, 10))\n",
    "\n",
    "plt.subplot(1,2,1)\n",
    "plt.bar(range(X_train.shape[1]),f_test,  align=\"center\")\n",
    "plt.xticks(range(X_train.shape[1]),featureNames, rotation = 90)\n",
    "plt.xlabel('features')\n",
    "plt.ylabel('Ranking')\n",
    "plt.title('$F-test$ score')\n",
    "\n",
    "\n",
    "plt.subplot(1,2,2)\n",
    "plt.bar(range(X_train.shape[1]),mi,  align=\"center\")\n",
    "plt.xticks(range(X_train.shape[1]),featureNames, rotation = 90)\n",
    "plt.xlabel('features')\n",
    "plt.ylabel('Ranking')\n",
    "plt.title('Mutual information score')\n",
    "\n",
    "plt.show()"
   ]
  },
  {
   "cell_type": "markdown",
   "metadata": {},
   "source": [
    "A la vista de las graficas y de los valores de f_test y mi las variables que mas estan impactando en la variable objetivo son:\n",
    "- Neighbourhood Cleansed (quitamos la grupal pues como ya habiamos visto esta fuertemente correlada con esta)\n",
    "- Room Type\n",
    "- Accommodates\n",
    "- Bathrooms\n",
    "- Cleaning Fee\n",
    "- Extra People\n",
    "- Minimum Nigths\n",
    "- Availability 30\n",
    "- cancelation Policy\n",
    "\n",
    "Como era de esperar el barrio, el tipo de habitacion y las personas que pueden ocupar la casa son los parametros que mas afectan al precio de la casa.\n",
    "\n",
    "**Me gustaria apuntar aqui que inicialmente habia hecho una prueba haciendo limpieza de la varibale \"Neighbourhood Cleansed\" poniendo en la categoria 'Others' todos aquellos barrios por debajo de una frecuencia determinada y la influencia de esa variable era mucho menor**"
   ]
  },
  {
   "cell_type": "markdown",
   "metadata": {},
   "source": [
    "Por tanto seran estas las variables que usare para testear mis modelos, elimando el resto del dataset de training"
   ]
  },
  {
   "cell_type": "code",
   "execution_count": 39,
   "metadata": {},
   "outputs": [],
   "source": [
    "drop_filtrado = ['Neighbourhood Group Cleansed', 'Property Type','Maximum Nights', 'Number of Reviews', 'Review Scores Rating']\n",
    "X_train.drop(drop_filtrado, axis=1, inplace=True)"
   ]
  },
  {
   "cell_type": "markdown",
   "metadata": {},
   "source": [
    "Por ultimo cambiare el nombre de la variable \"Neighbourhood Group Cleansed\" por \"Barrio\" para que sea mas manejable"
   ]
  },
  {
   "cell_type": "code",
   "execution_count": 40,
   "metadata": {},
   "outputs": [],
   "source": [
    "X_train.rename(columns={'Neighbourhood Cleansed':'Barrio'}, inplace=True)"
   ]
  },
  {
   "cell_type": "code",
   "execution_count": 41,
   "metadata": {},
   "outputs": [
    {
     "data": {
      "text/html": [
       "<div>\n",
       "<style scoped>\n",
       "    .dataframe tbody tr th:only-of-type {\n",
       "        vertical-align: middle;\n",
       "    }\n",
       "\n",
       "    .dataframe tbody tr th {\n",
       "        vertical-align: top;\n",
       "    }\n",
       "\n",
       "    .dataframe thead th {\n",
       "        text-align: right;\n",
       "    }\n",
       "</style>\n",
       "<table border=\"1\" class=\"dataframe\">\n",
       "  <thead>\n",
       "    <tr style=\"text-align: right;\">\n",
       "      <th></th>\n",
       "      <th>Barrio</th>\n",
       "      <th>Room Type</th>\n",
       "      <th>Accommodates</th>\n",
       "      <th>Bathrooms</th>\n",
       "      <th>Cleaning Fee</th>\n",
       "      <th>Extra People</th>\n",
       "      <th>Minimum Nights</th>\n",
       "      <th>Availability 30</th>\n",
       "      <th>Cancellation Policy</th>\n",
       "    </tr>\n",
       "  </thead>\n",
       "  <tbody>\n",
       "    <tr>\n",
       "      <th>count</th>\n",
       "      <td>11248.000000</td>\n",
       "      <td>11248.000000</td>\n",
       "      <td>11248.000000</td>\n",
       "      <td>11248.000000</td>\n",
       "      <td>11248.000000</td>\n",
       "      <td>11248.000000</td>\n",
       "      <td>11248.000000</td>\n",
       "      <td>11248.000000</td>\n",
       "      <td>11248.000000</td>\n",
       "    </tr>\n",
       "    <tr>\n",
       "      <th>mean</th>\n",
       "      <td>62.438122</td>\n",
       "      <td>62.438122</td>\n",
       "      <td>3.133535</td>\n",
       "      <td>1.227179</td>\n",
       "      <td>16.938389</td>\n",
       "      <td>7.451191</td>\n",
       "      <td>2.934655</td>\n",
       "      <td>8.663940</td>\n",
       "      <td>62.438122</td>\n",
       "    </tr>\n",
       "    <tr>\n",
       "      <th>std</th>\n",
       "      <td>18.576971</td>\n",
       "      <td>23.404771</td>\n",
       "      <td>1.835781</td>\n",
       "      <td>0.541396</td>\n",
       "      <td>20.916891</td>\n",
       "      <td>10.309055</td>\n",
       "      <td>12.369022</td>\n",
       "      <td>9.092941</td>\n",
       "      <td>7.343593</td>\n",
       "    </tr>\n",
       "    <tr>\n",
       "      <th>min</th>\n",
       "      <td>17.500000</td>\n",
       "      <td>28.388158</td>\n",
       "      <td>1.000000</td>\n",
       "      <td>0.000000</td>\n",
       "      <td>0.000000</td>\n",
       "      <td>0.000000</td>\n",
       "      <td>1.000000</td>\n",
       "      <td>0.000000</td>\n",
       "      <td>53.291818</td>\n",
       "    </tr>\n",
       "    <tr>\n",
       "      <th>25%</th>\n",
       "      <td>51.193237</td>\n",
       "      <td>33.967326</td>\n",
       "      <td>2.000000</td>\n",
       "      <td>1.000000</td>\n",
       "      <td>0.000000</td>\n",
       "      <td>0.000000</td>\n",
       "      <td>1.000000</td>\n",
       "      <td>0.000000</td>\n",
       "      <td>53.291818</td>\n",
       "    </tr>\n",
       "    <tr>\n",
       "      <th>50%</th>\n",
       "      <td>63.712644</td>\n",
       "      <td>81.535852</td>\n",
       "      <td>2.000000</td>\n",
       "      <td>1.000000</td>\n",
       "      <td>10.000000</td>\n",
       "      <td>0.000000</td>\n",
       "      <td>2.000000</td>\n",
       "      <td>6.000000</td>\n",
       "      <td>61.493943</td>\n",
       "    </tr>\n",
       "    <tr>\n",
       "      <th>75%</th>\n",
       "      <td>69.968485</td>\n",
       "      <td>81.535852</td>\n",
       "      <td>4.000000</td>\n",
       "      <td>1.000000</td>\n",
       "      <td>30.000000</td>\n",
       "      <td>15.000000</td>\n",
       "      <td>3.000000</td>\n",
       "      <td>13.000000</td>\n",
       "      <td>70.453293</td>\n",
       "    </tr>\n",
       "    <tr>\n",
       "      <th>max</th>\n",
       "      <td>198.000000</td>\n",
       "      <td>81.535852</td>\n",
       "      <td>16.000000</td>\n",
       "      <td>8.000000</td>\n",
       "      <td>250.000000</td>\n",
       "      <td>276.000000</td>\n",
       "      <td>1125.000000</td>\n",
       "      <td>30.000000</td>\n",
       "      <td>81.108434</td>\n",
       "    </tr>\n",
       "  </tbody>\n",
       "</table>\n",
       "</div>"
      ],
      "text/plain": [
       "             Barrio     Room Type  Accommodates     Bathrooms  Cleaning Fee  \\\n",
       "count  11248.000000  11248.000000  11248.000000  11248.000000  11248.000000   \n",
       "mean      62.438122     62.438122      3.133535      1.227179     16.938389   \n",
       "std       18.576971     23.404771      1.835781      0.541396     20.916891   \n",
       "min       17.500000     28.388158      1.000000      0.000000      0.000000   \n",
       "25%       51.193237     33.967326      2.000000      1.000000      0.000000   \n",
       "50%       63.712644     81.535852      2.000000      1.000000     10.000000   \n",
       "75%       69.968485     81.535852      4.000000      1.000000     30.000000   \n",
       "max      198.000000     81.535852     16.000000      8.000000    250.000000   \n",
       "\n",
       "       Extra People  Minimum Nights  Availability 30  Cancellation Policy  \n",
       "count  11248.000000    11248.000000     11248.000000         11248.000000  \n",
       "mean       7.451191        2.934655         8.663940            62.438122  \n",
       "std       10.309055       12.369022         9.092941             7.343593  \n",
       "min        0.000000        1.000000         0.000000            53.291818  \n",
       "25%        0.000000        1.000000         0.000000            53.291818  \n",
       "50%        0.000000        2.000000         6.000000            61.493943  \n",
       "75%       15.000000        3.000000        13.000000            70.453293  \n",
       "max      276.000000     1125.000000        30.000000            81.108434  "
      ]
     },
     "execution_count": 41,
     "metadata": {},
     "output_type": "execute_result"
    }
   ],
   "source": [
    "X_train.describe()"
   ]
  },
  {
   "cell_type": "markdown",
   "metadata": {},
   "source": [
    "## Normalizacion\n",
    "Por ultimo llevamos a cabo el escalado mediante StandarEscales\n",
    "Recordemos que para test deberemos usar el scaler obtenido en train\n"
   ]
  },
  {
   "cell_type": "code",
   "execution_count": 42,
   "metadata": {},
   "outputs": [],
   "source": [
    "from sklearn import preprocessing\n",
    "\n",
    "scaler = preprocessing.StandardScaler().fit(X_train)\n",
    "XtrainScaled = scaler.transform(X_train)"
   ]
  },
  {
   "cell_type": "markdown",
   "metadata": {},
   "source": [
    "**Y hasta aqui el analisis exploratorio y la limpieza del dataset, empezamos con las pruebas de los modelos**"
   ]
  },
  {
   "cell_type": "markdown",
   "metadata": {},
   "source": [
    "## Prueba de Modelos"
   ]
  },
  {
   "cell_type": "markdown",
   "metadata": {},
   "source": [
    "Antes de iniciar la evaluacion de modelos, vamos a dejar preparado el **dataset de Test** con las mismas transformaciones que hemos llevado a cao sobre el de Train.\n",
    "Abajo indicamos el listado de dichas transformaciones para no olvidarnos de ninguna:\n",
    "- Lo primero es el dropeo de las variables que no van a participar en el modelo (correlacion y filtrado): drop_corr y drop_filtrado.\n",
    "- Tratamiento de las variables categoricas que influyen en el modelo (filtrado de categorias y Encoder): encoder_room_type y encoder_neigh_group\n",
    "- Tratamiento de NaNs: Bathroom y Cleaning Fee\n"
   ]
  },
  {
   "cell_type": "markdown",
   "metadata": {},
   "source": [
    "Analizamos y limpiamos el dataset de test"
   ]
  },
  {
   "cell_type": "code",
   "execution_count": 43,
   "metadata": {},
   "outputs": [
    {
     "data": {
      "text/plain": [
       "(2812, 29)"
      ]
     },
     "execution_count": 43,
     "metadata": {},
     "output_type": "execute_result"
    }
   ],
   "source": [
    "test = pd.read_csv('./data/test.csv',sep=';', decimal='.')\n",
    "test.shape\n",
    "#test.info()"
   ]
  },
  {
   "cell_type": "code",
   "execution_count": 44,
   "metadata": {},
   "outputs": [
    {
     "name": "stdout",
     "output_type": "stream",
     "text": [
      "Your slelected dataframe has 29 columns.\n",
      "There are 14 columns that have missing values.\n"
     ]
    },
    {
     "data": {
      "text/html": [
       "<div>\n",
       "<style scoped>\n",
       "    .dataframe tbody tr th:only-of-type {\n",
       "        vertical-align: middle;\n",
       "    }\n",
       "\n",
       "    .dataframe tbody tr th {\n",
       "        vertical-align: top;\n",
       "    }\n",
       "\n",
       "    .dataframe thead th {\n",
       "        text-align: right;\n",
       "    }\n",
       "</style>\n",
       "<table border=\"1\" class=\"dataframe\">\n",
       "  <thead>\n",
       "    <tr style=\"text-align: right;\">\n",
       "      <th></th>\n",
       "      <th>Missing Values</th>\n",
       "      <th>% of Total Values</th>\n",
       "    </tr>\n",
       "  </thead>\n",
       "  <tbody>\n",
       "    <tr>\n",
       "      <th>Security Deposit</th>\n",
       "      <td>1659</td>\n",
       "      <td>59.00</td>\n",
       "    </tr>\n",
       "    <tr>\n",
       "      <th>Cleaning Fee</th>\n",
       "      <td>1169</td>\n",
       "      <td>41.57</td>\n",
       "    </tr>\n",
       "    <tr>\n",
       "      <th>Review Scores Location</th>\n",
       "      <td>629</td>\n",
       "      <td>22.37</td>\n",
       "    </tr>\n",
       "    <tr>\n",
       "      <th>Review Scores Value</th>\n",
       "      <td>629</td>\n",
       "      <td>22.37</td>\n",
       "    </tr>\n",
       "    <tr>\n",
       "      <th>Review Scores Checkin</th>\n",
       "      <td>628</td>\n",
       "      <td>22.33</td>\n",
       "    </tr>\n",
       "    <tr>\n",
       "      <th>Review Scores Accuracy</th>\n",
       "      <td>625</td>\n",
       "      <td>22.23</td>\n",
       "    </tr>\n",
       "    <tr>\n",
       "      <th>Review Scores Cleanliness</th>\n",
       "      <td>624</td>\n",
       "      <td>22.19</td>\n",
       "    </tr>\n",
       "    <tr>\n",
       "      <th>Review Scores Communication</th>\n",
       "      <td>623</td>\n",
       "      <td>22.16</td>\n",
       "    </tr>\n",
       "    <tr>\n",
       "      <th>Review Scores Rating</th>\n",
       "      <td>618</td>\n",
       "      <td>21.98</td>\n",
       "    </tr>\n",
       "    <tr>\n",
       "      <th>Reviews per Month</th>\n",
       "      <td>589</td>\n",
       "      <td>20.95</td>\n",
       "    </tr>\n",
       "    <tr>\n",
       "      <th>Neighbourhood Group Cleansed</th>\n",
       "      <td>167</td>\n",
       "      <td>5.94</td>\n",
       "    </tr>\n",
       "    <tr>\n",
       "      <th>Beds</th>\n",
       "      <td>11</td>\n",
       "      <td>0.39</td>\n",
       "    </tr>\n",
       "    <tr>\n",
       "      <th>Bathrooms</th>\n",
       "      <td>10</td>\n",
       "      <td>0.36</td>\n",
       "    </tr>\n",
       "    <tr>\n",
       "      <th>Bedrooms</th>\n",
       "      <td>7</td>\n",
       "      <td>0.25</td>\n",
       "    </tr>\n",
       "  </tbody>\n",
       "</table>\n",
       "</div>"
      ],
      "text/plain": [
       "                              Missing Values  % of Total Values\n",
       "Security Deposit                        1659              59.00\n",
       "Cleaning Fee                            1169              41.57\n",
       "Review Scores Location                   629              22.37\n",
       "Review Scores Value                      629              22.37\n",
       "Review Scores Checkin                    628              22.33\n",
       "Review Scores Accuracy                   625              22.23\n",
       "Review Scores Cleanliness                624              22.19\n",
       "Review Scores Communication              623              22.16\n",
       "Review Scores Rating                     618              21.98\n",
       "Reviews per Month                        589              20.95\n",
       "Neighbourhood Group Cleansed             167               5.94\n",
       "Beds                                      11               0.39\n",
       "Bathrooms                                 10               0.36\n",
       "Bedrooms                                   7               0.25"
      ]
     },
     "execution_count": 44,
     "metadata": {},
     "output_type": "execute_result"
    }
   ],
   "source": [
    "missing_values_table(test)"
   ]
  },
  {
   "cell_type": "markdown",
   "metadata": {},
   "source": [
    "A la vista de los datos de arriba vemos que Price tienen valores NaN(3), por ello deberemos limpiarlos "
   ]
  },
  {
   "cell_type": "code",
   "execution_count": 45,
   "metadata": {},
   "outputs": [],
   "source": [
    "#Dropeamos\n",
    "test.drop(drop_corr, axis=1, inplace=True)\n",
    "test.drop(drop_filtrado, axis=1, inplace=True)\n",
    "\n",
    "#Eliminamos tambien la variable Security Deposit \n",
    "test.drop('Security Deposit', axis=1, inplace=True)\n",
    "\n",
    "#imputamos los valores NaNs del target con la media del train (y_train_mean)\n",
    "media_target_test = np.mean(test['Price'])\n",
    "test['Price'] = test['Price'].fillna(y_train_mean)\n",
    "\n",
    "#Imputamos los NaNs de la misma manera que se hace en Train\n",
    "test['Bathrooms'] = test['Bathrooms'].fillna(mean_bathroom)\n",
    "test['Cleaning Fee'] = test['Cleaning Fee'].fillna(0)\n",
    "\n",
    "\n",
    "#Aplicamos el Mean Encoder a \"Room Type\", \"Neighbourhood Cleansed\" y \"Cancellation Policy\"  el obtenido en train, si aparece alguna categoria nueva en test\n",
    "#lo trataremos a posteriori\n",
    "#mean_encode_room_type_test = test.groupby('Room Type')['Price'].mean()\n",
    "#mean_encode_neigh_test = test.groupby('Neighbourhood Cleansed')['Price'].mean()\n",
    "#mean_encode_cancellation_policy_test = test.groupby('Cancellation Policy')['Price'].mean()\n",
    "test.loc[:,'Room Type'] = test['Room Type'].map(mean_encode_room_type)\n",
    "test.loc[:,'Neighbourhood Cleansed'] = test['Neighbourhood Cleansed'].map(mean_encode_neigh)\n",
    "test.loc[:,'Cancellation Policy'] = test['Cancellation Policy'].map(mean_encode_cancellation_policy)\n",
    "\n",
    "\n",
    "#Por ultimo cambiamos el nombre de la variable a Barrio\n",
    "test.rename(columns={'Neighbourhood Cleansed':'Barrio'}, inplace=True)\n"
   ]
  },
  {
   "cell_type": "code",
   "execution_count": 46,
   "metadata": {
    "scrolled": false
   },
   "outputs": [
    {
     "name": "stdout",
     "output_type": "stream",
     "text": [
      "Your slelected dataframe has 10 columns.\n",
      "There are 2 columns that have missing values.\n"
     ]
    },
    {
     "data": {
      "text/html": [
       "<div>\n",
       "<style scoped>\n",
       "    .dataframe tbody tr th:only-of-type {\n",
       "        vertical-align: middle;\n",
       "    }\n",
       "\n",
       "    .dataframe tbody tr th {\n",
       "        vertical-align: top;\n",
       "    }\n",
       "\n",
       "    .dataframe thead th {\n",
       "        text-align: right;\n",
       "    }\n",
       "</style>\n",
       "<table border=\"1\" class=\"dataframe\">\n",
       "  <thead>\n",
       "    <tr style=\"text-align: right;\">\n",
       "      <th></th>\n",
       "      <th>Missing Values</th>\n",
       "      <th>% of Total Values</th>\n",
       "    </tr>\n",
       "  </thead>\n",
       "  <tbody>\n",
       "    <tr>\n",
       "      <th>Barrio</th>\n",
       "      <td>26</td>\n",
       "      <td>0.92</td>\n",
       "    </tr>\n",
       "    <tr>\n",
       "      <th>Cancellation Policy</th>\n",
       "      <td>22</td>\n",
       "      <td>0.78</td>\n",
       "    </tr>\n",
       "  </tbody>\n",
       "</table>\n",
       "</div>"
      ],
      "text/plain": [
       "                     Missing Values  % of Total Values\n",
       "Barrio                           26               0.92\n",
       "Cancellation Policy              22               0.78"
      ]
     },
     "execution_count": 46,
     "metadata": {},
     "output_type": "execute_result"
    }
   ],
   "source": [
    "missing_values_table(test)"
   ]
  },
  {
   "cell_type": "markdown",
   "metadata": {},
   "source": [
    "Como quedan valores nulos en Barrio y Cancellation Policy debido a aplicar sobre ellas el Mean Encoding de train, lo rellenaremos con la media de las medias obtenidas para esas categoria"
   ]
  },
  {
   "cell_type": "code",
   "execution_count": 47,
   "metadata": {},
   "outputs": [
    {
     "data": {
      "text/plain": [
       "66.58687189537717"
      ]
     },
     "execution_count": 47,
     "metadata": {},
     "output_type": "execute_result"
    }
   ],
   "source": [
    "mean_mean_encode_neigh = np.mean(mean_encode_neigh)\n",
    "mean_mean_encode_cancellation_policy = np.mean(mean_encode_cancellation_policy)\n",
    "mean_mean_encode_cancellation_policy"
   ]
  },
  {
   "cell_type": "code",
   "execution_count": 48,
   "metadata": {},
   "outputs": [],
   "source": [
    "test['Barrio'].fillna(mean_mean_encode_neigh, inplace=True)\n",
    "test['Cancellation Policy'].fillna(mean_mean_encode_cancellation_policy, inplace=True)"
   ]
  },
  {
   "cell_type": "code",
   "execution_count": 49,
   "metadata": {},
   "outputs": [
    {
     "name": "stdout",
     "output_type": "stream",
     "text": [
      "<class 'pandas.core.frame.DataFrame'>\n",
      "RangeIndex: 2812 entries, 0 to 2811\n",
      "Data columns (total 10 columns):\n",
      "Barrio                 2812 non-null float64\n",
      "Room Type              2812 non-null float64\n",
      "Accommodates           2812 non-null int64\n",
      "Bathrooms              2812 non-null float64\n",
      "Price                  2812 non-null float64\n",
      "Cleaning Fee           2812 non-null float64\n",
      "Extra People           2812 non-null int64\n",
      "Minimum Nights         2812 non-null int64\n",
      "Availability 30        2812 non-null int64\n",
      "Cancellation Policy    2812 non-null float64\n",
      "dtypes: float64(6), int64(4)\n",
      "memory usage: 219.8 KB\n"
     ]
    }
   ],
   "source": [
    "test.info()"
   ]
  },
  {
   "cell_type": "markdown",
   "metadata": {},
   "source": [
    "Separamos la variable objetivo del tets"
   ]
  },
  {
   "cell_type": "code",
   "execution_count": 50,
   "metadata": {},
   "outputs": [],
   "source": [
    "y_test = test['Price']\n",
    "X_test= test.drop(['Price'], axis=1)"
   ]
  },
  {
   "cell_type": "code",
   "execution_count": 51,
   "metadata": {},
   "outputs": [
    {
     "data": {
      "text/html": [
       "<div>\n",
       "<style scoped>\n",
       "    .dataframe tbody tr th:only-of-type {\n",
       "        vertical-align: middle;\n",
       "    }\n",
       "\n",
       "    .dataframe tbody tr th {\n",
       "        vertical-align: top;\n",
       "    }\n",
       "\n",
       "    .dataframe thead th {\n",
       "        text-align: right;\n",
       "    }\n",
       "</style>\n",
       "<table border=\"1\" class=\"dataframe\">\n",
       "  <thead>\n",
       "    <tr style=\"text-align: right;\">\n",
       "      <th></th>\n",
       "      <th>Barrio</th>\n",
       "      <th>Room Type</th>\n",
       "      <th>Accommodates</th>\n",
       "      <th>Bathrooms</th>\n",
       "      <th>Cleaning Fee</th>\n",
       "      <th>Extra People</th>\n",
       "      <th>Minimum Nights</th>\n",
       "      <th>Availability 30</th>\n",
       "      <th>Cancellation Policy</th>\n",
       "    </tr>\n",
       "  </thead>\n",
       "  <tbody>\n",
       "    <tr>\n",
       "      <th>0</th>\n",
       "      <td>56.500000</td>\n",
       "      <td>81.535852</td>\n",
       "      <td>3</td>\n",
       "      <td>1.0</td>\n",
       "      <td>19.0</td>\n",
       "      <td>0</td>\n",
       "      <td>1</td>\n",
       "      <td>17</td>\n",
       "      <td>61.493943</td>\n",
       "    </tr>\n",
       "    <tr>\n",
       "      <th>1</th>\n",
       "      <td>65.233826</td>\n",
       "      <td>81.535852</td>\n",
       "      <td>4</td>\n",
       "      <td>1.0</td>\n",
       "      <td>50.0</td>\n",
       "      <td>0</td>\n",
       "      <td>5</td>\n",
       "      <td>4</td>\n",
       "      <td>70.453293</td>\n",
       "    </tr>\n",
       "    <tr>\n",
       "      <th>2</th>\n",
       "      <td>68.653846</td>\n",
       "      <td>81.535852</td>\n",
       "      <td>4</td>\n",
       "      <td>1.0</td>\n",
       "      <td>30.0</td>\n",
       "      <td>0</td>\n",
       "      <td>1</td>\n",
       "      <td>0</td>\n",
       "      <td>70.453293</td>\n",
       "    </tr>\n",
       "    <tr>\n",
       "      <th>3</th>\n",
       "      <td>34.795031</td>\n",
       "      <td>33.967326</td>\n",
       "      <td>2</td>\n",
       "      <td>1.0</td>\n",
       "      <td>0.0</td>\n",
       "      <td>0</td>\n",
       "      <td>1</td>\n",
       "      <td>19</td>\n",
       "      <td>70.453293</td>\n",
       "    </tr>\n",
       "    <tr>\n",
       "      <th>4</th>\n",
       "      <td>52.830189</td>\n",
       "      <td>81.535852</td>\n",
       "      <td>7</td>\n",
       "      <td>1.0</td>\n",
       "      <td>30.0</td>\n",
       "      <td>17</td>\n",
       "      <td>1</td>\n",
       "      <td>21</td>\n",
       "      <td>70.453293</td>\n",
       "    </tr>\n",
       "    <tr>\n",
       "      <th>...</th>\n",
       "      <td>...</td>\n",
       "      <td>...</td>\n",
       "      <td>...</td>\n",
       "      <td>...</td>\n",
       "      <td>...</td>\n",
       "      <td>...</td>\n",
       "      <td>...</td>\n",
       "      <td>...</td>\n",
       "      <td>...</td>\n",
       "    </tr>\n",
       "    <tr>\n",
       "      <th>2807</th>\n",
       "      <td>68.176759</td>\n",
       "      <td>33.967326</td>\n",
       "      <td>2</td>\n",
       "      <td>1.0</td>\n",
       "      <td>0.0</td>\n",
       "      <td>10</td>\n",
       "      <td>1</td>\n",
       "      <td>0</td>\n",
       "      <td>70.453293</td>\n",
       "    </tr>\n",
       "    <tr>\n",
       "      <th>2808</th>\n",
       "      <td>68.176759</td>\n",
       "      <td>81.535852</td>\n",
       "      <td>2</td>\n",
       "      <td>1.0</td>\n",
       "      <td>10.0</td>\n",
       "      <td>0</td>\n",
       "      <td>1</td>\n",
       "      <td>0</td>\n",
       "      <td>53.291818</td>\n",
       "    </tr>\n",
       "    <tr>\n",
       "      <th>2809</th>\n",
       "      <td>65.233826</td>\n",
       "      <td>81.535852</td>\n",
       "      <td>2</td>\n",
       "      <td>1.0</td>\n",
       "      <td>30.0</td>\n",
       "      <td>0</td>\n",
       "      <td>5</td>\n",
       "      <td>5</td>\n",
       "      <td>70.453293</td>\n",
       "    </tr>\n",
       "    <tr>\n",
       "      <th>2810</th>\n",
       "      <td>60.264706</td>\n",
       "      <td>33.967326</td>\n",
       "      <td>2</td>\n",
       "      <td>1.0</td>\n",
       "      <td>0.0</td>\n",
       "      <td>0</td>\n",
       "      <td>2</td>\n",
       "      <td>12</td>\n",
       "      <td>70.453293</td>\n",
       "    </tr>\n",
       "    <tr>\n",
       "      <th>2811</th>\n",
       "      <td>88.809091</td>\n",
       "      <td>81.535852</td>\n",
       "      <td>4</td>\n",
       "      <td>2.0</td>\n",
       "      <td>100.0</td>\n",
       "      <td>0</td>\n",
       "      <td>5</td>\n",
       "      <td>8</td>\n",
       "      <td>70.453293</td>\n",
       "    </tr>\n",
       "  </tbody>\n",
       "</table>\n",
       "<p>2812 rows × 9 columns</p>\n",
       "</div>"
      ],
      "text/plain": [
       "         Barrio  Room Type  Accommodates  Bathrooms  Cleaning Fee  \\\n",
       "0     56.500000  81.535852             3        1.0          19.0   \n",
       "1     65.233826  81.535852             4        1.0          50.0   \n",
       "2     68.653846  81.535852             4        1.0          30.0   \n",
       "3     34.795031  33.967326             2        1.0           0.0   \n",
       "4     52.830189  81.535852             7        1.0          30.0   \n",
       "...         ...        ...           ...        ...           ...   \n",
       "2807  68.176759  33.967326             2        1.0           0.0   \n",
       "2808  68.176759  81.535852             2        1.0          10.0   \n",
       "2809  65.233826  81.535852             2        1.0          30.0   \n",
       "2810  60.264706  33.967326             2        1.0           0.0   \n",
       "2811  88.809091  81.535852             4        2.0         100.0   \n",
       "\n",
       "      Extra People  Minimum Nights  Availability 30  Cancellation Policy  \n",
       "0                0               1               17            61.493943  \n",
       "1                0               5                4            70.453293  \n",
       "2                0               1                0            70.453293  \n",
       "3                0               1               19            70.453293  \n",
       "4               17               1               21            70.453293  \n",
       "...            ...             ...              ...                  ...  \n",
       "2807            10               1                0            70.453293  \n",
       "2808             0               1                0            53.291818  \n",
       "2809             0               5                5            70.453293  \n",
       "2810             0               2               12            70.453293  \n",
       "2811             0               5                8            70.453293  \n",
       "\n",
       "[2812 rows x 9 columns]"
      ]
     },
     "execution_count": 51,
     "metadata": {},
     "output_type": "execute_result"
    }
   ],
   "source": [
    "X_test"
   ]
  },
  {
   "cell_type": "markdown",
   "metadata": {},
   "source": [
    "Normalizamos los datos de Test"
   ]
  },
  {
   "cell_type": "code",
   "execution_count": 52,
   "metadata": {},
   "outputs": [],
   "source": [
    "XtestScaled = scaler.transform(X_test)"
   ]
  },
  {
   "cell_type": "markdown",
   "metadata": {},
   "source": [
    "## Ridge Model\n",
    "Por convenio se recomienda empezar con una regresion regularizada tipo Ridge"
   ]
  },
  {
   "cell_type": "code",
   "execution_count": 53,
   "metadata": {
    "scrolled": false
   },
   "outputs": [
    {
     "name": "stdout",
     "output_type": "stream",
     "text": [
      "Valores de alpha: [  0.1          0.14384499   0.20691381   0.29763514   0.42813324\n",
      "   0.61584821   0.88586679   1.27427499   1.83298071   2.6366509\n",
      "   3.79269019   5.45559478   7.8475997   11.28837892  16.23776739\n",
      "  23.35721469  33.59818286  48.32930239  69.51927962 100.        ]\n",
      "best mean cross-validation score: -555.701\n",
      "best parameters: {'alpha': 48.32930238571752}\n"
     ]
    },
    {
     "data": {
      "image/png": "[encoded data removed]",
      "text/plain": [
       "<Figure size 432x288 with 1 Axes>"
      ]
     },
     "metadata": {
      "needs_background": "light"
     },
     "output_type": "display_data"
    }
   ],
   "source": [
    "from sklearn.model_selection import GridSearchCV\n",
    "from sklearn.linear_model import Ridge\n",
    "\n",
    "\n",
    "alpha_vector = np.logspace(-1,2,20)\n",
    "param_grid = {'alpha': alpha_vector }\n",
    "print(f'Valores de alpha: {alpha_vector}')\n",
    "grid = GridSearchCV(Ridge(), scoring= 'neg_mean_squared_error', param_grid=param_grid, cv = 5)\n",
    "grid.fit(XtrainScaled, y_train)\n",
    "print(\"best mean cross-validation score: {:.3f}\".format(grid.best_score_))\n",
    "print(\"best parameters: {}\".format(grid.best_params_))\n",
    "\n",
    "scores = -1*np.array(grid.cv_results_['mean_test_score'])\n",
    "plt.semilogx(alpha_vector,scores,'-o')\n",
    "plt.xlabel('alpha',fontsize=16)\n",
    "plt.ylabel('5-Fold MSE')\n",
    "#plt.ylim((0, 1))\n",
    "plt.show()"
   ]
  },
  {
   "cell_type": "markdown",
   "metadata": {},
   "source": [
    "Entrenamos el modelo ahora con el valor óptimo de $\\alpha$ que hemos encontrado con validación cruzada."
   ]
  },
  {
   "cell_type": "code",
   "execution_count": 54,
   "metadata": {
    "scrolled": true
   },
   "outputs": [
    {
     "name": "stdout",
     "output_type": "stream",
     "text": [
      "MSE Modelo Ridge (train): 554\n",
      "MSE Modelo Ridge (test) : 556\n",
      "RMSE Modelo Ridge (train): 23.5\n",
      "RMSE Modelo Ridge (test) : 23.6\n",
      "Barrio 10.903286961971306\n",
      "Room Type 13.250872082003186\n",
      "Accommodates 11.055682223585059\n",
      "Bathrooms 3.977621036694197\n",
      "Cleaning Fee 6.092639423853135\n",
      "Extra People -1.3085771933237538\n",
      "Minimum Nights -0.3425454213022323\n",
      "Availability 30 3.4644806465346702\n",
      "Cancellation Policy -2.000382694495949\n"
     ]
    }
   ],
   "source": [
    "from sklearn.metrics import mean_squared_error\n",
    "\n",
    "alpha_optimo = grid.best_params_['alpha']\n",
    "ridge = Ridge(alpha = alpha_optimo).fit(XtrainScaled,y_train)\n",
    "\n",
    "ytrainRidge = ridge.predict(XtrainScaled)\n",
    "ytestRidge  = ridge.predict(XtestScaled)\n",
    "mseTrainModelRidge = mean_squared_error(y_train,ytrainRidge)\n",
    "mseTestModelRidge = mean_squared_error(y_test,ytestRidge)\n",
    "\n",
    "print('MSE Modelo Ridge (train): %0.3g' % mseTrainModelRidge)\n",
    "print('MSE Modelo Ridge (test) : %0.3g' % mseTestModelRidge)\n",
    "\n",
    "print('RMSE Modelo Ridge (train): %0.3g' % np.sqrt(mseTrainModelRidge))\n",
    "print('RMSE Modelo Ridge (test) : %0.3g' % np.sqrt(mseTestModelRidge))\n",
    "\n",
    "feature_names = X_test.columns[0:]\n",
    "w = ridge.coef_\n",
    "for f,wi in zip(feature_names,w):\n",
    "    print(f,wi)"
   ]
  },
  {
   "cell_type": "markdown",
   "metadata": {},
   "source": [
    "## Lasso Model"
   ]
  },
  {
   "cell_type": "code",
   "execution_count": 55,
   "metadata": {},
   "outputs": [
    {
     "name": "stdout",
     "output_type": "stream",
     "text": [
      "best mean cross-validation score: -555.568\n",
      "best parameters: {'alpha': 0.01}\n"
     ]
    },
    {
     "data": {
      "image/png": "[encoded data removed]",
      "text/plain": [
       "<Figure size 432x288 with 1 Axes>"
      ]
     },
     "metadata": {
      "needs_background": "light"
     },
     "output_type": "display_data"
    }
   ],
   "source": [
    "from sklearn.model_selection import GridSearchCV\n",
    "from sklearn.linear_model import Lasso\n",
    "\n",
    "alpha_vector = np.logspace(-2,2,20)\n",
    "param_grid = {'alpha': alpha_vector }\n",
    "grid = GridSearchCV(Lasso(), scoring= 'neg_mean_squared_error', param_grid=param_grid, cv = 10)\n",
    "grid.fit(XtrainScaled, y_train)\n",
    "print(\"best mean cross-validation score: {:.3f}\".format(grid.best_score_))\n",
    "print(\"best parameters: {}\".format(grid.best_params_))\n",
    "\n",
    "#-1 porque es negado\n",
    "scores = -1*np.array(grid.cv_results_['mean_test_score'])\n",
    "plt.semilogx(alpha_vector,scores,'-o')\n",
    "plt.xlabel('alpha',fontsize=16)\n",
    "plt.ylabel('5-Fold MSE')\n",
    "plt.show()"
   ]
  },
  {
   "cell_type": "code",
   "execution_count": 56,
   "metadata": {
    "scrolled": true
   },
   "outputs": [
    {
     "name": "stdout",
     "output_type": "stream",
     "text": [
      "MSE Modelo Lasso (train): 554\n",
      "MSE Modelo Lasso (test) : 556\n",
      "RMSE Modelo Lasso (train): 23.5\n",
      "RMSE Modelo Lasso (test) : 23.6\n",
      "Barrio 10.930623129139224\n",
      "Room Type 13.293014097048271\n",
      "Accommodates 11.071273295560584\n",
      "Bathrooms 3.9806087058203876\n",
      "Cleaning Fee 6.083438489003092\n",
      "Extra People -1.3128756422679293\n",
      "Minimum Nights -0.33399955659916536\n",
      "Availability 30 3.480979755173646\n",
      "Cancellation Policy -2.013242077684464\n"
     ]
    }
   ],
   "source": [
    "from sklearn.metrics import mean_squared_error\n",
    "\n",
    "alpha_optimo = grid.best_params_['alpha']\n",
    "lasso = Lasso(alpha = alpha_optimo).fit(XtrainScaled,y_train)\n",
    "\n",
    "ytrainLasso = lasso.predict(XtrainScaled)\n",
    "ytestLasso  = lasso.predict(XtestScaled)\n",
    "mseTrainModelLasso = mean_squared_error(y_train,ytrainLasso)\n",
    "mseTestModelLasso = mean_squared_error(y_test,ytestLasso)\n",
    "\n",
    "print('MSE Modelo Lasso (train): %0.3g' % mseTrainModelLasso)\n",
    "print('MSE Modelo Lasso (test) : %0.3g' % mseTestModelLasso)\n",
    "\n",
    "print('RMSE Modelo Lasso (train): %0.3g' % np.sqrt(mseTrainModelLasso))\n",
    "print('RMSE Modelo Lasso (test) : %0.3g' % np.sqrt(mseTestModelLasso))\n",
    "\n",
    "feature_names = X_train.columns[0:]\n",
    "w = lasso.coef_\n",
    "for f,wi in zip(feature_names,w):\n",
    "    print(f,wi)"
   ]
  },
  {
   "cell_type": "markdown",
   "metadata": {},
   "source": [
    "**Como vemos, tanto los valores de Ridge como los de Lasso son muy parecidos **"
   ]
  },
  {
   "cell_type": "code",
   "execution_count": 57,
   "metadata": {},
   "outputs": [
    {
     "data": {
      "image/png": "[encoded data removed]",
      "text/plain": [
       "<Figure size 432x288 with 1 Axes>"
      ]
     },
     "metadata": {
      "needs_background": "light"
     },
     "output_type": "display_data"
    }
   ],
   "source": [
    "plt.hist(np.log10(y_train), bins=10)\n",
    "plt.show()"
   ]
  },
  {
   "cell_type": "markdown",
   "metadata": {},
   "source": [
    "A la vista de esta distribucion no parece que pueda tener mucho sentido aplicar una transformacion logaritmica"
   ]
  },
  {
   "cell_type": "markdown",
   "metadata": {},
   "source": [
    "Antes de pasar a probar con un random Forest voy a hacer una ultima prueba con Lasso y una regresion polinomica de grado 3. A fin de cuentas, se ha visto en el filtrado de caracteristicas que hay bastante dependencia no lineal de ciertas caracteristicas por lo que el modelo podria funcionar mejor.\n"
   ]
  },
  {
   "cell_type": "code",
   "execution_count": 58,
   "metadata": {},
   "outputs": [],
   "source": [
    "from sklearn.preprocessing import PolynomialFeatures\n",
    "from sklearn.linear_model import LinearRegression \n",
    "\n",
    "degree = 3\n",
    "\n",
    "# features\n",
    "poly    = PolynomialFeatures(degree) # generamos x^j\n",
    "X_train_poly = poly.fit_transform(X_train.values.reshape(-1, 9))\n",
    "\n",
    "X_test_poly = poly.fit_transform(X_test.values.reshape(-1, 9))\n"
   ]
  },
  {
   "cell_type": "code",
   "execution_count": 59,
   "metadata": {},
   "outputs": [
    {
     "data": {
      "text/plain": [
       "220"
      ]
     },
     "execution_count": 59,
     "metadata": {},
     "output_type": "execute_result"
    }
   ],
   "source": [
    "len(X_train_poly[0])"
   ]
  },
  {
   "cell_type": "markdown",
   "metadata": {},
   "source": [
    "**Normalizamos**"
   ]
  },
  {
   "cell_type": "code",
   "execution_count": 60,
   "metadata": {},
   "outputs": [],
   "source": [
    "scaler_poly = preprocessing.StandardScaler().fit(X_train_poly)\n",
    "XtrainScaled_poly = scaler_poly.transform(X_train_poly)\n",
    "XtestScaled_poly = scaler_poly.transform(X_test_poly)"
   ]
  },
  {
   "cell_type": "code",
   "execution_count": 61,
   "metadata": {},
   "outputs": [
    {
     "data": {
      "text/plain": [
       "(11248, 9)"
      ]
     },
     "execution_count": 61,
     "metadata": {},
     "output_type": "execute_result"
    }
   ],
   "source": [
    "XtrainScaled.shape"
   ]
  },
  {
   "cell_type": "markdown",
   "metadata": {},
   "source": [
    "**Parametros optimos mediante GridSearchCV**"
   ]
  },
  {
   "cell_type": "code",
   "execution_count": 62,
   "metadata": {
    "scrolled": true
   },
   "outputs": [
    {
     "name": "stderr",
     "output_type": "stream",
     "text": [
      "C:\\Users\\Texelia\\Anaconda3\\lib\\site-packages\\sklearn\\model_selection\\_search.py:814: DeprecationWarning: The default of the `iid` parameter will change from True to False in version 0.22 and will be removed in 0.24. This will change numeric results when test-set sizes are unequal.\n",
      "  DeprecationWarning)\n"
     ]
    },
    {
     "name": "stdout",
     "output_type": "stream",
     "text": [
      "best mean cross-validation score: -474.584\n",
      "best parameters: {'alpha': 0.05736152510448681}\n"
     ]
    },
    {
     "data": {
      "image/png": "[encoded data removed]",
      "text/plain": [
       "<Figure size 432x288 with 1 Axes>"
      ]
     },
     "metadata": {
      "needs_background": "light"
     },
     "output_type": "display_data"
    }
   ],
   "source": [
    "alpha_vector = np.logspace(-4,1,30)\n",
    "param_grid = {'alpha': alpha_vector }\n",
    "grid = GridSearchCV(Lasso(), scoring= 'neg_mean_squared_error', param_grid=param_grid, cv = 10)\n",
    "grid.fit(XtrainScaled_poly, y_train)\n",
    "print(\"best mean cross-validation score: {:.3f}\".format(grid.best_score_))\n",
    "print(\"best parameters: {}\".format(grid.best_params_))\n",
    "\n",
    "#-1 porque es negado\n",
    "scores = -1*np.array(grid.cv_results_['mean_test_score'])\n",
    "plt.semilogx(alpha_vector,scores,'-o')\n",
    "plt.xlabel('alpha',fontsize=16)\n",
    "plt.ylabel('5-Fold MSE')\n",
    "plt.show()"
   ]
  },
  {
   "cell_type": "code",
   "execution_count": 63,
   "metadata": {},
   "outputs": [
    {
     "data": {
      "text/plain": [
       "0.05736152510448681"
      ]
     },
     "execution_count": 63,
     "metadata": {},
     "output_type": "execute_result"
    }
   ],
   "source": [
    "grid.best_params_['alpha']"
   ]
  },
  {
   "cell_type": "markdown",
   "metadata": {},
   "source": [
    "**Por ultimo y usando el alpha optimo obtenido en el apartado anterior, entrenamos el modelo**"
   ]
  },
  {
   "cell_type": "code",
   "execution_count": 64,
   "metadata": {
    "scrolled": true
   },
   "outputs": [
    {
     "name": "stdout",
     "output_type": "stream",
     "text": [
      "MSE Modelo Lasso (train): 449\n",
      "MSE Modelo Lasso (test) : 455\n",
      "RMSE Modelo Lasso (train): 21.2\n",
      "RMSE Modelo Lasso (test) : 21.3\n",
      "Room Type 0.0\n",
      "Accommodates 8.321879629523425\n",
      "Bathrooms -0.0\n",
      "Cleaning Fee 12.454501793823377\n",
      "Extra People -0.27364294840118614\n",
      "Minimum Nights 0.0\n",
      "Availability 30 -3.9966986832191087\n",
      "Cancellation Policy 0.0\n"
     ]
    }
   ],
   "source": [
    "alpha_optimo = grid.best_params_['alpha']\n",
    "lasso = Lasso(alpha = alpha_optimo).fit(XtrainScaled_poly,y_train)\n",
    "\n",
    "ytrainLasso = lasso.predict(XtrainScaled_poly)\n",
    "ytestLasso  = lasso.predict(XtestScaled_poly)\n",
    "mseTrainModelLasso = mean_squared_error(y_train,ytrainLasso)\n",
    "mseTestModelLasso = mean_squared_error(y_test,ytestLasso)\n",
    "\n",
    "print('MSE Modelo Lasso (train): %0.3g' % mseTrainModelLasso)\n",
    "print('MSE Modelo Lasso (test) : %0.3g' % mseTestModelLasso)\n",
    "\n",
    "print('RMSE Modelo Lasso (train): %0.3g' % np.sqrt(mseTrainModelLasso))\n",
    "print('RMSE Modelo Lasso (test) : %0.3g' % np.sqrt(mseTestModelLasso))\n",
    "\n",
    "feature_names = X_train.columns[1:]\n",
    "w = lasso.coef_\n",
    "for f,wi in zip(feature_names,w):\n",
    "    print(f,wi)"
   ]
  },
  {
   "cell_type": "markdown",
   "metadata": {},
   "source": [
    "**Vemos que obtenemos datos aun mejores con la regresion polinomica**"
   ]
  },
  {
   "cell_type": "markdown",
   "metadata": {},
   "source": [
    "## Random Forest"
   ]
  },
  {
   "cell_type": "markdown",
   "metadata": {},
   "source": [
    "Hacemos primero el Crossvalidation con GridSearchCV, para encotrar los parametros libres optimos"
   ]
  },
  {
   "cell_type": "code",
   "execution_count": 65,
   "metadata": {
    "scrolled": true
   },
   "outputs": [
    {
     "name": "stdout",
     "output_type": "stream",
     "text": [
      "best mean cross-validation score: 0.723\n",
      "best parameters: {'max_depth': 14}\n"
     ]
    },
    {
     "data": {
      "image/png": "[encoded data removed]",
      "text/plain": [
       "<Figure size 432x288 with 1 Axes>"
      ]
     },
     "metadata": {
      "needs_background": "light"
     },
     "output_type": "display_data"
    }
   ],
   "source": [
    "from sklearn.ensemble import RandomForestRegressor\n",
    "from sklearn.model_selection import GridSearchCV\n",
    "\n",
    "# grid search\n",
    "maxDepth = range(1,15)\n",
    "tuned_parameters = {'max_depth': maxDepth}\n",
    "\n",
    "grid = GridSearchCV(RandomForestRegressor(random_state=0, n_estimators=200, max_features='sqrt'), param_grid=tuned_parameters,cv=10) \n",
    "grid.fit(X_train, y_train)\n",
    "\n",
    "print(\"best mean cross-validation score: {:.3f}\".format(grid.best_score_))\n",
    "print(\"best parameters: {}\".format(grid.best_params_))\n",
    "\n",
    "scores = np.array(grid.cv_results_['mean_test_score'])\n",
    "plt.plot(maxDepth,scores,'-o')\n",
    "plt.xlabel('max_depth')\n",
    "plt.ylabel('10-fold ACC')\n",
    "\n",
    "plt.show()"
   ]
  },
  {
   "cell_type": "markdown",
   "metadata": {},
   "source": [
    "Entrenamos nuestro modelo con el parametro libre optimo obtenido en el paso anterior"
   ]
  },
  {
   "cell_type": "code",
   "execution_count": 66,
   "metadata": {},
   "outputs": [
    {
     "name": "stdout",
     "output_type": "stream",
     "text": [
      "Score Train:  0.7432614339205508\n",
      "Score Test:  0.6847716637615916\n"
     ]
    }
   ],
   "source": [
    "maxDepthOptimo = grid.best_params_['max_depth']\n",
    "bagModel = RandomForestRegressor(max_depth=8,n_estimators=200,max_features='sqrt').fit(X_train,y_train)\n",
    "\n",
    "print(\"Score Train: \",bagModel.score(X_train,y_train))\n",
    "print(\"Score Test: \",bagModel.score(X_test,y_test))"
   ]
  },
  {
   "cell_type": "markdown",
   "metadata": {},
   "source": [
    "**Analizamos ahora las caracteristicas mas relevantes para nuestro modelo**"
   ]
  },
  {
   "cell_type": "code",
   "execution_count": 67,
   "metadata": {
    "scrolled": false
   },
   "outputs": [
    {
     "data": {
      "image/png": "[encoded data removed]",
      "text/plain": [
       "<Figure size 720x720 with 1 Axes>"
      ]
     },
     "metadata": {
      "needs_background": "light"
     },
     "output_type": "display_data"
    }
   ],
   "source": [
    "# Tu código aquí\n",
    "importances = bagModel.feature_importances_\n",
    "importances = importances / np.max(importances)\n",
    "\n",
    "feature_names = X_train.columns[0:]\n",
    "indices = np.argsort(importances)[::-1]\n",
    "\n",
    "plt.figure(figsize=(10,10))\n",
    "plt.barh(range(X_train.shape[1]),importances[indices])\n",
    "plt.yticks(range(X_train.shape[1]),feature_names[indices])\n",
    "plt.show()"
   ]
  },
  {
   "cell_type": "markdown",
   "metadata": {},
   "source": [
    "**Como vemos las caracteristicas mas relevantes siguen practicamente el mismo orden que lo que habiamos obtenido \n",
    "mas arriba en las tareas de regularizacion**"
   ]
  },
  {
   "cell_type": "markdown",
   "metadata": {},
   "source": [
    "Me permito por ultimo copiar esto para tenerlo todo en un unico notebook"
   ]
  },
  {
   "cell_type": "code",
   "execution_count": 68,
   "metadata": {
    "scrolled": true
   },
   "outputs": [
    {
     "name": "stdout",
     "output_type": "stream",
     "text": [
      "R^2 en datos de test: 0.653\n",
      "Mediana del error en datos de test: 9.7\n",
      "Media del error en datos de test: 14.701\n"
     ]
    }
   ],
   "source": [
    "from sklearn.ensemble import RandomForestRegressor\n",
    "from sklearn.metrics import mean_absolute_error\n",
    "from sklearn.metrics import median_absolute_error\n",
    "\n",
    "rf = RandomForestRegressor(oob_score = True)\n",
    "rf.fit(X_train, y_train)\n",
    "\n",
    "y_predict = rf.predict(X_test)\n",
    "rf_testing_set_score = rf.score(X_test, y_test)\n",
    "rf_median_abs_error = median_absolute_error(y_test, y_predict)\n",
    "rf_mean_abs_error = mean_absolute_error(y_test, y_predict)\n",
    "print('R^2 en datos de test: ' + str(round(rf_testing_set_score,3)))\n",
    "print('Mediana del error en datos de test: ' + str(round(rf_median_abs_error,3)))\n",
    "print('Media del error en datos de test: ' + str(round(rf_mean_abs_error,3)))"
   ]
  },
  {
   "cell_type": "code",
   "execution_count": 69,
   "metadata": {},
   "outputs": [
    {
     "name": "stdout",
     "output_type": "stream",
     "text": [
      "Mejores parámetros: {'n_estimators': 1000}\n",
      "R^2 en datos de test: 0.653\n",
      "Mediana del error en datos de test: 9.7\n",
      "Media del error en datos de test: 14.17\n"
     ]
    }
   ],
   "source": [
    "tuned_parameters = {\n",
    "    \"n_estimators\": [100, 500, 1000, 2000]\n",
    "}\n",
    "\n",
    "rf_tuned = GridSearchCV(RandomForestRegressor(), cv = 3, param_grid = tuned_parameters)\n",
    "\n",
    "preds = rf_tuned.fit(X_train, y_train)\n",
    "best = rf_tuned.best_estimator_ \n",
    "y_predict = rf_tuned.predict(X_test)\n",
    "rft_testing_set_score = rf_tuned.score(X_test, y_test)\n",
    "rft_median_abs_error = median_absolute_error(y_test, y_predict)\n",
    "rf_mean_abs_error = mean_absolute_error(y_test, y_predict)\n",
    "\n",
    "print('Mejores parámetros:', rf_tuned.best_params_)\n",
    "print('R^2 en datos de test: ' + str(round(rf_testing_set_score,3)))\n",
    "print('Mediana del error en datos de test: ' + str(round(rf_median_abs_error,3)))\n",
    "print('Media del error en datos de test: ' + str(round(rf_mean_abs_error,3)))"
   ]
  }
 ],
 "metadata": {
  "kernelspec": {
   "display_name": "Python 3",
   "language": "python",
   "name": "python3"
  },
  "language_info": {
   "codemirror_mode": {
    "name": "ipython",
    "version": 3
   },
   "file_extension": ".py",
   "mimetype": "text/x-python",
   "name": "python",
   "nbconvert_exporter": "python",
   "pygments_lexer": "ipython3",
   "version": "3.7.4"
  }
 },
 "nbformat": 4,
 "nbformat_minor": 2
}
